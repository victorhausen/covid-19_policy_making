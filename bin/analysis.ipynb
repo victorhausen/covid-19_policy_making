{
 "cells": [
  {
   "cell_type": "code",
   "execution_count": 61,
   "metadata": {},
   "outputs": [],
   "source": [
    "import pandas as pd\n",
    "# for text processing\n",
    "from unidecode import unidecode\n",
    "import re\n",
    "from nltk import ngrams\n",
    "# for data modeling\n",
    "from sklearn.feature_extraction.text import TfidfVectorizer\n",
    "from sklearn.decomposition import TruncatedSVD\n",
    "# for plotting\n",
    "from plotly import graph_objects as go\n",
    "import plotly.express as px\n"
   ]
  },
  {
   "cell_type": "markdown",
   "metadata": {},
   "source": [
    "## Load Data"
   ]
  },
  {
   "cell_type": "code",
   "execution_count": 2,
   "metadata": {},
   "outputs": [
    {
     "data": {
      "text/html": [
       "<div>\n",
       "<style scoped>\n",
       "    .dataframe tbody tr th:only-of-type {\n",
       "        vertical-align: middle;\n",
       "    }\n",
       "\n",
       "    .dataframe tbody tr th {\n",
       "        vertical-align: top;\n",
       "    }\n",
       "\n",
       "    .dataframe thead th {\n",
       "        text-align: right;\n",
       "    }\n",
       "</style>\n",
       "<table border=\"1\" class=\"dataframe\">\n",
       "  <thead>\n",
       "    <tr style=\"text-align: right;\">\n",
       "      <th></th>\n",
       "      <th>nome</th>\n",
       "      <th>inteiro_teor_url</th>\n",
       "      <th>situacao</th>\n",
       "      <th>autor_nome</th>\n",
       "      <th>autor_partido</th>\n",
       "      <th>autor_sigla_uf</th>\n",
       "      <th>data_apresentacao</th>\n",
       "      <th>ementa</th>\n",
       "      <th>url</th>\n",
       "    </tr>\n",
       "  </thead>\n",
       "  <tbody>\n",
       "    <tr>\n",
       "      <th>0</th>\n",
       "      <td>PL 1393/2020</td>\n",
       "      <td>https://www.camara.leg.br/proposicoesWeb/prop_...</td>\n",
       "      <td>Aguardando Despacho do Presidente da Câmara do...</td>\n",
       "      <td>Evair Vieira de Melo</td>\n",
       "      <td>PP</td>\n",
       "      <td>ES</td>\n",
       "      <td>01/04/2020</td>\n",
       "      <td>Estabelece medidas excepcionais de proteção so...</td>\n",
       "      <td>https://www.camara.leg.br/proposicoesWeb/ficha...</td>\n",
       "    </tr>\n",
       "    <tr>\n",
       "      <th>1</th>\n",
       "      <td>PL 765/2020</td>\n",
       "      <td>https://www.camara.leg.br/proposicoesWeb/prop_...</td>\n",
       "      <td>Aguardando Despacho do Presidente da Câmara do...</td>\n",
       "      <td>Reginaldo Lopes</td>\n",
       "      <td>PT</td>\n",
       "      <td>MG</td>\n",
       "      <td>19/03/2020</td>\n",
       "      <td>Autoriza o Poder Executivo a conceder perdão d...</td>\n",
       "      <td>https://www.camara.leg.br/proposicoesWeb/ficha...</td>\n",
       "    </tr>\n",
       "    <tr>\n",
       "      <th>2</th>\n",
       "      <td>PL 1324/2020</td>\n",
       "      <td>https://www.camara.leg.br/proposicoesWeb/prop_...</td>\n",
       "      <td>Aguardando Despacho do Presidente da Câmara do...</td>\n",
       "      <td>José Nelto</td>\n",
       "      <td>PODE</td>\n",
       "      <td>GO</td>\n",
       "      <td>31/03/2020</td>\n",
       "      <td>Dispõe sobre dispensação de prescrição de rece...</td>\n",
       "      <td>https://www.camara.leg.br/proposicoesWeb/ficha...</td>\n",
       "    </tr>\n",
       "    <tr>\n",
       "      <th>3</th>\n",
       "      <td>PL 852/2020</td>\n",
       "      <td>https://www.camara.leg.br/proposicoesWeb/prop_...</td>\n",
       "      <td>Aguardando Despacho do Presidente da Câmara do...</td>\n",
       "      <td>Kim Kataguiri</td>\n",
       "      <td>DEM</td>\n",
       "      <td>SP</td>\n",
       "      <td>23/03/2020</td>\n",
       "      <td>Institui a suspensão do pagamento de jetons em...</td>\n",
       "      <td>https://www.camara.leg.br/proposicoesWeb/ficha...</td>\n",
       "    </tr>\n",
       "    <tr>\n",
       "      <th>4</th>\n",
       "      <td>PL 1212/2020</td>\n",
       "      <td>https://www.camara.leg.br/proposicoesWeb/prop_...</td>\n",
       "      <td>Aguardando Despacho do Presidente da Câmara do...</td>\n",
       "      <td>Ted Conti</td>\n",
       "      <td>PSB</td>\n",
       "      <td>ES</td>\n",
       "      <td>30/03/2020</td>\n",
       "      <td>Dispõe sobre a utilização extraordinária do Fu...</td>\n",
       "      <td>https://www.camara.leg.br/proposicoesWeb/ficha...</td>\n",
       "    </tr>\n",
       "    <tr>\n",
       "      <th>5</th>\n",
       "      <td>PL 993/2020</td>\n",
       "      <td>https://www.camara.leg.br/proposicoesWeb/prop_...</td>\n",
       "      <td>Aguardando Despacho do Presidente da Câmara do...</td>\n",
       "      <td>Benedita da Silva</td>\n",
       "      <td>PT</td>\n",
       "      <td>RJ</td>\n",
       "      <td>25/03/2020</td>\n",
       "      <td>Dispõe sobre regras aplicáveis ao trabalho dom...</td>\n",
       "      <td>https://www.camara.leg.br/proposicoesWeb/ficha...</td>\n",
       "    </tr>\n",
       "    <tr>\n",
       "      <th>6</th>\n",
       "      <td>PL 836/2020</td>\n",
       "      <td>https://www.camara.leg.br/proposicoesWeb/prop_...</td>\n",
       "      <td>Aguardando Despacho do Presidente da Câmara do...</td>\n",
       "      <td>Ruy Carneiro</td>\n",
       "      <td>PSDB</td>\n",
       "      <td>PB</td>\n",
       "      <td>23/03/2020</td>\n",
       "      <td>Suspende a cobrança de juros do cartão de créd...</td>\n",
       "      <td>https://www.camara.leg.br/proposicoesWeb/ficha...</td>\n",
       "    </tr>\n",
       "    <tr>\n",
       "      <th>7</th>\n",
       "      <td>PL 832/2020</td>\n",
       "      <td>https://www.camara.leg.br/proposicoesWeb/prop_...</td>\n",
       "      <td>Aguardando Despacho do Presidente da Câmara do...</td>\n",
       "      <td>José Ricardo</td>\n",
       "      <td>PT</td>\n",
       "      <td>AM</td>\n",
       "      <td>23/03/2020</td>\n",
       "      <td>Altera a Lei nº 13.979 de 2020 para instituir,...</td>\n",
       "      <td>https://www.camara.leg.br/proposicoesWeb/ficha...</td>\n",
       "    </tr>\n",
       "    <tr>\n",
       "      <th>8</th>\n",
       "      <td>PL 827/2020</td>\n",
       "      <td>https://www.camara.leg.br/proposicoesWeb/prop_...</td>\n",
       "      <td>Aguardando Despacho do Presidente da Câmara do...</td>\n",
       "      <td>André Janones</td>\n",
       "      <td>AVANTE</td>\n",
       "      <td>MG</td>\n",
       "      <td>23/03/2020</td>\n",
       "      <td>Suspende pelo período de 90 (noventa) dias em ...</td>\n",
       "      <td>https://www.camara.leg.br/proposicoesWeb/ficha...</td>\n",
       "    </tr>\n",
       "    <tr>\n",
       "      <th>9</th>\n",
       "      <td>PL 661/2020</td>\n",
       "      <td>https://www.camara.leg.br/proposicoesWeb/prop_...</td>\n",
       "      <td>Aguardando Despacho do Presidente da Câmara do...</td>\n",
       "      <td>Efraim Filho</td>\n",
       "      <td>DEM</td>\n",
       "      <td>PB</td>\n",
       "      <td>17/03/2020</td>\n",
       "      <td>Institui medidas de proteção ao emprego e ao e...</td>\n",
       "      <td>https://www.camara.leg.br/proposicoesWeb/ficha...</td>\n",
       "    </tr>\n",
       "    <tr>\n",
       "      <th>10</th>\n",
       "      <td>PL 683/2020</td>\n",
       "      <td>https://www.camara.leg.br/proposicoesWeb/prop_...</td>\n",
       "      <td>Aguardando Despacho do Presidente da Câmara do...</td>\n",
       "      <td>João Daniel</td>\n",
       "      <td>PT</td>\n",
       "      <td>SE</td>\n",
       "      <td>17/03/2020</td>\n",
       "      <td>Estabelece a suspenção de cobrança de juros e ...</td>\n",
       "      <td>https://www.camara.leg.br/proposicoesWeb/ficha...</td>\n",
       "    </tr>\n",
       "    <tr>\n",
       "      <th>11</th>\n",
       "      <td>PL 1568/2020</td>\n",
       "      <td>https://www.camara.leg.br/proposicoesWeb/prop_...</td>\n",
       "      <td>Situação:</td>\n",
       "      <td>Mara Rocha</td>\n",
       "      <td>PSDB</td>\n",
       "      <td>AC</td>\n",
       "      <td>05/04/2020</td>\n",
       "      <td>Dispõe sobre a suspensão na cobrança do pagame...</td>\n",
       "      <td>https://www.camara.leg.br/proposicoesWeb/ficha...</td>\n",
       "    </tr>\n",
       "    <tr>\n",
       "      <th>12</th>\n",
       "      <td>PL 718/2020</td>\n",
       "      <td>https://www.camara.leg.br/proposicoesWeb/prop_...</td>\n",
       "      <td>Aguardando Despacho do Presidente da Câmara do...</td>\n",
       "      <td>Joice Hasselmann</td>\n",
       "      <td>PSL</td>\n",
       "      <td>SP</td>\n",
       "      <td>18/03/2020</td>\n",
       "      <td>Dispõe sobre alteração nos arts. 131 e 269 e i...</td>\n",
       "      <td>https://www.camara.leg.br/proposicoesWeb/ficha...</td>\n",
       "    </tr>\n",
       "    <tr>\n",
       "      <th>13</th>\n",
       "      <td>PL 1028/2020</td>\n",
       "      <td>https://www.camara.leg.br/proposicoesWeb/prop_...</td>\n",
       "      <td>Aguardando Despacho do Presidente da Câmara do...</td>\n",
       "      <td>Júnior Mano</td>\n",
       "      <td>PL</td>\n",
       "      <td>CE</td>\n",
       "      <td>24/03/2020</td>\n",
       "      <td>Dispõe sobre a suspensão das ações de despejo ...</td>\n",
       "      <td>https://www.camara.leg.br/proposicoesWeb/ficha...</td>\n",
       "    </tr>\n",
       "    <tr>\n",
       "      <th>14</th>\n",
       "      <td>PL 960/2020</td>\n",
       "      <td>https://www.camara.leg.br/proposicoesWeb/prop_...</td>\n",
       "      <td>Aguardando Despacho do Presidente da Câmara do...</td>\n",
       "      <td>Pompeo de Mattos</td>\n",
       "      <td>PDT</td>\n",
       "      <td>RS</td>\n",
       "      <td>24/03/2020</td>\n",
       "      <td>Estabelece a suspensão temporária dos cortes d...</td>\n",
       "      <td>https://www.camara.leg.br/proposicoesWeb/ficha...</td>\n",
       "    </tr>\n",
       "    <tr>\n",
       "      <th>15</th>\n",
       "      <td>PL 865/2020</td>\n",
       "      <td>https://www.camara.leg.br/proposicoesWeb/prop_...</td>\n",
       "      <td>Aguardando Despacho do Presidente da Câmara do...</td>\n",
       "      <td>Dr. Luiz Antonio Teixeira Jr. - PP/RJ ,  Dr. Z...</td>\n",
       "      <td>PSDB</td>\n",
       "      <td>RO</td>\n",
       "      <td>23/03/2020</td>\n",
       "      <td>Acrescenta artigo à Lei nº 11.947, de 2009, qu...</td>\n",
       "      <td>https://www.camara.leg.br/proposicoesWeb/ficha...</td>\n",
       "    </tr>\n",
       "    <tr>\n",
       "      <th>16</th>\n",
       "      <td>PL 1346/2020</td>\n",
       "      <td>https://www.camara.leg.br/proposicoesWeb/prop_...</td>\n",
       "      <td>Aguardando Despacho do Presidente da Câmara do...</td>\n",
       "      <td>João H. Campos</td>\n",
       "      <td>PSB</td>\n",
       "      <td>PE</td>\n",
       "      <td>31/03/2020</td>\n",
       "      <td>Dispõe sobre ações, medidas e diretrizes acerc...</td>\n",
       "      <td>https://www.camara.leg.br/proposicoesWeb/ficha...</td>\n",
       "    </tr>\n",
       "    <tr>\n",
       "      <th>17</th>\n",
       "      <td>PL 714/2020</td>\n",
       "      <td>https://www.camara.leg.br/proposicoesWeb/prop_...</td>\n",
       "      <td>Aguardando Despacho do Presidente da Câmara do...</td>\n",
       "      <td>Patricia Ferraz - PODE/AP ,  Mariana Carvalho ...</td>\n",
       "      <td>PROS</td>\n",
       "      <td>AP e outros</td>\n",
       "      <td>18/03/2020</td>\n",
       "      <td>Permite o saque emergencial de valores do Fund...</td>\n",
       "      <td>https://www.camara.leg.br/proposicoesWeb/ficha...</td>\n",
       "    </tr>\n",
       "    <tr>\n",
       "      <th>18</th>\n",
       "      <td>PL 1300/2020</td>\n",
       "      <td>https://www.camara.leg.br/proposicoesWeb/prop_...</td>\n",
       "      <td>Aguardando Despacho do Presidente da Câmara do...</td>\n",
       "      <td>Geninho Zuliani</td>\n",
       "      <td>DEM</td>\n",
       "      <td>SP</td>\n",
       "      <td>31/03/2020</td>\n",
       "      <td>Altera a Lei nº 13.979, de 6 de fevereiro de 2...</td>\n",
       "      <td>https://www.camara.leg.br/proposicoesWeb/ficha...</td>\n",
       "    </tr>\n",
       "    <tr>\n",
       "      <th>19</th>\n",
       "      <td>PL 950/2020</td>\n",
       "      <td>https://www.camara.leg.br/proposicoesWeb/prop_...</td>\n",
       "      <td>Aguardando Despacho do Presidente da Câmara do...</td>\n",
       "      <td>JHC</td>\n",
       "      <td>PSB</td>\n",
       "      <td>AL</td>\n",
       "      <td>24/03/2020</td>\n",
       "      <td>Altera a lei 13.979/2020 para dispor sobre as ...</td>\n",
       "      <td>https://www.camara.leg.br/proposicoesWeb/ficha...</td>\n",
       "    </tr>\n",
       "    <tr>\n",
       "      <th>20</th>\n",
       "      <td>PL 663/2020</td>\n",
       "      <td>https://www.camara.leg.br/proposicoesWeb/prop_...</td>\n",
       "      <td>Aguardando Despacho do Presidente da Câmara do...</td>\n",
       "      <td>Carla Zambelli - PSL/SP ,  Major Fabiana - PSL...</td>\n",
       "      <td>PL</td>\n",
       "      <td>CE e outros</td>\n",
       "      <td>17/03/2020</td>\n",
       "      <td>Acrescenta o art. 60-A à Lei nº 9.096, de 19 d...</td>\n",
       "      <td>https://www.camara.leg.br/proposicoesWeb/ficha...</td>\n",
       "    </tr>\n",
       "    <tr>\n",
       "      <th>21</th>\n",
       "      <td>PL 1431/2020</td>\n",
       "      <td>https://www.camara.leg.br/proposicoesWeb/prop_...</td>\n",
       "      <td>Aguardando Despacho do Presidente da Câmara do...</td>\n",
       "      <td>André Figueiredo</td>\n",
       "      <td>PDT</td>\n",
       "      <td>CE</td>\n",
       "      <td>01/04/2020</td>\n",
       "      <td>Altera a Lei nº 8.212, de 24 de julho de 1991,...</td>\n",
       "      <td>https://www.camara.leg.br/proposicoesWeb/ficha...</td>\n",
       "    </tr>\n",
       "    <tr>\n",
       "      <th>22</th>\n",
       "      <td>PL 1649/2020</td>\n",
       "      <td>https://www.camara.leg.br/proposicoesWeb/prop_...</td>\n",
       "      <td>Situação:</td>\n",
       "      <td>Dra. Soraya Manato - PSL/ES ,  Jorge Solla - P...</td>\n",
       "      <td>CIDADANIA</td>\n",
       "      <td>SC</td>\n",
       "      <td>07/04/2020</td>\n",
       "      <td>Altera a Lei nº 13.979, de 6 de fevereiro de 2...</td>\n",
       "      <td>https://www.camara.leg.br/proposicoesWeb/ficha...</td>\n",
       "    </tr>\n",
       "    <tr>\n",
       "      <th>23</th>\n",
       "      <td>PL 1552/2020</td>\n",
       "      <td>https://www.camara.leg.br/proposicoesWeb/prop_...</td>\n",
       "      <td>Situação:</td>\n",
       "      <td>Sâmia Bomfim - PSOL/SP ,  David Miranda - PSOL...</td>\n",
       "      <td>PT</td>\n",
       "      <td>RS e outros</td>\n",
       "      <td>03/04/2020</td>\n",
       "      <td>Dispõe sobre a proteção de mulheres em situaçã...</td>\n",
       "      <td>https://www.camara.leg.br/proposicoesWeb/ficha...</td>\n",
       "    </tr>\n",
       "    <tr>\n",
       "      <th>24</th>\n",
       "      <td>PL 1486/2020</td>\n",
       "      <td>https://www.camara.leg.br/proposicoesWeb/prop_...</td>\n",
       "      <td>Aguardando Despacho do Presidente da Câmara do...</td>\n",
       "      <td>Ricardo Izar</td>\n",
       "      <td>PP</td>\n",
       "      <td>SP</td>\n",
       "      <td>02/04/2020</td>\n",
       "      <td>Dispõe sobre a redução de 30% (trinta por cent...</td>\n",
       "      <td>https://www.camara.leg.br/proposicoesWeb/ficha...</td>\n",
       "    </tr>\n",
       "    <tr>\n",
       "      <th>25</th>\n",
       "      <td>PL 1349/2020</td>\n",
       "      <td>https://www.camara.leg.br/proposicoesWeb/prop_...</td>\n",
       "      <td>Aguardando Despacho do Presidente da Câmara do...</td>\n",
       "      <td>João H. Campos</td>\n",
       "      <td>PSB</td>\n",
       "      <td>PE</td>\n",
       "      <td>31/03/2020</td>\n",
       "      <td>Dispõe sobre ações, medidas e diretrizes acerc...</td>\n",
       "      <td>https://www.camara.leg.br/proposicoesWeb/ficha...</td>\n",
       "    </tr>\n",
       "    <tr>\n",
       "      <th>26</th>\n",
       "      <td>PL 851/2020</td>\n",
       "      <td>https://www.camara.leg.br/proposicoesWeb/prop_...</td>\n",
       "      <td>Aguardando Despacho do Presidente da Câmara do...</td>\n",
       "      <td>Kim Kataguiri</td>\n",
       "      <td>DEM</td>\n",
       "      <td>SP</td>\n",
       "      <td>23/03/2020</td>\n",
       "      <td>Altera a Lei n.º 13.103 de 2015 para isentar v...</td>\n",
       "      <td>https://www.camara.leg.br/proposicoesWeb/ficha...</td>\n",
       "    </tr>\n",
       "    <tr>\n",
       "      <th>27</th>\n",
       "      <td>PL 1315/2020</td>\n",
       "      <td>https://www.camara.leg.br/proposicoesWeb/prop_...</td>\n",
       "      <td>Aguardando Despacho do Presidente da Câmara do...</td>\n",
       "      <td>Gil Cutrim</td>\n",
       "      <td>PDT</td>\n",
       "      <td>MA</td>\n",
       "      <td>31/03/2020</td>\n",
       "      <td>Institui o Imposto sobre Grandes Fortunas, de ...</td>\n",
       "      <td>https://www.camara.leg.br/proposicoesWeb/ficha...</td>\n",
       "    </tr>\n",
       "    <tr>\n",
       "      <th>28</th>\n",
       "      <td>PL 690/2020</td>\n",
       "      <td>https://www.camara.leg.br/proposicoesWeb/prop_...</td>\n",
       "      <td>Aguardando Despacho do Presidente da Câmara do...</td>\n",
       "      <td>Perpétua Almeida - PCdoB/AC ,  Alice Portugal ...</td>\n",
       "      <td>PDT</td>\n",
       "      <td>PE e outros</td>\n",
       "      <td>18/03/2020</td>\n",
       "      <td>Cria no Programa Bolsa Família o benefício pro...</td>\n",
       "      <td>https://www.camara.leg.br/proposicoesWeb/ficha...</td>\n",
       "    </tr>\n",
       "    <tr>\n",
       "      <th>29</th>\n",
       "      <td>PL 983/2020</td>\n",
       "      <td>https://www.camara.leg.br/proposicoesWeb/prop_...</td>\n",
       "      <td>Aguardando Despacho do Presidente da Câmara do...</td>\n",
       "      <td>Clarissa Garotinho - PROS/RJ ,  Coronel Tadeu</td>\n",
       "      <td>PSL</td>\n",
       "      <td>SP</td>\n",
       "      <td>25/03/2020</td>\n",
       "      <td>Altera a Lei nº 9.504, de 30 de setembro de 19...</td>\n",
       "      <td>https://www.camara.leg.br/proposicoesWeb/ficha...</td>\n",
       "    </tr>\n",
       "    <tr>\n",
       "      <th>...</th>\n",
       "      <td>...</td>\n",
       "      <td>...</td>\n",
       "      <td>...</td>\n",
       "      <td>...</td>\n",
       "      <td>...</td>\n",
       "      <td>...</td>\n",
       "      <td>...</td>\n",
       "      <td>...</td>\n",
       "      <td>...</td>\n",
       "    </tr>\n",
       "    <tr>\n",
       "      <th>322</th>\n",
       "      <td>PL 1527/2020</td>\n",
       "      <td>https://www.camara.leg.br/proposicoesWeb/prop_...</td>\n",
       "      <td>Aguardando Despacho do Presidente da Câmara do...</td>\n",
       "      <td>Fred Costa</td>\n",
       "      <td>PATRIOTA</td>\n",
       "      <td>MG</td>\n",
       "      <td>03/04/2020</td>\n",
       "      <td>Estabelece pena de detenção para o crime de au...</td>\n",
       "      <td>https://www.camara.leg.br/proposicoesWeb/ficha...</td>\n",
       "    </tr>\n",
       "    <tr>\n",
       "      <th>323</th>\n",
       "      <td>PL 1241/2020</td>\n",
       "      <td>https://www.camara.leg.br/proposicoesWeb/prop_...</td>\n",
       "      <td>Aguardando Despacho do Presidente da Câmara do...</td>\n",
       "      <td>Aroldo Martins</td>\n",
       "      <td>REPUBLIC</td>\n",
       "      <td>PR</td>\n",
       "      <td>30/03/2020</td>\n",
       "      <td>Dispõe sobre medidas de proteção a população b...</td>\n",
       "      <td>https://www.camara.leg.br/proposicoesWeb/ficha...</td>\n",
       "    </tr>\n",
       "    <tr>\n",
       "      <th>324</th>\n",
       "      <td>PL 748/2020</td>\n",
       "      <td>https://www.camara.leg.br/proposicoesWeb/prop_...</td>\n",
       "      <td>Aguardando Despacho do Presidente da Câmara do...</td>\n",
       "      <td>Natália Bonavides</td>\n",
       "      <td>PT</td>\n",
       "      <td>RN</td>\n",
       "      <td>18/03/2020</td>\n",
       "      <td>Dispõe sobre medidas de proteção ao Microempre...</td>\n",
       "      <td>https://www.camara.leg.br/proposicoesWeb/ficha...</td>\n",
       "    </tr>\n",
       "    <tr>\n",
       "      <th>325</th>\n",
       "      <td>PL 1483/2020</td>\n",
       "      <td>https://www.camara.leg.br/proposicoesWeb/prop_...</td>\n",
       "      <td>Aguardando Despacho do Presidente da Câmara do...</td>\n",
       "      <td>Túlio Gadêlha</td>\n",
       "      <td>PDT</td>\n",
       "      <td>PE</td>\n",
       "      <td>02/04/2020</td>\n",
       "      <td>Estabelece prioridade de atendimento aos profi...</td>\n",
       "      <td>https://www.camara.leg.br/proposicoesWeb/ficha...</td>\n",
       "    </tr>\n",
       "    <tr>\n",
       "      <th>326</th>\n",
       "      <td>PL 1517/2020</td>\n",
       "      <td>https://www.camara.leg.br/proposicoesWeb/prop_...</td>\n",
       "      <td>Aguardando Despacho do Presidente da Câmara do...</td>\n",
       "      <td>Pastor Sargento Isidório</td>\n",
       "      <td>AVANTE</td>\n",
       "      <td>BA</td>\n",
       "      <td>03/04/2020</td>\n",
       "      <td>Isenta a cobrança de pedágio, enquanto durar a...</td>\n",
       "      <td>https://www.camara.leg.br/proposicoesWeb/ficha...</td>\n",
       "    </tr>\n",
       "    <tr>\n",
       "      <th>327</th>\n",
       "      <td>PL 1564/2020</td>\n",
       "      <td>https://www.camara.leg.br/proposicoesWeb/prop_...</td>\n",
       "      <td>Situação:</td>\n",
       "      <td>Geninho Zuliani</td>\n",
       "      <td>DEM</td>\n",
       "      <td>SP</td>\n",
       "      <td>05/04/2020</td>\n",
       "      <td>\"Altera a Lei nº 7.798/89 e a Lei nº 10.865/20...</td>\n",
       "      <td>https://www.camara.leg.br/proposicoesWeb/ficha...</td>\n",
       "    </tr>\n",
       "    <tr>\n",
       "      <th>328</th>\n",
       "      <td>PL 1500/2020</td>\n",
       "      <td>https://www.camara.leg.br/proposicoesWeb/prop_...</td>\n",
       "      <td>Aguardando Despacho do Presidente da Câmara do...</td>\n",
       "      <td>André Figueiredo</td>\n",
       "      <td>PDT</td>\n",
       "      <td>CE</td>\n",
       "      <td>03/04/2020</td>\n",
       "      <td>Dispõe sobre a suspensão do desconto de emprés...</td>\n",
       "      <td>https://www.camara.leg.br/proposicoesWeb/ficha...</td>\n",
       "    </tr>\n",
       "    <tr>\n",
       "      <th>329</th>\n",
       "      <td>PL 1143/2020</td>\n",
       "      <td>https://www.camara.leg.br/proposicoesWeb/prop_...</td>\n",
       "      <td>Aguardando Despacho do Presidente da Câmara do...</td>\n",
       "      <td>Christino Aureo</td>\n",
       "      <td>PP</td>\n",
       "      <td>RJ</td>\n",
       "      <td>27/03/2020</td>\n",
       "      <td>Institui o Programa Emergencial de Manutenção ...</td>\n",
       "      <td>https://www.camara.leg.br/proposicoesWeb/ficha...</td>\n",
       "    </tr>\n",
       "    <tr>\n",
       "      <th>330</th>\n",
       "      <td>PL 664/2020</td>\n",
       "      <td>https://www.camara.leg.br/proposicoesWeb/prop_...</td>\n",
       "      <td>Aguardando Despacho do Presidente da Câmara do...</td>\n",
       "      <td>André Janones</td>\n",
       "      <td>AVANTE</td>\n",
       "      <td>MG</td>\n",
       "      <td>17/03/2020</td>\n",
       "      <td>Destina extraordinariamente os recursos do Fun...</td>\n",
       "      <td>https://www.camara.leg.br/proposicoesWeb/ficha...</td>\n",
       "    </tr>\n",
       "    <tr>\n",
       "      <th>331</th>\n",
       "      <td>PL 928/2020</td>\n",
       "      <td>https://www.camara.leg.br/proposicoesWeb/prop_...</td>\n",
       "      <td>Aguardando Despacho do Presidente da Câmara do...</td>\n",
       "      <td>Adriana Ventura - NOVO/SP ,  Alexandre Serfiot...</td>\n",
       "      <td>NOVO</td>\n",
       "      <td>RJ e outros</td>\n",
       "      <td>24/03/2020</td>\n",
       "      <td>Altera a Lei n° 10.858, de 13 de abril de 2004...</td>\n",
       "      <td>https://www.camara.leg.br/proposicoesWeb/ficha...</td>\n",
       "    </tr>\n",
       "    <tr>\n",
       "      <th>332</th>\n",
       "      <td>PL 1496/2020</td>\n",
       "      <td>https://www.camara.leg.br/proposicoesWeb/prop_...</td>\n",
       "      <td>Aguardando Despacho do Presidente da Câmara do...</td>\n",
       "      <td>Delegado Waldir</td>\n",
       "      <td>PSL</td>\n",
       "      <td>GO</td>\n",
       "      <td>02/04/2020</td>\n",
       "      <td>Dispõe sobre a obrigatoriedade de redução das ...</td>\n",
       "      <td>https://www.camara.leg.br/proposicoesWeb/ficha...</td>\n",
       "    </tr>\n",
       "    <tr>\n",
       "      <th>333</th>\n",
       "      <td>PL 1344/2020</td>\n",
       "      <td>https://www.camara.leg.br/proposicoesWeb/prop_...</td>\n",
       "      <td>Aguardando Despacho do Presidente da Câmara do...</td>\n",
       "      <td>João H. Campos</td>\n",
       "      <td>PSB</td>\n",
       "      <td>PE</td>\n",
       "      <td>31/03/2020</td>\n",
       "      <td>Dispõe sobre ações, medidas e diretrizes acerc...</td>\n",
       "      <td>https://www.camara.leg.br/proposicoesWeb/ficha...</td>\n",
       "    </tr>\n",
       "    <tr>\n",
       "      <th>334</th>\n",
       "      <td>PL 1625/2020</td>\n",
       "      <td>https://www.camara.leg.br/proposicoesWeb/prop_...</td>\n",
       "      <td>Situação:</td>\n",
       "      <td>Dagoberto Nogueira</td>\n",
       "      <td>PDT</td>\n",
       "      <td>MS</td>\n",
       "      <td>06/04/2020</td>\n",
       "      <td>Suspende a cobrança de pagamento de prestações...</td>\n",
       "      <td>https://www.camara.leg.br/proposicoesWeb/ficha...</td>\n",
       "    </tr>\n",
       "    <tr>\n",
       "      <th>335</th>\n",
       "      <td>PL 1559/2020</td>\n",
       "      <td>https://www.camara.leg.br/proposicoesWeb/prop_...</td>\n",
       "      <td>Situação:</td>\n",
       "      <td>Geovania de Sá</td>\n",
       "      <td>PSDB</td>\n",
       "      <td>SC</td>\n",
       "      <td>03/04/2020</td>\n",
       "      <td>Dispõe sobre medidas de proteção às entidades ...</td>\n",
       "      <td>https://www.camara.leg.br/proposicoesWeb/ficha...</td>\n",
       "    </tr>\n",
       "    <tr>\n",
       "      <th>336</th>\n",
       "      <td>PL 797/2020</td>\n",
       "      <td>https://www.camara.leg.br/proposicoesWeb/prop_...</td>\n",
       "      <td>Aguardando Despacho do Presidente da Câmara do...</td>\n",
       "      <td>Léo Moraes</td>\n",
       "      <td>PODE</td>\n",
       "      <td>RO</td>\n",
       "      <td>20/03/2020</td>\n",
       "      <td>Dispõe sobre alterações na Tarifa Social de En...</td>\n",
       "      <td>https://www.camara.leg.br/proposicoesWeb/ficha...</td>\n",
       "    </tr>\n",
       "    <tr>\n",
       "      <th>337</th>\n",
       "      <td>PL 707/2020</td>\n",
       "      <td>https://www.camara.leg.br/proposicoesWeb/prop_...</td>\n",
       "      <td>Aguardando Despacho do Presidente da Câmara do...</td>\n",
       "      <td>Talíria Petrone - PSOL/RJ ,  Glauber Braga</td>\n",
       "      <td>PSOL</td>\n",
       "      <td>RJ</td>\n",
       "      <td>18/03/2020</td>\n",
       "      <td>Dispõe direitos e deveres de pessoas em situaç...</td>\n",
       "      <td>https://www.camara.leg.br/proposicoesWeb/ficha...</td>\n",
       "    </tr>\n",
       "    <tr>\n",
       "      <th>338</th>\n",
       "      <td>PL 675/2020</td>\n",
       "      <td>https://www.camara.leg.br/proposicoesWeb/prop_...</td>\n",
       "      <td>Aguardando Despacho do Presidente da Câmara do...</td>\n",
       "      <td>Denis Bezerra - PSB/CE ,  Vilson da Fetaemg</td>\n",
       "      <td>PSB</td>\n",
       "      <td>MG</td>\n",
       "      <td>17/03/2020</td>\n",
       "      <td>Insere disposição transitória na Lei 12.414, d...</td>\n",
       "      <td>https://www.camara.leg.br/proposicoesWeb/ficha...</td>\n",
       "    </tr>\n",
       "    <tr>\n",
       "      <th>339</th>\n",
       "      <td>PL 1460/2020</td>\n",
       "      <td>https://www.camara.leg.br/proposicoesWeb/prop_...</td>\n",
       "      <td>Aguardando Despacho do Presidente da Câmara do...</td>\n",
       "      <td>Dagoberto Nogueira</td>\n",
       "      <td>PDT</td>\n",
       "      <td>MS</td>\n",
       "      <td>02/04/2020</td>\n",
       "      <td>Dispõe, na Lei nº 10.260, de 12 de julho de 20...</td>\n",
       "      <td>https://www.camara.leg.br/proposicoesWeb/ficha...</td>\n",
       "    </tr>\n",
       "    <tr>\n",
       "      <th>340</th>\n",
       "      <td>PL 1287/2020</td>\n",
       "      <td>https://www.camara.leg.br/proposicoesWeb/prop_...</td>\n",
       "      <td>Aguardando Despacho do Presidente da Câmara do...</td>\n",
       "      <td>Emanuel Pinheiro Neto</td>\n",
       "      <td>PTB</td>\n",
       "      <td>MT</td>\n",
       "      <td>30/03/2020</td>\n",
       "      <td>Ficam as instituições de ensino infantil, fund...</td>\n",
       "      <td>https://www.camara.leg.br/proposicoesWeb/ficha...</td>\n",
       "    </tr>\n",
       "    <tr>\n",
       "      <th>341</th>\n",
       "      <td>PL 1433/2020</td>\n",
       "      <td>https://www.camara.leg.br/proposicoesWeb/prop_...</td>\n",
       "      <td>Aguardando Despacho do Presidente da Câmara do...</td>\n",
       "      <td>Paulo Abi-Ackel</td>\n",
       "      <td>PSDB</td>\n",
       "      <td>MG</td>\n",
       "      <td>01/04/2020</td>\n",
       "      <td>Permite que, excepcionalmente e enquanto perdu...</td>\n",
       "      <td>https://www.camara.leg.br/proposicoesWeb/ficha...</td>\n",
       "    </tr>\n",
       "    <tr>\n",
       "      <th>342</th>\n",
       "      <td>PL 740/2020</td>\n",
       "      <td>https://www.camara.leg.br/proposicoesWeb/prop_...</td>\n",
       "      <td>Aguardando Despacho do Presidente da Câmara do...</td>\n",
       "      <td>Alencar Santana Braga - PT/SP ,  Professora Ro...</td>\n",
       "      <td>PT</td>\n",
       "      <td>MT</td>\n",
       "      <td>18/03/2020</td>\n",
       "      <td>Define medidas econômicas e sociais visando a ...</td>\n",
       "      <td>https://www.camara.leg.br/proposicoesWeb/ficha...</td>\n",
       "    </tr>\n",
       "    <tr>\n",
       "      <th>343</th>\n",
       "      <td>PL 1347/2020</td>\n",
       "      <td>https://www.camara.leg.br/proposicoesWeb/prop_...</td>\n",
       "      <td>Aguardando Despacho do Presidente da Câmara do...</td>\n",
       "      <td>João H. Campos</td>\n",
       "      <td>PSB</td>\n",
       "      <td>PE</td>\n",
       "      <td>31/03/2020</td>\n",
       "      <td>Dispõe sobre ações, medidas e diretrizes acerc...</td>\n",
       "      <td>https://www.camara.leg.br/proposicoesWeb/ficha...</td>\n",
       "    </tr>\n",
       "    <tr>\n",
       "      <th>344</th>\n",
       "      <td>PL 791/2020</td>\n",
       "      <td>https://www.camara.leg.br/proposicoesWeb/prop_...</td>\n",
       "      <td>Aguardando Despacho do Presidente da Câmara do...</td>\n",
       "      <td>Poder Executivo</td>\n",
       "      <td>Poder Executivo</td>\n",
       "      <td>Poder Executivo</td>\n",
       "      <td>19/03/2020</td>\n",
       "      <td>Altera a Lei nº 13.979, de 6 de fevereiro de 2...</td>\n",
       "      <td>https://www.camara.leg.br/proposicoesWeb/ficha...</td>\n",
       "    </tr>\n",
       "    <tr>\n",
       "      <th>345</th>\n",
       "      <td>PL 749/2020</td>\n",
       "      <td>https://www.camara.leg.br/proposicoesWeb/prop_...</td>\n",
       "      <td>Aguardando Despacho do Presidente da Câmara do...</td>\n",
       "      <td>José Ricardo</td>\n",
       "      <td>PT</td>\n",
       "      <td>AM</td>\n",
       "      <td>18/03/2020</td>\n",
       "      <td>Acrescenta o artigo 3º-B, a Lei nº 7.998, de 1...</td>\n",
       "      <td>https://www.camara.leg.br/proposicoesWeb/ficha...</td>\n",
       "    </tr>\n",
       "    <tr>\n",
       "      <th>346</th>\n",
       "      <td>PL 976/2020</td>\n",
       "      <td>https://www.camara.leg.br/proposicoesWeb/prop_...</td>\n",
       "      <td>Aguardando Despacho do Presidente da Câmara do...</td>\n",
       "      <td>Aliel Machado - PSB/PR ,  Patricia Ferraz</td>\n",
       "      <td>PODE</td>\n",
       "      <td>AP</td>\n",
       "      <td>24/03/2020</td>\n",
       "      <td>Dispõe sobre a obrigatoriedade de inclusão de ...</td>\n",
       "      <td>https://www.camara.leg.br/proposicoesWeb/ficha...</td>\n",
       "    </tr>\n",
       "    <tr>\n",
       "      <th>347</th>\n",
       "      <td>PL 1325/2020</td>\n",
       "      <td>https://www.camara.leg.br/proposicoesWeb/prop_...</td>\n",
       "      <td>Aguardando Despacho do Presidente da Câmara do...</td>\n",
       "      <td>Paulo Pimenta</td>\n",
       "      <td>PT</td>\n",
       "      <td>RS</td>\n",
       "      <td>31/03/2020</td>\n",
       "      <td>Inclui o § 2º, no Art. 65 da Lei Complementar ...</td>\n",
       "      <td>https://www.camara.leg.br/proposicoesWeb/ficha...</td>\n",
       "    </tr>\n",
       "    <tr>\n",
       "      <th>348</th>\n",
       "      <td>PL 916/2020</td>\n",
       "      <td>https://www.camara.leg.br/proposicoesWeb/prop_...</td>\n",
       "      <td>Aguardando Despacho do Presidente da Câmara do...</td>\n",
       "      <td>Coronel Armando</td>\n",
       "      <td>PSL</td>\n",
       "      <td>SC</td>\n",
       "      <td>24/03/2020</td>\n",
       "      <td>Dispõe sobre a regulamentação de consultas com...</td>\n",
       "      <td>https://www.camara.leg.br/proposicoesWeb/ficha...</td>\n",
       "    </tr>\n",
       "    <tr>\n",
       "      <th>349</th>\n",
       "      <td>PL 730/2020</td>\n",
       "      <td>https://www.camara.leg.br/proposicoesWeb/prop_...</td>\n",
       "      <td>Aguardando Despacho do Presidente da Câmara do...</td>\n",
       "      <td>Reginaldo Lopes</td>\n",
       "      <td>PT</td>\n",
       "      <td>MG</td>\n",
       "      <td>18/03/2020</td>\n",
       "      <td>Autoriza o poder executivo a conceder auxílio ...</td>\n",
       "      <td>https://www.camara.leg.br/proposicoesWeb/ficha...</td>\n",
       "    </tr>\n",
       "    <tr>\n",
       "      <th>350</th>\n",
       "      <td>PL 1138/2020</td>\n",
       "      <td>https://www.camara.leg.br/proposicoesWeb/prop_...</td>\n",
       "      <td>Aguardando Despacho do Presidente da Câmara do...</td>\n",
       "      <td>Shéridan</td>\n",
       "      <td>PSDB</td>\n",
       "      <td>RR</td>\n",
       "      <td>27/03/2020</td>\n",
       "      <td>Determina que, na ocorrência de calamidade púb...</td>\n",
       "      <td>https://www.camara.leg.br/proposicoesWeb/ficha...</td>\n",
       "    </tr>\n",
       "    <tr>\n",
       "      <th>351</th>\n",
       "      <td>PL 1376/2020</td>\n",
       "      <td>https://www.camara.leg.br/proposicoesWeb/prop_...</td>\n",
       "      <td>Aguardando Despacho do Presidente da Câmara do...</td>\n",
       "      <td>Franco Cartafina</td>\n",
       "      <td>PP</td>\n",
       "      <td>MG</td>\n",
       "      <td>01/04/2020</td>\n",
       "      <td>Suspende a lavratura e o registro de protesto ...</td>\n",
       "      <td>https://www.camara.leg.br/proposicoesWeb/ficha...</td>\n",
       "    </tr>\n",
       "  </tbody>\n",
       "</table>\n",
       "<p>352 rows × 9 columns</p>\n",
       "</div>"
      ],
      "text/plain": [
       "             nome                                   inteiro_teor_url  \\\n",
       "0    PL 1393/2020  https://www.camara.leg.br/proposicoesWeb/prop_...   \n",
       "1     PL 765/2020  https://www.camara.leg.br/proposicoesWeb/prop_...   \n",
       "2    PL 1324/2020  https://www.camara.leg.br/proposicoesWeb/prop_...   \n",
       "3     PL 852/2020  https://www.camara.leg.br/proposicoesWeb/prop_...   \n",
       "4    PL 1212/2020  https://www.camara.leg.br/proposicoesWeb/prop_...   \n",
       "5     PL 993/2020  https://www.camara.leg.br/proposicoesWeb/prop_...   \n",
       "6     PL 836/2020  https://www.camara.leg.br/proposicoesWeb/prop_...   \n",
       "7     PL 832/2020  https://www.camara.leg.br/proposicoesWeb/prop_...   \n",
       "8     PL 827/2020  https://www.camara.leg.br/proposicoesWeb/prop_...   \n",
       "9     PL 661/2020  https://www.camara.leg.br/proposicoesWeb/prop_...   \n",
       "10    PL 683/2020  https://www.camara.leg.br/proposicoesWeb/prop_...   \n",
       "11   PL 1568/2020  https://www.camara.leg.br/proposicoesWeb/prop_...   \n",
       "12    PL 718/2020  https://www.camara.leg.br/proposicoesWeb/prop_...   \n",
       "13   PL 1028/2020  https://www.camara.leg.br/proposicoesWeb/prop_...   \n",
       "14    PL 960/2020  https://www.camara.leg.br/proposicoesWeb/prop_...   \n",
       "15    PL 865/2020  https://www.camara.leg.br/proposicoesWeb/prop_...   \n",
       "16   PL 1346/2020  https://www.camara.leg.br/proposicoesWeb/prop_...   \n",
       "17    PL 714/2020  https://www.camara.leg.br/proposicoesWeb/prop_...   \n",
       "18   PL 1300/2020  https://www.camara.leg.br/proposicoesWeb/prop_...   \n",
       "19    PL 950/2020  https://www.camara.leg.br/proposicoesWeb/prop_...   \n",
       "20    PL 663/2020  https://www.camara.leg.br/proposicoesWeb/prop_...   \n",
       "21   PL 1431/2020  https://www.camara.leg.br/proposicoesWeb/prop_...   \n",
       "22   PL 1649/2020  https://www.camara.leg.br/proposicoesWeb/prop_...   \n",
       "23   PL 1552/2020  https://www.camara.leg.br/proposicoesWeb/prop_...   \n",
       "24   PL 1486/2020  https://www.camara.leg.br/proposicoesWeb/prop_...   \n",
       "25   PL 1349/2020  https://www.camara.leg.br/proposicoesWeb/prop_...   \n",
       "26    PL 851/2020  https://www.camara.leg.br/proposicoesWeb/prop_...   \n",
       "27   PL 1315/2020  https://www.camara.leg.br/proposicoesWeb/prop_...   \n",
       "28    PL 690/2020  https://www.camara.leg.br/proposicoesWeb/prop_...   \n",
       "29    PL 983/2020  https://www.camara.leg.br/proposicoesWeb/prop_...   \n",
       "..            ...                                                ...   \n",
       "322  PL 1527/2020  https://www.camara.leg.br/proposicoesWeb/prop_...   \n",
       "323  PL 1241/2020  https://www.camara.leg.br/proposicoesWeb/prop_...   \n",
       "324   PL 748/2020  https://www.camara.leg.br/proposicoesWeb/prop_...   \n",
       "325  PL 1483/2020  https://www.camara.leg.br/proposicoesWeb/prop_...   \n",
       "326  PL 1517/2020  https://www.camara.leg.br/proposicoesWeb/prop_...   \n",
       "327  PL 1564/2020  https://www.camara.leg.br/proposicoesWeb/prop_...   \n",
       "328  PL 1500/2020  https://www.camara.leg.br/proposicoesWeb/prop_...   \n",
       "329  PL 1143/2020  https://www.camara.leg.br/proposicoesWeb/prop_...   \n",
       "330   PL 664/2020  https://www.camara.leg.br/proposicoesWeb/prop_...   \n",
       "331   PL 928/2020  https://www.camara.leg.br/proposicoesWeb/prop_...   \n",
       "332  PL 1496/2020  https://www.camara.leg.br/proposicoesWeb/prop_...   \n",
       "333  PL 1344/2020  https://www.camara.leg.br/proposicoesWeb/prop_...   \n",
       "334  PL 1625/2020  https://www.camara.leg.br/proposicoesWeb/prop_...   \n",
       "335  PL 1559/2020  https://www.camara.leg.br/proposicoesWeb/prop_...   \n",
       "336   PL 797/2020  https://www.camara.leg.br/proposicoesWeb/prop_...   \n",
       "337   PL 707/2020  https://www.camara.leg.br/proposicoesWeb/prop_...   \n",
       "338   PL 675/2020  https://www.camara.leg.br/proposicoesWeb/prop_...   \n",
       "339  PL 1460/2020  https://www.camara.leg.br/proposicoesWeb/prop_...   \n",
       "340  PL 1287/2020  https://www.camara.leg.br/proposicoesWeb/prop_...   \n",
       "341  PL 1433/2020  https://www.camara.leg.br/proposicoesWeb/prop_...   \n",
       "342   PL 740/2020  https://www.camara.leg.br/proposicoesWeb/prop_...   \n",
       "343  PL 1347/2020  https://www.camara.leg.br/proposicoesWeb/prop_...   \n",
       "344   PL 791/2020  https://www.camara.leg.br/proposicoesWeb/prop_...   \n",
       "345   PL 749/2020  https://www.camara.leg.br/proposicoesWeb/prop_...   \n",
       "346   PL 976/2020  https://www.camara.leg.br/proposicoesWeb/prop_...   \n",
       "347  PL 1325/2020  https://www.camara.leg.br/proposicoesWeb/prop_...   \n",
       "348   PL 916/2020  https://www.camara.leg.br/proposicoesWeb/prop_...   \n",
       "349   PL 730/2020  https://www.camara.leg.br/proposicoesWeb/prop_...   \n",
       "350  PL 1138/2020  https://www.camara.leg.br/proposicoesWeb/prop_...   \n",
       "351  PL 1376/2020  https://www.camara.leg.br/proposicoesWeb/prop_...   \n",
       "\n",
       "                                              situacao  \\\n",
       "0    Aguardando Despacho do Presidente da Câmara do...   \n",
       "1    Aguardando Despacho do Presidente da Câmara do...   \n",
       "2    Aguardando Despacho do Presidente da Câmara do...   \n",
       "3    Aguardando Despacho do Presidente da Câmara do...   \n",
       "4    Aguardando Despacho do Presidente da Câmara do...   \n",
       "5    Aguardando Despacho do Presidente da Câmara do...   \n",
       "6    Aguardando Despacho do Presidente da Câmara do...   \n",
       "7    Aguardando Despacho do Presidente da Câmara do...   \n",
       "8    Aguardando Despacho do Presidente da Câmara do...   \n",
       "9    Aguardando Despacho do Presidente da Câmara do...   \n",
       "10   Aguardando Despacho do Presidente da Câmara do...   \n",
       "11                                           Situação:   \n",
       "12   Aguardando Despacho do Presidente da Câmara do...   \n",
       "13   Aguardando Despacho do Presidente da Câmara do...   \n",
       "14   Aguardando Despacho do Presidente da Câmara do...   \n",
       "15   Aguardando Despacho do Presidente da Câmara do...   \n",
       "16   Aguardando Despacho do Presidente da Câmara do...   \n",
       "17   Aguardando Despacho do Presidente da Câmara do...   \n",
       "18   Aguardando Despacho do Presidente da Câmara do...   \n",
       "19   Aguardando Despacho do Presidente da Câmara do...   \n",
       "20   Aguardando Despacho do Presidente da Câmara do...   \n",
       "21   Aguardando Despacho do Presidente da Câmara do...   \n",
       "22                                           Situação:   \n",
       "23                                           Situação:   \n",
       "24   Aguardando Despacho do Presidente da Câmara do...   \n",
       "25   Aguardando Despacho do Presidente da Câmara do...   \n",
       "26   Aguardando Despacho do Presidente da Câmara do...   \n",
       "27   Aguardando Despacho do Presidente da Câmara do...   \n",
       "28   Aguardando Despacho do Presidente da Câmara do...   \n",
       "29   Aguardando Despacho do Presidente da Câmara do...   \n",
       "..                                                 ...   \n",
       "322  Aguardando Despacho do Presidente da Câmara do...   \n",
       "323  Aguardando Despacho do Presidente da Câmara do...   \n",
       "324  Aguardando Despacho do Presidente da Câmara do...   \n",
       "325  Aguardando Despacho do Presidente da Câmara do...   \n",
       "326  Aguardando Despacho do Presidente da Câmara do...   \n",
       "327                                          Situação:   \n",
       "328  Aguardando Despacho do Presidente da Câmara do...   \n",
       "329  Aguardando Despacho do Presidente da Câmara do...   \n",
       "330  Aguardando Despacho do Presidente da Câmara do...   \n",
       "331  Aguardando Despacho do Presidente da Câmara do...   \n",
       "332  Aguardando Despacho do Presidente da Câmara do...   \n",
       "333  Aguardando Despacho do Presidente da Câmara do...   \n",
       "334                                          Situação:   \n",
       "335                                          Situação:   \n",
       "336  Aguardando Despacho do Presidente da Câmara do...   \n",
       "337  Aguardando Despacho do Presidente da Câmara do...   \n",
       "338  Aguardando Despacho do Presidente da Câmara do...   \n",
       "339  Aguardando Despacho do Presidente da Câmara do...   \n",
       "340  Aguardando Despacho do Presidente da Câmara do...   \n",
       "341  Aguardando Despacho do Presidente da Câmara do...   \n",
       "342  Aguardando Despacho do Presidente da Câmara do...   \n",
       "343  Aguardando Despacho do Presidente da Câmara do...   \n",
       "344  Aguardando Despacho do Presidente da Câmara do...   \n",
       "345  Aguardando Despacho do Presidente da Câmara do...   \n",
       "346  Aguardando Despacho do Presidente da Câmara do...   \n",
       "347  Aguardando Despacho do Presidente da Câmara do...   \n",
       "348  Aguardando Despacho do Presidente da Câmara do...   \n",
       "349  Aguardando Despacho do Presidente da Câmara do...   \n",
       "350  Aguardando Despacho do Presidente da Câmara do...   \n",
       "351  Aguardando Despacho do Presidente da Câmara do...   \n",
       "\n",
       "                                            autor_nome    autor_partido  \\\n",
       "0                                 Evair Vieira de Melo               PP   \n",
       "1                                      Reginaldo Lopes               PT   \n",
       "2                                           José Nelto             PODE   \n",
       "3                                        Kim Kataguiri              DEM   \n",
       "4                                            Ted Conti              PSB   \n",
       "5                                    Benedita da Silva               PT   \n",
       "6                                         Ruy Carneiro             PSDB   \n",
       "7                                         José Ricardo               PT   \n",
       "8                                        André Janones           AVANTE   \n",
       "9                                         Efraim Filho              DEM   \n",
       "10                                         João Daniel               PT   \n",
       "11                                          Mara Rocha             PSDB   \n",
       "12                                    Joice Hasselmann              PSL   \n",
       "13                                         Júnior Mano               PL   \n",
       "14                                    Pompeo de Mattos              PDT   \n",
       "15   Dr. Luiz Antonio Teixeira Jr. - PP/RJ ,  Dr. Z...             PSDB   \n",
       "16                                      João H. Campos              PSB   \n",
       "17   Patricia Ferraz - PODE/AP ,  Mariana Carvalho ...             PROS   \n",
       "18                                     Geninho Zuliani              DEM   \n",
       "19                                                 JHC              PSB   \n",
       "20   Carla Zambelli - PSL/SP ,  Major Fabiana - PSL...               PL   \n",
       "21                                    André Figueiredo              PDT   \n",
       "22   Dra. Soraya Manato - PSL/ES ,  Jorge Solla - P...        CIDADANIA   \n",
       "23   Sâmia Bomfim - PSOL/SP ,  David Miranda - PSOL...               PT   \n",
       "24                                        Ricardo Izar               PP   \n",
       "25                                      João H. Campos              PSB   \n",
       "26                                       Kim Kataguiri              DEM   \n",
       "27                                          Gil Cutrim              PDT   \n",
       "28   Perpétua Almeida - PCdoB/AC ,  Alice Portugal ...              PDT   \n",
       "29       Clarissa Garotinho - PROS/RJ ,  Coronel Tadeu              PSL   \n",
       "..                                                 ...              ...   \n",
       "322                                         Fred Costa         PATRIOTA   \n",
       "323                                     Aroldo Martins         REPUBLIC   \n",
       "324                                  Natália Bonavides               PT   \n",
       "325                                      Túlio Gadêlha              PDT   \n",
       "326                           Pastor Sargento Isidório           AVANTE   \n",
       "327                                    Geninho Zuliani              DEM   \n",
       "328                                   André Figueiredo              PDT   \n",
       "329                                    Christino Aureo               PP   \n",
       "330                                      André Janones           AVANTE   \n",
       "331  Adriana Ventura - NOVO/SP ,  Alexandre Serfiot...             NOVO   \n",
       "332                                    Delegado Waldir              PSL   \n",
       "333                                     João H. Campos              PSB   \n",
       "334                                 Dagoberto Nogueira              PDT   \n",
       "335                                     Geovania de Sá             PSDB   \n",
       "336                                         Léo Moraes             PODE   \n",
       "337         Talíria Petrone - PSOL/RJ ,  Glauber Braga             PSOL   \n",
       "338        Denis Bezerra - PSB/CE ,  Vilson da Fetaemg              PSB   \n",
       "339                                 Dagoberto Nogueira              PDT   \n",
       "340                              Emanuel Pinheiro Neto              PTB   \n",
       "341                                    Paulo Abi-Ackel             PSDB   \n",
       "342  Alencar Santana Braga - PT/SP ,  Professora Ro...               PT   \n",
       "343                                     João H. Campos              PSB   \n",
       "344                                    Poder Executivo  Poder Executivo   \n",
       "345                                       José Ricardo               PT   \n",
       "346          Aliel Machado - PSB/PR ,  Patricia Ferraz             PODE   \n",
       "347                                      Paulo Pimenta               PT   \n",
       "348                                    Coronel Armando              PSL   \n",
       "349                                    Reginaldo Lopes               PT   \n",
       "350                                           Shéridan             PSDB   \n",
       "351                                   Franco Cartafina               PP   \n",
       "\n",
       "      autor_sigla_uf data_apresentacao  \\\n",
       "0                 ES        01/04/2020   \n",
       "1                 MG        19/03/2020   \n",
       "2                 GO        31/03/2020   \n",
       "3                 SP        23/03/2020   \n",
       "4                 ES        30/03/2020   \n",
       "5                 RJ        25/03/2020   \n",
       "6                 PB        23/03/2020   \n",
       "7                 AM        23/03/2020   \n",
       "8                 MG        23/03/2020   \n",
       "9                 PB        17/03/2020   \n",
       "10                SE        17/03/2020   \n",
       "11                AC        05/04/2020   \n",
       "12                SP        18/03/2020   \n",
       "13                CE        24/03/2020   \n",
       "14                RS        24/03/2020   \n",
       "15                RO        23/03/2020   \n",
       "16                PE        31/03/2020   \n",
       "17       AP e outros        18/03/2020   \n",
       "18                SP        31/03/2020   \n",
       "19                AL        24/03/2020   \n",
       "20       CE e outros        17/03/2020   \n",
       "21                CE        01/04/2020   \n",
       "22                SC        07/04/2020   \n",
       "23       RS e outros        03/04/2020   \n",
       "24                SP        02/04/2020   \n",
       "25                PE        31/03/2020   \n",
       "26                SP        23/03/2020   \n",
       "27                MA        31/03/2020   \n",
       "28       PE e outros        18/03/2020   \n",
       "29                SP        25/03/2020   \n",
       "..               ...               ...   \n",
       "322               MG        03/04/2020   \n",
       "323               PR        30/03/2020   \n",
       "324               RN        18/03/2020   \n",
       "325               PE        02/04/2020   \n",
       "326               BA        03/04/2020   \n",
       "327               SP        05/04/2020   \n",
       "328               CE        03/04/2020   \n",
       "329               RJ        27/03/2020   \n",
       "330               MG        17/03/2020   \n",
       "331      RJ e outros        24/03/2020   \n",
       "332               GO        02/04/2020   \n",
       "333               PE        31/03/2020   \n",
       "334               MS        06/04/2020   \n",
       "335               SC        03/04/2020   \n",
       "336               RO        20/03/2020   \n",
       "337               RJ        18/03/2020   \n",
       "338               MG        17/03/2020   \n",
       "339               MS        02/04/2020   \n",
       "340               MT        30/03/2020   \n",
       "341               MG        01/04/2020   \n",
       "342               MT        18/03/2020   \n",
       "343               PE        31/03/2020   \n",
       "344  Poder Executivo        19/03/2020   \n",
       "345               AM        18/03/2020   \n",
       "346               AP        24/03/2020   \n",
       "347               RS        31/03/2020   \n",
       "348               SC        24/03/2020   \n",
       "349               MG        18/03/2020   \n",
       "350               RR        27/03/2020   \n",
       "351               MG        01/04/2020   \n",
       "\n",
       "                                                ementa  \\\n",
       "0    Estabelece medidas excepcionais de proteção so...   \n",
       "1    Autoriza o Poder Executivo a conceder perdão d...   \n",
       "2    Dispõe sobre dispensação de prescrição de rece...   \n",
       "3    Institui a suspensão do pagamento de jetons em...   \n",
       "4    Dispõe sobre a utilização extraordinária do Fu...   \n",
       "5    Dispõe sobre regras aplicáveis ao trabalho dom...   \n",
       "6    Suspende a cobrança de juros do cartão de créd...   \n",
       "7    Altera a Lei nº 13.979 de 2020 para instituir,...   \n",
       "8    Suspende pelo período de 90 (noventa) dias em ...   \n",
       "9    Institui medidas de proteção ao emprego e ao e...   \n",
       "10   Estabelece a suspenção de cobrança de juros e ...   \n",
       "11   Dispõe sobre a suspensão na cobrança do pagame...   \n",
       "12   Dispõe sobre alteração nos arts. 131 e 269 e i...   \n",
       "13   Dispõe sobre a suspensão das ações de despejo ...   \n",
       "14   Estabelece a suspensão temporária dos cortes d...   \n",
       "15   Acrescenta artigo à Lei nº 11.947, de 2009, qu...   \n",
       "16   Dispõe sobre ações, medidas e diretrizes acerc...   \n",
       "17   Permite o saque emergencial de valores do Fund...   \n",
       "18   Altera a Lei nº 13.979, de 6 de fevereiro de 2...   \n",
       "19   Altera a lei 13.979/2020 para dispor sobre as ...   \n",
       "20   Acrescenta o art. 60-A à Lei nº 9.096, de 19 d...   \n",
       "21   Altera a Lei nº 8.212, de 24 de julho de 1991,...   \n",
       "22   Altera a Lei nº 13.979, de 6 de fevereiro de 2...   \n",
       "23   Dispõe sobre a proteção de mulheres em situaçã...   \n",
       "24   Dispõe sobre a redução de 30% (trinta por cent...   \n",
       "25   Dispõe sobre ações, medidas e diretrizes acerc...   \n",
       "26   Altera a Lei n.º 13.103 de 2015 para isentar v...   \n",
       "27   Institui o Imposto sobre Grandes Fortunas, de ...   \n",
       "28   Cria no Programa Bolsa Família o benefício pro...   \n",
       "29   Altera a Lei nº 9.504, de 30 de setembro de 19...   \n",
       "..                                                 ...   \n",
       "322  Estabelece pena de detenção para o crime de au...   \n",
       "323  Dispõe sobre medidas de proteção a população b...   \n",
       "324  Dispõe sobre medidas de proteção ao Microempre...   \n",
       "325  Estabelece prioridade de atendimento aos profi...   \n",
       "326  Isenta a cobrança de pedágio, enquanto durar a...   \n",
       "327  \"Altera a Lei nº 7.798/89 e a Lei nº 10.865/20...   \n",
       "328  Dispõe sobre a suspensão do desconto de emprés...   \n",
       "329  Institui o Programa Emergencial de Manutenção ...   \n",
       "330  Destina extraordinariamente os recursos do Fun...   \n",
       "331  Altera a Lei n° 10.858, de 13 de abril de 2004...   \n",
       "332  Dispõe sobre a obrigatoriedade de redução das ...   \n",
       "333  Dispõe sobre ações, medidas e diretrizes acerc...   \n",
       "334  Suspende a cobrança de pagamento de prestações...   \n",
       "335  Dispõe sobre medidas de proteção às entidades ...   \n",
       "336  Dispõe sobre alterações na Tarifa Social de En...   \n",
       "337  Dispõe direitos e deveres de pessoas em situaç...   \n",
       "338  Insere disposição transitória na Lei 12.414, d...   \n",
       "339  Dispõe, na Lei nº 10.260, de 12 de julho de 20...   \n",
       "340  Ficam as instituições de ensino infantil, fund...   \n",
       "341  Permite que, excepcionalmente e enquanto perdu...   \n",
       "342  Define medidas econômicas e sociais visando a ...   \n",
       "343  Dispõe sobre ações, medidas e diretrizes acerc...   \n",
       "344  Altera a Lei nº 13.979, de 6 de fevereiro de 2...   \n",
       "345  Acrescenta o artigo 3º-B, a Lei nº 7.998, de 1...   \n",
       "346  Dispõe sobre a obrigatoriedade de inclusão de ...   \n",
       "347  Inclui o § 2º, no Art. 65 da Lei Complementar ...   \n",
       "348  Dispõe sobre a regulamentação de consultas com...   \n",
       "349  Autoriza o poder executivo a conceder auxílio ...   \n",
       "350  Determina que, na ocorrência de calamidade púb...   \n",
       "351  Suspende a lavratura e o registro de protesto ...   \n",
       "\n",
       "                                                   url  \n",
       "0    https://www.camara.leg.br/proposicoesWeb/ficha...  \n",
       "1    https://www.camara.leg.br/proposicoesWeb/ficha...  \n",
       "2    https://www.camara.leg.br/proposicoesWeb/ficha...  \n",
       "3    https://www.camara.leg.br/proposicoesWeb/ficha...  \n",
       "4    https://www.camara.leg.br/proposicoesWeb/ficha...  \n",
       "5    https://www.camara.leg.br/proposicoesWeb/ficha...  \n",
       "6    https://www.camara.leg.br/proposicoesWeb/ficha...  \n",
       "7    https://www.camara.leg.br/proposicoesWeb/ficha...  \n",
       "8    https://www.camara.leg.br/proposicoesWeb/ficha...  \n",
       "9    https://www.camara.leg.br/proposicoesWeb/ficha...  \n",
       "10   https://www.camara.leg.br/proposicoesWeb/ficha...  \n",
       "11   https://www.camara.leg.br/proposicoesWeb/ficha...  \n",
       "12   https://www.camara.leg.br/proposicoesWeb/ficha...  \n",
       "13   https://www.camara.leg.br/proposicoesWeb/ficha...  \n",
       "14   https://www.camara.leg.br/proposicoesWeb/ficha...  \n",
       "15   https://www.camara.leg.br/proposicoesWeb/ficha...  \n",
       "16   https://www.camara.leg.br/proposicoesWeb/ficha...  \n",
       "17   https://www.camara.leg.br/proposicoesWeb/ficha...  \n",
       "18   https://www.camara.leg.br/proposicoesWeb/ficha...  \n",
       "19   https://www.camara.leg.br/proposicoesWeb/ficha...  \n",
       "20   https://www.camara.leg.br/proposicoesWeb/ficha...  \n",
       "21   https://www.camara.leg.br/proposicoesWeb/ficha...  \n",
       "22   https://www.camara.leg.br/proposicoesWeb/ficha...  \n",
       "23   https://www.camara.leg.br/proposicoesWeb/ficha...  \n",
       "24   https://www.camara.leg.br/proposicoesWeb/ficha...  \n",
       "25   https://www.camara.leg.br/proposicoesWeb/ficha...  \n",
       "26   https://www.camara.leg.br/proposicoesWeb/ficha...  \n",
       "27   https://www.camara.leg.br/proposicoesWeb/ficha...  \n",
       "28   https://www.camara.leg.br/proposicoesWeb/ficha...  \n",
       "29   https://www.camara.leg.br/proposicoesWeb/ficha...  \n",
       "..                                                 ...  \n",
       "322  https://www.camara.leg.br/proposicoesWeb/ficha...  \n",
       "323  https://www.camara.leg.br/proposicoesWeb/ficha...  \n",
       "324  https://www.camara.leg.br/proposicoesWeb/ficha...  \n",
       "325  https://www.camara.leg.br/proposicoesWeb/ficha...  \n",
       "326  https://www.camara.leg.br/proposicoesWeb/ficha...  \n",
       "327  https://www.camara.leg.br/proposicoesWeb/ficha...  \n",
       "328  https://www.camara.leg.br/proposicoesWeb/ficha...  \n",
       "329  https://www.camara.leg.br/proposicoesWeb/ficha...  \n",
       "330  https://www.camara.leg.br/proposicoesWeb/ficha...  \n",
       "331  https://www.camara.leg.br/proposicoesWeb/ficha...  \n",
       "332  https://www.camara.leg.br/proposicoesWeb/ficha...  \n",
       "333  https://www.camara.leg.br/proposicoesWeb/ficha...  \n",
       "334  https://www.camara.leg.br/proposicoesWeb/ficha...  \n",
       "335  https://www.camara.leg.br/proposicoesWeb/ficha...  \n",
       "336  https://www.camara.leg.br/proposicoesWeb/ficha...  \n",
       "337  https://www.camara.leg.br/proposicoesWeb/ficha...  \n",
       "338  https://www.camara.leg.br/proposicoesWeb/ficha...  \n",
       "339  https://www.camara.leg.br/proposicoesWeb/ficha...  \n",
       "340  https://www.camara.leg.br/proposicoesWeb/ficha...  \n",
       "341  https://www.camara.leg.br/proposicoesWeb/ficha...  \n",
       "342  https://www.camara.leg.br/proposicoesWeb/ficha...  \n",
       "343  https://www.camara.leg.br/proposicoesWeb/ficha...  \n",
       "344  https://www.camara.leg.br/proposicoesWeb/ficha...  \n",
       "345  https://www.camara.leg.br/proposicoesWeb/ficha...  \n",
       "346  https://www.camara.leg.br/proposicoesWeb/ficha...  \n",
       "347  https://www.camara.leg.br/proposicoesWeb/ficha...  \n",
       "348  https://www.camara.leg.br/proposicoesWeb/ficha...  \n",
       "349  https://www.camara.leg.br/proposicoesWeb/ficha...  \n",
       "350  https://www.camara.leg.br/proposicoesWeb/ficha...  \n",
       "351  https://www.camara.leg.br/proposicoesWeb/ficha...  \n",
       "\n",
       "[352 rows x 9 columns]"
      ]
     },
     "execution_count": 2,
     "metadata": {},
     "output_type": "execute_result"
    }
   ],
   "source": [
    "data = pd.read_excel('../data/Projetos_de_Lei_2020_COVID.xlsx')\n",
    "data"
   ]
  },
  {
   "cell_type": "code",
   "execution_count": 130,
   "metadata": {},
   "outputs": [],
   "source": [
    "def clean_text(text):\n",
    "    text = text.lower()\n",
    "    text = unidecode(text)\n",
    "    text = text.replace('-', '')\n",
    "    text = text.replace('/', '_')\n",
    "    text = re.sub('\\s+', ' ', text)\n",
    "    text = re.findall('\\w+', text)\n",
    "    text = ' '.join(text)\n",
    "    return text\n",
    "\n",
    "def add_br(text):\n",
    "    new_text = ''\n",
    "    i = 0\n",
    "    for word in text.split(' '):\n",
    "        if i == 10:\n",
    "            new_text += \" \" + word + '<br>'\n",
    "            i = 0\n",
    "        else:\n",
    "            new_text += \" \" + word\n",
    "            i += 1\n",
    "    return new_text"
   ]
  },
  {
   "cell_type": "markdown",
   "metadata": {},
   "source": [
    "## Clean text and Tf-Idf vectorize it"
   ]
  },
  {
   "cell_type": "code",
   "execution_count": 131,
   "metadata": {},
   "outputs": [
    {
     "data": {
      "text/plain": [
       "<352x6767 sparse matrix of type '<class 'numpy.float64'>'\n",
       "\twith 21268 stored elements in Compressed Sparse Row format>"
      ]
     },
     "execution_count": 131,
     "metadata": {},
     "output_type": "execute_result"
    }
   ],
   "source": [
    "corpus = data['clean_ementa']\n",
    "vectorizer = TfidfVectorizer(ngram_range=(1,2))\n",
    "x = vectorizer.fit_transform(corpus)\n",
    "#vectorizer.get_feature_names()\n",
    "x"
   ]
  },
  {
   "cell_type": "markdown",
   "metadata": {},
   "source": [
    "## Apply dimensionality Reducion with Single Value Decompositon\n",
    "The goal is to reduce the 6767 dimens'ions to 4, so we can visualize it."
   ]
  },
  {
   "cell_type": "code",
   "execution_count": 139,
   "metadata": {},
   "outputs": [
    {
     "name": "stdout",
     "output_type": "stream",
     "text": [
      "[0.01040533 0.01436544 0.0122729  0.01090822]\n"
     ]
    }
   ],
   "source": [
    "svd = TruncatedSVD(n_components=4, n_iter=100)\n",
    "\n",
    "principalComponents = svd.fit_transform(x)\n",
    "\n",
    "principal_df = pd.DataFrame(data = principalComponents, columns = ['pc_1', 'pc_2', 'pc_3', 'color'])\n",
    "principal_df['ementa_labels']= data['clean_ementa'].apply(add_br)\n",
    "principal_df['autor'] = data['autor_nome']\n",
    "principal_df['sg_partido'] = data['autor_partido']\n",
    "print(svd.explained_variance_)"
   ]
  },
  {
   "cell_type": "markdown",
   "metadata": {},
   "source": [
    "## Plot"
   ]
  },
  {
   "cell_type": "code",
   "execution_count": 140,
   "metadata": {},
   "outputs": [
    {
     "data": {
      "application/vnd.plotly.v1+json": {
       "config": {
        "plotlyServerURL": "https://plot.ly"
       },
       "data": [
        {
         "customdata": [
          [
           "Evair Vieira de Melo",
           "PP",
           " estabelece medidas excepcionais de protecao social aos trabalhadores autonomos que enumera<br> a serem adotadas durante o periodo de enfrentamento da emergencia de<br> saude publica de importancia internacional decorrente do coronavirus responsavel pelo surto<br> de 2019"
          ],
          [
           "Reginaldo Lopes",
           "PT",
           " autoriza o poder executivo a conceder perdao de divida de hospitais<br> privados sem fins lucrativos sem certificado de cebas que disponibilizarem leitos<br> sus para o tratamento da covid19"
          ],
          [
           "José Nelto",
           "PODE",
           " dispoe sobre dispensacao de prescricao de receita para aquisicao de medicamentos<br> de uso continuo em casos de calamidade publica e quarentena nos<br> moldes da lei 13 979 de 06 de fevereiro de 2020<br>"
          ],
          [
           "Kim Kataguiri",
           "DEM",
           " institui a suspensao do pagamento de jetons em casos de pandemia<br> e estado de calamidade publica"
          ],
          [
           "Ted Conti",
           "PSB",
           " dispoe sobre a utilizacao extraordinaria do fundo especial de financiamento de<br> campanha previsto na lei ndeg 9 504 de 30 de setembro<br> de 1997 no combate a pandemia de covid19"
          ],
          [
           "Benedita da Silva",
           "PT",
           " dispoe sobre regras aplicaveis ao trabalho domestico em razao das medidas<br> para enfrentamento da emergencia de saude publica de importancia internacional decorrente<br> do novo coronavirus identificado como sarscov2 e da outras providencias"
          ],
          [
           "Ruy Carneiro",
           "PSDB",
           " suspende a cobranca de juros do cartao de credito e cheque<br> especial em razao da pandemia do corona virus"
          ],
          [
           "José Ricardo",
           "PT",
           " altera a lei no 13 979 de 2020 para instituir na<br> forma que disciplina o comite nacional de articulacao das acoes de<br> enfrentamento ao coronavirus e monitoramento dos casos e dos impactos do<br> covid19 em todos os entes federados"
          ],
          [
           "André Janones",
           "AVANTE",
           " suspende pelo periodo de 90 noventa dias em razao da pandemia<br> do covid19 a execucao das ordens de despejo de locacoes de<br> imoveis residenciais e comerciais e da outras providencias"
          ],
          [
           "Efraim Filho",
           "DEM",
           " institui medidas de protecao ao emprego e ao empregado durante periodo<br> de emergencia de saude publica de importancia internacional relacionada ao coronavirus<br> covid19"
          ],
          [
           "João Daniel",
           "PT",
           " estabelece a suspencao de cobranca de juros e multas em razao<br> do corona virus covid19"
          ],
          [
           "Mara Rocha",
           "PSDB",
           " dispoe sobre a suspensao na cobranca do pagamento do programa de<br> financiamento estudantil fies pelo prazo de 90 noventa dias devido a<br> pandemia do coronavirus covid19"
          ],
          [
           "Joice Hasselmann",
           "PSL",
           " dispoe sobre alteracao nos arts 131 e 269 e inclusao do<br> art 267a do codigo penal decretolei no 2 848 de 7<br> de dezembro de 1940 no sentido de se aumentar a repressao<br> de crimes relacionados com a pandemia de coronavirus"
          ],
          [
           "Júnior Mano",
           "PL",
           " dispoe sobre a suspensao das acoes de despejo por falta de<br> pagamento relativas a locacoes residenciais e nao residenciais de imovel urbano<br> pelo prazo de noventa dias em razao das dificuldades economicas geradas<br> pelas medidas de combate ao covid19"
          ],
          [
           "Pompeo de Mattos",
           "PDT",
           " estabelece a suspensao temporaria dos cortes do fornecimento por falta de<br> pagamento das tarifas dos servicos publicos de agua esgoto energia eletrica<br> e internet a suspensao do cancelamento dos planos de saude e<br> a suspensao do pagamento de contratos bancarios que especifica nos proximos<br> tres meses ou pelo periodo de duracao da pandemia por covid<br> 19 na forma aqui estabelecida"
          ],
          [
           "Dr. Luiz Antonio Teixeira Jr. - PP/RJ ,  Dr. Zacharias Calil - DEM/GO ,  Mariana Carvalho",
           "PSDB",
           " acrescenta artigo a lei no 11 947 de 2009 que rege<br> entre outras materias o programa nacional de alimentacao escolar pnae para<br> autorizar em carater excepcional durante o periodo de suspensao das aulas<br> em razao da pandemia do coronavirus a distribuicao direta aos pais<br> e responsaveis dos estudantes das escolas publicas de educacao basica de<br> generos alimenticios adquiridos com esses recursos"
          ],
          [
           "João H. Campos",
           "PSB",
           " dispoe sobre acoes medidas e diretrizes acerca do enfrentamento ao coronavirus<br> covid19 no intuito de regulamentar a concessao de aposentadorias durante o<br> periodo de calamidade publica e da outras providencias"
          ],
          [
           "Patricia Ferraz - PODE/AP ,  Mariana Carvalho - PSDB/RO ,  Clarissa Garotinho - PROS/RJ ,  Jorge Solla - PT/BA ,  Hiran Gonçalves - PP/RR ,  Professora Rosa Neide - PT/MT ,  Liziane Bayer - PSB/RS ,  Tereza Nelma - PSDB/AL ,  Norma Ayub - DEM/ES ,  Bia Kicis - PSL/DF ,  Aline Sleutjes - PSL/PR ,  Paulo Ganime - NOVO/RJ ,  Lucas Gonzalez - NOVO/MG ,  Marcel van Hattem - NOVO/RS ,  Alexis Fonteyne - NOVO/SP ,  Tiago Mitraud - NOVO/MG ,  Adriana Ventura - NOVO/SP ,  Alexandre Padilha - PT/SP ,  Vinicius Poit - NOVO/SP ,  Enrico Misasi - PV/SP ,  Marcelo Freixo - PSOL/RJ ,  Acácio Favacho",
           "PROS",
           " permite o saque emergencial de valores do fundo de garantia por<br> tempo de servico em razao da pandemia de coronavirus 2019ncov"
          ],
          [
           "Geninho Zuliani",
           "DEM",
           " altera a lei no 13 979 de 6 de fevereiro de<br> 2020 para permitir que os contribuintes pessoas fisicas e juridicas possam<br> destinar recursos do imposto de renda ao ministerio da saude para<br> o enfrentamento da emergencia em saude publica de importancia internacional espin<br> decorrente do coronavirus covid19"
          ],
          [
           "JHC",
           "PSB",
           " altera a lei 13 979_2020 para dispor sobre as medidas protetivas<br> ao contribuinte para enfrentamento do estado de calamidade publica reconhecido pelo<br> decreto legislativo no 6 de 20 de marco de 2020 e<br> da emergencia de saude publica de importancia internacional decorrente do coronavirus<br> covid19 decretada pelo ministro de estado da saude em 3 de<br> fevereiro de 2020 nos termos do disposto na lei no 13<br> 979 de 6 de fevereiro de 2020"
          ],
          [
           "Carla Zambelli - PSL/SP ,  Major Fabiana - PSL/RJ ,  Dr. Luiz Ovando - PSL/MS ,  Guiga Peixoto - PSL/SP ,  Aline Sleutjes - PSL/PR ,  Junio Amaral - PSL/MG ,  Luiz Lima - PSL/RJ ,  Coronel Armando - PSL/SC ,  General Girão - PSL/RN ,  Coronel Chrisóstomo - PSL/RO ,  Filipe Barros - PSL/PR ,  Bia Kicis - PSL/DF ,  Helio Lopes - PSL/RJ ,  Dr. Jaziel",
           "PL",
           " acrescenta o art 60a a lei no 9 096 de 19<br> de setembro de 1995 bem como acrescenta o art 105b a<br> lei 9 504 de 30 de setembro de 1997 para destinacao<br> dos fundos partidario e eleitoral ao combate e prevencao da pandemia<br> covid19"
          ],
          [
           "André Figueiredo",
           "PDT",
           " altera a lei no 8 212 de 24 de julho de<br> 1991 para prorrogar as datas de vencimento das contribuicoes devidas ao<br> empregador domestico em decorrencia do covid19"
          ],
          [
           "Dra. Soraya Manato - PSL/ES ,  Jorge Solla - PT/BA ,  Carmen Zanotto",
           "CIDADANIA",
           " altera a lei no 13 979 de 6 de fevereiro de<br> 2020 para dispor sobre a simplificacao dos processos de pedido de<br> protecao dos direitos relativos a propriedade industrial que versem sobre produtos<br> e tecnologias uteis no combate a covid19"
          ],
          [
           "Sâmia Bomfim - PSOL/SP ,  David Miranda - PSOL/RJ ,  Fernanda Melchionna - PSOL/RS ,  Talíria Petrone - PSOL/RJ ,  Luiza Erundina - PSOL/SP ,  Tereza Nelma - PSDB/AL ,  Mara Rocha - PSDB/AC ,  Professora Rosa Neide - PT/MT ,  Margarida Salomão - PT/MG ,  Lídice da Mata - PSB/BA ,  Maria do Rosário",
           "PT",
           " dispoe sobre a protecao de mulheres em situacao de violencia durante<br> a vigencia do estado de calamidade publica com efeitos ate 31<br> de dezembro de 2020 ou enquanto durarem medidas de quarentena e<br> restricoes de atividades no contexto da pandemia do covid19 novo coronavirus<br>"
          ],
          [
           "Ricardo Izar",
           "PP",
           " dispoe sobre a reducao de 30 trinta por cento no valor<br> das mensalidades das instituicoes de ensino fundamental medio e superior da<br> rede privada que estejam com funcionamento suspenso por forca das medidas<br> de isolamento e quarentena previstas na lei no 13 979 de<br> 6 de fevereiro de 2020"
          ],
          [
           "João H. Campos",
           "PSB",
           " dispoe sobre acoes medidas e diretrizes acerca do enfrentamento ao coronavirus<br> covid19 a partir da adocao de uma aliquota extra de contribuicao<br> sobre lucro liquido das instituicoes financeiras"
          ],
          [
           "Kim Kataguiri",
           "DEM",
           " altera a lei n o 13 103 de 2015 para isentar<br> veiculos de carga do pagamento de pedagios em periodos de pandemia<br>"
          ],
          [
           "Gil Cutrim",
           "PDT",
           " institui o imposto sobre grandes fortunas de forma emergencial destinado exclusivamente<br> ao combate da pandemia do covid19"
          ],
          [
           "Perpétua Almeida - PCdoB/AC ,  Alice Portugal - PCdoB/BA ,  Renildo Calheiros - PCdoB/PE ,  Henrique Fontana - PT/RS ,  Orlando Silva - PCdoB/SP ,  Jandira Feghali - PCdoB/RJ ,  Wolney Queiroz",
           "PDT",
           " cria no programa bolsa familia o beneficio provisorio variavel e emergencial<br> vinculado ao periodo de enfrentamento de pandemias e da outras providencias<br>"
          ],
          [
           "Clarissa Garotinho - PROS/RJ ,  Coronel Tadeu",
           "PSL",
           " altera a lei no 9 504 de 30 de setembro de<br> 1997 lei das eleicoes para em casos de declaracao de pandemia<br> pela organizacao mundial da saude oms autorizar o poder executivo a<br> destinar todos os recursos do fundo especial de financiamento de campanhas<br> para acoes voltadas ao enfrentamento de crise na saude publica e<br> na economia"
          ],
          [
           "Hélio Leite",
           "DEM",
           " suspende o pagamento do parcelamento de dividas no ambito do programa<br> de modernizacao da gestao e de responsabilidade fiscal do futebol brasileiro<br> profut criado prela lei no 13 155 de 4 de agosto<br> de 2015 durante periodo de emergencia de saude publica de importancia<br> internacional relacionada ao coronavirus covid19"
          ],
          [
           "José Nelto",
           "PODE",
           " assegura aos servidores das areas de saude e seguranca gratificacao por<br> atividade essencial no periodo do estado de emergencia de saude publica<br> decorrente da pandemia do novo coronavirus covid19 nos moldes da lei<br> 13 979 de 06 de fevereiro de 2020"
          ],
          [
           "Gil Cutrim",
           "PDT",
           " acrescenta dispositivo aos arts 56 e 76 da lei no 8<br> 078 de 11 de setembro de 1990 codigo do consumidor para<br> alterar a sancao aplicada as infracoes das normas de defesa do<br> consumidor e incluir os casos de epidemia pandemia e calamidade publica<br>"
          ],
          [
           "Fernando Rodolfo",
           "PL",
           " proibicao de corte dos servicos de energia eletrica e agua durante<br> a crise do coronavirus"
          ],
          [
           "Rubens Bueno",
           "CIDADANIA",
           " prorroga o prazo para a apresentacao da declaracao de ajuste anual<br> do imposto de renda pessoa fisica referente ao exercicio de 2020<br> no anocalendario de 2019 em decorrencia da emergencia de saude publica<br> de importancia internacional relacionada ao coronavirus covid19"
          ],
          [
           "Reginaldo Lopes",
           "PT",
           " autoriza o poder executivo a isentar temporariamente do pagamento de servico<br> de abastecimento de agua esgotamento sanitario e fornecimento de energia eletrica<br> ao idoso aposentado e ou segurado pelo bpc em periodo de<br> restricao a movimentacao e contato pelo motivo da pandemia covid19 corona<br> virus"
          ],
          [
           "André Janones",
           "AVANTE",
           " autoriza o saque mensal de um salariominimo das contas vinculadas do<br> fgts ate o final de 2020 como forma de garantir renda<br> as pessoas durante o enfrentamento da pandemia do coronavirus covid19"
          ],
          [
           "Tiririca",
           "PL",
           " institui medidas para amparar o circo e profissionais circenses nos casos<br> de pandemias e estado de calamidade publica"
          ],
          [
           "Marcelo Freixo - PSOL/RJ ,  Túlio Gadêlha",
           "PDT",
           " dispoe sobre medidas temporarias destinadas a seguridade social enquanto durar as<br> medidas de isolamento ou quarentena prevista na lei ndeg 13 979<br> de 6 de fevereiro de 2020 na forma que menciona"
          ],
          [
           "Márcio Biolchi",
           "MDB",
           " altera a lei ndeg 13 885 de 17 de outubro de<br> 2019 para autorizar a destinacao por estados distrito federal e municipios<br> de valores arrecadados com os leiloes dos volumes excedentes da cessao<br> onerosa a aquisicao de equipamentos hospitalares para o combate ao coronavirus<br> covid19"
          ],
          [
           "AJ Albuquerque",
           "PP",
           " proibe por 12 doze meses as instituicoes financeiras e de protecao<br> ao credito de negativar pessoa fisica e juridica inadimplente com o<br> pagamento de obrigacao contratual vencida no periodo de calamidade publica decretada<br> no brasil em decorrencia da pandemia covid19 e da outras providencias<br>"
          ],
          [
           "Assis Carvalho",
           "PT",
           " determina que os recursos publicos aplicados em publicidade de utilidade publica<br> sejam aplicados no combate a pandemia do coronavirus"
          ],
          [
           "Joice Hasselmann",
           "PSL",
           " trata da suspensao do uso de cartoes coorporativos por quatro meses<br> devido a vigencia da calamidade publica decorrente da pandemia do coronavirus<br> covid19"
          ],
          [
           "Alice Portugal",
           "PCdoB",
           " estabelece medidas emergenciais de protecao a mulher vitima de violencia domestica<br> durante a emergencia de saude publica decorrente da pandemia do coronavirus<br>"
          ],
          [
           "Talíria Petrone - PSOL/RJ ,  Airton Faleiro - PT/PA ,  David Miranda - PSOL/RJ ,  Rodrigo Agostinho - PSB/SP ,  Túlio Gadêlha - PDT/PE ,  Professora Rosa Neide - PT/MT ,  Natália Bonavides - PT/RN ,  Marcon - PT/RS ,  Luiza Erundina",
           "PSOL",
           " dispoe sobre o plano emergencial para enfrentamento ao coronavirus nos territorios<br> indigenas assegurando a garantia de direitos sociais e territoriais bem como<br> com medidas especificas de vigilancia sanitaria e epidemiologica para prevencao do<br> contagio e da disseminacao da covid19"
          ],
          [
           "Léo Motta",
           "PSL",
           " altera o art 16c da lei no 9 504 de 30<br> de setembro de 1997 lei das eleicoes em virtude da declaracao<br> de pandemia pela organizacao mundial da saude oms em relacao ao<br> covid19 para autorizar o poder executivo a destinar todos os recursos<br> do fundo especial de financiamento de campanha fefc das eleicoes municipais<br> de 2020 a acoes destinadas a enfrentar as crises decorrentes das<br> consequencias que geraram a declaracao acima mencionada"
          ],
          [
           "Poder Executivo",
           "Poder Executivo",
           " dispoe sobre as medidas sanitarias para enfrentamento da emergencia de saude<br> publica de importancia internacional decorrente do coronavirus"
          ],
          [
           "Dr. Luiz Antonio Teixeira Jr. - PP/RJ ,  Mariana Carvalho - PSDB/RO ,  Dra. Soraya Manato - PSL/ES ,  Dr. Zacharias Calil - DEM/GO ,  Jorge Solla - PT/BA ,  Rodrigo Coelho - PSB/SC ,  Alexandre Padilha - PT/SP ,  Carmen Zanotto - CIDADANIA/SC ,  Adriana Ventura - NOVO/SP ,  Alexandre Serfiotis - PSD/RJ ,  Marcelo Calero - CIDADANIA/RJ ,  Paula Belmonte - CIDADANIA/DF ,  Dr. Frederico - PATRIOTA/MG ,  Patricia Ferraz - PODE/AP ,  Mário Heringer - PDT/MG ,  General Peternelli",
           "PSL",
           " altera a lei no 6 360 de 23 de setembro de<br> 1976 para que aconteca a liberacao imediata do uso de materiais<br> medicamentos equipamentos e insumos da area da saude para auxiliar no<br> combate a pandemia do covid19"
          ],
          [
           "Tabata Amaral - PDT/SP ,  Tereza Nelma - PSDB/AL ,  Felipe Rigoni - PSB/ES ,  Flávia Arruda - PL/DF ,  Mariana Carvalho - PSDB/RO ,  Perpétua Almeida - PCdoB/AC ,  Mauro Benevides ,  João H. Campos",
           "PSB",
           " institui a lei de resposta ao coronavirus e dispoe sobre a<br> renda minima de emergencia e o beneficio assistencial a trabalhadores informais<br>"
          ],
          [
           "Christino Aureo",
           "PP",
           " altera os termos da lei ndeg 8 245 de 18 de<br> outubro de 1991 lei do inquilinato relativamente a suspensao da propositura<br> de acoes de despejo em face de inadimplencia em contratos de<br> locacao durante o periodo de enfrentamento do estado de calamidade publica<br> reconhecida pelo decreto legislativo ndeg 6 de 20 de marco de<br> 2020 e da emergencia de saude publica de importancia internacional decorrente<br> do coronavirus covid19 decretada pelo ministro de estado da saude em<br> 3 de fevereiro de 2020 como forma de auxiliar na preservacao<br> de empregos"
          ],
          [
           "Gildenemyr",
           "PL",
           " classifica como acidente de trabalho a contaminacao pelo coronavirus dos profissionais<br> de saude ou operadores de atividades essenciais"
          ],
          [
           "Mara Rocha",
           "PSDB",
           " dispoe sobre a suspensao na cobranca do pagamento de financiamento imobiliario<br> junto a bancos oficiais do governo federal pelo prazo de 90<br> noventa dias devido a pandemia do coronavirus covid19"
          ],
          [
           "Vicentinho Júnior",
           "PL",
           " modifica a lei no 6259 de 30 de outubro de 2020<br> para garantir o acesso a vacinas a todos os caminhoneiros e<br> profissionais responsaveis pelos transportes de cargas durante o periodo de pandemia<br> do virus covid19corona virus"
          ],
          [
           "Luis Tibé",
           "AVANTE",
           " altera a lei 9 991 de 24 de julho de 2000<br> para dispor sobre a isencao das contas de energia eletrica para<br> os usuarios da tarifa social durante o periodo de calamidade publica<br> em razao do covid19"
          ],
          [
           "Joenia Wapichana - REDE/RR ,  Airton Faleiro - PT/PA ,  Rodrigo Agostinho - PSB/SP ,  Patrus Ananias - PT/MG ,  Fernanda Melchionna - PSOL/RS ,  Alexandre Padilha - PT/SP ,  Tabata Amaral - PDT/SP ,  Carmen Zanotto - CIDADANIA/SC ,  Natália Bonavides",
           "PT",
           " altera a lei no 8 080 de 19 de setembro de<br> 1990 para definir mecanismo de financiamento especifico fortalecimento da rede sus<br> e medidas emergenciais para o enfrentamento de pandemias e calamidades em<br> saude publica junto aos povos indigenas no brasil"
          ],
          [
           "Carlos Chiodini",
           "MDB",
           " dispoe sobre a suspensao de cobranca de agua energia eletrica e<br> telecomunicacao domiciliar em casos de calamidade publica e quarentena nos moldes<br> da lei 13 979 de 06 de fevereiro de 2020"
          ],
          [
           "Benedita da Silva",
           "PT",
           " dispoe sobre a reducao proporcional e suspensao das obrigacoes das mensalidades<br> na rede privada de ensino superior durante a pandemia do covid19<br>"
          ],
          [
           "Efraim Filho",
           "DEM",
           " reduz as aliquotas do pis_pasep e da cofins incidentes na importacao<br> e na comercializacao do mercado interno dos bens relacionados ao combate<br> a pandemia do coronavirus covid19"
          ],
          [
           "Flávio Nogueira",
           "PDT",
           " torna obrigatoria a internacao hospitalar de pessoas com mais de 79<br> setenta e nove anos de idade infectadas com coronavirus e da<br> outras providencias"
          ],
          [
           "Joice Hasselmann",
           "PSL",
           " estabelece medidas trabalhistas durante o estado de calamidade publica reconhecido pelo<br> decreto legislativo no 6 de 20 de marco de 2020 decorrente<br> do coronavirus covid19"
          ],
          [
           "Léo Moraes",
           "PODE",
           " altera a lei no 13 979 de 6 de fevereiro de<br> 2020 com o objetivo de prever novas medidas para enfrentamento da<br> emergencia de saude publica de importancia internacional decorrente do coronavirus responsavel<br> pelo surto de 2019"
          ],
          [
           "Miguel Lombardi",
           "PL",
           " altera a lei no 10 741 de 01 de outubro de<br> 2003 para permitir as entidades filantropicas de longa permanencia ou casaslares<br> a utilizacao da totalidade dos beneficios previdenciarios ou de assistencia social<br> dos atendidos durante as acoes de combate a epidemia de coronavirus<br> disease 2019 covid19 e em outras situacoes de reconhecimento do estado<br> de calamidade publica a fim de promover os cuidados com a<br> saude dos proprios idosos e da outras providencias"
          ],
          [
           "Mariana Carvalho - PSDB/RO ,  Patricia Ferraz - PODE/AP ,  Dra. Soraya Manato - PSL/ES ,  Dr. Zacharias Calil - DEM/GO ,  Hiran Gonçalves - PP/RR ,  Carmen Zanotto - CIDADANIA/SC ,  Tabata Amaral - PDT/SP ,  Alexandre Serfiotis - PSD/RJ ,  Alexandre Padilha - PT/SP ,  Rodrigo Coelho",
           "PSB",
           " dispoe sobre a proibicao da suspensao do fornecimento de energia eletrica<br> e dos servicos de abastecimento de agua e esgotamento sanitario por<br> inadimplencia dos usuarios residenciais durante a vigencia da situacao de emergencia<br> de saude publica decorrente da pandemia causada pelo coronavirus alterando a<br> lei no 13 979 de 6 de fevereiro de 2020"
          ],
          [
           "Vilson da Fetaemg - PSB/MG ,  Danilo Cabral",
           "PSB",
           " dispoe sobre o incentivo emergencial para a aquisicao de produtos da<br> agricultura familiar visando amenizar os prejuizos da pandemia do covid19 e<br> do estado de calamidade publica reconhecido pelo decreto legislativo n 6<br> de 20 de marco de 2020 e da outras providencias"
          ],
          [
           "Fernando Coelho Filho",
           "DEM",
           " disciplina as operacoes de credito a serem celebradas com o bndes<br> banco nacional de desenvolvimento economico e social como forma de mitigar<br> os impactos da crise instaurada em razao do covid19 perante os<br> grandes empregadores"
          ],
          [
           "Silas Câmara",
           "REPUBLIC",
           " fica proibido em todo territorio nacional a suspensao do fornecimento de<br> agua e energia enquanto perdurar a pandemia do covid19"
          ],
          [
           "Gilson Marques",
           "NOVO",
           " dispoe sobre a antecipacao da comemoracao de feriados em casos de<br> estado de calamidade publica e epidemia do coronavirus covid19"
          ],
          [
           "Mara Rocha",
           "PSDB",
           " dispoe sobre a suspensao na cobranca do pagamento de financiamento imobiliario<br> junto a bancos oficiais do governo federal pelo prazo de 90<br> noventa dias devido a pandemia do coronavirus covid19"
          ],
          [
           "Fernanda Melchionna - PSOL/RS ,  Sâmia Bomfim - PSOL/SP ,  David Miranda - PSOL/RJ ,  Luiza Erundina - PSOL/SP ,  Marcelo Freixo",
           "PSOL",
           " cria ajuda financeira extraordinaria aos estados e municipios por meio de<br> adicional ao fundo de participacao dos estados e ao fundo de<br> participacao aos municipios no exercicio de 2020 em decorrencia da emergencia<br> em saude publica do coronavirus e estado de calamidade de que<br> trata a lei no 13 979 de 6 de fevereiro de<br> 2020 e o decreto legislativo no 6 de 20 de marco<br> de 2020"
          ],
          [
           "André Figueiredo",
           "PDT",
           " altera o decretolei no 5 452 de 1o de maio de<br> 1943 para instituir a suspensao de contrato de trabalho em decorrencia<br> do covid19"
          ],
          [
           "Subtenente Gonzaga",
           "PDT",
           " regula a realizacao de operacoes compromissadas durante a pandemia do covid19<br> fucovid"
          ],
          [
           "Marx Beltrão",
           "PSD",
           " dispoes sobre a prorrogacao dos emprestimos ou financiamento bancarios contratados por<br> pessoas fisicas ou juridicas prejudicadas pelas medidas sanitarias para enfrentamento da<br> emergencia de saude publica de importancia internacional decorrente da pandemia provocada<br> pelo coronavirus covid19"
          ],
          [
           "Ted Conti",
           "PSB",
           " acrescenta dispositivo a lei n 13 979 de 6 de fevereiro<br> de 2020 a fim de dispor sobre o redirecionamento de recursos<br> ao sistema unico de saude sus para o custeio de acoes<br> de enfrentamento da emergencia de saude publica de importancia internacional decorrente<br> do coronavirus responsavel pelo surto de 2019"
          ],
          [
           "Túlio Gadêlha",
           "PDT",
           " dispoe sobre o controle do estado no combate a manipulacao e<br> ao abuso de precos em casos dedecretacao de pandemia ou estado<br> de calamidadepublica"
          ],
          [
           "André Figueiredo",
           "PDT",
           " estabelece medidas excepcionais para prevencao do contagio pela doenca covid19 em<br> agencias bancarias"
          ],
          [
           "Arlindo Chinaglia",
           "PT",
           " dispoe sobre a suspensao das visitas no sistema prisional e a<br> realizacao de testes para deteccao da covid19 em toda a populacao<br> presidiaria a ser realizada e monitorada pelos servicos de saude componentes<br> do sus"
          ],
          [
           "José Guimarães",
           "PT",
           " veda a interrupcao de servicos publicos por inadimplemento de usuarios durante<br> situacao emergencial decorrente do surto do novo coronavirus declarada por autoridades<br> competentes dos entes federativos mediante alteracao da lei no 13 979<br> de 6 de fevereiro de 2020 e da outras providencias"
          ],
          [
           "Marília Arraes",
           "PT",
           " determina a licenca de trabalhadores incluidos nos grupos de risco do<br> covid19 gravidas e puerperas em virtude do estado de calamidade publica<br> reconhecido pelo decreto legislativo no 6 de 2020"
          ],
          [
           "Professora Rosa Neide - PT/MT ,  Maria do Rosário - PT/RS ,  Nilto Tatto - PT/SP ,  Enio Verri - PT/PR ,  Alencar Santana Braga - PT/SP ,  José Guimarães - PT/CE ,  Margarida Salomão - PT/MG ,  Waldenor Pereira - PT/BA ,  Danilo Cabral - PSB/PE ,  Lídice da Mata - PSB/BA ,  Alexandre Padilha",
           "PT",
           " dispoe sobre a execucao do programa nacional de assistencia estudantil pnaes<br> em caso de pandemias doencas infectocontagiosas ou outras situacoes graves ou<br> emergenciais"
          ],
          [
           "Miguel Lombardi",
           "PL",
           " dispoe sobre o repasse de forma extraordinaria dos recursos destinados ao<br> fundo especial de financiamento de campanha fefc no exercicio de 2020<br> para o enfrentamento da epidemia de coronavirus disease 2019 covid19 e<br> da outras providencias"
          ],
          [
           "Jose Mario Schreiner",
           "DEM",
           " dispoe sobre incentivos fiscais para doacoes a entidades publicas ou privadas<br> sem fins lucrativos da area da saude que atuem no combate<br> a epidemia de coronavirus covid19"
          ],
          [
           "Rubens Otoni",
           "PT",
           " altera dispositivos na lei ndeg 8080 de 19 de setembro de<br> 1990 para dispor sobre o atendimento domiciliar no ambito do sus<br> nos casos de isolamento social"
          ],
          [
           "Cássio Andrade",
           "PSB",
           " altera lei n 13 979 de 6 de fevereiro de 2020<br> para destinar ao fundo nacional de saude percentuais destinados para o<br> pagamento de premios das loterias federais que especifica para fins de<br> financiamento das medidas para enfrentamento da emergencia de saude publica de<br> importancia internacional decorrente da pandemia provocada pelo coronavirus covid19"
          ],
          [
           "José Airton Félix Cirilo",
           "PT",
           " dispoe sobre a reducao em 50 do valor do botijao de<br> gas para familias de baixa renda desempregados micro e pequenas empresas<br> hospitais publicos e instituicoes de saude filantropicas durante o estado de<br> emergencia sanitaria em decorrencia da pandemia causada pelo covid19 coronavirus"
          ],
          [
           "Ted Conti",
           "PSB",
           " altera a lei n 13 979 de 6 de fevereiro de<br> 2020 para fixar em cem por cento o desconto aplicavel aos<br> usuarios de baixa renda dos servicos de distribuicao de energia eletrica<br> e de abastecimento de agua e esgotamento sanitario e proibe a<br> suspensao do fornecimento desses servicos por inadimplemento dos usuarios residenciais enquanto<br> persistir a situacao emergencial decorrente da covid19"
          ],
          [
           "Rosana Valle",
           "PSB",
           " permite o saque emergencial de valores do fundo de garantia por<br> tempo de servico causada pelo coronavirus covid19"
          ],
          [
           "Major Fabiana",
           "PSL",
           " dispoe sobre a realizacao de teste rapido para deteccao do covid19<br> nas autoridades e agentes descritos no art 144 da constituicao federal<br>"
          ],
          [
           "Patricia Ferraz",
           "PODE",
           " dispoe sobre a necessidade de reducao proporcional das mensalidades da rede<br> privada de ensino durante o plano de contingencia do novo coronavirus<br> emergencia em saude publica decreto de calamidade publica em ambito nacional<br>"
          ],
          [
           "Cássio Andrade",
           "PSB",
           " altera a lei no 13 979 de 6 de fevereiro de<br> 2020 para destinar ao fundo nacional de saude percentuais destinados para<br> o pagamento de premios das loterias federais que especifica para fins<br> de financiamento das medidas para enfrentamento da emergencia de saude publica<br> de importancia internacional decorrente da pandemia provocada pelo coronavirus covid19"
          ],
          [
           "Celso Sabino",
           "PSDB",
           " dispoe sobre a suspensao de procedimentos administrativos instaurados ou que venham<br> a ser instaurados para a apuracao de irregularidades administrativas na concessao<br> manutencao ou revisao de beneficios financeiros da assistencia social durante o<br> prazo de vigencia do estado de calamidade publica reconhecida pelo decreto<br> legislativo no 6 de 2020 em razao do enfrentamento da emergencia<br> de saude publica de importancia internacional decorrente do coronavirus covid19 e<br> da outras providencias"
          ],
          [
           "Jaqueline Cassol",
           "PP",
           " isenta temporariamente o pagamento da tarifa social de energia eletrica criada<br> pela lei no 10 438 de 26 de abril de 2002<br> em decorrencia da pandemia covid19"
          ],
          [
           "Aliel Machado",
           "PSB",
           " dispoe sobre a isencao do pagamento da taxa de pedagio em<br> rodovias federais enquanto perdurar a declaracao de pandemia do coronavirus pela<br> organizacao mundial de saude aos profissionais de transporte de alimentos combustiveis<br> e medicamentos e da outras providencias"
          ],
          [
           "Ted Conti",
           "PSB",
           " acrescenta dispositivo a lei n 13 979 de 6 de janeiro<br> de 2020 que dispoe sobre as medidas para o enfrentamento da<br> emergencia de saude publica de importancia internacional decorrente do coronavirus responsavel<br> pelo surto de 2019 para permitir a movimentacao da conta vinculada<br> do trabalhador afetado por essas medidas no fundo de garantia por<br> tempo de servico fgts"
          ],
          [
           "Carlos Chiodini",
           "MDB",
           " reconhece o estado de necessidade e estrito cumprimento do dever legal<br> para os agentes politicos que distribuirem bens valores ou beneficios para<br> amenizar as consequencias da pandemia do coronavirus covid19 enquanto perdurar o<br> estado de calamidade publica para isentar de crime ou infracao penal<br> eleitoral ou fiscal administrativa"
          ],
          [
           "Capitão Wagner",
           "PROS",
           " altera a lei no 9 656 de 3 de junho de<br> 1998 que dispoe sobre os planos e seguros privados de assistencia<br> a saude para estabelecer a vedacao de reajuste das mensalidades dos<br> planos privados de assistencia a saude enquanto durarem os efeitos do<br> estado de calamidade publica declarado pelo decreto legislativo no 6 de<br> 2020 decorrente da pandemia do coronavirus covid19 e para determinar a<br> vedacao temporaria da suspensao ou rescisao unilateral dos contratos dos planos<br> privados de assistencia a saude pelo prazo de 90 dias"
          ],
          [
           "Charlles Evangelista",
           "PSL",
           " dispoe sobre a suspensao das bandeiras tarifarias nas contas de energia<br> eletrica em casos de pandemia ou estado de calamidade publica instalada<br> no pais"
          ],
          [
           "Luiz Antônio Corrêa",
           "PL",
           " suspende a decretacao ou o cumprimento se tiverem sido decretadas de<br> ordens judiciais de despejo de locatarios de imoveis urbanos locados sob<br> a regencia da lei no 8 245 de 18 de outubro<br> de 1991 por motivo de falta de pagamento de aluguel e<br> demais encargos contratuais e legais devidos enquanto perdurar o estado de<br> calamidade publica reconhecido pelo decreto legislativo no 6 de 20 de<br> marco de 2020 ou de emergencia de saude internacional decorrente do<br> coronavirus responsavel pelo surto de 2019 da doenca covid19 que foi<br> decretada pelo ministro de estado da saude em 3 de fevereiro<br> de 2020 nos termos do disposto na lei no 13 979<br> de 6 de fevereiro de 2020"
          ],
          [
           "Delegado Antônio Furtado",
           "PSL",
           " aumenta as penas aplicaveis aos crimes de violencia domestica e familiar<br> contra a mulher no caso de incidencia da lei no 11<br> 340 de 7 de agosto de 2006 a pena minima e<br> maxima sera o dobro do originalmente previsto enquanto durar o periodo<br> de estado de calamidade decretado em razao do coronavirus covid19"
          ],
          [
           "Célio Studart",
           "PV",
           " insere o art 339a ao decretolei no 2 848 de 7<br> de fevereiro de 1940 tipificando a conduta propagacao de informacoes sabidamente<br> falsas em relacao a epidemias e pandemias que acometam a saude<br> publica nacional"
          ],
          [
           "Mário Negromonte Jr.",
           "PP",
           " cria o fundo nacional de apoio a epidemias e pandemias"
          ],
          [
           "Júnior Bozzella",
           "PSL",
           " dispoe sobre a suspensao temporaria de cobranca pagamento juros e multas<br> incidentes sobre dividas pelo periodo de 90 dias em funcao da<br> pandemia de coronavirus que atingiu o brasil"
          ],
          [
           "Tadeu Alencar",
           "PSB",
           " cria beneficio para os trabalhadores da area das artes e da<br> cultura em virtude da emergencia em saude publica decorrente do coronavirus<br> de que trata a lei no 13 979 de 6 de<br> fevereiro de 2020 e da outras providencias"
          ],
          [
           "Marcelo Ramos",
           "PL",
           " regulamenta o acordo direto para pagamento com desconto ou parcelado de<br> precatorios federais com a destinacao dos descontos obtidos pela uniao ao<br> enfrentamento da situacao de emergencia de saude publica de importancia internacional<br> relacionada ao coronavirus covid19 ou ao pagamento de dividas contraidas pela<br> uniao para fazer frente a tal situacao emergencial"
          ],
          [
           "Paulo Pimenta",
           "PT",
           " determina a prorrogacao do prazo de entrega da declaracao do imposto<br> de renda de pessoa fisica por 60 dias em virtude do<br> estado de calamidade publica decretada pelo congresso nacional em decorrencia da<br> pandemia de coronavirus"
          ],
          [
           "Delegado Waldir",
           "PSL",
           " altera o decretolei no 2 848 de 7 de dezembro de<br> 1940 codigo penal para codigo de processo penal para dispor sobre<br> o aumento da pena nos casos de crimes de furto e<br> roubo praticados durante estado de calamidade por pandemia"
          ],
          [
           "José Guimarães",
           "PT",
           " altera a lei no 7 565 de 19 de dezembro de<br> 1986 codigo brasileiro de aeronautica para dispor sobre a obrigatoriedade de<br> atendimento pelos operadores aeroportuarios de recomendacoes tecnicas expedidas pela agencia nacional<br> de vigilancia sanitaria anvisa e a lei no 13 979 de<br> 6 de fevereiro de 2020 lei coronavirus 2019 para dispor sobre<br> a instalacao de dispositivos para medicao de temperatura depassageiros emaeroportosdomesticos e<br> internacionais"
          ],
          [
           "Eduardo Bismarck",
           "PDT",
           " determina a redefinicao do prazo de entrega do imposto de renda<br> de pessoa fisica em virtude do estado de calamidade publica decretada<br> pelo congresso nacional em decorrencia da pandemia do covid19"
          ],
          [
           "Zeca Dirceu",
           "PT",
           " altera a lei 13 979 de 06 de fevereiro de 2020<br> acrescentando os incisos ix e x ao art 3o da lei<br> 13 979 de 06 de fevereiro de 2020 que dispoe sobre<br> as medidas que poderao ser adotadas para enfrentamento da emergencia de<br> saude publica de importancia internacional decorrente do coronavirus responsavel pelo surto<br> de 2019"
          ],
          [
           "Mauro Nazif - PSB/RO ,  Camilo Capiberibe - PSB/AP ,  Vilson da Fetaemg - PSB/MG ,  Luciano Ducci - PSB/PR ,  Denis Bezerra",
           "PSB",
           " dispoe sobre a adocao de medidas de seguranca sanitarias urgentes relativa<br> ao servico de transporte remunerado de mercadoria em motocicleta motofrete motoboy<br> e ciclistas durante a vigencia da calamidade de saude publica decorrente<br> do coronavirus covid19 e da outras providencias"
          ],
          [
           "André Fufuca",
           "PP",
           " suspende o corte de plano de saude por inadimplencia durante o<br> estado de emergencia de saude publica de importancia nacional espin declarado<br> em razao da pandemia do covid19"
          ],
          [
           "Pedro Augusto Bezerra",
           "PTB",
           " impede temporariamente o aumento da taxa de juros bancarios por um<br> periodo de 90 noventa dias diante do estado de calamidade publica<br> causado pelo coronavirus"
          ],
          [
           "Geninho Zuliani",
           "DEM",
           " institui o dia 16 de marco como o dia da consciencia<br> humanitaria em memoria as vitimas do covid19 em territorio brasileiro e<br> da outras disposicoes"
          ],
          [
           "Diego Andrade",
           "PSD",
           " dispoe sobre isencao condicionada nos termos do codigo tributario nacional no<br> periodo de vigencia da lei no 13 979 de 2020 em<br> razao do enfrentamento da calamidade publica decorrente ao coronavirus"
          ],
          [
           "Kim Kataguiri",
           "DEM",
           " altera o decreto n o 5 452 de 1 de maio<br> de 1934 para ampliar o prazo de pagamento rescisorio em caso<br> de pandemias"
          ],
          [
           "Arlindo Chinaglia",
           "PT",
           " dispoe sobre medidas adicionais para enfrentamento da emergencia de saude publica<br> de importancia internacional decorrente do coronavirus responsavel pelo surto de 2019<br> a fim de proteger populacoes especialmente vulneraveis"
          ],
          [
           "Luis Miranda",
           "DEM",
           " altera a lei no 8 245 de 18 de outubro de<br> 1991 que dispoe sobre as locacoes dos imoveis urbanos e os<br> procedimentos a elas pertinentes enquanto durar as medidas de enfrentamento da<br> emergencia de saude publica decorrente do coronavirus covid19"
          ],
          [
           "Júlio Delgado",
           "PSB",
           " institui a politica tarifaria de energia eletrica aplicada em marco de<br> 2020 as distribuidoras e concessionarias deste setor devido a emergencia em<br> saude publica covid 19"
          ],
          [
           "Sebastião Oliveira",
           "PL",
           " dispoe sobre o adiamento das eleicoes de 2020 com o objetivo<br> de incentivar o enfrentamento a pandemia do coronavirus"
          ],
          [
           "Ricardo Izar",
           "PP",
           " faculta aos locatarios de imoveis comerciais o direito de requerer abatimento<br> no valor da locacao proporcional ao numero de dias em que<br> houver reducao ou interrupcao das atividades comerciais por forca das medidas<br> de isolamento e quarentena previstas na lei no 13 979 de<br> 6 de fevereiro de 2020"
          ],
          [
           "Fernanda Melchionna",
           "PSOL",
           " dispoe sobre os contratos de aluguel residencial e comercial em todo<br> o territorio nacional enquanto perdurarem os efeitos da decretacao de calamidade<br> publica em virtude do coronavirus covid19"
          ],
          [
           "Capitão Augusto",
           "PL",
           " autoriza o poder executivo em carater excepcional a pagar os precatorios<br> de natureza alimentar em especial o previdenciario tendo em vista a<br> crise economica em decorrencia do estado de calamidade publica provocada pelo<br> coronavirus"
          ],
          [
           "Clarissa Garotinho",
           "PROS",
           " obriga as instituicoes de ensino fundamental e medio da rede privada<br> a reduzirem a suas mensalidades em no minimo 30 trinta por<br> cento enquanto persistir a suspensao presencial das aulas em decorrencia da<br> emergencia de saude publica de importancia internacional em decorrencia da infeccao<br> humana pelo coronavirus covid19"
          ],
          [
           "Patricia Ferraz",
           "PODE",
           " dispoe sobre a limitacao da quantidade de produtos e equipamentos de<br> protecao individual e de higiene essenciais ao combate a epidemia de<br> coronavirus que podem ser adquiridos individualmente"
          ],
          [
           "José Ricardo - PT/AM ,  Carlos Veras",
           "PT",
           " dispoe sobre o pagamento do adicional de insalubridade no percentual de<br> 40 a todo trabalhador da saude cujas instituicoes em que trabalham<br> estejam vinculadas ao atendimento de pacientes infectados pelo covid19 coronavirus"
          ],
          [
           "Adriana Ventura - NOVO/SP ,  Pr. Marco Feliciano - PODE/SP ,  Vinicius Poit - NOVO/SP ,  Patricia Ferraz - PODE/AP ,  Evair Vieira de Melo - PP/ES ,  Diego Garcia - PODE/PR ,  Carmen Zanotto - CIDADANIA/SC ,  Dr. Zacharias Calil - DEM/GO ,  Dra. Soraya Manato - PSL/ES ,  Hiran Gonçalves - PP/RR ,  Helder Salomão - PT/ES ,  Alexandre Padilha - PT/SP ,  Rodrigo Agostinho - PSB/SP ,  Jorge Solla - PT/BA ,  David Soares - DEM/SP ,  Mariana Carvalho",
           "PSDB",
           " dispoe sobre o uso da telemedicina durante a crise causada pelo<br> coronavirus 2019ncov"
          ],
          [
           "Talíria Petrone - PSOL/RJ ,  Margarida Salomão",
           "PT",
           " suspende por 120 dias a exigibilidade de tributos federais no periodo<br> de surto do novo coronavirus covid19 para as instituicoes de ensino<br> privadas que se abstiverem de aplicar as mensalidades multa juros e<br> outras sancoes dentre outras providencias"
          ],
          [
           "Alexandre Frota",
           "PSDB",
           " impede a cobranca de multa por quebra de fidelidade contratual junto<br> as prestadoras de sevico de telefonia fixa movel e tv enquanto<br> durar qualquer pandemia declarada pela organizacao mundial da saude oms"
          ],
          [
           "Benedita da Silva - PT/RJ ,  Joenia Wapichana - REDE/RR ,  Marília Arraes - PT/PE ,  David Miranda - PSOL/RJ ,  Edmilson Rodrigues - PSOL/PA ,  Natália Bonavides - PT/RN ,  Fernanda Melchionna - PSOL/RS ,  Airton Faleiro - PT/PA ,  Lídice da Mata - PSB/BA ,  Paulo Teixeira - PT/SP ,  Marcelo Freixo - PSOL/RJ ,  Túlio Gadêlha - PDT/PE ,  Margarida Salomão - PT/MG ,  Sâmia Bomfim - PSOL/SP ,  Luiza Erundina - PSOL/SP ,  Alexandre Padilha - PT/SP ,  Talíria Petrone - PSOL/RJ ,  Carlos Veras - PT/PE ,  Chico D'Angelo - PDT/RJ ,  Gleisi Hoffmann - PT/PR ,  Erika Kokay - PT/DF ,  Alexandre Frota",
           "PSDB",
           " dispoe sobre acoes emergenciais destinadas ao setor cultural enquanto as medidas<br> de isolamento ou quarentena estiverem vigentes de acordo com a lei<br> no 13 979 de 6 de fevereiro de 2020"
          ],
          [
           "Sanderson - PSL/RS ,  Dr. Jaziel",
           "PL",
           " veda as concessoes de liberdade provisoria ou de prisao domiciliar aos<br> presos ou aos internados recolhidos aos estabelecimentos penais ou socioeducativos motivadas<br> pela pandemia do coronavirus covid19 no brasil"
          ],
          [
           "Fábio Trad",
           "PSD",
           " autoriza durante o periodo de estado de calamidade publica decorrente da<br> pandemia do coronavirus que seja deduzido do imposto de renda devido<br> por pessoas fisicas e juridicas as doacoes a fundos estaduais de<br> saude ou a hospitais universitarios estaduais ou federais que organizem campanha<br> de arrecadacao para combate a covid19"
          ],
          [
           "Carmen Zanotto - CIDADANIA/SC ,  Mariana Carvalho - PSDB/RO ,  Jorge Solla - PT/BA ,  Rodrigo Coelho",
           "PSB",
           " altera a lei 13 979 de 2020 para dispor sobre a<br> obrigatoriedade da notificacao compulsoria e imediata dos diagnosticos de casos de<br> sindrome respiratoria aguda assim como dos casos suspeitos e confirmados da<br> covid19"
          ],
          [
           "Pedro Westphalen - PP/RS ,  Carmen Zanotto - CIDADANIA/SC ,  Jorge Solla - PT/BA ,  Mariana Carvalho",
           "PSDB",
           " da nova redacao ao art 3o da lei no 13 979<br> de 6 de fevereiro de 2020 e estabelece providencias de saude<br> publica para o combate a pandemia do coronavirus"
          ],
          [
           "Celso Sabino",
           "PSDB",
           " dispoe sobre a proibicao de inscricao do nome do consumidor no<br> spc e serasa durante periodo de calamidade publica decretada pelo governo<br> federal em razao da pandemia do covid19"
          ],
          [
           "Paulo Teixeira",
           "PT",
           " dispoe sobre a suspensao de pagamentos de luz agua e gas<br> durante o periodo da pandemia do covid19"
          ],
          [
           "Felipe Rigoni - PSB/ES ,  Tereza Nelma - PSDB/AL ,  Orlando Silva - PCdoB/SP ,  Mariana Carvalho - PSDB/RO ,  Tabata Amaral - PDT/SP ,  Professor Israel Batista - PV/DF ,  Mauro Benevides ,  Flávia Arruda",
           "PL",
           " dispoe na lei no 10 260 de 12 de julho de<br> 2001 sobre a suspensao temporaria de contagem de prazos e de<br> pagamentos de obrigacoes financeiras do fundo de financiamento estudantil fies durante<br> a decretacao de calamidade sanitaria destinada ao combate da pandemia do<br> novo coronavirus covid19"
          ],
          [
           "Chiquinho Brazão",
           "AVANTE",
           " propoe medidas para o enfrentamento das consequencias sociais e economicas decorrentes<br> da pandemia do coronavirus"
          ],
          [
           "Fábio Ramalho",
           "MDB",
           " cancela as eleicoes de 04 de outubro de 2020 diante da<br> pandemia do covid19 e altera a lei 9 504_97 de 30<br> de setembro de 1997 lei das eleicoes com o fim de<br> promover a unificacao das eleicoes municipais e gerais"
          ],
          [
           "Acácio Favacho - PROS/AP ,  Clarissa Garotinho - PROS/RJ ,  Toninho Wandscheer",
           "PROS",
           " altera a lei no 13 979 de 2020 a fim de<br> autorizar que os estados e municipios utilizem os recursos relativos ao<br> leilao dos barris de petroleo excedentes para o pagamento de despesas<br> com medidas emergenciais decorrentes da pandemia do covid19"
          ],
          [
           "Dagoberto Nogueira",
           "PDT",
           " dispoe sobre a suspensao do pagamento da divida publica interna e<br> externa durante o estado de calamidade publica decorrente da situacao de<br> emergencia relacionada ao coronavirus covid19"
          ],
          [
           "Carlos Chiodini",
           "MDB",
           " altera os arts 6o e 39 da lei no 8 078<br> de 11 de setembro de 1990 que dispoe sobre a protecao<br> do consumidor e da outras providencias para disciplinar o direito basico<br> do consumidor a protecao a vida saude e seguranca em caso<br> de pandemias e tornar abusiva a cobranca de taxas em virtude<br> da alteracao dos servicos em situacoes de epidemias"
          ],
          [
           "André Janones",
           "AVANTE",
           " suspende pelo periodo de distanciamento social e_ou quarentena em razao da<br> pandemia do covid19 o corte de agua luz telefone e da<br> outras providencias"
          ],
          [
           "João Daniel - PT/SE ,  Margarida Salomão",
           "PT",
           " preve a anistia das parcelas de financiamentos do programa minha casa<br> minha pmcmv em caso de pandemia reconhecida pela organizacao mundial de<br> saude oms"
          ],
          [
           "Dra. Soraya Manato - PSL/ES ,  Jorge Solla - PT/BA ,  Rodrigo Coelho - PSB/SC ,  Carmen Zanotto",
           "CIDADANIA",
           " dispoe na lei no 10 260 de 12 de julho de<br> 2001 sobre a suspensao de pagamentos de obrigacoes financeiras de beneficiarios<br> do fies por 60 sessenta dias a contar do comeco da<br> emergencia sanitaria decretada em resposta a crise do novo coronavirus covid19<br>"
          ],
          [
           "Reginaldo Lopes",
           "PT",
           " autoriza o poder executivo a conceder emprestimo atraves do bndes a<br> juros zero a hospitais sem fins lucrativos sus para amortizar 100<br> das dividas de emprestimos com outros bancos para que possam substituir<br> as dividas com cobranca de juros por dividas a juros zero<br> com o intuito de ajudar os hospitais sem fins lucrativos sus<br> no tratamento da covid19"
          ],
          [
           "JHC",
           "PSB",
           " acrescenta o artigo 6oc a lei 10 820_2003 para suspender as<br> parcelas dos emprestimos feitos com base naquela lei enquanto durar o<br> estado de calamidade publica reconhecido pelo decreto legislativo no 6 de<br> 20 de marco de 2020 e da emergencia de saude publica<br> de importancia internacional decorrente do coronavirus covid19 decretada pelo ministro de<br> estado da saude em 3 de fevereiro de 2020 nos termos<br> do disposto na lei no 13 979 de 6 de fevereiro<br> de 2020"
          ],
          [
           "Rogério Correia",
           "PT",
           " estabelece criterios de distribuicao e comercializacao do gas de cozinha para<br> a populacao de baixa renda enquanto vigorar o estado de calamidade<br> publica reconhecido pelo decreto legislativo no 6 de 20 de marco<br> de 2020 em decorrencia da pandemia do covid19"
          ],
          [
           "Marília Arraes",
           "PT",
           " institui o salario minimo emergencial sme em virtude dos efeitos economicos<br> gerados pela pandemia de covid19"
          ],
          [
           "Talíria Petrone",
           "PSOL",
           " determina multa a empresas que realizem demissoes e suspensao de contratos<br> e_ou cortes de salarios durante o surto de coronavirus"
          ],
          [
           "Mauro Nazif - PSB/RO ,  JHC",
           "PSB",
           " suspende temporariamente a cobranca de pedagio do transporte de cargas nas<br> rodovias federais durante a vigencia da calamidade de saude publica decorrente<br> do coronavirus covid19"
          ],
          [
           "Carlos Chiodini",
           "MDB",
           " dispoe sobre a suspensao temporaria de cobranca de pedagio em casos<br> de calamidade publica e quarentena nos moldes da lei 13 979<br> de 06 de fevereiro de 2020"
          ],
          [
           "Kim Kataguiri",
           "DEM",
           " institui a isencao tributaria para aplicativos de transporte e entrega em<br> casos de pandemia"
          ],
          [
           "Arlindo Chinaglia",
           "PT",
           " concede aos usuarios residenciais de baixa renda dos servicos publicos de<br> abastecimento de agua potavel e esgotamento sanitario e de distribuicao de<br> energia eletrica a opcao pelo diferimento do pagamento dos debitos correspondentes<br> as faturas vencidas ou a vencer no periodo de situacao emergencial<br> de saude publica causada pela pandemia do virus covid19 e da<br> outras providencias"
          ],
          [
           "Clarissa Garotinho - PROS/RJ ,  Patricia Ferraz",
           "PODE",
           " altera a lei no 13 979 de 6 de fevereiro de<br> 2020 com o intuito de suspender a cobranca de emprestimos consignados<br> enquanto persistir a emergencia de saude publica de importancia internacional em<br> decorrencia da infeccao humana pelo coronavirus covid19"
          ],
          [
           "Kim Kataguiri",
           "DEM",
           " modifica o decreto n o 2 655 de 1998 para determinar<br> a suspensao da cobranca de energia eletrica em periodos de pandemia<br>"
          ],
          [
           "José Guimarães",
           "PT",
           " acrescenta os SSSS 7ob e 7oc ao art 3o da lei<br> no 13 979 de 6 de fevereiro de 2020 que dispoe<br> sobre as medidas para enfrentamento da emergencia de saude publica de<br> importancia internacional decorrente do coronavirus responsavel pelo surto de 2019"
          ],
          [
           "Flávia Arruda",
           "PL",
           " acrescenta artigo a lei no 13 979 de 6 de fevereiro<br> de 2020 para permitir a extensao do beneficio do seguro desemprego<br> como medida de enfrentamento da emergencia em saude publica decorrente do<br> coronavirus responsavel pelo surto de 2019"
          ],
          [
           "Mário Heringer",
           "PDT",
           " programa de manutencao dos empregos dos trabalhadores das empresas impactadas pela<br> emergencia de saude publica internacional relacionada ao covid19 provid"
          ],
          [
           "Fernando Monteiro",
           "PP",
           " autoriza a utilizacao dos recursos que especifica nas acoes para enfrentamento<br> da emergencia em saude publica decorrente do coronavirus"
          ],
          [
           "Assis Carvalho",
           "PT",
           " dispoe sobre a criacao do fundo emergencial de enfrentamento ao coronavirus<br> covid19 enquanto perdurar a situacao de calamidade publica"
          ],
          [
           "Arnaldo Jardim",
           "CIDADANIA",
           " altera a lei no 13 979 de 6 de fevereiro de<br> 2020 para garantir a seguranca alimentar por meio de estimulo a<br> doacao de alimentos in natura industrializados ou preparados durante o periodo<br> da emergencia de saude publica de importancia internacional decorrente do coronavirus<br>"
          ],
          [
           "Patricia Ferraz",
           "PODE",
           " dispoe em carater excepcional e temporario sobre as acoes de teleodontologia<br> com o objetivo de operacionalizar as medidas de enfrentamento da emergencia<br> de saude publica de importancia internacional decorrentes da epidemia de covid19<br>"
          ],
          [
           "Alexandre Frota",
           "PSDB",
           " altera a lei no 7 565 de 19 de dezembro 1986<br> para vedar cobranca de taxas multas ou afins nos casos de<br> cancelamento de passagens aereas ou terrestres em epoca de pandemias decretas<br> pela organizacao mundial da saude oms"
          ],
          [
           "José Ricardo",
           "PT",
           " altera a lei no 13 979 de 2020 para assegurar na<br> forma que disciplina auxilio financeiro basico emergencial temporario aos trabalhadores atingidos<br> pelo impacto da pandemia do coronavirus na economia brasileira"
          ],
          [
           "Joice Hasselmann",
           "PSL",
           " restringe o conteudo da publicidade institucional dos poderes executivo e legislativo<br> da uniao dos estados do distrito federal e dos municipios a<br> que se refere a lei n 12 232_2010 e o uso<br> dos servicos de radiodifusao publica explorados pelo poder executivo da uniao<br> ou outorgados a entidades de sua administracao indireta de que cuida<br> a lei n 11 652_2008 exclusivamente ao anuncio de materias relacionadas<br> ao enfrentamento da pandemia do covid19 pelo periodo de quatro meses<br>"
          ],
          [
           "Emanuel Pinheiro Neto",
           "PTB",
           " ficam as instituicoes de ensino superior da rede privada que optaram<br> pelo ensino a distancia ead ou por video conferencia obrigadas a<br> reduzirem as suas mensalidades em 20 vinte por cento mediante formulario<br> de requisicao do estudante ou seu representante legal durante o periodo<br> que durar o plano de contingencia nacional para infeccao humana pelo<br> novo coronavirus causador da covid19"
          ],
          [
           "Natália Bonavides",
           "PT",
           " dispoe sobre medidas de protecao ao emprego durante situacao de pandemia<br>"
          ],
          [
           "José Airton Félix Cirilo",
           "PT",
           " dispoe sobre medidas emergenciais de amparo aos pescadores aquicultores e marisqueiras<br> do brasil para mitigar os impactos socioeconomicos da pandemia do covid<br> 19 durante o periodo de vigor do estrado de calamidade publica<br> no pais e da outras providencias"
          ],
          [
           "Mauro Nazif - PSB/RO ,  Ted Conti - PSB/ES ,  Luciano Ducci - PSB/PR ,  Lídice da Mata",
           "PSB",
           " institui gratificacao extraordinaria aos agentes comunitarios de saude e agentes de<br> combate as endemias durante a vigencia da calamidade de saude publica<br> decorrente do coronavirus covid19 e da outras disposicoes"
          ],
          [
           "Domingos Neto",
           "PSD",
           " dispoe sobre a suspensao do pagamento das parcelas do fundo de<br> financiamento estudantil fies enquanto perdurar a paralisacao de atividades letivas decorrente<br> da pandemia do novo coronavirus covid19 e da outras providencias"
          ],
          [
           "Capitão Augusto",
           "PL",
           " altera a lei no 6259 de 30 de outubro de 2020<br> que dispoe de vigilancia epidemiologica sobre o programa nacional de imunizacoes<br> estabelece normas relativas a notificacao compulsoria de doencas e da outras<br> providencias para garantir o acesso gratuito a equipamentos de protecao individual<br> a vacinas e a exames de deteccao a todos os profissionais<br> de seguranca publica previstos no art 144 da constituicao federal durante<br> o periodo de pandemia do virus covid19corona virus"
          ],
          [
           "Darci de Matos",
           "PSD",
           " dispoe sobre a compensacao de dias parados por razao da epidemia<br> do coronavirus em finais de semana e feriados"
          ],
          [
           "Delegado Marcelo Freitas",
           "PSL",
           " determina a reducao de valores de alugueis de imoveis comerciais que<br> estejam fechados em razao do isolamento social e consequente suspensao de<br> atividades comerciais determinada pelo poder publico em face da pandemia da<br> covid19 coronavirus"
          ],
          [
           "Luizianne Lins",
           "PT",
           " altera a lei 13 979 de 06 de fevereiro de 2020<br> acrescentando dispositivo para garantir a continuidade dos servicos de agua energia<br> eletrica gas e esgoto durante todo o periodo de emergencia de<br> saude publica para as pessoas em situacao de isolamento e quarentena<br>"
          ],
          [
           "Dr. Zacharias Calil",
           "DEM",
           " determina que em caso de declaracao de epidemia pandemia ou surtos<br> provocados por doencas contagiosas ou que tenha sido declarado estado de<br> calamidade publica sejam tomadas medidas imediatas que garantam a saude e<br> preservacao da vida de todos profissionais considerados essenciais ao controle de<br> doencas e manutencao da ordem publica"
          ],
          [
           "Carlos Sampaio",
           "PSDB",
           " preve como medidas alternativas a dissolucao de contratos de locacao de<br> imovel nao residencial urbano na constancia do estado de calamidade publica<br> reconhecido pelo congresso nacional em decorrencia da pandemia internacional ocasionada pela<br> infeccao humana pelo coronavirus sarscov2 covid19 a possibilidade de reducao do<br> valor dos respectivos alugueis em cinquenta por cento ou alternativamente a<br> possibilidade de que os alugueis deixem de ser cobrados pelo prazo<br> minimo de tres meses"
          ],
          [
           "Professor Israel Batista",
           "PV",
           " institui medidas de protecao ao emprego e ao empregado durante periodo<br> de emergencia de saude publica de importancia internacional relacionada ao coronavirus<br> covid19"
          ],
          [
           "Rejane Dias",
           "PT",
           " altera a lei n deg 9 250 de 26 de dezembro<br> de 1995 para isentar do pagamento do imposto de renda os<br> trabalhadores envolvidos no enfrentamento ao coronavirus covid 19 e em outras<br> situacoes de calamidade publica decretados pelo governo federal e da outras<br> providencias"
          ],
          [
           "José Guimarães",
           "PT",
           " dispoe sobre a concessao de abatimento do saldo devedor a beneficiarios<br> do fies que trabalhem como medicos no sistema unico de saude<br> sus durante o periodo de vigencia da emergencia sanitaria decorrente da<br> pandemia do novo coronavirus covid19"
          ],
          [
           "Celso Sabino",
           "PSDB",
           " altera a lei n 13 979 de 6 de fevereiro de<br> 2020 para autorizar a pratica da telemedicina veterinaria durante o estado<br> de calamidade publica em decorrencia da covid19"
          ],
          [
           "Sanderson - PSL/RS ,  Bibo Nunes",
           "PSL",
           " altera a lei no 13 487 de 6 de outubro de<br> 2017 para destinar os recursos do fundo especial de financiamento de<br> campanha fefc para o combate controle e prevencao do agente viral<br> ncov2019 da familia coronavirus"
          ],
          [
           "Efraim Filho - DEM/PB ,  Arthur Lira - PP/AL ,  Fred Costa - PATRIOTA/MG ,  Joice Hasselmann - PSL/SP ,  Enrico Misasi - PV/SP ,  Enio Verri - PT/PR ,  Luis Tibé - AVANTE/MG ,  Diego Andrade - PSD/MG ,  Léo Moraes - PODE/RO ,  José Guimarães - PT/CE ,  Pedro Lucas Fernandes - PTB/MA ,  Perpétua Almeida - PCdoB/AC ,  Carlos Sampaio - PSDB/SP ,  André Figueiredo",
           "PDT",
           " garante piso de transferencia de recursos do fpe e fpm devido<br> aos efeitos financeiros provocados pela pandemia do coronavirus covid19"
          ],
          [
           "Marcelo Freixo - PSOL/RJ ,  Túlio Gadêlha",
           "PDT",
           " institui medidas temporarias sobre despejo locacao e pagamentos em geral enquanto<br> durar as medidas de isolamento ou quarentena prevista na lei ndeg<br> 13 979 de 6 de fevereiro de 2020 na forma que<br> menciona"
          ],
          [
           "Talíria Petrone - PSOL/RJ ,  Fernanda Melchionna - PSOL/RS ,  Sâmia Bomfim - PSOL/SP ,  Alessandro Molon - PSB/RJ ,  José Guimarães - PT/CE ,  Enio Verri - PT/PR ,  Joenia Wapichana - REDE/RR ,  Luiza Erundina - PSOL/SP ,  Professora Dorinha Seabra Rezende - DEM/TO ,  Perpétua Almeida - PCdoB/AC ,  Wolney Queiroz",
           "PDT",
           " altera a lei 10 714_2003 com o objetivo de ampliar a<br> divulgacao do disque 180 enquanto durar a pandemia do covid19 novo<br> coronavirus"
          ],
          [
           "João H. Campos",
           "PSB",
           " dispoe sobre acoes medidas e diretrizes acerca do enfrentamento ao coronavirus<br> covid19 no intuito de adequar o auxilio doenca para os casos<br> de coronavirus"
          ],
          [
           "Marcelo Calero",
           "CIDADANIA",
           " determina que as instituicoes financeiras e demais instituicoes autorizadas a funcionar<br> pelo banco central do brasil suspendam durante noventa dias contados a<br> partir de 20_3_2020 a cobranca das obrigacoes devidas em 20_3_2020 e<br> durante o periodo da suspensao relacionadas com faturas de cartao de<br> credito e cheque especial mantidos os limites entao existentes e incida<br> apenas a taxa selic durante o periodo de suspensao ao final<br> do qual o saldo devedor resultante seja parcelado em doze vezes<br> como medida extraordinaria em razao do enfrentamento da crise do covid19<br>"
          ],
          [
           "Natália Bonavides",
           "PT",
           " dispoe sobre a criacao de beneficios financeiros no ambito do programa<br> bolsa familia devidos durante a suspensao das atividades escolares provocada pela<br> pandemia do virus covid19"
          ],
          [
           "David Soares",
           "DEM",
           " concede isencao fiscal anistia e remissao aos microempreendedores individuais meis micro<br> e pequenas empresas enquanto declarado o estado de calamidade publica no<br> pais em decorrencia da pandemia do novo coronavirus covid19"
          ],
          [
           "Vavá Martins",
           "REPUBLIC",
           " proibe a cobranca de juros e multa por atraso de pagamento<br> em servicos essenciais durante a decretacao de estado de calamidade publica<br> em virtude da covid19 bem como veda a inscricao em cadastros<br> negativos de servicos de protecao de credito"
          ],
          [
           "Gervásio Maia",
           "PSB",
           " proibe por 120 cento e vinte dias interrupcao de servicos considerados<br> essenciais por motivo de inadimplencia em decorrencia da calamidade publica ocasionada<br> pela pandemia do coronavirus covid19 e da outras providencias"
          ],
          [
           "José Guimarães",
           "PT",
           " dispoe sobre a concessao de abatimento do saldo devedor a beneficiarios<br> do fies que trabalhem como medicos no sistema unico de saude<br> sus durante o periodo de vigencia da emergencia sanitaria decorrente da<br> pandemia do novo coronavirus covid19"
          ],
          [
           "Mauro Nazif - PSB/RO ,  Lídice da Mata - PSB/BA ,  Luciano Ducci - PSB/PR ,  Camilo Capiberibe - PSB/AP ,  Vilson da Fetaemg - PSB/MG ,  Danilo Cabral",
           "PSB",
           " institui gratificacao extraordinaria aos servidores da saude durante a vigencia da<br> calamidade de saude publica decorrente do coronavirus covid19 e da outras<br> disposicoes"
          ],
          [
           "Vaidon Oliveira",
           "PROS",
           " dispoe sobre a obrigacao das instituicoes de ensino superior colegios particulares<br> e demais cursos tecnicos a aplicarem o desconto no valor das<br> mensalidades de um curso presencial no periodo de combate ao coronavirus<br> covid19"
          ],
          [
           "Kim Kataguiri",
           "DEM",
           " institui a o sistema bancario eletronico 24 horas em casos de<br> pandemias"
          ],
          [
           "José Guimarães",
           "PT",
           " institui o programa emergencial de protecao ao emprego e as empresas<br> em decorrencia do estado de emergencia internacional pelo novo coronavirus identificado<br> como sarscov2 com o objetivo de garantir a protecao ao emprego<br> e cria a linha de garantia de capital de giro e<br> emprego lgcge a fim de assegurar condicoes de enfrentamento da crise<br> financeira e queda abrupta do nivel de atividade economica no curso<br> de estado de calamidade publica reconhecido pelo decreto legislativo no 6<br> de 20 de marco de 2020"
          ],
          [
           "André Janones",
           "AVANTE",
           " altera a lei no 13 103 de 2 de marco de<br> 2015 para prever a isencao da cobranca de pedagio para os<br> veiculos de transporte de cargas em todo territorio nacional durante o<br> periodo de distanciamento social e_ou quarentena em razao da pandemia do<br> covid19 e da outras providencias"
          ],
          [
           "Clarissa Garotinho",
           "PROS",
           " altera a lei no 13 979 de 6 de fevereiro de<br> 2020 com o objetivo de suspender o reajuste de medicamentos no<br> brasil enquanto persistir a emergencia de saude publica de importancia internacional<br> em decorrencia da infeccao humana pelo coronavirus covid19"
          ],
          [
           "Luis Miranda",
           "DEM",
           " altera a lei no 8 036 de 11 de maio de<br> 1990 para dispor sobre a possibilidade de movimentacao da conta vinculada<br> do fgts enquanto durar as medidas de enfrentamento da emergencia de<br> saude publica decorrente do coronavirus covid19"
          ],
          [
           "Filipe Barros",
           "PSL",
           " permite que dividas de empresas com governos municipal estadual e federal<br> oriundas do periodo de calamidade publica devido ao combate a pandemia<br> do virus covid19 nao possam resultar na inscricao dessas empresas no<br> cadastro de devedores"
          ],
          [
           "Kim Kataguiri",
           "DEM",
           " altera a lei no 5 991 de 17 de dezembro de<br> 1973 que dispoe sobre o controle sanitario do comercio de drogas<br> medicamentos insumos farmaceuticos e correlatos para definir que a receita de<br> medicamentos tera validade por prazo indeterminado enquanto perdurar surtos de pandemia<br> e da outras providencias"
          ],
          [
           "Joice Hasselmann",
           "PSL",
           " estabelece medidas temporarias de amparo e fomento aos micro e pequenos<br> empresarios durante a pandemia do coronavirus covid19"
          ],
          [
           "Pedro Lucas Fernandes",
           "PTB",
           " altera a lei no 13 979 de 6 de fevereiro de<br> 2020 para dispor sobre a obrigatoriedade do uso de mascaras de<br> protecao para circulacao em locais publicos as penas previstas uso das<br> forcas de seguranca publicas medidas administrativas e o cometimento de infracao<br> da ordem economica durante as medidas para enfrentamento da emergencia de<br> saude publico de importancia internacional decorrente do coronavirus responsavel pelo surto<br> de 2019"
          ],
          [
           "Felipe Carreras",
           "PSB",
           " estabelece medidas excepcionais de de protecao social a serem adotadas durante<br> o periodo de enfrentamento da emergencia de saude publica decorrente do<br> cornavirus covid19 pelo surto de 2019"
          ],
          [
           "Amaro Neto",
           "REPUBLIC",
           " dispoe sobre a proibicao do corte de energia eletrica agua servicos<br> de telefonia e internet as familias que se encaixam na lei<br> no 10 836 de 9 de janeiro de 2004 enquanto durar<br> o estado de calamidade publica reconhecido pelo decreto legislativo no 6<br> de 20 de marco de 2020 e da emergencia de saude<br> publica de importancia internacional decorrente do coronavirus covid19"
          ],
          [
           "Rejane Dias",
           "PT",
           " destina recursos provenientes de aplicacoes de multas e delacoes premiadas para<br> a aquisicao de produtos e equipamentos medicos para o combate ao<br> coronavirus"
          ],
          [
           "Christino Aureo",
           "PP",
           " altera a consolidacao das leis do trabalho decretolei no 5 452<br> de 1o de maio de 1943 para acrescentar a possibilidade de<br> suspensao do contrato de trabalho e de reducao da jornada e<br> de salario pelos empregadores durante o periodo de enfrentamento do estado<br> de calamidade publica reconhecido pelo decreto legislativo no 6 de 20<br> de marco de 2020 e da emergencia de saude publica de<br> importancia internacional decorrente do coronavirus covid19 decretada pelo ministro de estado<br> da saude em 3 de fevereiro de 2020 com a finalidade<br> de preservacao de empregos"
          ],
          [
           "Benedita da Silva",
           "PT",
           " dispoe sobre a reducao proporcional e suspensao das obrigacoes das mensalidades<br> na rede privada de ensino superior durante a pandemia do covid19<br>"
          ],
          [
           "Enio Verri",
           "PT",
           " dispoe sobre adocao de medidas temporarias em materia trabalhista em razao<br> da conjuntura que envolve a pandemia relativa ao novo coronavirus e<br> da outras providencias"
          ],
          [
           "Flordelis",
           "PSD",
           " suspende os prazos de validade dos concursos publicos no periodo de<br> vigencia do estado de calamidade publica relacionada ao coronavirus covid 19<br>"
          ],
          [
           "Natália Bonavides",
           "PT",
           " dispoe sobre medidas de protecao ao empregado dispensado durante o periodo<br> de pandemia do virus covid19"
          ],
          [
           "Bibo Nunes",
           "PSL",
           " suspende os prazos de pagamentos dos tributos federais que especifica durante<br> a pandemia do coronavirus covid19"
          ],
          [
           "Gildenemyr",
           "PL",
           " altera a lei n o 9 532 de 1997 a fim<br> de aumentar o limite de deducoes do valor do imposto devido<br> durante o periodo de estado de calamidade publica por pessoas fisicas<br> apurado as doacoes para combate a pandemia do coronavirus"
          ],
          [
           "Capitão Wagner",
           "PROS",
           " institui a loteria da saude como nova modalidade de loteria de<br> prognosticos numericos com destinacao dos recursos do produto de sua arrecadacao<br> para o sistema unico de saude sus e excepcionalmente para as<br> acoes de prevencao contencao combate e mitigacao dos efeitos da pandemia<br> do novo coronavirus covid19 enquanto durarem os efeitos do estado de<br> calamidade publica declarado pelo decretolegislativo no 6 de 2020"
          ],
          [
           "Vilson da Fetaemg - PSB/MG ,  Danilo Cabral - PSB/PE ,  Ted Conti",
           "PSB",
           " dispoe sobre auxilio emergencial financeiro para os agricultores familiares para amenizar<br> os prejuizos da pandemia do covid19 e do estado de calamidade<br> publica reconhecido pelo decreto legislativo n 6 de 20 de marco<br> de 2020 e da outras providencias"
          ],
          [
           "Capitão Alberto Neto",
           "REPUBLIC",
           " altera o decretolei no 2 848 de 7 de dezembro de<br> 1940 codigo penal para estabelecer o aumento de pena em dois<br> tercos para os crimes cometidos durante o periodo de estado de<br> calamidade publica decorrente de epidemia ou pandemia declarada"
          ],
          [
           "Luizão Goulart",
           "REPUBLIC",
           " altera os criterios de percepcao e o numero de parcelas recebidas<br> do segurodesemprego no periodo de decretacao de estado de calamidade em<br> virtude da covid19"
          ],
          [
           "Hélio Leite",
           "DEM",
           " preve a percepcao de adicional de insalubridade em grau maximo previsto<br> no art 192 da consolidacao das leis do trabalho clt para<br> categorias que especifica durante o estado de calamidade publica provocado pela<br> pandemia do coronavirus covid19"
          ],
          [
           "Jorge Solla - PT/BA ,  Patricia Ferraz - PODE/AP ,  Dr. Zacharias Calil - DEM/GO ,  Dra. Soraya Manato - PSL/ES ,  Hiran Gonçalves - PP/RR ,  Carmen Zanotto - CIDADANIA/SC ,  Mariana Carvalho - PSDB/RO ,  Alexandre Padilha - PT/SP ,  Alexandre Serfiotis",
           "PSD",
           " dispoe sobre a isencao total de impostos nos itens que especifica<br> durante o estado de emergencia sanitaria em decorrencia da pandemia causada<br> pelo novo coronavirus"
          ],
          [
           "Wladimir Garotinho",
           "PSD",
           " altera a lei ndeg 7 713 de 22 de dezembro de<br> 1988 para conceder isencao de imposto de renda da pessoa fisica<br> no ano de 2020 aos medicos e demais profissionais da area<br> da saude que estao na linha de frente do combate a<br> pandemia do covid19"
          ],
          [
           "Celina Leão",
           "PP",
           " dispoe sobre a destinacao dos valores referentes ao produto ou proveito<br> decorrentes de crimes diversos para o combate e prevencao da pandemia<br> covid19 e da outras providencias"
          ],
          [
           "Eduardo Costa",
           "PTB",
           " dispoe sobre medidas de intervencao na propriedade e atuacao no dominio<br> economico para assegurar o fornecimento de bens e servicos essenciais durante<br> a emergencia de saude publica de importancia internacional decorrente do coronavirus<br> responsavel pelo surto de 2019"
          ],
          [
           "Clarissa Garotinho",
           "PROS",
           " altera a lei no 9 504 de 30 de setembro de<br> 1997 lei das eleicoes para em casos de declaracao de pandemia<br> pela organizacao mundial da saude oms autorizar o poder executivo a<br> destinar todos os recursos do fundo especial de financiamento de campanhas<br> de acoes voltadas ao enfrentamento da crise na saude publica e<br> na saude"
          ],
          [
           "Célio Silveira",
           "PSDB",
           " dispoe sobre a isencao de cobranca de pedagio rodoviario para os<br> veiculos de transporte de carga profissionais de saude e da seguranca<br> publica em todo territorio nacional durante 90 dias ou enquanto perdurar<br> a pandemia do covid19"
          ],
          [
           "Filipe Barros",
           "PSL",
           " dispoe sobre o aumento em dobro das penas dos crimes relacionados<br> ao saque fraudulento de beneficios previdenciarios e do beneficio assistencial durante<br> o periodo de calamidade publica causada pela pandemia de coronavirus"
          ],
          [
           "André Figueiredo",
           "PDT",
           " dispoe sobre a suspensao das prestacoes decorrentes de contratos de financiamento<br> de veiculos ou de arrendamento mercantil de veiculos a quem comprovar<br> o exercicio da atividade profissional de taxistas ou de mototaxistas como<br> medida excepcional de enfrentamento da calamidade publica decretada em virtude do<br> covid19"
          ],
          [
           "Alexandre Frota",
           "PSDB",
           " altera o codigo penal brasileiro para fazer inserir o artigo 268a<br> para incluir como crime a elevacao de precos de produtos e<br> servicos medicos hospitalares em momentos de crise na saude publica mais<br> especificamente em epocas de calamidade publica epidemia e pandemia declaradas altera<br> o codigo de defesa do consumidor para tornar crime contra o<br> consumidor a elevacao de precos"
          ],
          [
           "Alice Portugal",
           "PCdoB",
           " altera a lei no 9 656 de 3 de junho de<br> 1998 que dispoe sobre a saude suplementar para proibir reajustes de<br> planos de saude durante a emergencia sanitaria do coronavirus e vedar<br> a negativa de atendimento no caso de inadimplencia"
          ],
          [
           "Rejane Dias",
           "PT",
           " altera a lei ndeg 12 529 de 30 de novernvo de<br> 2011 para estabelece medicas abusivas a elevacao dos precos dos medicamentos<br> e suprimentos em casos de pandemias epidemias ou estado de calamidade<br> publica e da outras providencias"
          ],
          [
           "Ted Conti",
           "PSB",
           " dispoe sobre a utilizacao extraordinaria do fundo especial de financiamento de<br> campanha previsto na lei n 9 504 de 30 de setembro<br> de 1997 no combate a pandemia de covid19"
          ],
          [
           "Filipe Barros",
           "PSL",
           " obriga o funcionamento dos servicos publicos e privados do comercio da<br> industria e das instituicoes educacionais durante feriados nacionais no ano de<br> 2020 em todo o territorio nacional como forma de compensar as<br> perdas economicas geradas pelo virus covid19"
          ],
          [
           "Flávio Nogueira",
           "PDT",
           " altera a lei n 9 656 de 3 de junho de<br> 1988 que dispoe sobre a saude suplementar para proibir rescisao de<br> contratos de planos de saude durante endemias ou pandemias de grandes<br> proporcoes"
          ],
          [
           "Luis Tibé",
           "AVANTE",
           " cria o programa cartao brasileiro de alimentacao para oferecer recursos para<br> aquisicao de alimentos para pessoas em situacao de vulnerabilidade social enquanto<br> durar o estado de calamidade publica em razao do covid19"
          ],
          [
           "Hugo Leal",
           "PSD",
           " institui medidas de carater emergencial mediante alteracoes de carater transitorio de<br> dispositivos da lei no 11 101 de 9 de fevereiro de<br> 2005 que somente terao vigencia ate 31 de dezembro de 2020<br> ou enquanto estiver vigente o decreto legislativo no 6 de 20<br> de marco de 2020 reconhecimento do estado de calamidade publica em<br> razao da pandemia causada pelo covid19 e da outras providencias"
          ],
          [
           "Professor Israel Batista",
           "PV",
           " dispoe sobre financiamento imobiliario de imoveis urbanos minha casa minha vida<br> durante periodo de emergencia de saude publica de importancia internacional relacionada<br> ao coronavirus covid19"
          ],
          [
           "Marcelo Calero",
           "CIDADANIA",
           " dispoe na lei no 10 260 de 12 de julho de<br> 2001 sobre a suspensao temporaria de pagamentos referentes a obrigacoes financeiras<br> e contagem de prazos por parte dos estudantes beneficiarios e de<br> instituicoes de ensino do fundo de financiamento estudantil fies enquanto perdurar<br> a paralisacao de atividades letivas em decorrencia da pandemia do novo<br> coronavirus covid19"
          ],
          [
           "Luis Miranda",
           "DEM",
           " dispoe sobre o funcionamento dos servicos essenciais enquanto durar as medidas<br> de enfrentamento da emergencia de saude publica decorrente do coronavirus covid19<br>"
          ],
          [
           "Senado Federal - José Serra",
           "PSDB",
           " dispoe sobre a prestacao de auxilio financeiro pela uniao as santas<br> casas e hospitais sem fins lucrativos que participam de forma complementar<br> do sistema unico de saude sus no exercicio de 2020 com<br> o objetivo de permitirlhes atuarem de forma coordenada no combate a<br> pandemia do coronavirus"
          ],
          [
           "Pompeo de Mattos",
           "PDT",
           " modifica a lei no 8 036 de 11 de maio de<br> 1990 fgts para possibilitar o saque do saldo do fgts em<br> casos de estado de calamidade publica pela ocorrencia de pandemia"
          ],
          [
           "Felipe Carreras",
           "PSB",
           " altera a lei no 9 656 de 3 de junho de<br> 1998 que dispoe sobre os planos e seguros privados de assistencia<br> a saude para vedar a rescisao ou suspensao nos casos de<br> epidemias pandemias ou calamidade publica decretada"
          ],
          [
           "Eduardo Bismarck",
           "PDT",
           " permite a destinacao dos recursos do fundo de universalizacao dos servicos<br> de telecomunicacoes fust ao ministerio da saude para o custeio das<br> acoes de prevencao contencao combate e mitigacao a pandemia do covid19<br>"
          ],
          [
           "Talíria Petrone - PSOL/RJ ,  Glauber Braga",
           "PSOL",
           " dispoe sobre medidas penais processuais penais e socioeducatlvas emergenciais a respeito<br> da populacao carceraria brasileira apos o decreto da organizacao mundial da<br> saude oms de pandemia decorrente do alastramento das infeccoes pelo coronavirus<br> covid19 levando em consideracao o elevado risco a sociedade em geral<br> e em especial as pessoas em privacao de liberdade aos agentes<br> penitenciarios e aos demais servidores vinculados as secretarias de administracao penitenciaria<br> demandando medidas urgentes com vistas a preservacao dos direitos fundamentais a<br> vida e a saude nos termos da constituicao federal de 1988<br>"
          ],
          [
           "Marcel van Hattem",
           "NOVO",
           " dispoe sobre atividades complementares de cursos tecnicos tecnologicos e superiores em<br> casos de estado de calamidade publica e epidemia do coronavirus covid19<br>"
          ],
          [
           "Denis Bezerra",
           "PSB",
           " insere na lei no 8 078 de 11 de setembro de<br> 1990 codigo de defesa do consumidor o titulo vii como disposicao<br> transitoria em virtude da situacao excepcional vivida no pais decorrente do<br> covid19"
          ],
          [
           "Célio Studart",
           "PV",
           " determina que o poder publico federal devera implementar medidas de prevencao<br> aos profissionais da saude em relacao a pandemia do novo coronavirus<br> covid19"
          ],
          [
           "Alexandre Frota",
           "PSDB",
           " cria o fundo extraordinario de apoio a pandemias e veda o<br> corte de salarios dos servidores publicos"
          ],
          [
           "Gleisi Hoffmann - PT/PR ,  Professora Rosa Neide",
           "PT",
           " fica criado o abono destinado a pessoas sem vinculo empregaticio e<br> que estejam submetidas a medidas de isolamento ou quarentena de acordo<br> com a lei 13 979 6 de fevereiro de 2020"
          ],
          [
           "Erika Kokay",
           "PT",
           " estabelece medidas excepcionais de protecao a mulher e para o enfrentamento<br> a violencia domestica e familiar com fundamento nos dispositivos da lei<br> 11 340 de 7 de agosto de 2006 lei maria da<br> penha durante o estado de calamidade publica previsto pelo decreto legislativo<br> no 6 de 20 de marco de 2020 em razao da<br> emergencia de saude publica de importancia internacional decorrente do coronavirus covid19<br> altera a lei 8 742 de 7 de dezembro de 1993<br> e da outras providencias"
          ],
          [
           "Sanderson",
           "PSL",
           " estabelece medidas de enfrentamento aos reflexos socioeconomicos do agente viral ncov2019<br> da familia coronavirus"
          ],
          [
           "Paula Belmonte",
           "CIDADANIA",
           " autoriza a prescricao da ozonioterapia em todo o territorio nacional para<br> os casos de coronavirus covid19"
          ],
          [
           "Bira do Pindaré",
           "PSB",
           " dispoe sobre a alteracao da lei no 8 036 de 11<br> de maio de 1990 que dispoe sobre o fundo de garantia<br> do tempo de servico e da outras providencias autorizando o saque<br> integral da conta do fundo de garantia por tempo de servico<br> fgts para pessoas comprovadamente acometidas do virus covid19 e da outras<br> providencias"
          ],
          [
           "Luis Miranda",
           "DEM",
           " institui adicional extraordinario de trinta pontos percentuais nas aliquotas de contribuicao<br> social sobre o lucro das pessoas juridicas de seguros privados das<br> de capitalizacao e das referidas nos incisos i a vii ix<br> e x do SS 1o do art 1o da lei complementar<br> no 105 de 10 de janeiro de 2001 e destina as<br> receitas obtidas para acoes de saude e de assistencia social vinculadas<br> a emergencia de saude publica relacionada ao coronavirus covid19"
          ],
          [
           "Padre João - PT/MG ,  João Daniel - PT/SE ,  Célio Moura - PT/TO ,  Carlos Veras - PT/PE ,  Joseildo Ramos - PT/BA ,  Professora Rosa Neide - PT/MT ,  Valmir Assunção - PT/BA ,  Zé Carlos - PT/MA ,  Frei Anastacio Ribeiro - PT/PB ,  Pedro Uczai - PT/SC ,  Paulo Teixeira - PT/SP ,  Marcon - PT/RS ,  Alexandre Padilha",
           "PT",
           " dispoe sobre medidas emergenciais de amparo aos agricultores familiares do brasil<br> para mitigar os impactos socioeconomicos da pandemia do covid 19 durante<br> o periodo de vigor do estado de calamidade publica no pais<br> e da outras providencias"
          ],
          [
           "Luiz Nishimori",
           "PL",
           " dispoe sobre a movimentacao da conta vinculada do trabalhador no fundo<br> de garantia do tempo de servico fgts em caso de emergencia<br> de estado de calamidade publica ou de pandemia declarada pela organizacao<br> mundial da saude reconhecidos pelo poder executivo federal"
          ],
          [
           "André Fufuca",
           "PP",
           " estipula a reserva de leitos no limite de 50 nos hospitais<br> privados para pacientes de covid19 assim como a internacao compulsoria de<br> paciente de covid19 na ausencia de leito em hospitais publicos credenciados<br> ao sus sistema unico de saude mediante termo de encaminhamento de<br> medico do sus"
          ],
          [
           "Jose Mario Schreiner",
           "DEM",
           " dispoe sobre incentivos fiscais para doacoes a entidades publicas ou privadas<br> sem fins lucrativos da area da saude que atuem no combate<br> a epidemia de coronavirus covid19"
          ],
          [
           "Carlos Sampaio",
           "PSDB",
           " prorroga os prazos de pagamento dos tributos federais que especifica durante<br> o estado de calamidade publica reconhecido pelo congresso nacional em decorrencia<br> da pandemia internacional ocasionada pela infeccao humana pelo coronavirus sarscov2 covid19<br>"
          ],
          [
           "Eduardo da Fonte",
           "PP",
           " acrescentase o artigo 16a a lei no 9 250 de 26<br> de dezembro de 1995 que altera a legislacao do imposto de<br> renda das pessoas fisicas e da outras providencias para antecipar o<br> pagamento da restituicao do imposto de renda a medida que o<br> valor a restituir for apurado durante o estado de calamidade publica<br> reconhecido pelo decreto legislativo ndeg 06 de 2020 em razao da<br> pandemia do coronavirus covid19 estendendose ate a restituicao do imposto sobre<br> a renda da pessoa fisica no ano de 2021 anobase 2020<br>"
          ],
          [
           "Alice Portugal",
           "PCdoB",
           " dispoe sobre financiamento imobiliario de imoveis urbanos em situacao de emergencia<br> sanitaria decorrente do coronavirus"
          ],
          [
           "Delegado Pablo",
           "PSL",
           " dispoe sobre regras a serem observadas pelas prestadoras do servico publico<br> de distribuicao de energia eletrica durante o periodo de emergencia de<br> saude publica devida a pandemia da covid19 e apos o termino<br> da crise de saude mediante alteracao da lei no 9 074<br> de 7 de julho de 1995 e da outras providencias"
          ],
          [
           "Mara Rocha",
           "PSDB",
           " suspende o desconto de emprestimo consignado deduzido de qualquer vencimento do<br> utilizador enquanto durar o estado de calamidade publica devido a pandemia<br> do coronavirus covid19 reconhecido pelo decreto legislativo no 6 de 20<br> de marco de 2020"
          ],
          [
           "Joice Hasselmann",
           "PSL",
           " trata da suspensao retroativa e impedimento de novas inscricoes nos cadastros<br> de empresas de analises e informacoes para decisoes de credito enquanto<br> vigente calamidade publica decorrente da pandemia do coronavirus covid19"
          ],
          [
           "Jose Mario Schreiner",
           "DEM",
           " estabelece que enquanto perdurar o estado de calamidade causado pelo novo<br> coronavirus o percentual de 7 cinco por cento dos recursos arrecadados<br> com todos os concursos de prognosticos seja repassado ao programa nacional<br> de alimentacao escolar pnae e o fundo nacional de saude fns<br>"
          ],
          [
           "Filipe Barros",
           "PSL",
           " isenta caminhoneiros do pagamento de pedagio em rodovias durante o periodo<br> de calamidade publica causada pelo combate ao virus covid19 em todo<br> o territorio nacional"
          ],
          [
           "Dr. Luiz Antonio Teixeira Jr. - PP/RJ ,  Carmen Zanotto - CIDADANIA/SC ,  Rodrigo Coelho",
           "PSB",
           " dispoe sobre a proibicao de exportacoes de produtos medicos hospitalares e<br> de higiene essenciais ao combate a epidemia de coronavirus no brasil<br>"
          ],
          [
           "Rosana Valle - PSB/SP ,  Danilo Cabral - PSB/PE ,  Mauro Nazif - PSB/RO ,  Camilo Capiberibe - PSB/AP ,  Luciano Ducci - PSB/PR ,  Lídice da Mata",
           "PSB",
           " permite o saque emergencial de valores do fundo de garantia por<br> tempo de servico causada pelo coronavirus covid19"
          ],
          [
           "Sergio Vidigal",
           "PDT",
           " suspende os prazos de validade dos concursos publicos ja homologados durante<br> o periodo de vigencia do estado de calamidade publica estabelecido pela<br> uniao em decorrencia da pandemia do coronavirus covid19"
          ],
          [
           "André Janones",
           "AVANTE",
           " dispoe sobre o adiantamento da restituicao do imposto sobre a renda<br> da pessoa fisica no ano de 2020 anobase 2019 em razao<br> da pandemia do coronavirus covid19"
          ],
          [
           "Juscelino Filho - DEM/MA ,  Gastão Vieira",
           "PROS",
           " altera a lei ndeg 13 885 de 17 de outubro de<br> 2019 para a autorizar a destinacao por estados distrito federal e<br> municipios de valores arrecadados com os leiloes dos volumes excedentes da<br> cessao onerosa a acoes de resposta ao coronavirus covid19"
          ],
          [
           "Cássio Andrade - PSB/PA ,  Luciano Ducci - PSB/PR ,  Bira do Pindaré - PSB/MA ,  Camilo Capiberibe - PSB/AP ,  Mauro Nazif",
           "PSB",
           " dispoe sobre a proibicao de cobranca de tarifa de transferencia bancaria<br> nas circunstancias que especifica enquanto perdurarem as medidas emergenciais de enfrentamento<br> a pandemia do coronavirus covid19"
          ],
          [
           "Alice Portugal",
           "PCdoB",
           " dispoe sobre o beneficio de prestacao continuada temporario durante a pandemia<br> do coronavirus"
          ],
          [
           "Paulo Ramos",
           "PDT",
           " suspende as atividades do mercado de acoes titulos ou valores mobiliarios<br> em territorio brasileiro por 120 dias em carater excepcional como medida<br> restritiva para conter a disseminacao pandemica da enfermidade covid19"
          ],
          [
           "Clarissa Garotinho - PROS/RJ ,  Weliton Prado - PROS/MG ,  Capitão Wagner - PROS/CE ,  Toninho Wandscheer - PROS/PR ,  Acácio Favacho",
           "PROS",
           " autoriza os profissionais de saude a deduzirem da base de calculo<br> do imposto de renda de pessoa fisica de que trata a<br> lei n 9 250 de 26 de dezembro de 1995 a<br> aquisicao de equipamentos de protecao individual epi adquiridos entre o periodo<br> de 26 de fevereiro de 2020 e enquanto durar a emergencia<br> de saude publica de importancia internacional em decorrencia da infeccao humana<br> pelo coronavirus covid19 ate o limite individual de r 3 500<br> 00 tres mil e quinhentos reais"
          ],
          [
           "Paulo Pimenta",
           "PT",
           " altera o disposto na lei 13 979 de 06 de fevereiro<br> de 2020 acrescentando o inciso iv SS2o do art 3o e<br> assim ficando impedida a majoracao sem justa causa do preco de<br> produtos ou servicos durante todo o periodo do reconhecimento de estado<br> de calamidade publica em razao dos efeitos da pandemia de coronavirus<br>"
          ],
          [
           "Enio Verri - PT/PR ,  José Guimarães - PT/CE ,  Joseildo Ramos - PT/BA ,  Marília Arraes - PT/PE ,  Alexandre Padilha - PT/SP ,  Rui Falcão - PT/SP ,  Helder Salomão - PT/ES ,  Margarida Salomão - PT/MG ,  Nilto Tatto - PT/SP ,  Vicentinho - PT/SP ,  Leonardo Monteiro - PT/MG ,  Patrus Ananias - PT/MG ,  José Ricardo - PT/AM ,  Airton Faleiro - PT/PA ,  Jorge Solla - PT/BA ,  Erika Kokay - PT/DF ,  Padre João - PT/MG ,  Paulo Guedes - PT/MG ,  Luizianne Lins - PT/CE ,  Paulo Pimenta - PT/RS ,  Gleisi Hoffmann - PT/PR ,  Waldenor Pereira - PT/BA ,  Frei Anastacio Ribeiro - PT/PB ,  Valmir Assunção - PT/BA ,  Zé Carlos - PT/MA ,  Rejane Dias - PT/PI ,  Bohn Gass - PT/RS ,  Maria do Rosário - PT/RS ,  Marcon - PT/RS ,  Arlindo Chinaglia - PT/SP ,  Célio Moura - PT/TO ,  Rubens Otoni - PT/GO ,  Natália Bonavides - PT/RN ,  Professora Rosa Neide - PT/MT ,  Pedro Uczai - PT/SC ,  Carlos Veras - PT/PE ,  João Daniel - PT/SE ,  Paulão - PT/AL ,  Alencar Santana Braga",
           "PT",
           " institui o programa emergencial de apoio as empresas em decorrencia do<br> estado de emergencia internacional em razao do novo coronavirus com o<br> objetivo de garantir a protecao ao emprego das empresas alcancadas por<br> medidas de suspensao total ou de reducao significativa de suas atividades<br>"
          ],
          [
           "Celso Maldaner",
           "MDB",
           " concede isencao de imposto de renda aos idosos com mais de<br> 65 anos e aposentados que recebam ate 10 salarios minimos durante<br> a pandemia do coronavirus covid19 e_ou enquanto durar o estado de<br> calamidade publica"
          ],
          [
           "Capitão Wagner",
           "PROS",
           " dispoe sobre a vedacao de adocao dos procedimentos de consolidacao da<br> propriedade imobiliaria nos contratos de financiamento imobiliario de que tratam as<br> leis no 9 514 de 20 de novembro de 1997 e<br> no 11 977 de 07 de julho de 2009 programa minha<br> casa minha vida enquanto durarem os efeitos do estado de calamidade<br> publica declarado pelo decreto legislativo no 6 de 2020 decorrente da<br> pandemia do coronavirus covid19"
          ],
          [
           "José Guimarães",
           "PT",
           " altera a lei no 13 979 de 6 de fevereiro de<br> 2020 que dispoesobre as medidas para enfrentamento da emergencia de saude<br> publica decorrente do coronavirus para dispensar temporariamente o pagamento dos pedagios<br> rodoviarios para veiculos de carga"
          ],
          [
           "Rodrigo Coelho",
           "PSB",
           " dispoe sobre a protecao tributaria previdenciaria e assistencial em razao da<br> pandemia relacionada ao covid19"
          ],
          [
           "Geovania de Sá",
           "PSDB",
           " dispoe sobre a isencao da cobranca de pedagio durante o periodo<br> de enfrentamento da emergencia de saude publica decorrente do coronavirus e<br> da outras providencias"
          ],
          [
           "Afonso Hamm",
           "PP",
           " acrescenta artigo a lei no 13 979 de 6 de fevereiro<br> de 2020 que dispoe sobre as medidas para enfrentamento da emergencia<br> de saude publica de importancia internacional decorrente do coronavirus responsavel pelo<br> surto de 2019 para garantir a concessao do segurodesemprego ate 30<br> de junho de 2020 aos trabalhadores que estavam em gozo do<br> beneficio na data da decretacao do estado de calamidade publica reconhecido<br> pelo decreto legislativo no 6 de 20 de marco de 2020<br>"
          ],
          [
           "Mauro Nazif - PSB/RO ,  Luciano Ducci - PSB/PR ,  Lídice da Mata",
           "PSB",
           " institui gratificacao extraordinaria aos servidores da seguranca publica durante a vigencia<br> da calamidade de saude publica decorrente do coronavirus covid19 e da<br> outras disposicoes"
          ],
          [
           "Rejane Dias",
           "PT",
           " altera as leis ndeg 9718_1998 10 833_2003 ndeg 10 865_2004 ndeg<br> 11 196_2005 e na 13 097_2015 para majorar as aliquotas da<br> cofins e da cofinsimportacao incidentes sobre operacoes de venda no mercado<br> interno e de importacao de bebidas alcoolicas e cigarros e destina<br> recursos para acoes de saude relacionadas a prevencao ou ao tratamento<br> de doencas decorrentes do consumo de bebidas alcoolicas e cigarros e<br> no combate a pandemias"
          ],
          [
           "Assis Carvalho",
           "PT",
           " institui o imposto sobre grandes fortuna a ser destinado exclusivamente ao<br> combate da pandemia do covid19 coronavirus"
          ],
          [
           "Capitão Alberto Neto",
           "REPUBLIC",
           " altera a lei no 4 886 de 09 de dezembro de<br> 1965 para reduzir os valores das anuidades devidas por representantes comerciais<br> aos respectivos conselhos regionais dos representantes comerciais por decorrencia de situacoes<br> de calamidade publica surto epidemia pandemia endemia ou guerra externa"
          ],
          [
           "André Figueiredo",
           "PDT",
           " institui medidas de protecao social em funcao da crise internacional causada<br> pela pandemia do coronavirus covid19"
          ],
          [
           "JHC",
           "PSB",
           " altera a lei 13 979_2020 para dispor sobre as medidas protetivas<br> ao contribuinte para enfrentamento do estado de calamidade publica reconhecido pelo<br> decreto legislativo no 6 de 20 de marco de 2020 e<br> da emergencia de saude publica de importancia internacional decorrente do coronavirus<br> covid19 decretada pelo ministro de estado da saude em 3 de<br> fevereiro de 2020 nos termos do disposto na lei no 13<br> 979 de 6 de fevereiro de 2020"
          ],
          [
           "Júlio Delgado - PSB/MG ,  Danilo Cabral",
           "PSB",
           " institui a isencao de pagamento de tarifa de pedagio em rodovias<br> federais para os veiculos de carga no periodo de emergencia em<br> saude publica covid 19"
          ],
          [
           "Eduardo Bismarck",
           "PDT",
           " proibe a incidencia de juros remuneratorios moratorios multa e quaisquer outros<br> encargos bancarios sobre o valor utilizado do cheque especial e do<br> saldo devedor da fatura de cartao de credito concedidos por instituicoes<br> financeiras ate 60 sessenta dias apos o encerramento da calamidade publica<br> decretada pelo congresso nacional em decorrencia da pandemia do covid19"
          ],
          [
           "Kim Kataguiri",
           "DEM",
           " modifica a lei n o 9 433 de 1997 para determinar<br> a suspensao da cobranca e pagamento de agua em periodos de<br> pandemia"
          ],
          [
           "Charlles Evangelista",
           "PSL",
           " institui a isencao de pagamento de tarifa de pedagio em rodovias<br> federais para os veiculos que determina quando o pais for afetado<br> por pandemia ou decretado estado de calamidade publica"
          ],
          [
           "Ricardo Izar",
           "PP",
           " faculta aos locatarios de imoveis comerciais o direito de requerer abatimento<br> no valor da locacao proporcional ao numero de dias em que<br> houver reducao ou interrupcao das atividades comerciais por forca das medidas<br> de isolamento e quarentena previstas na lei no 13 979 de<br> 6 de fevereiro de 2020"
          ],
          [
           "Arlindo Chinaglia",
           "PT",
           " dispoe sobre a requisicao administrativa pelo poder publico de bens moveis<br> imoveis servicos e insumos de saude de propriedade particular para utilizacao<br> em servicos de saude destinados ao combate a pandemia"
          ],
          [
           "Pompeo de Mattos",
           "PDT",
           " cria a contribuicao extraordinaria para colaborar no enfrentamento dos efeitos da<br> pandemia por covid 19 a ser cobrada dos parlamentares federais"
          ],
          [
           "Boca Aberta",
           "PROS",
           " dispoe sobre o corte de 50 dos salarios de todos os<br> politicos brasileiros enfim da elite do funcionalismo publico para combate ao<br> coronavirus covide 19"
          ],
          [
           "Tiago Dimas",
           "SOLIDARI",
           " altera o decretolei no 2 848 de 7 de dezembro de<br> 1940 para tipificar a conduta de provocacao de alarma de doenca<br> contagiosa e a lei 13 979 de 6 de fevereiro de<br> 2020 que dispoe sobre as medidas para enfrentamento da emergencia de<br> saude publica de importancia internacional decorrente do coronavirus responsavel pelo surto<br> de 2019"
          ],
          [
           "Carlos Chiodini",
           "MDB",
           " dispoe sobre o pagamento em pecunia do auxilio alimentacao limita as<br> empresas emissoras de cartao valealimentacao e valerefeicao a cobranca de taxa<br> unica de no maximo 3 sobre o valor da venda a<br> ser retida dos estabelecimentos comerciais credenciados e da outras providencias em<br> virtude dos efeitos economicos gerados pela pandemia do coronavirus covid19"
          ],
          [
           "Efraim Filho",
           "DEM",
           " preve a interrupcao temporaria do contrato de trabalho com devida compensacao<br> financeira ao empregado durante o estado de calamidade publica provocado pela<br> pandemia do coronavirus covid19"
          ],
          [
           "Fred Costa",
           "PATRIOTA",
           " isenta de tributos federais os insumos medicamentos e equipamentos necessarios a<br> prevencao e combate ao novo coronavirus covid19"
          ],
          [
           "Rosana Valle",
           "PSB",
           " dispoe sobre a restituicao do imposto de renda pessoa fisica referente<br> ao ano de 2020 anocalendario 2019 priorizando aposentados pessoas acometidas de<br> doencas graves pessoas com deficiencias e todas as pessoas fisicas que<br> receberam ate 05 cinco salarios minimos mensais em razao do periodo<br> de calamidade publica decorrente da pandemia do coronavirus covid19 e da<br> outras providencias"
          ],
          [
           "Enio Verri",
           "PT",
           " cria o seguro emergencial de renda as pessoas em situacao de<br> vulnerabilidade social e economica que especifica em decorrencia do estado de<br> emergencia internacional pelo novo coronavirus identificado como sarscov2"
          ],
          [
           "Lucas Vergilio",
           "SOLIDARI",
           " altera a lei no 10 406 de 10 de janeiro de<br> 2002 que institui o codigo civil para incluir nas coberturas de<br> seguros de vida os eventos decorrentes de epidemias ou pandemias ainda<br> que declaradas por autoridades competentes"
          ],
          [
           "João H. Campos",
           "PSB",
           " dispoe sobre acoes medidas e diretrizes acerca do enfrentamento ao coronavirus<br> covid19 no intuito de adequar as cobrancas por servicos publicos e<br> privados destinados as pessoas de baixa renda"
          ],
          [
           "Marcon",
           "PT",
           " dispoe sobre a suspensao da cobranca de emprestimos pessoais consignados financiamento<br> imobiliario de imoveis urbanos e rurais e financiamentos no ambito do<br> programa minha casa minha vida mcmv com objetivo de mitigar os<br> impactos socieconomicos da pandemia do covid19"
          ],
          [
           "Roberto de Lucena",
           "PODE",
           " cria o fundo emergencial de combate aos efeitos socioeconomicos do coronavirus<br> covid19"
          ],
          [
           "Fernanda Melchionna - PSOL/RS ,  Glauber Braga - PSOL/RJ ,  Marcelo Freixo - PSOL/RJ ,  Sâmia Bomfim",
           "PSOL",
           " cria o programa de renda basica emergencial altera a lei no<br> 7 998 de 11 de janeiro de 1990 para ampliar o<br> prazo de recebimento do segurodesemprego propoe o tabelamento de precos de<br> equipamentos de protecao individual e utilizados para o controle da transmissao<br> do covid19 e da outras providencias"
          ],
          [
           "Reginaldo Lopes",
           "PT",
           " autoriza o poder executivo a conceder auxilio financeiro temporario ao contribuinte<br> mei segurado no regime geral da previdencia social em periodo de<br> restricao a movimentacao e contato pelo motivo da pandemia covid19 corona<br> virus"
          ],
          [
           "Fernanda Melchionna - PSOL/RS ,  David Miranda - PSOL/RJ ,  Marcelo Freixo",
           "PSOL",
           " estabelece a proibicao de interrupcao dos servicos de conexao a internet<br> residencial movel e comercial durante o estado de calamidade publica decorrente<br> do covid19 e da outras providencias"
          ],
          [
           "Geninho Zuliani",
           "DEM",
           " altera a lei no 8 989_95 e a lei no 13<br> 755_18 para dispor sobre a isencao do imposto sobre produtos industrializados<br> ipi na aquisicao de veiculos utilizados para transporte de viajantes enfermos<br> ou suspeitos conforme protocolo de referencia no7 de novembro de 2011<br> da anvisa enquanto durar o estado de calamidade publica em territorio<br> brasileiro em razao da pandemia do covid19"
          ],
          [
           "Paulo Abi-Ackel",
           "PSDB",
           " reconhece a aquisicao de insumos basicos de protecao contra o coronavirus<br> sarscov2 covid19 ou a aquisicao de equipamentos medicohospitalares para o enfrentamento<br> a pandemia do coronavirus no contexto do estado de calamidade publica<br> reconhecido pelo congresso nacional a precos de mercado e nas hipoteses<br> de maxima urgencia devidamente comprovada como casos excepcionais para efeito de<br> possibilitar o pagamento por meio de adiantamento nos termos do disposto<br> nos arts 65 e 68 da lei n o 4 320<br> de 17 de marco de 1964"
          ],
          [
           "Gildenemyr",
           "PL",
           " autoriza deducoes do valor do imposto devido durante o periodo de<br> estado de calamidade publica por pessoa juridica as doacoes para combate<br> a pandemia do coronavirus"
          ],
          [
           "José Guimarães",
           "PT",
           " assegura a manutencao de bolsas e auxilios aos estudantes das instituicoes<br> federais de educacao superior durante a pandemia de coronavirus"
          ],
          [
           "João Daniel",
           "PT",
           " preve a anistia das parcelas de financiamentos e emprestimos de pessoas<br> fisicas que recebam ate tres salarios minimos em caso de pandemia<br> reconhecida pela organizacao mundial de saude oms"
          ],
          [
           "Enio Verri",
           "PT",
           " fica criado o abono destinado a feirantes e agricultores familiares que<br> se encontram em isolamento ou quarentena em razao da pandemia do<br> covid19 consoante a lei 13 979 de 6 de fevereiro de<br> 2020 e que apresentamse impossibilitados de comercializar sua producao tambem por<br> medidas determinadas pelos executivos municipais"
          ],
          [
           "Valdevan Noventa",
           "PSC",
           " altera a lei no 9 656 de 3 de junho de<br> 1998 que dispoe sobre a saude suplementar para proibir rescisao ou<br> alteracao prejudicial de contratos de planos de saude por iniciativa da<br> opeadora durante pandemias de grandes proporcoes"
          ],
          [
           "Alexandre Frota",
           "PSDB",
           " acrescenta o artigo 283 a no decreto 2848_40 codigo penal para<br> incluir o crime de divulgacao de falsa de cura ou diminuicao<br> de sintomas de doencas por produtos ou outro qualquer meio que<br> nao estejam autorizados pelo poder publico crime agravado em epoca de<br> endemia epidemia e pandemia"
          ],
          [
           "Marcão Gomes",
           "PL",
           " acrescenta dispositivos ao art 6o da lei no 8 987 de<br> 13 de fevereiro de 1995 para proibir a suspensao do fornecimento<br> de energia eletrica fornecimento de agua e esgoto e fornecimento de<br> gas encanado por inadimplencia enquanto durar o estado de emergencia em<br> saude publica em razao da pandemia de covid19 coronavirus no brasil<br>"
          ],
          [
           "Joice Hasselmann",
           "PSL",
           " trata da destinacao do orcamento para promocao internacional do turismo na<br> vigencia da calamidade publica decorrente da pandemia do coronavirus covid19"
          ],
          [
           "Alexandre Frota",
           "PSDB",
           " determina a todas as escolas publicas municipais estaduais federais e tambem<br> as escolas particulares o envio de material pedagogico a seus alunos<br> e aos responsaveis via eletronica durante o periodo em que durar<br> o decreto de calamidade publica e isolamento social"
          ],
          [
           "JHC",
           "PSB",
           " altera a leis 9 503_1997 para dispor sobre as medidas protetivas<br> ao contribuinte para enfrentamento do estado de calamidade publica reconhecido pelo<br> decreto legislativo no 6 de 20 de marco de 2020 e<br> da emergencia de saude publica de importancia internacional decorrente do coronavirus<br> covid19 decretada pelo ministro de estado da saude em 3 de<br> fevereiro de 2020 nos termos do disposto na lei no 13<br> 979 de 6 de fevereiro de 2020"
          ],
          [
           "Natália Bonavides - PT/RN ,  Rejane Dias",
           "PT",
           " estabelece auxilio financeiro para microempresas durante a situacao de pandemia do<br> virus covid19"
          ],
          [
           "Kim Kataguiri",
           "DEM",
           " institui a isencao tributaria para insumos medicos em casos de pandemia<br>"
          ],
          [
           "Dulce Miranda",
           "MDB",
           " veda a interrupcao da prestacao de servicos publicos de natureza continuada<br> por inadimplemento do usuario pessoas fisica no periodo de duracao da<br> situacao de emergencia de saude publica devida a pandemia do coronavirus<br> e altera a lei no 13 979 de 6 de fevereiro<br> de 2020"
          ],
          [
           "Delegado Marcelo Freitas",
           "PSL",
           " determina a reducao de valores de mensalidades cobradas por instituicoes privadas<br> de ensino autorizadas pelo mec durante a suspensao das atividades escolares<br> presenciais determinadas pelas autoridades publicas em face da pandemia da covid19<br> coronavirus"
          ],
          [
           "Fred Costa",
           "PATRIOTA",
           " estabelece pena de detencao para o crime de aumento abusivo de<br> precos de produtos destinados a evitar a contaminacao pelo coronavirus"
          ],
          [
           "Aroldo Martins",
           "REPUBLIC",
           " dispoe sobre medidas de protecao a populacao brasileira durante a pandemia<br> do covid19 coronavirus"
          ],
          [
           "Natália Bonavides",
           "PT",
           " dispoe sobre medidas de protecao ao microempreendedor individual ao empresario individual<br> e a empresa individual de responsabilidade limitada durante a pandemia do<br> covid19"
          ],
          [
           "Túlio Gadêlha",
           "PDT",
           " estabelece prioridade de atendimento aos profissionais de saude na destinacao de<br> equipamentos de protecao na testagem e no tratamento da covid19 durante<br> o estado de calamidade publica declarado em virtude do surto do<br> coronavirus sarscov2 nas condicoes que especifica"
          ],
          [
           "Pastor Sargento Isidório",
           "AVANTE",
           " isenta a cobranca de pedagio enquanto durar a pandemia do novo<br> coronavirus nas rodovias estaduais e federais em todo territorio nacional para<br> os caminhoneiros e para os profissionais considerados essenciais envolvidos no combate<br> direto do covid19 quando legitimados pelas autoridades governamentais e ministerio da<br> saude"
          ],
          [
           "Geninho Zuliani",
           "DEM",
           " altera a lei no 7 798_89 e a lei no 10<br> 865_2004 para dispor sobre a suspensao do imposto sobre produtos industrializados<br> ipi do pis_pasep importacao e da cofins importacao para o setor<br> de produtos para saude enquanto durar o estado de calamidade publica<br> em territorio brasileiro em razao da pandemia do covid19"
          ],
          [
           "André Figueiredo",
           "PDT",
           " dispoe sobre a suspensao do desconto de emprestimo consignado como medida<br> excepcional de enfrentamento da calamidade publica decretada em virtude do covid19<br>"
          ],
          [
           "Christino Aureo",
           "PP",
           " institui o programa emergencial de manutencao dos postos de trabalho que<br> dispoe sobre a suspensao da exigibilidade de tributos federais por tempo<br> determinado bem como o parcelamento do debito tributario respectivo tendo em<br> vista os efeitos da pandemia do coronavirus covid19"
          ],
          [
           "André Janones",
           "AVANTE",
           " destina extraordinariamente os recursos do fundo especial de financiamento de campanha<br> para o enfrentamento da epidemia do coronavirus"
          ],
          [
           "Adriana Ventura - NOVO/SP ,  Alexandre Serfiotis - PSD/RJ ,  Dra. Soraya Manato - PSL/ES ,  Jorge Solla - PT/BA ,  Marcel van Hattem - NOVO/RS ,  Carmen Zanotto - CIDADANIA/SC ,  Mariana Carvalho - PSDB/RO ,  Tiago Mitraud - NOVO/MG ,  Vinicius Poit - NOVO/SP ,  Patricia Ferraz - PODE/AP ,  Paulo Ganime",
           "NOVO",
           " altera a lei ndeg 10 858 de 13 de abril de<br> 2004 para desburocratizar a retirada de medicamentos populares durante situacao de<br> pandemia epidemia ou calamidade"
          ],
          [
           "Delegado Waldir",
           "PSL",
           " dispoe sobre a obrigatoriedade de reducao das mensalidades das instituicoes privadas<br> de ensino fundamental ensino medio e ensino superior durante durante o<br> estado de calamidade publica relacionado ao covid19"
          ],
          [
           "João H. Campos",
           "PSB",
           " dispoe sobre acoes medidas e diretrizes acerca do enfrentamento ao coronavirus<br> covid19 estabelecendo medidas de apoio as microempresas aos microempreendedores individuais e<br> profissionais de aplicativos de entregas e transporte"
          ],
          [
           "Dagoberto Nogueira",
           "PDT",
           " suspende a cobranca de pagamento de prestacoes relativas a qualquer tipo<br> de financiamento bancario concedido a pessoa natural ou juridica enquanto perdurar<br> a vigencia do decreto legislativo no 6 de 2020 que decretou<br> estado de calamidade publica no pais em decorrencia da pandemia covid19<br>"
          ],
          [
           "Geovania de Sá",
           "PSDB",
           " dispoe sobre medidas de protecao as entidades do terceiro setor durante<br> a pandemia do coronavirus"
          ],
          [
           "Léo Moraes",
           "PODE",
           " dispoe sobre alteracoes na tarifa social de energia eletrica para os<br> consumidores enquadrados na subclasse residencial baixa renda prevista na lei no<br> 12 212 de 20 de janeiro de 2010 durante o estado<br> de calamidade publica decorrente da pandemia do coronavirus sarscov2 covid19"
          ],
          [
           "Talíria Petrone - PSOL/RJ ,  Glauber Braga",
           "PSOL",
           " dispoe direitos e deveres de pessoas em situacao de rua em<br> situacoes de pandemias e epidemias que exijam isolamento temporario"
          ],
          [
           "Denis Bezerra - PSB/CE ,  Vilson da Fetaemg",
           "PSB",
           " insere disposicao transitoria na lei 12 414 de 09 de junho<br> de 2011 enquanto durar a pandemia do covid19 e da outras<br> providencias"
          ],
          [
           "Dagoberto Nogueira",
           "PDT",
           " dispoe na lei no 10 260 de 12 de julho de<br> 2001 sobre a suspensao temporaria do pagamento de encargos educacionais mensalidades<br> do fundo de financiamento estudantil fies e do programa de financiamento<br> estudantil pfies durante a calamidade sanitaria provocada por pandemia"
          ],
          [
           "Emanuel Pinheiro Neto",
           "PTB",
           " ficam as instituicoes de ensino infantil fundamental medio e superior da<br> rede privada que optaram pelo ensino a distancia ead obrigadas a<br> reduzirem as suas mensalidades em no minimo 20 vinte por cento<br> mediante formulario de requisicao do estudante ou seu representante legal durante<br> o periodo que durar o plano de contingencia nacional para infeccao<br> humana pelo novo coronavirus causador da covid19 e da outras providencias<br>"
          ],
          [
           "Paulo Abi-Ackel",
           "PSDB",
           " permite que excepcionalmente e enquanto perdurar o estado de calamidade publica<br> reconhecido pelo congresso nacional o banco central do brasil determine que<br> os montantes que as instituicoes financeiras deixaram de recolher em decorrencia<br> da reducao de aliquotas do deposito compulsorio uma das medidas de<br> enfrentamento a pandemia do coronavirus tomadas por aquela entidade sejam integralmente<br> destinados ao credito"
          ],
          [
           "Alencar Santana Braga - PT/SP ,  Professora Rosa Neide",
           "PT",
           " define medidas economicas e sociais visando a mitigacao dos efeitos da<br> pandemia do novo coronavirus covid 19"
          ],
          [
           "João H. Campos",
           "PSB",
           " dispoe sobre acoes medidas e diretrizes acerca do enfrentamento ao coronavirus<br> covid19 no intuito de conceder seguro desemprego nos termos que especifica<br> e da outras providencias"
          ],
          [
           "Poder Executivo",
           "Poder Executivo",
           " altera a lei no 13 979 de 6 de fevereiro de<br> 2020 para instituir o comite nacional de orgaos de justica e<br> controle para prevenir ou terminar litigios inclusive os judiciais relacionados ao<br> enfrentamento da emergencia de saude publica decorrente da covid19"
          ],
          [
           "José Ricardo",
           "PT",
           " acrescenta o artigo 3ob a lei no 7 998 de 11<br> de janeiro de 1990 para garantir beneficio do segurodesemprego aos trabalhadores<br> no periodo da pandemia do coronavirus covid19"
          ],
          [
           "Aliel Machado - PSB/PR ,  Patricia Ferraz",
           "PODE",
           " dispoe sobre a obrigatoriedade de inclusao de cada cesta basica produzida<br> e distribuida no pais pelo poder publico ou iniciativa privada conter<br> enquanto perdurar a declaracao de pandemia do coronavirus pela organizacao mundial<br> de saude itens de higiene e assepsia"
          ],
          [
           "Paulo Pimenta",
           "PT",
           " inclui o SS 2o no art 65 da lei complementar no<br> 101 de 4 de maio de 2000 a fim de que<br> seja determinada a suspensao do prazo de entrega do siapc_pad sistema<br> de informacoes para auditoria e prestacao de contas e todas as<br> demais obrigacoes correlatas em razao do estado de emergencia internacional pelo<br> novo coronavirus identificado como sarscov2"
          ],
          [
           "Coronel Armando",
           "PSL",
           " dispoe sobre a regulamentacao de consultas com medicos terapeutas psicologos e<br> nutricionistas por meio de tecnologia da informacao e da comunicacao em<br> casos de calamidade publica e quarentena nos moldes da lei 13<br> 979 de 06 de fevereiro de 2020"
          ],
          [
           "Reginaldo Lopes",
           "PT",
           " autoriza o poder executivo a conceder auxilio financeiro temporario ao trabalhador<br> informal em periodo de restricao a movimentacao e contato pelo motivo<br> da pandemia covid19 corona virus"
          ],
          [
           "Shéridan",
           "PSDB",
           " determina que na ocorrencia de calamidade publica ou situacao emergencial que<br> exija medidas de isolamento social sejam elevados em cinquenta por cento<br> os patamares de consumo que definem as faixas de desconto referentes<br> as tarifas sociais de energia eletrica e de abastecimento de agua<br> aplicaveis as unidades consumidoras residenciais de baixa renda"
          ],
          [
           "Franco Cartafina",
           "PP",
           " suspende a lavratura e o registro de protesto extrajudicial de titulos<br> e outros documentos de divida de que trata a lei no<br> 9 492 de 10 de setembro de 1997 enquanto perdurar o<br> estado de calamidade publica reconhecido pelo decreto legislativo no 6 de<br> 20 de marco de 2020 ou de emergencia de saude internacional<br> decorrente do coronavirus responsavel pelo surto de 2019 da doenca covid19<br> que foi decretada pelo ministro de estado da saude em 3<br> de fevereiro de 2020 nos termos do disposto na lei no<br> 13 979 de 6 de fevereiro de 2020"
          ]
         ],
         "hovertemplate": "pc_1=%{x}<br>pc_2=%{y}<br>pc_3=%{z}<br>autor=%{customdata[0]}<br>sg_partido=%{customdata[1]}<br>ementa_labels=%{customdata[2]}<br>color=%{marker.color}<extra></extra>",
         "legendgroup": "",
         "marker": {
          "color": [
           -0.06815948780824174,
           0.05149994296873321,
           0.10426624463336295,
           -0.040984292107128964,
           0.3966588513594159,
           -0.0337777174458605,
           -0.01630525164783594,
           0.13955795499229362,
           -0.024388657084966472,
           -0.08176004900093178,
           -0.004834275530906185,
           0.045856201639649034,
           0.04830440739189115,
           0.054739765157306726,
           0.03506906648020876,
           0.03437556184023987,
           -0.04489391114682633,
           0.14875691688904183,
           0.06754767259579808,
           -0.23816936446572473,
           0.1997149540411676,
           0.04636223657973963,
           0.11592376299819054,
           -0.07847289716769179,
           0.18507430547891715,
           0.03440499642813097,
           0.09361569425669497,
           0.0012192614675528273,
           0.0098837006907459,
           0.4534769827528731,
           0.002366992111494294,
           0.0014185679605201625,
           0.09365521985624509,
           0.0005112716602422731,
           -0.057406744667843325,
           0.03339380380181808,
           -0.012920585620617145,
           -0.03681742452192675,
           0.15072508695574235,
           0.1338341202131172,
           -0.07907694307777996,
           0.029024568780024084,
           -0.10391078258735491,
           -0.07899627075362349,
           0.03715395544386029,
           0.36835726852988937,
           -0.036570894665353446,
           0.11349018832167428,
           0.018792034684388233,
           -0.14756371418888098,
           0.0135155942494505,
           0.03102743699131816,
           0.09434384085988358,
           0.007133324076373275,
           0.14435273818500005,
           0.11906992864533246,
           0.07800087776436693,
           0.003558809271857445,
           -0.0031162422205004625,
           -0.42153633714371597,
           0.07712969903593235,
           0.03711415662175156,
           0.04382651534742949,
           -0.28465622595183315,
           0.0023501703672658522,
           -0.006090674401793871,
           -0.06125069929061489,
           0.03102743699131816,
           -0.051273099046749857,
           0.0028969983603086328,
           -0.020136712672356023,
           -0.0029218537783622296,
           0.07904069835925094,
           0.015600004561395283,
           -0.012943406038779276,
           0.03826010748542402,
           0.042391107718300756,
           -0.2388410792095928,
           0.05059064134750547,
           0.19032372084790963,
           0.08551248985422713,
           0.16028445808539327,
           0.16683056463360385,
           -0.06267475381617904,
           0.07777204112393644,
           0.14405265955776453,
           0.02266935871757952,
           -0.015271710737258444,
           0.17184540191838013,
           -0.14604310608602608,
           0.013571257291797756,
           0.040780326652970274,
           0.11934548621975154,
           -0.057031918508512774,
           -0.010841353912328289,
           0.011245738898507385,
           -0.11930766958534038,
           -0.0387323320209745,
           0.04999133404536316,
           0.07486497626384965,
           0.03705738635796848,
           0.016267434294496525,
           0.02513572067277585,
           -0.16787816646097942,
           0.02151872561506733,
           0.1264328916999836,
           -0.2192162672781392,
           0.11701527327060371,
           -0.05855417418085938,
           -0.08264906429838732,
           -0.08209303832348099,
           -0.05979261419329105,
           -0.04372255129875103,
           0.04454730848362947,
           -0.008651010703360221,
           0.03097623315387812,
           -0.04100134319640032,
           0.05917746590315925,
           0.1736931067029811,
           -0.06757490205055597,
           -0.05323052728852957,
           -0.01951774057439101,
           0.0516301658493672,
           0.01831995813147693,
           0.0056741927926650705,
           -0.006278780451648208,
           0.06370878738601522,
           0.13692258776160426,
           0.0024325894245571197,
           -0.07055430159315798,
           0.10116376079378152,
           0.0926298571752509,
           -0.1013565718814631,
           -0.004975096145574225,
           0.1258749980037151,
           0.02297556099976405,
           0.1940019003760161,
           0.1038942367124235,
           -0.11533689252224948,
           0.0966518028601322,
           -0.05510141613836592,
           0.09752453746658125,
           0.06363799324285252,
           0.05365484318875931,
           -0.21510969532320115,
           -0.2858399813612118,
           0.009764258825206,
           0.015217349397598823,
           -0.09427773275017601,
           0.12323268125031689,
           0.06028877776108658,
           0.0016284058914076748,
           0.03869675022937546,
           0.04999596357330417,
           0.08003727088874996,
           0.04741738690799766,
           0.0042002404543807,
           0.004206943716303923,
           0.01003487299100924,
           0.0472111409942268,
           0.04025477227035663,
           0.14056873702962314,
           0.07509038903408978,
           0.021408395908275688,
           -0.007369037782299662,
           0.0159799511129108,
           -0.08312421119050287,
           -0.1032240103475095,
           0.070448008250373,
           0.08805003879166091,
           0.017796116528603287,
           0.03731172213026176,
           0.10952729648788122,
           0.004688772588639388,
           -0.10327567022099393,
           -0.08176004900093178,
           -0.03352712789074404,
           -0.048023018895285194,
           -0.001726722129369557,
           0.2572534999646164,
           -0.0013840871984764967,
           0.13403612633252204,
           0.012753849112662056,
           0.05413105858219874,
           -0.013413026195690844,
           0.033526444607908504,
           -0.12025616634845519,
           -0.05141318149623073,
           -0.08390673647197491,
           -0.048023018895285194,
           -0.14522503318926452,
           0.048795844654546505,
           0.045431221284068714,
           -0.18233845790487774,
           -0.0058739064815232726,
           0.04353639655065282,
           0.049543073794068075,
           -0.014515697825940818,
           0.06949932989122454,
           -0.049532069369917005,
           0.07488417649466782,
           -0.05932438535445577,
           -0.19746809430176165,
           0.05430868570929666,
           -0.21994520101110585,
           0.07800087776436693,
           -0.011987651370632678,
           -0.14591271626718097,
           -0.016609933579770947,
           -0.06268244673552292,
           -0.041415931943840766,
           -0.02497752711733836,
           -0.29432120873869466,
           -0.020750047401842362,
           -0.05054358002483113,
           -0.07266120099394545,
           -0.08457118108828857,
           0.02994767765964423,
           0.03706231099790972,
           -0.0020126418686681447,
           0.4475057195847828,
           0.010650145886858347,
           -0.00804055314416831,
           0.0365586954109223,
           0.039566851425652035,
           0.10933585913981168,
           0.057967003809551415,
           0.3956150898050097,
           -0.0036171032731715552,
           0.12078144323474012,
           -0.04440208531554907,
           -0.14040234739191454,
           -0.01423136652381444,
           0.12613882028891293,
           -0.027372429937673515,
           0.05607862234735256,
           0.032685046465459576,
           0.10625414995965543,
           0.1126839453341669,
           0.023141231280017778,
           -0.048890717894040966,
           0.07436612255465305,
           0.0008296735494173946,
           0.04227240908928066,
           0.1127961482435409,
           -0.16278482180385848,
           0.010613802473991988,
           0.021118028793153425,
           0.13773905571762007,
           0.05555097684142663,
           -0.12252449511870778,
           0.0873336386922132,
           0.04782372671189907,
           0.08551248985422713,
           -0.19726603580516452,
           -0.14090994589296504,
           0.009596753948192207,
           0.03082928305958865,
           -0.28583576702786984,
           -0.05514638452849345,
           0.01771856612533472,
           -0.05457493133088396,
           0.06113954766137341,
           0.14405265955776453,
           -0.17594877696904215,
           -0.07782361626527544,
           0.1345946474934225,
           0.0005492429465712797,
           -0.00709613217707462,
           0.01039590468977747,
           -0.0363898492951842,
           0.016005015239724227,
           -0.037192381715570925,
           -0.0942944920904555,
           -0.07828932617602155,
           0.09236148051377313,
           -0.014426585475264417,
           -0.06574876925346891,
           -0.11642291711297838,
           -0.15303323764401197,
           0.07469229075186551,
           -0.013233113559021225,
           0.046457223119037404,
           -0.038396963143597265,
           -0.23816936446572473,
           0.0027864240330328516,
           -0.07775987459972124,
           0.10203569348467668,
           -0.03729752509319757,
           0.1736931067029811,
           0.06465367014402204,
           0.014996273351855641,
           0.048451658229522965,
           0.08134967225996917,
           -0.007398690364668523,
           -0.11187911036413185,
           0.014526985538327996,
           -0.09308548054306363,
           -0.08806163705748082,
           0.08100922451155546,
           0.025069601975155568,
           0.03673217074107944,
           0.016988406513679735,
           0.04509068475085641,
           -0.001416412617515529,
           -0.13056657294887142,
           -0.0027487952773341965,
           -0.09233020794179854,
           -0.12033421755996683,
           0.0373447236769101,
           0.0909217883353195,
           0.05362486767673685,
           0.1286648363938061,
           0.03595842546871122,
           0.04071255578392082,
           -0.10696983239928445,
           -0.0373216989843982,
           -0.2557237693716031,
           0.00029181873477381054,
           0.06803925468354709,
           0.055938967662184674,
           0.03160452366271769,
           0.016310989563792688,
           -0.021521791887860214,
           -0.0016525863858949236,
           -0.06948151638080335,
           0.005733148787271352,
           -0.0203770882480551,
           -0.07180196400533997,
           0.006285873976397022,
           0.2432302593287247,
           0.08162602769456012,
           -0.0044460885538242755,
           0.02680470920649606,
           -0.11653509782778179,
           -0.02056263075373554,
           -0.0665108547598765,
           0.047229490955912966,
           0.015423177884006573,
           0.16013747781638601,
           -0.017967267525682472,
           -0.08255214634024256,
           -0.028245549539973488,
           -0.004516958106508181,
           0.10383540667448733,
           0.021883289474664672,
           0.0713529361629226,
           -0.02788013487758007,
           0.0849504282611585,
           0.0069141766817719915,
           0.023483530560570252,
           -0.12056954309231566
          ],
          "coloraxis": "coloraxis",
          "symbol": "circle"
         },
         "mode": "markers",
         "name": "",
         "scene": "scene",
         "showlegend": false,
         "type": "scatter3d",
         "x": [
          0.34485803302822426,
          0.09065814568087938,
          0.3178579191022381,
          0.23219041662678097,
          0.24432656564808192,
          0.30323210574313286,
          0.14101584791653746,
          0.21970879451495973,
          0.19934705809668532,
          0.34190850816272594,
          0.11955055075017076,
          0.20170342471011168,
          0.16801290011425685,
          0.16857666394641047,
          0.18917198625449305,
          0.17107829057471957,
          0.24250678206252316,
          0.2013058684382261,
          0.38950739914951954,
          0.6390610065183443,
          0.17239396996281475,
          0.15755265706653337,
          0.2380064735270254,
          0.28578717599618597,
          0.2620899033631108,
          0.1342370245394557,
          0.17877171832260638,
          0.1146918838114313,
          0.11975327137527557,
          0.28657198469953005,
          0.2913669246280642,
          0.36947275377410316,
          0.16906338752436256,
          0.14132720438252405,
          0.29423980266462213,
          0.16788787789475115,
          0.17059663638008854,
          0.15333585261122498,
          0.2625320956209351,
          0.18029886801611703,
          0.199976664352318,
          0.1038343705875594,
          0.17890657597744583,
          0.24589905478273505,
          0.1262002478302569,
          0.23297554531871167,
          0.40757732155974824,
          0.18285214808576278,
          0.12256129357968636,
          0.48615476786216333,
          0.12728726212989103,
          0.18255354546460306,
          0.19039603318587267,
          0.25114979574502055,
          0.19483520556130388,
          0.3451759603232726,
          0.134499847636127,
          0.09811406755595004,
          0.09380408462033915,
          0.37694714726641776,
          0.5229082154129389,
          0.24701590401464021,
          0.3840947532578826,
          0.3146846272073936,
          0.11118349776073277,
          0.12564284527759165,
          0.23504951510369881,
          0.18255354546460306,
          0.37832579846334946,
          0.18411479399445088,
          0.0799638386454968,
          0.23588611264050022,
          0.46238405394609194,
          0.16392409289605095,
          0.06369240841571641,
          0.12084948042380456,
          0.26927356317925183,
          0.2299961771301108,
          0.10588668721372141,
          0.24829547756606107,
          0.1301112907780208,
          0.17681240549961258,
          0.44731375458126893,
          0.2026540859134307,
          0.2628044095027796,
          0.17669290405334115,
          0.08767008700769799,
          0.21716551502658454,
          0.4576837924648588,
          0.3614982970288309,
          0.17220746466638553,
          0.23902789231805785,
          0.4190811554013448,
          0.16434563046037662,
          0.2807666224836612,
          0.19830001866977776,
          0.49375711544442064,
          0.2108435578596203,
          0.1481656917021856,
          0.06799152458071767,
          0.169584153664417,
          0.3472420736727264,
          0.2097746017250491,
          0.25983335253855044,
          0.2096237204658946,
          0.2679534777319672,
          0.26601748339250236,
          0.47126142892380224,
          0.23853680068812358,
          0.3073067964136792,
          0.1595836628383135,
          0.09347817399145136,
          0.30725963696450054,
          0.1697872563909587,
          0.32966944813185967,
          0.31417272380850686,
          0.13625550896467928,
          0.18376302013971318,
          0.2567943950634028,
          0.18075810290819155,
          0.1366319284998653,
          0.22593359158775847,
          0.1458901856775029,
          0.13227916857255728,
          0.08551973853522007,
          0.15848301616909358,
          0.11784626615074677,
          0.2634074841920724,
          0.10130842008945562,
          0.23284195648605213,
          0.1725242483065248,
          0.34246655071658716,
          0.20833892633138143,
          0.18682502520055197,
          0.28481731639855346,
          0.11709052916863971,
          0.20380655541033357,
          0.21584546824113365,
          0.25592386002268014,
          0.2153961718277284,
          0.1756732988247364,
          0.12631011457787492,
          0.22009578486456377,
          0.0954442383135423,
          0.5270448942497852,
          0.31771448926470147,
          0.07628060020288095,
          0.1085444474942913,
          0.22958922984252317,
          0.37902057411804596,
          0.1178282856952855,
          0.23015293460411756,
          0.41052856758773437,
          0.14626195968502886,
          0.4844461449989376,
          0.3763706157124226,
          0.1475165857218301,
          0.19712785055097176,
          0.22502401451041992,
          0.3694388802441017,
          0.3032964835192019,
          0.17730715938055747,
          0.1802733808477207,
          0.16241413102184135,
          0.14205501987025212,
          0.20545673186328584,
          0.20677964957423625,
          0.22936532098236292,
          0.23528398937087033,
          0.25272114737228973,
          0.12605431175452936,
          0.15893135314565868,
          0.32900271624621036,
          0.1594041644961743,
          0.21580921820920237,
          0.34190850816272594,
          0.22867660343751864,
          0.23954611187963132,
          0.341756824136123,
          0.20821492787183926,
          0.11033372385759796,
          0.24436664102143746,
          0.12254239576338999,
          0.18816805901800665,
          0.1501872106922129,
          0.11226017025726936,
          0.14686725511088974,
          0.2195007977221226,
          0.17618240064387947,
          0.23954611187963132,
          0.242235953440513,
          0.13724541883166608,
          0.06412838550402968,
          0.3333645194105266,
          0.3121991791786673,
          0.41049685883307013,
          0.3527995351045473,
          0.13138446759816425,
          0.18247267008726042,
          0.10778357344336954,
          0.38133206155815746,
          0.3273566920613523,
          0.44795112454921165,
          0.11129271318035168,
          0.4911338540764081,
          0.134499847636127,
          0.13478772252585303,
          0.20567143072533917,
          0.21813421533925534,
          0.14746991166955392,
          0.2406484446127018,
          0.25178149716299286,
          0.31684305481012204,
          0.23809815366618364,
          0.20359201041220926,
          0.17130936894177742,
          0.1935195305261035,
          0.23516837190655296,
          0.12904530327156247,
          0.2947258829916733,
          0.2966596544524227,
          0.23840144447026596,
          0.16521134791117087,
          0.21820852712073996,
          0.1482812821758741,
          0.25673112262728415,
          0.1961316709108995,
          0.2460368523941827,
          0.12360961384144735,
          0.22891780014245267,
          0.20175270693756459,
          0.35716193637135935,
          0.2785656802400531,
          0.26294065032743374,
          0.32858381267413,
          0.19407635440359905,
          0.23206750833036544,
          0.2261452720993244,
          0.1626268924955628,
          0.1561363242484008,
          0.19958927581120317,
          0.17522945900645345,
          0.13684869695672391,
          0.07501685803436864,
          0.18898769697447115,
          0.43822829012781256,
          0.0947811687501501,
          0.12278098458727467,
          0.24805985457812096,
          0.21996752983006362,
          0.2376540084369746,
          0.26328847540935707,
          0.16434103574507472,
          0.1301112907780208,
          0.21565590560636286,
          0.2886521180450004,
          0.1961989844993965,
          0.28617885535424364,
          0.2933712219442645,
          0.17680636251608225,
          0.16879585793920432,
          0.18378884697742168,
          0.15795146783576366,
          0.17669290405334115,
          0.22621220790684177,
          0.20494860762777517,
          0.17670232113457546,
          0.20537754285843368,
          0.1235507057327855,
          0.08261469400119184,
          0.3380100604996783,
          0.2701577480556748,
          0.23195576900343648,
          0.18197449473229407,
          0.31454585989227796,
          0.3776194561057436,
          0.10766620965047521,
          0.3795839985028021,
          0.5396674069693879,
          0.22596303260849546,
          0.13504989591877248,
          0.09854009001589428,
          0.14589849721075068,
          0.16694685495273298,
          0.6390610065183443,
          0.23833231055778792,
          0.14655909201065873,
          0.15075020027420064,
          0.18150623543353225,
          0.2567943950634028,
          0.16390717575545782,
          0.07309035225926984,
          0.11110456032727477,
          0.4777960227048057,
          0.15366382716346827,
          0.16696262346254911,
          0.08234760729321473,
          0.2224967410859984,
          0.19035534125516096,
          0.15174801672611954,
          0.1606399357335851,
          0.1591737807451942,
          0.11491287725297752,
          0.23105492344065134,
          0.09704247201532983,
          0.20808203852647736,
          0.24706463934450115,
          0.2545906280883238,
          0.20767374852748816,
          0.10701995849460412,
          0.13465782385132422,
          0.19237790676148178,
          0.23052191805159855,
          0.1247380758454997,
          0.2846326733397048,
          0.1714277560906428,
          0.09168365107462881,
          0.6183051808239266,
          0.11677465529614528,
          0.09860716407305338,
          0.3470512606462899,
          0.12511932550614452,
          0.11651426789470935,
          0.17404485484773516,
          0.13026567744446022,
          0.2271083713168458,
          0.1385442248791161,
          0.23264859089196527,
          0.19560614962766434,
          0.1654222637712743,
          0.1826434015762943,
          0.16504322727316412,
          0.15896692038733412,
          0.15624520487475307,
          0.23507520669438534,
          0.16367848959310954,
          0.2515627887206172,
          0.10943821428254921,
          0.16209504105108075,
          0.2115629751851202,
          0.1564392819455885,
          0.1926140744734199,
          0.08616605152036586,
          0.17319896961018807,
          0.31548158638072643,
          0.20199098665697962,
          0.16613326220751312,
          0.22067366936896055,
          0.2631135524493314,
          0.09277544765992303,
          0.18377443842045868,
          0.5298533521533592
         ],
         "y": [
          0.21280233785942562,
          -0.02986151031100679,
          0.08343416410340877,
          -0.17135992224535576,
          -0.13774993038855698,
          0.08055261851557835,
          -0.15229066679359457,
          0.0357439658567894,
          -0.17413519541895858,
          0.03754394650086511,
          -0.1064072512431153,
          -0.25274077691375796,
          -0.03934897128748608,
          -0.11704049027044634,
          -0.11848863930402026,
          -0.09230128972102068,
          -0.16658003608563796,
          -0.17219378285734835,
          0.20610486862119465,
          0.3853569049469707,
          -0.05455635805996563,
          -0.03672566356691527,
          0.10906394167094759,
          -0.13149249022289808,
          0.03934355877626263,
          -0.09410532793828953,
          -0.03544738927197771,
          -0.13470520493792665,
          -0.0655399343853645,
          -0.09409756435473689,
          0.022254227736920196,
          0.08158459165189236,
          -0.05613200068027661,
          -0.07252045622382768,
          0.0486592342554014,
          -0.11224012982683543,
          -0.055494668162518655,
          -0.040317774574233356,
          0.12894890782810703,
          -0.015908087154834594,
          -0.14597003113506282,
          -0.07361450858007686,
          -0.1286366308008718,
          -0.014880613341030868,
          -0.04104299631419083,
          -0.0929538618455877,
          0.2849804454254666,
          -0.04947344254338613,
          -0.037694952931499846,
          0.11221754106189813,
          -0.01666377475979258,
          -0.23769892440831702,
          -0.06063022218859792,
          -0.1164683856881,
          -0.0024551803840873404,
          0.05146035702672494,
          -0.1938733918136813,
          -0.08641900439580115,
          -0.040956868058281866,
          0.05662109503078098,
          0.4526804458489314,
          -0.07225647361640777,
          0.026561007233447897,
          -0.08016215971577723,
          -0.07043945317409106,
          -0.14811580776228603,
          -0.13295845081033958,
          -0.23769892440831702,
          0.10467279075765584,
          -0.0473250075810293,
          -0.09627896148378416,
          0.10271093530482021,
          0.31993515362727576,
          -0.10396944328857857,
          -0.02138260166029509,
          -0.06197134733295899,
          0.054142223980599605,
          -0.022336984166913466,
          -0.08527392085779796,
          -0.05566060999082058,
          -0.07517548859248165,
          -0.018437554633845332,
          0.22696940894192819,
          -0.11659005360325259,
          0.02743542809605609,
          -0.1381089554841551,
          -0.060883202840936186,
          -0.10763004258386237,
          0.23109811881263764,
          -0.005645842137762326,
          -0.08305098541803156,
          -0.17287603617822184,
          0.24070052946363993,
          -0.09121056739452563,
          -0.06790186707352161,
          -0.15232812547465854,
          0.19768336355831737,
          -0.056435292120525254,
          0.049946322001789,
          -0.030172457226048523,
          -0.15714815969220886,
          0.11421648567042332,
          0.014984696470876172,
          -0.18557013761732993,
          -0.031865591106796244,
          0.09574316087035711,
          -0.20681437149064685,
          0.3969836104137909,
          -0.07699573225363622,
          -0.029334466600336853,
          -0.10887483791032602,
          -0.06413350205170174,
          0.0032881319467980064,
          -0.029242826501964327,
          0.25156985447678104,
          0.07656771429226165,
          0.013766956985136258,
          -0.02894929413921486,
          0.07825901812766842,
          -0.1477968071254385,
          -0.08136560089227829,
          0.003657452950311832,
          -0.0751915352460031,
          -0.05715832822623697,
          -0.0675828568609711,
          -0.10174383300889922,
          -0.04470124242136468,
          0.1370857575767734,
          -0.062707742657142,
          -0.11084554099280937,
          0.06039767806246941,
          0.15446842013445486,
          -0.18597425378520913,
          -0.19174724305186974,
          -0.2162587763118523,
          -0.028162198729038627,
          -0.043267717163860214,
          0.018228593203144277,
          -0.1491684407767132,
          -0.09894079872820513,
          -0.16485400247898296,
          -0.07434133782285188,
          -0.13555018938815913,
          -0.04552310909876838,
          0.2960319567214411,
          -0.0407427156566144,
          -0.08758129527785315,
          -0.027379413984101143,
          -0.07136520976442802,
          0.05070440930074416,
          -0.08884269598963995,
          -0.12480807761486877,
          0.2217018713452894,
          -0.07961069121407724,
          0.40533603032769583,
          0.2718885960301469,
          0.011974551547006182,
          0.06651710968591824,
          -0.15478410612649268,
          0.2336939865913827,
          0.11355781540446658,
          -0.03338008363396536,
          0.0465721243225981,
          -0.06473991922251543,
          -0.08702691583791577,
          -0.121578521089142,
          -0.18513737826852203,
          -0.04774139724550696,
          -0.2643554697521309,
          -0.08255666510219568,
          -0.08518861252121857,
          -0.09986368610353823,
          0.12116283172954598,
          -0.06482217037491166,
          -0.08488189132308631,
          0.03754394650086511,
          -0.12003819806400921,
          -0.14078970319268233,
          0.1005810657736571,
          -0.03044382017682629,
          -0.08658457207752235,
          0.12624499041418089,
          -0.06089873273909341,
          -0.1168878325442957,
          -0.1313446472160298,
          -0.13812504521091892,
          -0.14213454649854676,
          -0.11343402004652857,
          -0.14573232919674386,
          -0.14078970319268233,
          -0.05944340913718866,
          -0.10357981102304803,
          -0.0449865998383698,
          -0.02068546493621224,
          -0.1412538023083999,
          0.23145457065893374,
          0.07141494515865916,
          -0.10487011571942181,
          -0.0655924941644073,
          -0.07863592798834226,
          0.24258356403162668,
          0.13169492926952348,
          0.09800836644072941,
          -0.03387566801411463,
          0.1166699360731062,
          -0.1938733918136813,
          -0.11760646806973189,
          -0.14120347459694688,
          -0.18053126326301847,
          -0.1506311807919231,
          -0.12192574202073868,
          -0.0847654158517112,
          -0.08923170278369971,
          -0.051918958514617586,
          -0.08278410341546924,
          -0.10088851153164397,
          -0.12898508367757563,
          -0.06834481845533973,
          -0.12224141069802238,
          0.1642664827551534,
          -0.08723485543010129,
          -0.16566115407655793,
          -0.12838407954592315,
          -0.10132614734381765,
          -0.040004735992384036,
          -0.0017635366504481188,
          -0.08273558640059084,
          -0.14109361443117127,
          -0.0635297843788883,
          -0.0022789992016898552,
          -0.09687584184291832,
          -0.011803146952455735,
          0.006912436693678718,
          -0.21165699806109897,
          0.07325469861886483,
          -0.03709283504612304,
          -0.09237725628087813,
          -0.03877256546071347,
          -0.09217716719532641,
          -0.04820056865923309,
          -0.11977894212605486,
          -0.05991569913829628,
          -0.09089721286078994,
          -0.03344787941996674,
          0.13382128574305632,
          0.0948900661407188,
          -0.017333445922935096,
          -0.10677244054216317,
          -0.15328749737558134,
          -0.013244036102889836,
          -0.20311633594813316,
          -0.10635430356690065,
          -0.027254260023603705,
          -0.07517548859248165,
          -0.12216217559758204,
          -0.11149080212763336,
          -0.06287556910920405,
          -0.0549201957770158,
          -0.025199154826858406,
          -0.07641570391515878,
          -0.06377090960371339,
          -0.18348058323213234,
          -0.07817396294859204,
          -0.1381089554841551,
          -0.18607375648305172,
          -0.13404350100801987,
          -0.008405976429220056,
          -0.08477847254054016,
          -0.10805583632460138,
          -0.05932158538459288,
          0.02626399816470083,
          0.021476071349149757,
          -0.09673990748575885,
          -0.11383349226058115,
          -0.07971137656404123,
          0.24656412981568596,
          -0.12632172360356536,
          -0.04664278050607272,
          0.2932180643864909,
          -0.06686254535320027,
          -0.018369966694953728,
          -0.13924545069935915,
          -0.03511482188704583,
          -0.1033701931525222,
          0.3853569049469707,
          -0.08646423146038007,
          -0.13205632394483144,
          -0.08673021992847194,
          -0.12034499164943141,
          0.07825901812766842,
          -0.03368357586551112,
          -0.05864715096478633,
          -0.06936020038844208,
          0.33012176266716714,
          -0.13264587220263557,
          -0.11649333589439013,
          -0.07838410133708054,
          -0.12856142578308255,
          -0.07513993316666939,
          -0.01656380153000957,
          -0.09253266905045877,
          -0.12355342034935818,
          -0.09683366973596104,
          -0.08598876337318416,
          -0.08424237008194052,
          -0.10641197090991586,
          -0.08567399874788113,
          -0.03788652377696762,
          -0.16137452013311843,
          -0.07600236544461474,
          -0.06025780960464251,
          0.04313682945460234,
          -0.006536191362715756,
          -0.024235467630379637,
          -0.029391665654107196,
          -0.0995264872003804,
          -0.043830245215629574,
          0.3629340101051655,
          -0.12122455102691242,
          -0.08666640467708986,
          0.08323310518701942,
          -0.1054624831975441,
          -0.012890024234413811,
          -0.16087482216993265,
          -0.10188751817692059,
          -0.08538728889273736,
          -0.12892514051658088,
          -0.11490335894871655,
          -0.1257173966241849,
          -0.14064731900961425,
          -0.06544067187434463,
          -0.026247920753348766,
          -0.12650769992487787,
          -0.08437962664769788,
          -0.09530822583608822,
          -0.12135951345281433,
          -0.09733781028331583,
          -0.045823191707428886,
          -0.0987169973666666,
          -0.17885632231569568,
          -0.10045157623114442,
          -0.09394041615254241,
          -0.10856037833212662,
          -0.10412855064188564,
          0.17738688785332732,
          -0.05711308337435823,
          -0.08413080012660644,
          -0.05849698643140538,
          0.07208820994545362,
          -0.09850483486872616,
          -0.056322413410124304,
          0.236818807406669
         ],
         "z": [
          0.34729529860723046,
          -0.014468459145969793,
          -0.21959299698959703,
          -0.14493866699759073,
          -0.1035762925384932,
          0.28139203195901924,
          -0.017044371768424393,
          -0.05292961148234811,
          0.010357278272789604,
          0.441413321964355,
          -0.018273980042218477,
          0.03831980454981793,
          -0.041536290534332845,
          0.019865223825308434,
          -0.028316723943054553,
          -0.0044108985215252925,
          0.20089918356719905,
          -0.011333906025989892,
          0.0636612335397877,
          -0.24348095352909993,
          -0.07483246890642076,
          -0.04798531085276492,
          -0.09609957454649973,
          -0.02635978691909889,
          -0.08620040944191977,
          0.14994773059265581,
          -0.08078557565881442,
          0.034965826879176286,
          0.053857793310810885,
          -0.11914147521155953,
          0.12007390834539153,
          -0.00934510787614298,
          -0.07812362559236838,
          0.0002942747210137378,
          0.12471199725448563,
          -0.02593752201492812,
          0.031722060177538036,
          -0.07471817703295805,
          -0.07454153161313787,
          -0.029421494807276505,
          0.011029663741713299,
          -0.005568822558912839,
          0.07857709048117842,
          0.20184425947825074,
          0.06528273874073807,
          -0.1033139234279801,
          0.4133468086648035,
          -0.05020721728811007,
          0.07391698304085505,
          -0.11541121846075149,
          0.011273360341672452,
          0.040084627099723304,
          -0.04308357791380502,
          -0.06782822734976965,
          -0.019511395501074478,
          -0.2452779152641649,
          0.0487144384051431,
          0.03189373114368228,
          0.011740997954003924,
          -0.20304531485948252,
          0.16598532710672012,
          -0.03667708615512056,
          0.005463545782558517,
          -0.1896448708709897,
          -0.005446609369056308,
          -0.04435038211957736,
          -0.06773566123759542,
          0.040084627099723304,
          -0.16365960510934618,
          -0.07883606917921482,
          0.026502559907077523,
          0.20817893220002986,
          0.14422452853817905,
          -0.07030203067725617,
          0.03945318961081515,
          0.02789399533460068,
          -0.04272833945458011,
          -0.20538135830110713,
          -0.008416941606849027,
          0.046353728893620084,
          0.04806819154043955,
          -0.1256035596874644,
          0.11638669286249151,
          0.014571584253350247,
          -0.10688228517301437,
          0.009158584270913608,
          0.021731059768676172,
          0.027055812861168826,
          0.11194179401405298,
          0.05951719404501671,
          -0.0721119060507453,
          0.03951415884166846,
          0.1801112945127913,
          -0.05126921013272523,
          -0.09299635971235344,
          -0.11469527322352335,
          -0.2176837152349971,
          -0.04566579516614651,
          -0.037823398552897805,
          -0.02014561976258074,
          0.012412725906899354,
          -0.01867266929251187,
          0.14594133639207657,
          -0.13009557533728006,
          -0.11989136505881945,
          -0.13383119267838423,
          -0.13715737435391376,
          0.05455948524166881,
          0.18000450951404312,
          0.09532172195341411,
          -0.04003721841322155,
          0.0016045244384861942,
          0.03130884455669381,
          -0.08766190797798222,
          0.3128049495216247,
          0.1608048735372028,
          -0.027303529403785245,
          0.032463228627049895,
          -0.1287885869308775,
          -0.033329548158912585,
          -0.06809349089246972,
          0.06856973922068273,
          0.05494504893949304,
          0.0159790078844335,
          0.055889236619420704,
          0.038184572261893084,
          -0.030253753195646636,
          -0.0645815105545624,
          0.015263432417332785,
          0.01944367003606926,
          -0.10430331053199235,
          -0.046280531429049795,
          0.008987410561027582,
          0.05457653646007878,
          -0.04091818649223158,
          0.09544776912973897,
          -0.09427404970920861,
          -0.054069067211548784,
          0.11138643132872121,
          -0.03145308672858373,
          0.011635173545143807,
          0.0017776917638211863,
          -0.010663790092199695,
          -0.002743302589598112,
          -0.23426225707608356,
          -0.2353328846504811,
          -0.013829341319623933,
          0.006205284786866802,
          0.14392314246567126,
          -0.24477740275340382,
          -0.06333598186883208,
          0.015129395302131797,
          -0.011537205888047044,
          -0.07874381045975419,
          0.19422263120919409,
          0.07694159637524767,
          0.1296755663624232,
          0.188554031270491,
          0.0848903289605677,
          0.04803111315021304,
          0.20268462811879034,
          -0.10399177080678931,
          -0.061076926369785185,
          0.009131608986644736,
          0.011737406373765186,
          0.2334502616434194,
          0.07581200263996833,
          0.20982456716042142,
          0.07205794722011316,
          -0.007966791393358357,
          0.024506335655917758,
          -0.03544323574382401,
          -0.07903313752588824,
          -0.036248422284585406,
          -0.08942574037503746,
          0.441413321964355,
          -0.02280682250003844,
          0.19639929066355302,
          -0.20335226414391008,
          -0.058317376937304766,
          0.031671412058309305,
          -0.08962165923576855,
          -0.0063510365912139,
          0.1536926856906389,
          0.05093483198216664,
          0.04654028780926197,
          -0.026828766493219466,
          -0.06123034851736808,
          0.016586109941104835,
          0.19639929066355302,
          0.25269356468490123,
          0.04694913649291111,
          -0.059410516842419124,
          -0.04160101406678759,
          -0.047280112764859064,
          -0.020145794910165077,
          0.12168942706062279,
          -0.0028398102008627964,
          -0.03828135836320487,
          0.08645556088873996,
          0.10469796089707704,
          0.2982552769856768,
          -0.09393204422745773,
          -0.008215888988472466,
          -0.1277470069638214,
          0.0487144384051431,
          0.0850799639850142,
          0.012710191166274785,
          0.2522543785120739,
          0.0652001540132969,
          -0.03971339738494574,
          -0.018934909139608644,
          -0.18786566763454207,
          -0.0750908182867113,
          -0.09540568840206431,
          -0.022577516463370747,
          0.02589118641170637,
          -0.06872203334483276,
          0.05125700301304908,
          0.2355826568753535,
          -0.09968111098523476,
          0.006169759119876086,
          0.038934872413292694,
          -0.021165012970034685,
          -0.06271674663342883,
          0.0014928619552365416,
          -0.11765538864253298,
          -0.09904800443637539,
          -0.011546448709591112,
          -0.019123223942065733,
          -0.08633257879703528,
          -0.17097106352817526,
          0.28154998795304403,
          -0.0504573584537732,
          0.3054567565445349,
          0.022269077079627973,
          -0.12628254518291057,
          -0.10749149616378595,
          0.020213263903221052,
          0.03626454918804281,
          -0.06405254491029043,
          -0.06406225488482524,
          0.05653442644899909,
          -0.008820378729597636,
          -0.10563812305042881,
          -0.01005944647789018,
          0.0840726313835849,
          -0.03233728961236908,
          0.030441150311718516,
          0.04756644250099599,
          0.053568450138022035,
          -0.020087278828871014,
          -0.016701773860274292,
          0.04806819154043955,
          -0.07297028331280253,
          -0.10594199379431435,
          0.14261944564575235,
          0.07246337665993303,
          -0.20352285702458242,
          0.014161445396456496,
          -0.02879954118504204,
          0.004160678649732167,
          0.01960664385923884,
          0.009158584270913608,
          0.001898379294118886,
          0.025202236624557076,
          -0.017886434096406615,
          0.08350119908421628,
          0.08805201502024167,
          -0.010330347556002692,
          -0.001362861714735777,
          -0.1475330021091774,
          0.053840781030021836,
          -0.0335753767128478,
          -0.10192648109602923,
          0.053118803267156435,
          0.10590402777263055,
          0.3054164192879401,
          -0.0482415847906097,
          0.2435088539765595,
          -0.02001154753758007,
          0.056478545662794005,
          -0.06904084722193474,
          0.15541038633335807,
          -0.24348095352909993,
          0.007425468353170285,
          -0.03180791872268857,
          -0.07620681162557952,
          -0.07889113464113172,
          -0.1287885869308775,
          0.04812359622539962,
          0.015864243216306667,
          0.03602646821385818,
          0.10920449857669305,
          0.026595278274700658,
          0.026298765956387825,
          0.03507062317879105,
          0.04542686233766751,
          0.005132166548793258,
          -0.06832898380614369,
          0.15481190576142734,
          0.04839879178273715,
          0.046859350597812106,
          -0.027689666947838514,
          0.011508901366833149,
          0.013996617014813468,
          -0.11766773447090341,
          -0.11048833991848332,
          -0.01264265573160418,
          0.016950463967296915,
          -0.01889789297218639,
          -0.09485161232995168,
          -0.03115668285990171,
          -0.06616248000149176,
          -0.0714446138983435,
          0.09876035271188492,
          -0.011368891309262302,
          -0.22688297574183577,
          0.0388716115693662,
          -0.06563230981072951,
          -0.027929921366307134,
          -0.0043186299614517525,
          -0.03254879838172799,
          0.18994208297703583,
          0.14287718089175624,
          -0.003842686727445685,
          0.0016810126539501056,
          -0.09901115922624351,
          0.01414994158920603,
          0.03589698271409987,
          0.030351234846718853,
          -0.06671038843774088,
          0.004213775892766434,
          0.16427612932307498,
          -0.1397716512552783,
          0.18465229016392234,
          -0.07615099801969556,
          -0.02988756169405014,
          -0.029675039376307114,
          -0.04893969138122529,
          0.024039274673966757,
          -0.02408550486973221,
          0.05077295414409593,
          0.1810761653978729,
          -0.0043504940620190296,
          -0.0018026631318183383,
          0.002697965337328248,
          -0.04104561040726275,
          -0.17925305617802806,
          0.01952134178321501,
          -0.05621645080922209,
          -0.25184007063973773
         ]
        }
       ],
       "layout": {
        "coloraxis": {
         "colorbar": {
          "title": {
           "text": "color"
          }
         },
         "colorscale": [
          [
           0,
           "#0d0887"
          ],
          [
           0.1111111111111111,
           "#46039f"
          ],
          [
           0.2222222222222222,
           "#7201a8"
          ],
          [
           0.3333333333333333,
           "#9c179e"
          ],
          [
           0.4444444444444444,
           "#bd3786"
          ],
          [
           0.5555555555555556,
           "#d8576b"
          ],
          [
           0.6666666666666666,
           "#ed7953"
          ],
          [
           0.7777777777777778,
           "#fb9f3a"
          ],
          [
           0.8888888888888888,
           "#fdca26"
          ],
          [
           1,
           "#f0f921"
          ]
         ]
        },
        "legend": {
         "tracegroupgap": 0
        },
        "margin": {
         "t": 60
        },
        "scene": {
         "domain": {
          "x": [
           0,
           1
          ],
          "y": [
           0,
           1
          ]
         },
         "xaxis": {
          "title": {
           "text": "pc_1"
          }
         },
         "yaxis": {
          "title": {
           "text": "pc_2"
          }
         },
         "zaxis": {
          "title": {
           "text": "pc_3"
          }
         }
        },
        "template": {
         "data": {
          "bar": [
           {
            "error_x": {
             "color": "#2a3f5f"
            },
            "error_y": {
             "color": "#2a3f5f"
            },
            "marker": {
             "line": {
              "color": "#E5ECF6",
              "width": 0.5
             }
            },
            "type": "bar"
           }
          ],
          "barpolar": [
           {
            "marker": {
             "line": {
              "color": "#E5ECF6",
              "width": 0.5
             }
            },
            "type": "barpolar"
           }
          ],
          "carpet": [
           {
            "aaxis": {
             "endlinecolor": "#2a3f5f",
             "gridcolor": "white",
             "linecolor": "white",
             "minorgridcolor": "white",
             "startlinecolor": "#2a3f5f"
            },
            "baxis": {
             "endlinecolor": "#2a3f5f",
             "gridcolor": "white",
             "linecolor": "white",
             "minorgridcolor": "white",
             "startlinecolor": "#2a3f5f"
            },
            "type": "carpet"
           }
          ],
          "choropleth": [
           {
            "colorbar": {
             "outlinewidth": 0,
             "ticks": ""
            },
            "type": "choropleth"
           }
          ],
          "contour": [
           {
            "colorbar": {
             "outlinewidth": 0,
             "ticks": ""
            },
            "colorscale": [
             [
              0,
              "#0d0887"
             ],
             [
              0.1111111111111111,
              "#46039f"
             ],
             [
              0.2222222222222222,
              "#7201a8"
             ],
             [
              0.3333333333333333,
              "#9c179e"
             ],
             [
              0.4444444444444444,
              "#bd3786"
             ],
             [
              0.5555555555555556,
              "#d8576b"
             ],
             [
              0.6666666666666666,
              "#ed7953"
             ],
             [
              0.7777777777777778,
              "#fb9f3a"
             ],
             [
              0.8888888888888888,
              "#fdca26"
             ],
             [
              1,
              "#f0f921"
             ]
            ],
            "type": "contour"
           }
          ],
          "contourcarpet": [
           {
            "colorbar": {
             "outlinewidth": 0,
             "ticks": ""
            },
            "type": "contourcarpet"
           }
          ],
          "heatmap": [
           {
            "colorbar": {
             "outlinewidth": 0,
             "ticks": ""
            },
            "colorscale": [
             [
              0,
              "#0d0887"
             ],
             [
              0.1111111111111111,
              "#46039f"
             ],
             [
              0.2222222222222222,
              "#7201a8"
             ],
             [
              0.3333333333333333,
              "#9c179e"
             ],
             [
              0.4444444444444444,
              "#bd3786"
             ],
             [
              0.5555555555555556,
              "#d8576b"
             ],
             [
              0.6666666666666666,
              "#ed7953"
             ],
             [
              0.7777777777777778,
              "#fb9f3a"
             ],
             [
              0.8888888888888888,
              "#fdca26"
             ],
             [
              1,
              "#f0f921"
             ]
            ],
            "type": "heatmap"
           }
          ],
          "heatmapgl": [
           {
            "colorbar": {
             "outlinewidth": 0,
             "ticks": ""
            },
            "colorscale": [
             [
              0,
              "#0d0887"
             ],
             [
              0.1111111111111111,
              "#46039f"
             ],
             [
              0.2222222222222222,
              "#7201a8"
             ],
             [
              0.3333333333333333,
              "#9c179e"
             ],
             [
              0.4444444444444444,
              "#bd3786"
             ],
             [
              0.5555555555555556,
              "#d8576b"
             ],
             [
              0.6666666666666666,
              "#ed7953"
             ],
             [
              0.7777777777777778,
              "#fb9f3a"
             ],
             [
              0.8888888888888888,
              "#fdca26"
             ],
             [
              1,
              "#f0f921"
             ]
            ],
            "type": "heatmapgl"
           }
          ],
          "histogram": [
           {
            "marker": {
             "colorbar": {
              "outlinewidth": 0,
              "ticks": ""
             }
            },
            "type": "histogram"
           }
          ],
          "histogram2d": [
           {
            "colorbar": {
             "outlinewidth": 0,
             "ticks": ""
            },
            "colorscale": [
             [
              0,
              "#0d0887"
             ],
             [
              0.1111111111111111,
              "#46039f"
             ],
             [
              0.2222222222222222,
              "#7201a8"
             ],
             [
              0.3333333333333333,
              "#9c179e"
             ],
             [
              0.4444444444444444,
              "#bd3786"
             ],
             [
              0.5555555555555556,
              "#d8576b"
             ],
             [
              0.6666666666666666,
              "#ed7953"
             ],
             [
              0.7777777777777778,
              "#fb9f3a"
             ],
             [
              0.8888888888888888,
              "#fdca26"
             ],
             [
              1,
              "#f0f921"
             ]
            ],
            "type": "histogram2d"
           }
          ],
          "histogram2dcontour": [
           {
            "colorbar": {
             "outlinewidth": 0,
             "ticks": ""
            },
            "colorscale": [
             [
              0,
              "#0d0887"
             ],
             [
              0.1111111111111111,
              "#46039f"
             ],
             [
              0.2222222222222222,
              "#7201a8"
             ],
             [
              0.3333333333333333,
              "#9c179e"
             ],
             [
              0.4444444444444444,
              "#bd3786"
             ],
             [
              0.5555555555555556,
              "#d8576b"
             ],
             [
              0.6666666666666666,
              "#ed7953"
             ],
             [
              0.7777777777777778,
              "#fb9f3a"
             ],
             [
              0.8888888888888888,
              "#fdca26"
             ],
             [
              1,
              "#f0f921"
             ]
            ],
            "type": "histogram2dcontour"
           }
          ],
          "mesh3d": [
           {
            "colorbar": {
             "outlinewidth": 0,
             "ticks": ""
            },
            "type": "mesh3d"
           }
          ],
          "parcoords": [
           {
            "line": {
             "colorbar": {
              "outlinewidth": 0,
              "ticks": ""
             }
            },
            "type": "parcoords"
           }
          ],
          "pie": [
           {
            "automargin": true,
            "type": "pie"
           }
          ],
          "scatter": [
           {
            "marker": {
             "colorbar": {
              "outlinewidth": 0,
              "ticks": ""
             }
            },
            "type": "scatter"
           }
          ],
          "scatter3d": [
           {
            "line": {
             "colorbar": {
              "outlinewidth": 0,
              "ticks": ""
             }
            },
            "marker": {
             "colorbar": {
              "outlinewidth": 0,
              "ticks": ""
             }
            },
            "type": "scatter3d"
           }
          ],
          "scattercarpet": [
           {
            "marker": {
             "colorbar": {
              "outlinewidth": 0,
              "ticks": ""
             }
            },
            "type": "scattercarpet"
           }
          ],
          "scattergeo": [
           {
            "marker": {
             "colorbar": {
              "outlinewidth": 0,
              "ticks": ""
             }
            },
            "type": "scattergeo"
           }
          ],
          "scattergl": [
           {
            "marker": {
             "colorbar": {
              "outlinewidth": 0,
              "ticks": ""
             }
            },
            "type": "scattergl"
           }
          ],
          "scattermapbox": [
           {
            "marker": {
             "colorbar": {
              "outlinewidth": 0,
              "ticks": ""
             }
            },
            "type": "scattermapbox"
           }
          ],
          "scatterpolar": [
           {
            "marker": {
             "colorbar": {
              "outlinewidth": 0,
              "ticks": ""
             }
            },
            "type": "scatterpolar"
           }
          ],
          "scatterpolargl": [
           {
            "marker": {
             "colorbar": {
              "outlinewidth": 0,
              "ticks": ""
             }
            },
            "type": "scatterpolargl"
           }
          ],
          "scatterternary": [
           {
            "marker": {
             "colorbar": {
              "outlinewidth": 0,
              "ticks": ""
             }
            },
            "type": "scatterternary"
           }
          ],
          "surface": [
           {
            "colorbar": {
             "outlinewidth": 0,
             "ticks": ""
            },
            "colorscale": [
             [
              0,
              "#0d0887"
             ],
             [
              0.1111111111111111,
              "#46039f"
             ],
             [
              0.2222222222222222,
              "#7201a8"
             ],
             [
              0.3333333333333333,
              "#9c179e"
             ],
             [
              0.4444444444444444,
              "#bd3786"
             ],
             [
              0.5555555555555556,
              "#d8576b"
             ],
             [
              0.6666666666666666,
              "#ed7953"
             ],
             [
              0.7777777777777778,
              "#fb9f3a"
             ],
             [
              0.8888888888888888,
              "#fdca26"
             ],
             [
              1,
              "#f0f921"
             ]
            ],
            "type": "surface"
           }
          ],
          "table": [
           {
            "cells": {
             "fill": {
              "color": "#EBF0F8"
             },
             "line": {
              "color": "white"
             }
            },
            "header": {
             "fill": {
              "color": "#C8D4E3"
             },
             "line": {
              "color": "white"
             }
            },
            "type": "table"
           }
          ]
         },
         "layout": {
          "annotationdefaults": {
           "arrowcolor": "#2a3f5f",
           "arrowhead": 0,
           "arrowwidth": 1
          },
          "coloraxis": {
           "colorbar": {
            "outlinewidth": 0,
            "ticks": ""
           }
          },
          "colorscale": {
           "diverging": [
            [
             0,
             "#8e0152"
            ],
            [
             0.1,
             "#c51b7d"
            ],
            [
             0.2,
             "#de77ae"
            ],
            [
             0.3,
             "#f1b6da"
            ],
            [
             0.4,
             "#fde0ef"
            ],
            [
             0.5,
             "#f7f7f7"
            ],
            [
             0.6,
             "#e6f5d0"
            ],
            [
             0.7,
             "#b8e186"
            ],
            [
             0.8,
             "#7fbc41"
            ],
            [
             0.9,
             "#4d9221"
            ],
            [
             1,
             "#276419"
            ]
           ],
           "sequential": [
            [
             0,
             "#0d0887"
            ],
            [
             0.1111111111111111,
             "#46039f"
            ],
            [
             0.2222222222222222,
             "#7201a8"
            ],
            [
             0.3333333333333333,
             "#9c179e"
            ],
            [
             0.4444444444444444,
             "#bd3786"
            ],
            [
             0.5555555555555556,
             "#d8576b"
            ],
            [
             0.6666666666666666,
             "#ed7953"
            ],
            [
             0.7777777777777778,
             "#fb9f3a"
            ],
            [
             0.8888888888888888,
             "#fdca26"
            ],
            [
             1,
             "#f0f921"
            ]
           ],
           "sequentialminus": [
            [
             0,
             "#0d0887"
            ],
            [
             0.1111111111111111,
             "#46039f"
            ],
            [
             0.2222222222222222,
             "#7201a8"
            ],
            [
             0.3333333333333333,
             "#9c179e"
            ],
            [
             0.4444444444444444,
             "#bd3786"
            ],
            [
             0.5555555555555556,
             "#d8576b"
            ],
            [
             0.6666666666666666,
             "#ed7953"
            ],
            [
             0.7777777777777778,
             "#fb9f3a"
            ],
            [
             0.8888888888888888,
             "#fdca26"
            ],
            [
             1,
             "#f0f921"
            ]
           ]
          },
          "colorway": [
           "#636efa",
           "#EF553B",
           "#00cc96",
           "#ab63fa",
           "#FFA15A",
           "#19d3f3",
           "#FF6692",
           "#B6E880",
           "#FF97FF",
           "#FECB52"
          ],
          "font": {
           "color": "#2a3f5f"
          },
          "geo": {
           "bgcolor": "white",
           "lakecolor": "white",
           "landcolor": "#E5ECF6",
           "showlakes": true,
           "showland": true,
           "subunitcolor": "white"
          },
          "hoverlabel": {
           "align": "left"
          },
          "hovermode": "closest",
          "mapbox": {
           "style": "light"
          },
          "paper_bgcolor": "white",
          "plot_bgcolor": "#E5ECF6",
          "polar": {
           "angularaxis": {
            "gridcolor": "white",
            "linecolor": "white",
            "ticks": ""
           },
           "bgcolor": "#E5ECF6",
           "radialaxis": {
            "gridcolor": "white",
            "linecolor": "white",
            "ticks": ""
           }
          },
          "scene": {
           "xaxis": {
            "backgroundcolor": "#E5ECF6",
            "gridcolor": "white",
            "gridwidth": 2,
            "linecolor": "white",
            "showbackground": true,
            "ticks": "",
            "zerolinecolor": "white"
           },
           "yaxis": {
            "backgroundcolor": "#E5ECF6",
            "gridcolor": "white",
            "gridwidth": 2,
            "linecolor": "white",
            "showbackground": true,
            "ticks": "",
            "zerolinecolor": "white"
           },
           "zaxis": {
            "backgroundcolor": "#E5ECF6",
            "gridcolor": "white",
            "gridwidth": 2,
            "linecolor": "white",
            "showbackground": true,
            "ticks": "",
            "zerolinecolor": "white"
           }
          },
          "shapedefaults": {
           "line": {
            "color": "#2a3f5f"
           }
          },
          "ternary": {
           "aaxis": {
            "gridcolor": "white",
            "linecolor": "white",
            "ticks": ""
           },
           "baxis": {
            "gridcolor": "white",
            "linecolor": "white",
            "ticks": ""
           },
           "bgcolor": "#E5ECF6",
           "caxis": {
            "gridcolor": "white",
            "linecolor": "white",
            "ticks": ""
           }
          },
          "title": {
           "x": 0.05
          },
          "xaxis": {
           "automargin": true,
           "gridcolor": "white",
           "linecolor": "white",
           "ticks": "",
           "title": {
            "standoff": 15
           },
           "zerolinecolor": "white",
           "zerolinewidth": 2
          },
          "yaxis": {
           "automargin": true,
           "gridcolor": "white",
           "linecolor": "white",
           "ticks": "",
           "title": {
            "standoff": 15
           },
           "zerolinecolor": "white",
           "zerolinewidth": 2
          }
         }
        }
       }
      },
      "text/html": [
       "<div>\n",
       "        \n",
       "        \n",
       "            <div id=\"1cd41c5e-9a02-4639-bf2c-9cb85290a58b\" class=\"plotly-graph-div\" style=\"height:525px; width:100%;\"></div>\n",
       "            <script type=\"text/javascript\">\n",
       "                require([\"plotly\"], function(Plotly) {\n",
       "                    window.PLOTLYENV=window.PLOTLYENV || {};\n",
       "                    \n",
       "                if (document.getElementById(\"1cd41c5e-9a02-4639-bf2c-9cb85290a58b\")) {\n",
       "                    Plotly.newPlot(\n",
       "                        '1cd41c5e-9a02-4639-bf2c-9cb85290a58b',\n",
       "                        [{\"customdata\": [[\"Evair Vieira de Melo\", \"PP\", \" estabelece medidas excepcionais de protecao social aos trabalhadores autonomos que enumera<br> a serem adotadas durante o periodo de enfrentamento da emergencia de<br> saude publica de importancia internacional decorrente do coronavirus responsavel pelo surto<br> de 2019\"], [\"Reginaldo Lopes\", \"PT\", \" autoriza o poder executivo a conceder perdao de divida de hospitais<br> privados sem fins lucrativos sem certificado de cebas que disponibilizarem leitos<br> sus para o tratamento da covid19\"], [\"Jos\\u00e9 Nelto\", \"PODE\", \" dispoe sobre dispensacao de prescricao de receita para aquisicao de medicamentos<br> de uso continuo em casos de calamidade publica e quarentena nos<br> moldes da lei 13 979 de 06 de fevereiro de 2020<br>\"], [\"Kim Kataguiri\", \"DEM\", \" institui a suspensao do pagamento de jetons em casos de pandemia<br> e estado de calamidade publica\"], [\"Ted Conti\", \"PSB\", \" dispoe sobre a utilizacao extraordinaria do fundo especial de financiamento de<br> campanha previsto na lei ndeg 9 504 de 30 de setembro<br> de 1997 no combate a pandemia de covid19\"], [\"Benedita da Silva\", \"PT\", \" dispoe sobre regras aplicaveis ao trabalho domestico em razao das medidas<br> para enfrentamento da emergencia de saude publica de importancia internacional decorrente<br> do novo coronavirus identificado como sarscov2 e da outras providencias\"], [\"Ruy Carneiro\", \"PSDB\", \" suspende a cobranca de juros do cartao de credito e cheque<br> especial em razao da pandemia do corona virus\"], [\"Jos\\u00e9 Ricardo\", \"PT\", \" altera a lei no 13 979 de 2020 para instituir na<br> forma que disciplina o comite nacional de articulacao das acoes de<br> enfrentamento ao coronavirus e monitoramento dos casos e dos impactos do<br> covid19 em todos os entes federados\"], [\"Andr\\u00e9 Janones\", \"AVANTE\", \" suspende pelo periodo de 90 noventa dias em razao da pandemia<br> do covid19 a execucao das ordens de despejo de locacoes de<br> imoveis residenciais e comerciais e da outras providencias\"], [\"Efraim Filho\", \"DEM\", \" institui medidas de protecao ao emprego e ao empregado durante periodo<br> de emergencia de saude publica de importancia internacional relacionada ao coronavirus<br> covid19\"], [\"Jo\\u00e3o Daniel\", \"PT\", \" estabelece a suspencao de cobranca de juros e multas em razao<br> do corona virus covid19\"], [\"Mara Rocha\", \"PSDB\", \" dispoe sobre a suspensao na cobranca do pagamento do programa de<br> financiamento estudantil fies pelo prazo de 90 noventa dias devido a<br> pandemia do coronavirus covid19\"], [\"Joice Hasselmann\", \"PSL\", \" dispoe sobre alteracao nos arts 131 e 269 e inclusao do<br> art 267a do codigo penal decretolei no 2 848 de 7<br> de dezembro de 1940 no sentido de se aumentar a repressao<br> de crimes relacionados com a pandemia de coronavirus\"], [\"J\\u00fanior Mano\", \"PL\", \" dispoe sobre a suspensao das acoes de despejo por falta de<br> pagamento relativas a locacoes residenciais e nao residenciais de imovel urbano<br> pelo prazo de noventa dias em razao das dificuldades economicas geradas<br> pelas medidas de combate ao covid19\"], [\"Pompeo de Mattos\", \"PDT\", \" estabelece a suspensao temporaria dos cortes do fornecimento por falta de<br> pagamento das tarifas dos servicos publicos de agua esgoto energia eletrica<br> e internet a suspensao do cancelamento dos planos de saude e<br> a suspensao do pagamento de contratos bancarios que especifica nos proximos<br> tres meses ou pelo periodo de duracao da pandemia por covid<br> 19 na forma aqui estabelecida\"], [\"Dr. Luiz Antonio Teixeira Jr. - PP/RJ ,  Dr. Zacharias Calil - DEM/GO ,  Mariana Carvalho\", \"PSDB\", \" acrescenta artigo a lei no 11 947 de 2009 que rege<br> entre outras materias o programa nacional de alimentacao escolar pnae para<br> autorizar em carater excepcional durante o periodo de suspensao das aulas<br> em razao da pandemia do coronavirus a distribuicao direta aos pais<br> e responsaveis dos estudantes das escolas publicas de educacao basica de<br> generos alimenticios adquiridos com esses recursos\"], [\"Jo\\u00e3o H. Campos\", \"PSB\", \" dispoe sobre acoes medidas e diretrizes acerca do enfrentamento ao coronavirus<br> covid19 no intuito de regulamentar a concessao de aposentadorias durante o<br> periodo de calamidade publica e da outras providencias\"], [\"Patricia Ferraz - PODE/AP ,  Mariana Carvalho - PSDB/RO ,  Clarissa Garotinho - PROS/RJ ,  Jorge Solla - PT/BA ,  Hiran Gon\\u00e7alves - PP/RR ,  Professora Rosa Neide - PT/MT ,  Liziane Bayer - PSB/RS ,  Tereza Nelma - PSDB/AL ,  Norma Ayub - DEM/ES ,  Bia Kicis - PSL/DF ,  Aline Sleutjes - PSL/PR ,  Paulo Ganime - NOVO/RJ ,  Lucas Gonzalez - NOVO/MG ,  Marcel van Hattem - NOVO/RS ,  Alexis Fonteyne - NOVO/SP ,  Tiago Mitraud - NOVO/MG ,  Adriana Ventura - NOVO/SP ,  Alexandre Padilha - PT/SP ,  Vinicius Poit - NOVO/SP ,  Enrico Misasi - PV/SP ,  Marcelo Freixo - PSOL/RJ ,  Ac\\u00e1cio Favacho\", \"PROS\", \" permite o saque emergencial de valores do fundo de garantia por<br> tempo de servico em razao da pandemia de coronavirus 2019ncov\"], [\"Geninho Zuliani\", \"DEM\", \" altera a lei no 13 979 de 6 de fevereiro de<br> 2020 para permitir que os contribuintes pessoas fisicas e juridicas possam<br> destinar recursos do imposto de renda ao ministerio da saude para<br> o enfrentamento da emergencia em saude publica de importancia internacional espin<br> decorrente do coronavirus covid19\"], [\"JHC\", \"PSB\", \" altera a lei 13 979_2020 para dispor sobre as medidas protetivas<br> ao contribuinte para enfrentamento do estado de calamidade publica reconhecido pelo<br> decreto legislativo no 6 de 20 de marco de 2020 e<br> da emergencia de saude publica de importancia internacional decorrente do coronavirus<br> covid19 decretada pelo ministro de estado da saude em 3 de<br> fevereiro de 2020 nos termos do disposto na lei no 13<br> 979 de 6 de fevereiro de 2020\"], [\"Carla Zambelli - PSL/SP ,  Major Fabiana - PSL/RJ ,  Dr. Luiz Ovando - PSL/MS ,  Guiga Peixoto - PSL/SP ,  Aline Sleutjes - PSL/PR ,  Junio Amaral - PSL/MG ,  Luiz Lima - PSL/RJ ,  Coronel Armando - PSL/SC ,  General Gir\\u00e3o - PSL/RN ,  Coronel Chris\\u00f3stomo - PSL/RO ,  Filipe Barros - PSL/PR ,  Bia Kicis - PSL/DF ,  Helio Lopes - PSL/RJ ,  Dr. Jaziel\", \"PL\", \" acrescenta o art 60a a lei no 9 096 de 19<br> de setembro de 1995 bem como acrescenta o art 105b a<br> lei 9 504 de 30 de setembro de 1997 para destinacao<br> dos fundos partidario e eleitoral ao combate e prevencao da pandemia<br> covid19\"], [\"Andr\\u00e9 Figueiredo\", \"PDT\", \" altera a lei no 8 212 de 24 de julho de<br> 1991 para prorrogar as datas de vencimento das contribuicoes devidas ao<br> empregador domestico em decorrencia do covid19\"], [\"Dra. Soraya Manato - PSL/ES ,  Jorge Solla - PT/BA ,  Carmen Zanotto\", \"CIDADANIA\", \" altera a lei no 13 979 de 6 de fevereiro de<br> 2020 para dispor sobre a simplificacao dos processos de pedido de<br> protecao dos direitos relativos a propriedade industrial que versem sobre produtos<br> e tecnologias uteis no combate a covid19\"], [\"S\\u00e2mia Bomfim - PSOL/SP ,  David Miranda - PSOL/RJ ,  Fernanda Melchionna - PSOL/RS ,  Tal\\u00edria Petrone - PSOL/RJ ,  Luiza Erundina - PSOL/SP ,  Tereza Nelma - PSDB/AL ,  Mara Rocha - PSDB/AC ,  Professora Rosa Neide - PT/MT ,  Margarida Salom\\u00e3o - PT/MG ,  L\\u00eddice da Mata - PSB/BA ,  Maria do Ros\\u00e1rio\", \"PT\", \" dispoe sobre a protecao de mulheres em situacao de violencia durante<br> a vigencia do estado de calamidade publica com efeitos ate 31<br> de dezembro de 2020 ou enquanto durarem medidas de quarentena e<br> restricoes de atividades no contexto da pandemia do covid19 novo coronavirus<br>\"], [\"Ricardo Izar\", \"PP\", \" dispoe sobre a reducao de 30 trinta por cento no valor<br> das mensalidades das instituicoes de ensino fundamental medio e superior da<br> rede privada que estejam com funcionamento suspenso por forca das medidas<br> de isolamento e quarentena previstas na lei no 13 979 de<br> 6 de fevereiro de 2020\"], [\"Jo\\u00e3o H. Campos\", \"PSB\", \" dispoe sobre acoes medidas e diretrizes acerca do enfrentamento ao coronavirus<br> covid19 a partir da adocao de uma aliquota extra de contribuicao<br> sobre lucro liquido das instituicoes financeiras\"], [\"Kim Kataguiri\", \"DEM\", \" altera a lei n o 13 103 de 2015 para isentar<br> veiculos de carga do pagamento de pedagios em periodos de pandemia<br>\"], [\"Gil Cutrim\", \"PDT\", \" institui o imposto sobre grandes fortunas de forma emergencial destinado exclusivamente<br> ao combate da pandemia do covid19\"], [\"Perp\\u00e9tua Almeida - PCdoB/AC ,  Alice Portugal - PCdoB/BA ,  Renildo Calheiros - PCdoB/PE ,  Henrique Fontana - PT/RS ,  Orlando Silva - PCdoB/SP ,  Jandira Feghali - PCdoB/RJ ,  Wolney Queiroz\", \"PDT\", \" cria no programa bolsa familia o beneficio provisorio variavel e emergencial<br> vinculado ao periodo de enfrentamento de pandemias e da outras providencias<br>\"], [\"Clarissa Garotinho - PROS/RJ ,  Coronel Tadeu\", \"PSL\", \" altera a lei no 9 504 de 30 de setembro de<br> 1997 lei das eleicoes para em casos de declaracao de pandemia<br> pela organizacao mundial da saude oms autorizar o poder executivo a<br> destinar todos os recursos do fundo especial de financiamento de campanhas<br> para acoes voltadas ao enfrentamento de crise na saude publica e<br> na economia\"], [\"H\\u00e9lio Leite\", \"DEM\", \" suspende o pagamento do parcelamento de dividas no ambito do programa<br> de modernizacao da gestao e de responsabilidade fiscal do futebol brasileiro<br> profut criado prela lei no 13 155 de 4 de agosto<br> de 2015 durante periodo de emergencia de saude publica de importancia<br> internacional relacionada ao coronavirus covid19\"], [\"Jos\\u00e9 Nelto\", \"PODE\", \" assegura aos servidores das areas de saude e seguranca gratificacao por<br> atividade essencial no periodo do estado de emergencia de saude publica<br> decorrente da pandemia do novo coronavirus covid19 nos moldes da lei<br> 13 979 de 06 de fevereiro de 2020\"], [\"Gil Cutrim\", \"PDT\", \" acrescenta dispositivo aos arts 56 e 76 da lei no 8<br> 078 de 11 de setembro de 1990 codigo do consumidor para<br> alterar a sancao aplicada as infracoes das normas de defesa do<br> consumidor e incluir os casos de epidemia pandemia e calamidade publica<br>\"], [\"Fernando Rodolfo\", \"PL\", \" proibicao de corte dos servicos de energia eletrica e agua durante<br> a crise do coronavirus\"], [\"Rubens Bueno\", \"CIDADANIA\", \" prorroga o prazo para a apresentacao da declaracao de ajuste anual<br> do imposto de renda pessoa fisica referente ao exercicio de 2020<br> no anocalendario de 2019 em decorrencia da emergencia de saude publica<br> de importancia internacional relacionada ao coronavirus covid19\"], [\"Reginaldo Lopes\", \"PT\", \" autoriza o poder executivo a isentar temporariamente do pagamento de servico<br> de abastecimento de agua esgotamento sanitario e fornecimento de energia eletrica<br> ao idoso aposentado e ou segurado pelo bpc em periodo de<br> restricao a movimentacao e contato pelo motivo da pandemia covid19 corona<br> virus\"], [\"Andr\\u00e9 Janones\", \"AVANTE\", \" autoriza o saque mensal de um salariominimo das contas vinculadas do<br> fgts ate o final de 2020 como forma de garantir renda<br> as pessoas durante o enfrentamento da pandemia do coronavirus covid19\"], [\"Tiririca\", \"PL\", \" institui medidas para amparar o circo e profissionais circenses nos casos<br> de pandemias e estado de calamidade publica\"], [\"Marcelo Freixo - PSOL/RJ ,  T\\u00falio Gad\\u00ealha\", \"PDT\", \" dispoe sobre medidas temporarias destinadas a seguridade social enquanto durar as<br> medidas de isolamento ou quarentena prevista na lei ndeg 13 979<br> de 6 de fevereiro de 2020 na forma que menciona\"], [\"M\\u00e1rcio Biolchi\", \"MDB\", \" altera a lei ndeg 13 885 de 17 de outubro de<br> 2019 para autorizar a destinacao por estados distrito federal e municipios<br> de valores arrecadados com os leiloes dos volumes excedentes da cessao<br> onerosa a aquisicao de equipamentos hospitalares para o combate ao coronavirus<br> covid19\"], [\"AJ Albuquerque\", \"PP\", \" proibe por 12 doze meses as instituicoes financeiras e de protecao<br> ao credito de negativar pessoa fisica e juridica inadimplente com o<br> pagamento de obrigacao contratual vencida no periodo de calamidade publica decretada<br> no brasil em decorrencia da pandemia covid19 e da outras providencias<br>\"], [\"Assis Carvalho\", \"PT\", \" determina que os recursos publicos aplicados em publicidade de utilidade publica<br> sejam aplicados no combate a pandemia do coronavirus\"], [\"Joice Hasselmann\", \"PSL\", \" trata da suspensao do uso de cartoes coorporativos por quatro meses<br> devido a vigencia da calamidade publica decorrente da pandemia do coronavirus<br> covid19\"], [\"Alice Portugal\", \"PCdoB\", \" estabelece medidas emergenciais de protecao a mulher vitima de violencia domestica<br> durante a emergencia de saude publica decorrente da pandemia do coronavirus<br>\"], [\"Tal\\u00edria Petrone - PSOL/RJ ,  Airton Faleiro - PT/PA ,  David Miranda - PSOL/RJ ,  Rodrigo Agostinho - PSB/SP ,  T\\u00falio Gad\\u00ealha - PDT/PE ,  Professora Rosa Neide - PT/MT ,  Nat\\u00e1lia Bonavides - PT/RN ,  Marcon - PT/RS ,  Luiza Erundina\", \"PSOL\", \" dispoe sobre o plano emergencial para enfrentamento ao coronavirus nos territorios<br> indigenas assegurando a garantia de direitos sociais e territoriais bem como<br> com medidas especificas de vigilancia sanitaria e epidemiologica para prevencao do<br> contagio e da disseminacao da covid19\"], [\"L\\u00e9o Motta\", \"PSL\", \" altera o art 16c da lei no 9 504 de 30<br> de setembro de 1997 lei das eleicoes em virtude da declaracao<br> de pandemia pela organizacao mundial da saude oms em relacao ao<br> covid19 para autorizar o poder executivo a destinar todos os recursos<br> do fundo especial de financiamento de campanha fefc das eleicoes municipais<br> de 2020 a acoes destinadas a enfrentar as crises decorrentes das<br> consequencias que geraram a declaracao acima mencionada\"], [\"Poder Executivo\", \"Poder Executivo\", \" dispoe sobre as medidas sanitarias para enfrentamento da emergencia de saude<br> publica de importancia internacional decorrente do coronavirus\"], [\"Dr. Luiz Antonio Teixeira Jr. - PP/RJ ,  Mariana Carvalho - PSDB/RO ,  Dra. Soraya Manato - PSL/ES ,  Dr. Zacharias Calil - DEM/GO ,  Jorge Solla - PT/BA ,  Rodrigo Coelho - PSB/SC ,  Alexandre Padilha - PT/SP ,  Carmen Zanotto - CIDADANIA/SC ,  Adriana Ventura - NOVO/SP ,  Alexandre Serfiotis - PSD/RJ ,  Marcelo Calero - CIDADANIA/RJ ,  Paula Belmonte - CIDADANIA/DF ,  Dr. Frederico - PATRIOTA/MG ,  Patricia Ferraz - PODE/AP ,  M\\u00e1rio Heringer - PDT/MG ,  General Peternelli\", \"PSL\", \" altera a lei no 6 360 de 23 de setembro de<br> 1976 para que aconteca a liberacao imediata do uso de materiais<br> medicamentos equipamentos e insumos da area da saude para auxiliar no<br> combate a pandemia do covid19\"], [\"Tabata Amaral - PDT/SP ,  Tereza Nelma - PSDB/AL ,  Felipe Rigoni - PSB/ES ,  Fl\\u00e1via Arruda - PL/DF ,  Mariana Carvalho - PSDB/RO ,  Perp\\u00e9tua Almeida - PCdoB/AC ,  Mauro Benevides ,  Jo\\u00e3o H. Campos\", \"PSB\", \" institui a lei de resposta ao coronavirus e dispoe sobre a<br> renda minima de emergencia e o beneficio assistencial a trabalhadores informais<br>\"], [\"Christino Aureo\", \"PP\", \" altera os termos da lei ndeg 8 245 de 18 de<br> outubro de 1991 lei do inquilinato relativamente a suspensao da propositura<br> de acoes de despejo em face de inadimplencia em contratos de<br> locacao durante o periodo de enfrentamento do estado de calamidade publica<br> reconhecida pelo decreto legislativo ndeg 6 de 20 de marco de<br> 2020 e da emergencia de saude publica de importancia internacional decorrente<br> do coronavirus covid19 decretada pelo ministro de estado da saude em<br> 3 de fevereiro de 2020 como forma de auxiliar na preservacao<br> de empregos\"], [\"Gildenemyr\", \"PL\", \" classifica como acidente de trabalho a contaminacao pelo coronavirus dos profissionais<br> de saude ou operadores de atividades essenciais\"], [\"Mara Rocha\", \"PSDB\", \" dispoe sobre a suspensao na cobranca do pagamento de financiamento imobiliario<br> junto a bancos oficiais do governo federal pelo prazo de 90<br> noventa dias devido a pandemia do coronavirus covid19\"], [\"Vicentinho J\\u00fanior\", \"PL\", \" modifica a lei no 6259 de 30 de outubro de 2020<br> para garantir o acesso a vacinas a todos os caminhoneiros e<br> profissionais responsaveis pelos transportes de cargas durante o periodo de pandemia<br> do virus covid19corona virus\"], [\"Luis Tib\\u00e9\", \"AVANTE\", \" altera a lei 9 991 de 24 de julho de 2000<br> para dispor sobre a isencao das contas de energia eletrica para<br> os usuarios da tarifa social durante o periodo de calamidade publica<br> em razao do covid19\"], [\"Joenia Wapichana - REDE/RR ,  Airton Faleiro - PT/PA ,  Rodrigo Agostinho - PSB/SP ,  Patrus Ananias - PT/MG ,  Fernanda Melchionna - PSOL/RS ,  Alexandre Padilha - PT/SP ,  Tabata Amaral - PDT/SP ,  Carmen Zanotto - CIDADANIA/SC ,  Nat\\u00e1lia Bonavides\", \"PT\", \" altera a lei no 8 080 de 19 de setembro de<br> 1990 para definir mecanismo de financiamento especifico fortalecimento da rede sus<br> e medidas emergenciais para o enfrentamento de pandemias e calamidades em<br> saude publica junto aos povos indigenas no brasil\"], [\"Carlos Chiodini\", \"MDB\", \" dispoe sobre a suspensao de cobranca de agua energia eletrica e<br> telecomunicacao domiciliar em casos de calamidade publica e quarentena nos moldes<br> da lei 13 979 de 06 de fevereiro de 2020\"], [\"Benedita da Silva\", \"PT\", \" dispoe sobre a reducao proporcional e suspensao das obrigacoes das mensalidades<br> na rede privada de ensino superior durante a pandemia do covid19<br>\"], [\"Efraim Filho\", \"DEM\", \" reduz as aliquotas do pis_pasep e da cofins incidentes na importacao<br> e na comercializacao do mercado interno dos bens relacionados ao combate<br> a pandemia do coronavirus covid19\"], [\"Fl\\u00e1vio Nogueira\", \"PDT\", \" torna obrigatoria a internacao hospitalar de pessoas com mais de 79<br> setenta e nove anos de idade infectadas com coronavirus e da<br> outras providencias\"], [\"Joice Hasselmann\", \"PSL\", \" estabelece medidas trabalhistas durante o estado de calamidade publica reconhecido pelo<br> decreto legislativo no 6 de 20 de marco de 2020 decorrente<br> do coronavirus covid19\"], [\"L\\u00e9o Moraes\", \"PODE\", \" altera a lei no 13 979 de 6 de fevereiro de<br> 2020 com o objetivo de prever novas medidas para enfrentamento da<br> emergencia de saude publica de importancia internacional decorrente do coronavirus responsavel<br> pelo surto de 2019\"], [\"Miguel Lombardi\", \"PL\", \" altera a lei no 10 741 de 01 de outubro de<br> 2003 para permitir as entidades filantropicas de longa permanencia ou casaslares<br> a utilizacao da totalidade dos beneficios previdenciarios ou de assistencia social<br> dos atendidos durante as acoes de combate a epidemia de coronavirus<br> disease 2019 covid19 e em outras situacoes de reconhecimento do estado<br> de calamidade publica a fim de promover os cuidados com a<br> saude dos proprios idosos e da outras providencias\"], [\"Mariana Carvalho - PSDB/RO ,  Patricia Ferraz - PODE/AP ,  Dra. Soraya Manato - PSL/ES ,  Dr. Zacharias Calil - DEM/GO ,  Hiran Gon\\u00e7alves - PP/RR ,  Carmen Zanotto - CIDADANIA/SC ,  Tabata Amaral - PDT/SP ,  Alexandre Serfiotis - PSD/RJ ,  Alexandre Padilha - PT/SP ,  Rodrigo Coelho\", \"PSB\", \" dispoe sobre a proibicao da suspensao do fornecimento de energia eletrica<br> e dos servicos de abastecimento de agua e esgotamento sanitario por<br> inadimplencia dos usuarios residenciais durante a vigencia da situacao de emergencia<br> de saude publica decorrente da pandemia causada pelo coronavirus alterando a<br> lei no 13 979 de 6 de fevereiro de 2020\"], [\"Vilson da Fetaemg - PSB/MG ,  Danilo Cabral\", \"PSB\", \" dispoe sobre o incentivo emergencial para a aquisicao de produtos da<br> agricultura familiar visando amenizar os prejuizos da pandemia do covid19 e<br> do estado de calamidade publica reconhecido pelo decreto legislativo n 6<br> de 20 de marco de 2020 e da outras providencias\"], [\"Fernando Coelho Filho\", \"DEM\", \" disciplina as operacoes de credito a serem celebradas com o bndes<br> banco nacional de desenvolvimento economico e social como forma de mitigar<br> os impactos da crise instaurada em razao do covid19 perante os<br> grandes empregadores\"], [\"Silas C\\u00e2mara\", \"REPUBLIC\", \" fica proibido em todo territorio nacional a suspensao do fornecimento de<br> agua e energia enquanto perdurar a pandemia do covid19\"], [\"Gilson Marques\", \"NOVO\", \" dispoe sobre a antecipacao da comemoracao de feriados em casos de<br> estado de calamidade publica e epidemia do coronavirus covid19\"], [\"Mara Rocha\", \"PSDB\", \" dispoe sobre a suspensao na cobranca do pagamento de financiamento imobiliario<br> junto a bancos oficiais do governo federal pelo prazo de 90<br> noventa dias devido a pandemia do coronavirus covid19\"], [\"Fernanda Melchionna - PSOL/RS ,  S\\u00e2mia Bomfim - PSOL/SP ,  David Miranda - PSOL/RJ ,  Luiza Erundina - PSOL/SP ,  Marcelo Freixo\", \"PSOL\", \" cria ajuda financeira extraordinaria aos estados e municipios por meio de<br> adicional ao fundo de participacao dos estados e ao fundo de<br> participacao aos municipios no exercicio de 2020 em decorrencia da emergencia<br> em saude publica do coronavirus e estado de calamidade de que<br> trata a lei no 13 979 de 6 de fevereiro de<br> 2020 e o decreto legislativo no 6 de 20 de marco<br> de 2020\"], [\"Andr\\u00e9 Figueiredo\", \"PDT\", \" altera o decretolei no 5 452 de 1o de maio de<br> 1943 para instituir a suspensao de contrato de trabalho em decorrencia<br> do covid19\"], [\"Subtenente Gonzaga\", \"PDT\", \" regula a realizacao de operacoes compromissadas durante a pandemia do covid19<br> fucovid\"], [\"Marx Beltr\\u00e3o\", \"PSD\", \" dispoes sobre a prorrogacao dos emprestimos ou financiamento bancarios contratados por<br> pessoas fisicas ou juridicas prejudicadas pelas medidas sanitarias para enfrentamento da<br> emergencia de saude publica de importancia internacional decorrente da pandemia provocada<br> pelo coronavirus covid19\"], [\"Ted Conti\", \"PSB\", \" acrescenta dispositivo a lei n 13 979 de 6 de fevereiro<br> de 2020 a fim de dispor sobre o redirecionamento de recursos<br> ao sistema unico de saude sus para o custeio de acoes<br> de enfrentamento da emergencia de saude publica de importancia internacional decorrente<br> do coronavirus responsavel pelo surto de 2019\"], [\"T\\u00falio Gad\\u00ealha\", \"PDT\", \" dispoe sobre o controle do estado no combate a manipulacao e<br> ao abuso de precos em casos dedecretacao de pandemia ou estado<br> de calamidadepublica\"], [\"Andr\\u00e9 Figueiredo\", \"PDT\", \" estabelece medidas excepcionais para prevencao do contagio pela doenca covid19 em<br> agencias bancarias\"], [\"Arlindo Chinaglia\", \"PT\", \" dispoe sobre a suspensao das visitas no sistema prisional e a<br> realizacao de testes para deteccao da covid19 em toda a populacao<br> presidiaria a ser realizada e monitorada pelos servicos de saude componentes<br> do sus\"], [\"Jos\\u00e9 Guimar\\u00e3es\", \"PT\", \" veda a interrupcao de servicos publicos por inadimplemento de usuarios durante<br> situacao emergencial decorrente do surto do novo coronavirus declarada por autoridades<br> competentes dos entes federativos mediante alteracao da lei no 13 979<br> de 6 de fevereiro de 2020 e da outras providencias\"], [\"Mar\\u00edlia Arraes\", \"PT\", \" determina a licenca de trabalhadores incluidos nos grupos de risco do<br> covid19 gravidas e puerperas em virtude do estado de calamidade publica<br> reconhecido pelo decreto legislativo no 6 de 2020\"], [\"Professora Rosa Neide - PT/MT ,  Maria do Ros\\u00e1rio - PT/RS ,  Nilto Tatto - PT/SP ,  Enio Verri - PT/PR ,  Alencar Santana Braga - PT/SP ,  Jos\\u00e9 Guimar\\u00e3es - PT/CE ,  Margarida Salom\\u00e3o - PT/MG ,  Waldenor Pereira - PT/BA ,  Danilo Cabral - PSB/PE ,  L\\u00eddice da Mata - PSB/BA ,  Alexandre Padilha\", \"PT\", \" dispoe sobre a execucao do programa nacional de assistencia estudantil pnaes<br> em caso de pandemias doencas infectocontagiosas ou outras situacoes graves ou<br> emergenciais\"], [\"Miguel Lombardi\", \"PL\", \" dispoe sobre o repasse de forma extraordinaria dos recursos destinados ao<br> fundo especial de financiamento de campanha fefc no exercicio de 2020<br> para o enfrentamento da epidemia de coronavirus disease 2019 covid19 e<br> da outras providencias\"], [\"Jose Mario Schreiner\", \"DEM\", \" dispoe sobre incentivos fiscais para doacoes a entidades publicas ou privadas<br> sem fins lucrativos da area da saude que atuem no combate<br> a epidemia de coronavirus covid19\"], [\"Rubens Otoni\", \"PT\", \" altera dispositivos na lei ndeg 8080 de 19 de setembro de<br> 1990 para dispor sobre o atendimento domiciliar no ambito do sus<br> nos casos de isolamento social\"], [\"C\\u00e1ssio Andrade\", \"PSB\", \" altera lei n 13 979 de 6 de fevereiro de 2020<br> para destinar ao fundo nacional de saude percentuais destinados para o<br> pagamento de premios das loterias federais que especifica para fins de<br> financiamento das medidas para enfrentamento da emergencia de saude publica de<br> importancia internacional decorrente da pandemia provocada pelo coronavirus covid19\"], [\"Jos\\u00e9 Airton F\\u00e9lix Cirilo\", \"PT\", \" dispoe sobre a reducao em 50 do valor do botijao de<br> gas para familias de baixa renda desempregados micro e pequenas empresas<br> hospitais publicos e instituicoes de saude filantropicas durante o estado de<br> emergencia sanitaria em decorrencia da pandemia causada pelo covid19 coronavirus\"], [\"Ted Conti\", \"PSB\", \" altera a lei n 13 979 de 6 de fevereiro de<br> 2020 para fixar em cem por cento o desconto aplicavel aos<br> usuarios de baixa renda dos servicos de distribuicao de energia eletrica<br> e de abastecimento de agua e esgotamento sanitario e proibe a<br> suspensao do fornecimento desses servicos por inadimplemento dos usuarios residenciais enquanto<br> persistir a situacao emergencial decorrente da covid19\"], [\"Rosana Valle\", \"PSB\", \" permite o saque emergencial de valores do fundo de garantia por<br> tempo de servico causada pelo coronavirus covid19\"], [\"Major Fabiana\", \"PSL\", \" dispoe sobre a realizacao de teste rapido para deteccao do covid19<br> nas autoridades e agentes descritos no art 144 da constituicao federal<br>\"], [\"Patricia Ferraz\", \"PODE\", \" dispoe sobre a necessidade de reducao proporcional das mensalidades da rede<br> privada de ensino durante o plano de contingencia do novo coronavirus<br> emergencia em saude publica decreto de calamidade publica em ambito nacional<br>\"], [\"C\\u00e1ssio Andrade\", \"PSB\", \" altera a lei no 13 979 de 6 de fevereiro de<br> 2020 para destinar ao fundo nacional de saude percentuais destinados para<br> o pagamento de premios das loterias federais que especifica para fins<br> de financiamento das medidas para enfrentamento da emergencia de saude publica<br> de importancia internacional decorrente da pandemia provocada pelo coronavirus covid19\"], [\"Celso Sabino\", \"PSDB\", \" dispoe sobre a suspensao de procedimentos administrativos instaurados ou que venham<br> a ser instaurados para a apuracao de irregularidades administrativas na concessao<br> manutencao ou revisao de beneficios financeiros da assistencia social durante o<br> prazo de vigencia do estado de calamidade publica reconhecida pelo decreto<br> legislativo no 6 de 2020 em razao do enfrentamento da emergencia<br> de saude publica de importancia internacional decorrente do coronavirus covid19 e<br> da outras providencias\"], [\"Jaqueline Cassol\", \"PP\", \" isenta temporariamente o pagamento da tarifa social de energia eletrica criada<br> pela lei no 10 438 de 26 de abril de 2002<br> em decorrencia da pandemia covid19\"], [\"Aliel Machado\", \"PSB\", \" dispoe sobre a isencao do pagamento da taxa de pedagio em<br> rodovias federais enquanto perdurar a declaracao de pandemia do coronavirus pela<br> organizacao mundial de saude aos profissionais de transporte de alimentos combustiveis<br> e medicamentos e da outras providencias\"], [\"Ted Conti\", \"PSB\", \" acrescenta dispositivo a lei n 13 979 de 6 de janeiro<br> de 2020 que dispoe sobre as medidas para o enfrentamento da<br> emergencia de saude publica de importancia internacional decorrente do coronavirus responsavel<br> pelo surto de 2019 para permitir a movimentacao da conta vinculada<br> do trabalhador afetado por essas medidas no fundo de garantia por<br> tempo de servico fgts\"], [\"Carlos Chiodini\", \"MDB\", \" reconhece o estado de necessidade e estrito cumprimento do dever legal<br> para os agentes politicos que distribuirem bens valores ou beneficios para<br> amenizar as consequencias da pandemia do coronavirus covid19 enquanto perdurar o<br> estado de calamidade publica para isentar de crime ou infracao penal<br> eleitoral ou fiscal administrativa\"], [\"Capit\\u00e3o Wagner\", \"PROS\", \" altera a lei no 9 656 de 3 de junho de<br> 1998 que dispoe sobre os planos e seguros privados de assistencia<br> a saude para estabelecer a vedacao de reajuste das mensalidades dos<br> planos privados de assistencia a saude enquanto durarem os efeitos do<br> estado de calamidade publica declarado pelo decreto legislativo no 6 de<br> 2020 decorrente da pandemia do coronavirus covid19 e para determinar a<br> vedacao temporaria da suspensao ou rescisao unilateral dos contratos dos planos<br> privados de assistencia a saude pelo prazo de 90 dias\"], [\"Charlles Evangelista\", \"PSL\", \" dispoe sobre a suspensao das bandeiras tarifarias nas contas de energia<br> eletrica em casos de pandemia ou estado de calamidade publica instalada<br> no pais\"], [\"Luiz Ant\\u00f4nio Corr\\u00eaa\", \"PL\", \" suspende a decretacao ou o cumprimento se tiverem sido decretadas de<br> ordens judiciais de despejo de locatarios de imoveis urbanos locados sob<br> a regencia da lei no 8 245 de 18 de outubro<br> de 1991 por motivo de falta de pagamento de aluguel e<br> demais encargos contratuais e legais devidos enquanto perdurar o estado de<br> calamidade publica reconhecido pelo decreto legislativo no 6 de 20 de<br> marco de 2020 ou de emergencia de saude internacional decorrente do<br> coronavirus responsavel pelo surto de 2019 da doenca covid19 que foi<br> decretada pelo ministro de estado da saude em 3 de fevereiro<br> de 2020 nos termos do disposto na lei no 13 979<br> de 6 de fevereiro de 2020\"], [\"Delegado Ant\\u00f4nio Furtado\", \"PSL\", \" aumenta as penas aplicaveis aos crimes de violencia domestica e familiar<br> contra a mulher no caso de incidencia da lei no 11<br> 340 de 7 de agosto de 2006 a pena minima e<br> maxima sera o dobro do originalmente previsto enquanto durar o periodo<br> de estado de calamidade decretado em razao do coronavirus covid19\"], [\"C\\u00e9lio Studart\", \"PV\", \" insere o art 339a ao decretolei no 2 848 de 7<br> de fevereiro de 1940 tipificando a conduta propagacao de informacoes sabidamente<br> falsas em relacao a epidemias e pandemias que acometam a saude<br> publica nacional\"], [\"M\\u00e1rio Negromonte Jr.\", \"PP\", \" cria o fundo nacional de apoio a epidemias e pandemias\"], [\"J\\u00fanior Bozzella\", \"PSL\", \" dispoe sobre a suspensao temporaria de cobranca pagamento juros e multas<br> incidentes sobre dividas pelo periodo de 90 dias em funcao da<br> pandemia de coronavirus que atingiu o brasil\"], [\"Tadeu Alencar\", \"PSB\", \" cria beneficio para os trabalhadores da area das artes e da<br> cultura em virtude da emergencia em saude publica decorrente do coronavirus<br> de que trata a lei no 13 979 de 6 de<br> fevereiro de 2020 e da outras providencias\"], [\"Marcelo Ramos\", \"PL\", \" regulamenta o acordo direto para pagamento com desconto ou parcelado de<br> precatorios federais com a destinacao dos descontos obtidos pela uniao ao<br> enfrentamento da situacao de emergencia de saude publica de importancia internacional<br> relacionada ao coronavirus covid19 ou ao pagamento de dividas contraidas pela<br> uniao para fazer frente a tal situacao emergencial\"], [\"Paulo Pimenta\", \"PT\", \" determina a prorrogacao do prazo de entrega da declaracao do imposto<br> de renda de pessoa fisica por 60 dias em virtude do<br> estado de calamidade publica decretada pelo congresso nacional em decorrencia da<br> pandemia de coronavirus\"], [\"Delegado Waldir\", \"PSL\", \" altera o decretolei no 2 848 de 7 de dezembro de<br> 1940 codigo penal para codigo de processo penal para dispor sobre<br> o aumento da pena nos casos de crimes de furto e<br> roubo praticados durante estado de calamidade por pandemia\"], [\"Jos\\u00e9 Guimar\\u00e3es\", \"PT\", \" altera a lei no 7 565 de 19 de dezembro de<br> 1986 codigo brasileiro de aeronautica para dispor sobre a obrigatoriedade de<br> atendimento pelos operadores aeroportuarios de recomendacoes tecnicas expedidas pela agencia nacional<br> de vigilancia sanitaria anvisa e a lei no 13 979 de<br> 6 de fevereiro de 2020 lei coronavirus 2019 para dispor sobre<br> a instalacao de dispositivos para medicao de temperatura depassageiros emaeroportosdomesticos e<br> internacionais\"], [\"Eduardo Bismarck\", \"PDT\", \" determina a redefinicao do prazo de entrega do imposto de renda<br> de pessoa fisica em virtude do estado de calamidade publica decretada<br> pelo congresso nacional em decorrencia da pandemia do covid19\"], [\"Zeca Dirceu\", \"PT\", \" altera a lei 13 979 de 06 de fevereiro de 2020<br> acrescentando os incisos ix e x ao art 3o da lei<br> 13 979 de 06 de fevereiro de 2020 que dispoe sobre<br> as medidas que poderao ser adotadas para enfrentamento da emergencia de<br> saude publica de importancia internacional decorrente do coronavirus responsavel pelo surto<br> de 2019\"], [\"Mauro Nazif - PSB/RO ,  Camilo Capiberibe - PSB/AP ,  Vilson da Fetaemg - PSB/MG ,  Luciano Ducci - PSB/PR ,  Denis Bezerra\", \"PSB\", \" dispoe sobre a adocao de medidas de seguranca sanitarias urgentes relativa<br> ao servico de transporte remunerado de mercadoria em motocicleta motofrete motoboy<br> e ciclistas durante a vigencia da calamidade de saude publica decorrente<br> do coronavirus covid19 e da outras providencias\"], [\"Andr\\u00e9 Fufuca\", \"PP\", \" suspende o corte de plano de saude por inadimplencia durante o<br> estado de emergencia de saude publica de importancia nacional espin declarado<br> em razao da pandemia do covid19\"], [\"Pedro Augusto Bezerra\", \"PTB\", \" impede temporariamente o aumento da taxa de juros bancarios por um<br> periodo de 90 noventa dias diante do estado de calamidade publica<br> causado pelo coronavirus\"], [\"Geninho Zuliani\", \"DEM\", \" institui o dia 16 de marco como o dia da consciencia<br> humanitaria em memoria as vitimas do covid19 em territorio brasileiro e<br> da outras disposicoes\"], [\"Diego Andrade\", \"PSD\", \" dispoe sobre isencao condicionada nos termos do codigo tributario nacional no<br> periodo de vigencia da lei no 13 979 de 2020 em<br> razao do enfrentamento da calamidade publica decorrente ao coronavirus\"], [\"Kim Kataguiri\", \"DEM\", \" altera o decreto n o 5 452 de 1 de maio<br> de 1934 para ampliar o prazo de pagamento rescisorio em caso<br> de pandemias\"], [\"Arlindo Chinaglia\", \"PT\", \" dispoe sobre medidas adicionais para enfrentamento da emergencia de saude publica<br> de importancia internacional decorrente do coronavirus responsavel pelo surto de 2019<br> a fim de proteger populacoes especialmente vulneraveis\"], [\"Luis Miranda\", \"DEM\", \" altera a lei no 8 245 de 18 de outubro de<br> 1991 que dispoe sobre as locacoes dos imoveis urbanos e os<br> procedimentos a elas pertinentes enquanto durar as medidas de enfrentamento da<br> emergencia de saude publica decorrente do coronavirus covid19\"], [\"J\\u00falio Delgado\", \"PSB\", \" institui a politica tarifaria de energia eletrica aplicada em marco de<br> 2020 as distribuidoras e concessionarias deste setor devido a emergencia em<br> saude publica covid 19\"], [\"Sebasti\\u00e3o Oliveira\", \"PL\", \" dispoe sobre o adiamento das eleicoes de 2020 com o objetivo<br> de incentivar o enfrentamento a pandemia do coronavirus\"], [\"Ricardo Izar\", \"PP\", \" faculta aos locatarios de imoveis comerciais o direito de requerer abatimento<br> no valor da locacao proporcional ao numero de dias em que<br> houver reducao ou interrupcao das atividades comerciais por forca das medidas<br> de isolamento e quarentena previstas na lei no 13 979 de<br> 6 de fevereiro de 2020\"], [\"Fernanda Melchionna\", \"PSOL\", \" dispoe sobre os contratos de aluguel residencial e comercial em todo<br> o territorio nacional enquanto perdurarem os efeitos da decretacao de calamidade<br> publica em virtude do coronavirus covid19\"], [\"Capit\\u00e3o Augusto\", \"PL\", \" autoriza o poder executivo em carater excepcional a pagar os precatorios<br> de natureza alimentar em especial o previdenciario tendo em vista a<br> crise economica em decorrencia do estado de calamidade publica provocada pelo<br> coronavirus\"], [\"Clarissa Garotinho\", \"PROS\", \" obriga as instituicoes de ensino fundamental e medio da rede privada<br> a reduzirem a suas mensalidades em no minimo 30 trinta por<br> cento enquanto persistir a suspensao presencial das aulas em decorrencia da<br> emergencia de saude publica de importancia internacional em decorrencia da infeccao<br> humana pelo coronavirus covid19\"], [\"Patricia Ferraz\", \"PODE\", \" dispoe sobre a limitacao da quantidade de produtos e equipamentos de<br> protecao individual e de higiene essenciais ao combate a epidemia de<br> coronavirus que podem ser adquiridos individualmente\"], [\"Jos\\u00e9 Ricardo - PT/AM ,  Carlos Veras\", \"PT\", \" dispoe sobre o pagamento do adicional de insalubridade no percentual de<br> 40 a todo trabalhador da saude cujas instituicoes em que trabalham<br> estejam vinculadas ao atendimento de pacientes infectados pelo covid19 coronavirus\"], [\"Adriana Ventura - NOVO/SP ,  Pr. Marco Feliciano - PODE/SP ,  Vinicius Poit - NOVO/SP ,  Patricia Ferraz - PODE/AP ,  Evair Vieira de Melo - PP/ES ,  Diego Garcia - PODE/PR ,  Carmen Zanotto - CIDADANIA/SC ,  Dr. Zacharias Calil - DEM/GO ,  Dra. Soraya Manato - PSL/ES ,  Hiran Gon\\u00e7alves - PP/RR ,  Helder Salom\\u00e3o - PT/ES ,  Alexandre Padilha - PT/SP ,  Rodrigo Agostinho - PSB/SP ,  Jorge Solla - PT/BA ,  David Soares - DEM/SP ,  Mariana Carvalho\", \"PSDB\", \" dispoe sobre o uso da telemedicina durante a crise causada pelo<br> coronavirus 2019ncov\"], [\"Tal\\u00edria Petrone - PSOL/RJ ,  Margarida Salom\\u00e3o\", \"PT\", \" suspende por 120 dias a exigibilidade de tributos federais no periodo<br> de surto do novo coronavirus covid19 para as instituicoes de ensino<br> privadas que se abstiverem de aplicar as mensalidades multa juros e<br> outras sancoes dentre outras providencias\"], [\"Alexandre Frota\", \"PSDB\", \" impede a cobranca de multa por quebra de fidelidade contratual junto<br> as prestadoras de sevico de telefonia fixa movel e tv enquanto<br> durar qualquer pandemia declarada pela organizacao mundial da saude oms\"], [\"Benedita da Silva - PT/RJ ,  Joenia Wapichana - REDE/RR ,  Mar\\u00edlia Arraes - PT/PE ,  David Miranda - PSOL/RJ ,  Edmilson Rodrigues - PSOL/PA ,  Nat\\u00e1lia Bonavides - PT/RN ,  Fernanda Melchionna - PSOL/RS ,  Airton Faleiro - PT/PA ,  L\\u00eddice da Mata - PSB/BA ,  Paulo Teixeira - PT/SP ,  Marcelo Freixo - PSOL/RJ ,  T\\u00falio Gad\\u00ealha - PDT/PE ,  Margarida Salom\\u00e3o - PT/MG ,  S\\u00e2mia Bomfim - PSOL/SP ,  Luiza Erundina - PSOL/SP ,  Alexandre Padilha - PT/SP ,  Tal\\u00edria Petrone - PSOL/RJ ,  Carlos Veras - PT/PE ,  Chico D'Angelo - PDT/RJ ,  Gleisi Hoffmann - PT/PR ,  Erika Kokay - PT/DF ,  Alexandre Frota\", \"PSDB\", \" dispoe sobre acoes emergenciais destinadas ao setor cultural enquanto as medidas<br> de isolamento ou quarentena estiverem vigentes de acordo com a lei<br> no 13 979 de 6 de fevereiro de 2020\"], [\"Sanderson - PSL/RS ,  Dr. Jaziel\", \"PL\", \" veda as concessoes de liberdade provisoria ou de prisao domiciliar aos<br> presos ou aos internados recolhidos aos estabelecimentos penais ou socioeducativos motivadas<br> pela pandemia do coronavirus covid19 no brasil\"], [\"F\\u00e1bio Trad\", \"PSD\", \" autoriza durante o periodo de estado de calamidade publica decorrente da<br> pandemia do coronavirus que seja deduzido do imposto de renda devido<br> por pessoas fisicas e juridicas as doacoes a fundos estaduais de<br> saude ou a hospitais universitarios estaduais ou federais que organizem campanha<br> de arrecadacao para combate a covid19\"], [\"Carmen Zanotto - CIDADANIA/SC ,  Mariana Carvalho - PSDB/RO ,  Jorge Solla - PT/BA ,  Rodrigo Coelho\", \"PSB\", \" altera a lei 13 979 de 2020 para dispor sobre a<br> obrigatoriedade da notificacao compulsoria e imediata dos diagnosticos de casos de<br> sindrome respiratoria aguda assim como dos casos suspeitos e confirmados da<br> covid19\"], [\"Pedro Westphalen - PP/RS ,  Carmen Zanotto - CIDADANIA/SC ,  Jorge Solla - PT/BA ,  Mariana Carvalho\", \"PSDB\", \" da nova redacao ao art 3o da lei no 13 979<br> de 6 de fevereiro de 2020 e estabelece providencias de saude<br> publica para o combate a pandemia do coronavirus\"], [\"Celso Sabino\", \"PSDB\", \" dispoe sobre a proibicao de inscricao do nome do consumidor no<br> spc e serasa durante periodo de calamidade publica decretada pelo governo<br> federal em razao da pandemia do covid19\"], [\"Paulo Teixeira\", \"PT\", \" dispoe sobre a suspensao de pagamentos de luz agua e gas<br> durante o periodo da pandemia do covid19\"], [\"Felipe Rigoni - PSB/ES ,  Tereza Nelma - PSDB/AL ,  Orlando Silva - PCdoB/SP ,  Mariana Carvalho - PSDB/RO ,  Tabata Amaral - PDT/SP ,  Professor Israel Batista - PV/DF ,  Mauro Benevides ,  Fl\\u00e1via Arruda\", \"PL\", \" dispoe na lei no 10 260 de 12 de julho de<br> 2001 sobre a suspensao temporaria de contagem de prazos e de<br> pagamentos de obrigacoes financeiras do fundo de financiamento estudantil fies durante<br> a decretacao de calamidade sanitaria destinada ao combate da pandemia do<br> novo coronavirus covid19\"], [\"Chiquinho Braz\\u00e3o\", \"AVANTE\", \" propoe medidas para o enfrentamento das consequencias sociais e economicas decorrentes<br> da pandemia do coronavirus\"], [\"F\\u00e1bio Ramalho\", \"MDB\", \" cancela as eleicoes de 04 de outubro de 2020 diante da<br> pandemia do covid19 e altera a lei 9 504_97 de 30<br> de setembro de 1997 lei das eleicoes com o fim de<br> promover a unificacao das eleicoes municipais e gerais\"], [\"Ac\\u00e1cio Favacho - PROS/AP ,  Clarissa Garotinho - PROS/RJ ,  Toninho Wandscheer\", \"PROS\", \" altera a lei no 13 979 de 2020 a fim de<br> autorizar que os estados e municipios utilizem os recursos relativos ao<br> leilao dos barris de petroleo excedentes para o pagamento de despesas<br> com medidas emergenciais decorrentes da pandemia do covid19\"], [\"Dagoberto Nogueira\", \"PDT\", \" dispoe sobre a suspensao do pagamento da divida publica interna e<br> externa durante o estado de calamidade publica decorrente da situacao de<br> emergencia relacionada ao coronavirus covid19\"], [\"Carlos Chiodini\", \"MDB\", \" altera os arts 6o e 39 da lei no 8 078<br> de 11 de setembro de 1990 que dispoe sobre a protecao<br> do consumidor e da outras providencias para disciplinar o direito basico<br> do consumidor a protecao a vida saude e seguranca em caso<br> de pandemias e tornar abusiva a cobranca de taxas em virtude<br> da alteracao dos servicos em situacoes de epidemias\"], [\"Andr\\u00e9 Janones\", \"AVANTE\", \" suspende pelo periodo de distanciamento social e_ou quarentena em razao da<br> pandemia do covid19 o corte de agua luz telefone e da<br> outras providencias\"], [\"Jo\\u00e3o Daniel - PT/SE ,  Margarida Salom\\u00e3o\", \"PT\", \" preve a anistia das parcelas de financiamentos do programa minha casa<br> minha pmcmv em caso de pandemia reconhecida pela organizacao mundial de<br> saude oms\"], [\"Dra. Soraya Manato - PSL/ES ,  Jorge Solla - PT/BA ,  Rodrigo Coelho - PSB/SC ,  Carmen Zanotto\", \"CIDADANIA\", \" dispoe na lei no 10 260 de 12 de julho de<br> 2001 sobre a suspensao de pagamentos de obrigacoes financeiras de beneficiarios<br> do fies por 60 sessenta dias a contar do comeco da<br> emergencia sanitaria decretada em resposta a crise do novo coronavirus covid19<br>\"], [\"Reginaldo Lopes\", \"PT\", \" autoriza o poder executivo a conceder emprestimo atraves do bndes a<br> juros zero a hospitais sem fins lucrativos sus para amortizar 100<br> das dividas de emprestimos com outros bancos para que possam substituir<br> as dividas com cobranca de juros por dividas a juros zero<br> com o intuito de ajudar os hospitais sem fins lucrativos sus<br> no tratamento da covid19\"], [\"JHC\", \"PSB\", \" acrescenta o artigo 6oc a lei 10 820_2003 para suspender as<br> parcelas dos emprestimos feitos com base naquela lei enquanto durar o<br> estado de calamidade publica reconhecido pelo decreto legislativo no 6 de<br> 20 de marco de 2020 e da emergencia de saude publica<br> de importancia internacional decorrente do coronavirus covid19 decretada pelo ministro de<br> estado da saude em 3 de fevereiro de 2020 nos termos<br> do disposto na lei no 13 979 de 6 de fevereiro<br> de 2020\"], [\"Rog\\u00e9rio Correia\", \"PT\", \" estabelece criterios de distribuicao e comercializacao do gas de cozinha para<br> a populacao de baixa renda enquanto vigorar o estado de calamidade<br> publica reconhecido pelo decreto legislativo no 6 de 20 de marco<br> de 2020 em decorrencia da pandemia do covid19\"], [\"Mar\\u00edlia Arraes\", \"PT\", \" institui o salario minimo emergencial sme em virtude dos efeitos economicos<br> gerados pela pandemia de covid19\"], [\"Tal\\u00edria Petrone\", \"PSOL\", \" determina multa a empresas que realizem demissoes e suspensao de contratos<br> e_ou cortes de salarios durante o surto de coronavirus\"], [\"Mauro Nazif - PSB/RO ,  JHC\", \"PSB\", \" suspende temporariamente a cobranca de pedagio do transporte de cargas nas<br> rodovias federais durante a vigencia da calamidade de saude publica decorrente<br> do coronavirus covid19\"], [\"Carlos Chiodini\", \"MDB\", \" dispoe sobre a suspensao temporaria de cobranca de pedagio em casos<br> de calamidade publica e quarentena nos moldes da lei 13 979<br> de 06 de fevereiro de 2020\"], [\"Kim Kataguiri\", \"DEM\", \" institui a isencao tributaria para aplicativos de transporte e entrega em<br> casos de pandemia\"], [\"Arlindo Chinaglia\", \"PT\", \" concede aos usuarios residenciais de baixa renda dos servicos publicos de<br> abastecimento de agua potavel e esgotamento sanitario e de distribuicao de<br> energia eletrica a opcao pelo diferimento do pagamento dos debitos correspondentes<br> as faturas vencidas ou a vencer no periodo de situacao emergencial<br> de saude publica causada pela pandemia do virus covid19 e da<br> outras providencias\"], [\"Clarissa Garotinho - PROS/RJ ,  Patricia Ferraz\", \"PODE\", \" altera a lei no 13 979 de 6 de fevereiro de<br> 2020 com o intuito de suspender a cobranca de emprestimos consignados<br> enquanto persistir a emergencia de saude publica de importancia internacional em<br> decorrencia da infeccao humana pelo coronavirus covid19\"], [\"Kim Kataguiri\", \"DEM\", \" modifica o decreto n o 2 655 de 1998 para determinar<br> a suspensao da cobranca de energia eletrica em periodos de pandemia<br>\"], [\"Jos\\u00e9 Guimar\\u00e3es\", \"PT\", \" acrescenta os SSSS 7ob e 7oc ao art 3o da lei<br> no 13 979 de 6 de fevereiro de 2020 que dispoe<br> sobre as medidas para enfrentamento da emergencia de saude publica de<br> importancia internacional decorrente do coronavirus responsavel pelo surto de 2019\"], [\"Fl\\u00e1via Arruda\", \"PL\", \" acrescenta artigo a lei no 13 979 de 6 de fevereiro<br> de 2020 para permitir a extensao do beneficio do seguro desemprego<br> como medida de enfrentamento da emergencia em saude publica decorrente do<br> coronavirus responsavel pelo surto de 2019\"], [\"M\\u00e1rio Heringer\", \"PDT\", \" programa de manutencao dos empregos dos trabalhadores das empresas impactadas pela<br> emergencia de saude publica internacional relacionada ao covid19 provid\"], [\"Fernando Monteiro\", \"PP\", \" autoriza a utilizacao dos recursos que especifica nas acoes para enfrentamento<br> da emergencia em saude publica decorrente do coronavirus\"], [\"Assis Carvalho\", \"PT\", \" dispoe sobre a criacao do fundo emergencial de enfrentamento ao coronavirus<br> covid19 enquanto perdurar a situacao de calamidade publica\"], [\"Arnaldo Jardim\", \"CIDADANIA\", \" altera a lei no 13 979 de 6 de fevereiro de<br> 2020 para garantir a seguranca alimentar por meio de estimulo a<br> doacao de alimentos in natura industrializados ou preparados durante o periodo<br> da emergencia de saude publica de importancia internacional decorrente do coronavirus<br>\"], [\"Patricia Ferraz\", \"PODE\", \" dispoe em carater excepcional e temporario sobre as acoes de teleodontologia<br> com o objetivo de operacionalizar as medidas de enfrentamento da emergencia<br> de saude publica de importancia internacional decorrentes da epidemia de covid19<br>\"], [\"Alexandre Frota\", \"PSDB\", \" altera a lei no 7 565 de 19 de dezembro 1986<br> para vedar cobranca de taxas multas ou afins nos casos de<br> cancelamento de passagens aereas ou terrestres em epoca de pandemias decretas<br> pela organizacao mundial da saude oms\"], [\"Jos\\u00e9 Ricardo\", \"PT\", \" altera a lei no 13 979 de 2020 para assegurar na<br> forma que disciplina auxilio financeiro basico emergencial temporario aos trabalhadores atingidos<br> pelo impacto da pandemia do coronavirus na economia brasileira\"], [\"Joice Hasselmann\", \"PSL\", \" restringe o conteudo da publicidade institucional dos poderes executivo e legislativo<br> da uniao dos estados do distrito federal e dos municipios a<br> que se refere a lei n 12 232_2010 e o uso<br> dos servicos de radiodifusao publica explorados pelo poder executivo da uniao<br> ou outorgados a entidades de sua administracao indireta de que cuida<br> a lei n 11 652_2008 exclusivamente ao anuncio de materias relacionadas<br> ao enfrentamento da pandemia do covid19 pelo periodo de quatro meses<br>\"], [\"Emanuel Pinheiro Neto\", \"PTB\", \" ficam as instituicoes de ensino superior da rede privada que optaram<br> pelo ensino a distancia ead ou por video conferencia obrigadas a<br> reduzirem as suas mensalidades em 20 vinte por cento mediante formulario<br> de requisicao do estudante ou seu representante legal durante o periodo<br> que durar o plano de contingencia nacional para infeccao humana pelo<br> novo coronavirus causador da covid19\"], [\"Nat\\u00e1lia Bonavides\", \"PT\", \" dispoe sobre medidas de protecao ao emprego durante situacao de pandemia<br>\"], [\"Jos\\u00e9 Airton F\\u00e9lix Cirilo\", \"PT\", \" dispoe sobre medidas emergenciais de amparo aos pescadores aquicultores e marisqueiras<br> do brasil para mitigar os impactos socioeconomicos da pandemia do covid<br> 19 durante o periodo de vigor do estrado de calamidade publica<br> no pais e da outras providencias\"], [\"Mauro Nazif - PSB/RO ,  Ted Conti - PSB/ES ,  Luciano Ducci - PSB/PR ,  L\\u00eddice da Mata\", \"PSB\", \" institui gratificacao extraordinaria aos agentes comunitarios de saude e agentes de<br> combate as endemias durante a vigencia da calamidade de saude publica<br> decorrente do coronavirus covid19 e da outras disposicoes\"], [\"Domingos Neto\", \"PSD\", \" dispoe sobre a suspensao do pagamento das parcelas do fundo de<br> financiamento estudantil fies enquanto perdurar a paralisacao de atividades letivas decorrente<br> da pandemia do novo coronavirus covid19 e da outras providencias\"], [\"Capit\\u00e3o Augusto\", \"PL\", \" altera a lei no 6259 de 30 de outubro de 2020<br> que dispoe de vigilancia epidemiologica sobre o programa nacional de imunizacoes<br> estabelece normas relativas a notificacao compulsoria de doencas e da outras<br> providencias para garantir o acesso gratuito a equipamentos de protecao individual<br> a vacinas e a exames de deteccao a todos os profissionais<br> de seguranca publica previstos no art 144 da constituicao federal durante<br> o periodo de pandemia do virus covid19corona virus\"], [\"Darci de Matos\", \"PSD\", \" dispoe sobre a compensacao de dias parados por razao da epidemia<br> do coronavirus em finais de semana e feriados\"], [\"Delegado Marcelo Freitas\", \"PSL\", \" determina a reducao de valores de alugueis de imoveis comerciais que<br> estejam fechados em razao do isolamento social e consequente suspensao de<br> atividades comerciais determinada pelo poder publico em face da pandemia da<br> covid19 coronavirus\"], [\"Luizianne Lins\", \"PT\", \" altera a lei 13 979 de 06 de fevereiro de 2020<br> acrescentando dispositivo para garantir a continuidade dos servicos de agua energia<br> eletrica gas e esgoto durante todo o periodo de emergencia de<br> saude publica para as pessoas em situacao de isolamento e quarentena<br>\"], [\"Dr. Zacharias Calil\", \"DEM\", \" determina que em caso de declaracao de epidemia pandemia ou surtos<br> provocados por doencas contagiosas ou que tenha sido declarado estado de<br> calamidade publica sejam tomadas medidas imediatas que garantam a saude e<br> preservacao da vida de todos profissionais considerados essenciais ao controle de<br> doencas e manutencao da ordem publica\"], [\"Carlos Sampaio\", \"PSDB\", \" preve como medidas alternativas a dissolucao de contratos de locacao de<br> imovel nao residencial urbano na constancia do estado de calamidade publica<br> reconhecido pelo congresso nacional em decorrencia da pandemia internacional ocasionada pela<br> infeccao humana pelo coronavirus sarscov2 covid19 a possibilidade de reducao do<br> valor dos respectivos alugueis em cinquenta por cento ou alternativamente a<br> possibilidade de que os alugueis deixem de ser cobrados pelo prazo<br> minimo de tres meses\"], [\"Professor Israel Batista\", \"PV\", \" institui medidas de protecao ao emprego e ao empregado durante periodo<br> de emergencia de saude publica de importancia internacional relacionada ao coronavirus<br> covid19\"], [\"Rejane Dias\", \"PT\", \" altera a lei n deg 9 250 de 26 de dezembro<br> de 1995 para isentar do pagamento do imposto de renda os<br> trabalhadores envolvidos no enfrentamento ao coronavirus covid 19 e em outras<br> situacoes de calamidade publica decretados pelo governo federal e da outras<br> providencias\"], [\"Jos\\u00e9 Guimar\\u00e3es\", \"PT\", \" dispoe sobre a concessao de abatimento do saldo devedor a beneficiarios<br> do fies que trabalhem como medicos no sistema unico de saude<br> sus durante o periodo de vigencia da emergencia sanitaria decorrente da<br> pandemia do novo coronavirus covid19\"], [\"Celso Sabino\", \"PSDB\", \" altera a lei n 13 979 de 6 de fevereiro de<br> 2020 para autorizar a pratica da telemedicina veterinaria durante o estado<br> de calamidade publica em decorrencia da covid19\"], [\"Sanderson - PSL/RS ,  Bibo Nunes\", \"PSL\", \" altera a lei no 13 487 de 6 de outubro de<br> 2017 para destinar os recursos do fundo especial de financiamento de<br> campanha fefc para o combate controle e prevencao do agente viral<br> ncov2019 da familia coronavirus\"], [\"Efraim Filho - DEM/PB ,  Arthur Lira - PP/AL ,  Fred Costa - PATRIOTA/MG ,  Joice Hasselmann - PSL/SP ,  Enrico Misasi - PV/SP ,  Enio Verri - PT/PR ,  Luis Tib\\u00e9 - AVANTE/MG ,  Diego Andrade - PSD/MG ,  L\\u00e9o Moraes - PODE/RO ,  Jos\\u00e9 Guimar\\u00e3es - PT/CE ,  Pedro Lucas Fernandes - PTB/MA ,  Perp\\u00e9tua Almeida - PCdoB/AC ,  Carlos Sampaio - PSDB/SP ,  Andr\\u00e9 Figueiredo\", \"PDT\", \" garante piso de transferencia de recursos do fpe e fpm devido<br> aos efeitos financeiros provocados pela pandemia do coronavirus covid19\"], [\"Marcelo Freixo - PSOL/RJ ,  T\\u00falio Gad\\u00ealha\", \"PDT\", \" institui medidas temporarias sobre despejo locacao e pagamentos em geral enquanto<br> durar as medidas de isolamento ou quarentena prevista na lei ndeg<br> 13 979 de 6 de fevereiro de 2020 na forma que<br> menciona\"], [\"Tal\\u00edria Petrone - PSOL/RJ ,  Fernanda Melchionna - PSOL/RS ,  S\\u00e2mia Bomfim - PSOL/SP ,  Alessandro Molon - PSB/RJ ,  Jos\\u00e9 Guimar\\u00e3es - PT/CE ,  Enio Verri - PT/PR ,  Joenia Wapichana - REDE/RR ,  Luiza Erundina - PSOL/SP ,  Professora Dorinha Seabra Rezende - DEM/TO ,  Perp\\u00e9tua Almeida - PCdoB/AC ,  Wolney Queiroz\", \"PDT\", \" altera a lei 10 714_2003 com o objetivo de ampliar a<br> divulgacao do disque 180 enquanto durar a pandemia do covid19 novo<br> coronavirus\"], [\"Jo\\u00e3o H. Campos\", \"PSB\", \" dispoe sobre acoes medidas e diretrizes acerca do enfrentamento ao coronavirus<br> covid19 no intuito de adequar o auxilio doenca para os casos<br> de coronavirus\"], [\"Marcelo Calero\", \"CIDADANIA\", \" determina que as instituicoes financeiras e demais instituicoes autorizadas a funcionar<br> pelo banco central do brasil suspendam durante noventa dias contados a<br> partir de 20_3_2020 a cobranca das obrigacoes devidas em 20_3_2020 e<br> durante o periodo da suspensao relacionadas com faturas de cartao de<br> credito e cheque especial mantidos os limites entao existentes e incida<br> apenas a taxa selic durante o periodo de suspensao ao final<br> do qual o saldo devedor resultante seja parcelado em doze vezes<br> como medida extraordinaria em razao do enfrentamento da crise do covid19<br>\"], [\"Nat\\u00e1lia Bonavides\", \"PT\", \" dispoe sobre a criacao de beneficios financeiros no ambito do programa<br> bolsa familia devidos durante a suspensao das atividades escolares provocada pela<br> pandemia do virus covid19\"], [\"David Soares\", \"DEM\", \" concede isencao fiscal anistia e remissao aos microempreendedores individuais meis micro<br> e pequenas empresas enquanto declarado o estado de calamidade publica no<br> pais em decorrencia da pandemia do novo coronavirus covid19\"], [\"Vav\\u00e1 Martins\", \"REPUBLIC\", \" proibe a cobranca de juros e multa por atraso de pagamento<br> em servicos essenciais durante a decretacao de estado de calamidade publica<br> em virtude da covid19 bem como veda a inscricao em cadastros<br> negativos de servicos de protecao de credito\"], [\"Gerv\\u00e1sio Maia\", \"PSB\", \" proibe por 120 cento e vinte dias interrupcao de servicos considerados<br> essenciais por motivo de inadimplencia em decorrencia da calamidade publica ocasionada<br> pela pandemia do coronavirus covid19 e da outras providencias\"], [\"Jos\\u00e9 Guimar\\u00e3es\", \"PT\", \" dispoe sobre a concessao de abatimento do saldo devedor a beneficiarios<br> do fies que trabalhem como medicos no sistema unico de saude<br> sus durante o periodo de vigencia da emergencia sanitaria decorrente da<br> pandemia do novo coronavirus covid19\"], [\"Mauro Nazif - PSB/RO ,  L\\u00eddice da Mata - PSB/BA ,  Luciano Ducci - PSB/PR ,  Camilo Capiberibe - PSB/AP ,  Vilson da Fetaemg - PSB/MG ,  Danilo Cabral\", \"PSB\", \" institui gratificacao extraordinaria aos servidores da saude durante a vigencia da<br> calamidade de saude publica decorrente do coronavirus covid19 e da outras<br> disposicoes\"], [\"Vaidon Oliveira\", \"PROS\", \" dispoe sobre a obrigacao das instituicoes de ensino superior colegios particulares<br> e demais cursos tecnicos a aplicarem o desconto no valor das<br> mensalidades de um curso presencial no periodo de combate ao coronavirus<br> covid19\"], [\"Kim Kataguiri\", \"DEM\", \" institui a o sistema bancario eletronico 24 horas em casos de<br> pandemias\"], [\"Jos\\u00e9 Guimar\\u00e3es\", \"PT\", \" institui o programa emergencial de protecao ao emprego e as empresas<br> em decorrencia do estado de emergencia internacional pelo novo coronavirus identificado<br> como sarscov2 com o objetivo de garantir a protecao ao emprego<br> e cria a linha de garantia de capital de giro e<br> emprego lgcge a fim de assegurar condicoes de enfrentamento da crise<br> financeira e queda abrupta do nivel de atividade economica no curso<br> de estado de calamidade publica reconhecido pelo decreto legislativo no 6<br> de 20 de marco de 2020\"], [\"Andr\\u00e9 Janones\", \"AVANTE\", \" altera a lei no 13 103 de 2 de marco de<br> 2015 para prever a isencao da cobranca de pedagio para os<br> veiculos de transporte de cargas em todo territorio nacional durante o<br> periodo de distanciamento social e_ou quarentena em razao da pandemia do<br> covid19 e da outras providencias\"], [\"Clarissa Garotinho\", \"PROS\", \" altera a lei no 13 979 de 6 de fevereiro de<br> 2020 com o objetivo de suspender o reajuste de medicamentos no<br> brasil enquanto persistir a emergencia de saude publica de importancia internacional<br> em decorrencia da infeccao humana pelo coronavirus covid19\"], [\"Luis Miranda\", \"DEM\", \" altera a lei no 8 036 de 11 de maio de<br> 1990 para dispor sobre a possibilidade de movimentacao da conta vinculada<br> do fgts enquanto durar as medidas de enfrentamento da emergencia de<br> saude publica decorrente do coronavirus covid19\"], [\"Filipe Barros\", \"PSL\", \" permite que dividas de empresas com governos municipal estadual e federal<br> oriundas do periodo de calamidade publica devido ao combate a pandemia<br> do virus covid19 nao possam resultar na inscricao dessas empresas no<br> cadastro de devedores\"], [\"Kim Kataguiri\", \"DEM\", \" altera a lei no 5 991 de 17 de dezembro de<br> 1973 que dispoe sobre o controle sanitario do comercio de drogas<br> medicamentos insumos farmaceuticos e correlatos para definir que a receita de<br> medicamentos tera validade por prazo indeterminado enquanto perdurar surtos de pandemia<br> e da outras providencias\"], [\"Joice Hasselmann\", \"PSL\", \" estabelece medidas temporarias de amparo e fomento aos micro e pequenos<br> empresarios durante a pandemia do coronavirus covid19\"], [\"Pedro Lucas Fernandes\", \"PTB\", \" altera a lei no 13 979 de 6 de fevereiro de<br> 2020 para dispor sobre a obrigatoriedade do uso de mascaras de<br> protecao para circulacao em locais publicos as penas previstas uso das<br> forcas de seguranca publicas medidas administrativas e o cometimento de infracao<br> da ordem economica durante as medidas para enfrentamento da emergencia de<br> saude publico de importancia internacional decorrente do coronavirus responsavel pelo surto<br> de 2019\"], [\"Felipe Carreras\", \"PSB\", \" estabelece medidas excepcionais de de protecao social a serem adotadas durante<br> o periodo de enfrentamento da emergencia de saude publica decorrente do<br> cornavirus covid19 pelo surto de 2019\"], [\"Amaro Neto\", \"REPUBLIC\", \" dispoe sobre a proibicao do corte de energia eletrica agua servicos<br> de telefonia e internet as familias que se encaixam na lei<br> no 10 836 de 9 de janeiro de 2004 enquanto durar<br> o estado de calamidade publica reconhecido pelo decreto legislativo no 6<br> de 20 de marco de 2020 e da emergencia de saude<br> publica de importancia internacional decorrente do coronavirus covid19\"], [\"Rejane Dias\", \"PT\", \" destina recursos provenientes de aplicacoes de multas e delacoes premiadas para<br> a aquisicao de produtos e equipamentos medicos para o combate ao<br> coronavirus\"], [\"Christino Aureo\", \"PP\", \" altera a consolidacao das leis do trabalho decretolei no 5 452<br> de 1o de maio de 1943 para acrescentar a possibilidade de<br> suspensao do contrato de trabalho e de reducao da jornada e<br> de salario pelos empregadores durante o periodo de enfrentamento do estado<br> de calamidade publica reconhecido pelo decreto legislativo no 6 de 20<br> de marco de 2020 e da emergencia de saude publica de<br> importancia internacional decorrente do coronavirus covid19 decretada pelo ministro de estado<br> da saude em 3 de fevereiro de 2020 com a finalidade<br> de preservacao de empregos\"], [\"Benedita da Silva\", \"PT\", \" dispoe sobre a reducao proporcional e suspensao das obrigacoes das mensalidades<br> na rede privada de ensino superior durante a pandemia do covid19<br>\"], [\"Enio Verri\", \"PT\", \" dispoe sobre adocao de medidas temporarias em materia trabalhista em razao<br> da conjuntura que envolve a pandemia relativa ao novo coronavirus e<br> da outras providencias\"], [\"Flordelis\", \"PSD\", \" suspende os prazos de validade dos concursos publicos no periodo de<br> vigencia do estado de calamidade publica relacionada ao coronavirus covid 19<br>\"], [\"Nat\\u00e1lia Bonavides\", \"PT\", \" dispoe sobre medidas de protecao ao empregado dispensado durante o periodo<br> de pandemia do virus covid19\"], [\"Bibo Nunes\", \"PSL\", \" suspende os prazos de pagamentos dos tributos federais que especifica durante<br> a pandemia do coronavirus covid19\"], [\"Gildenemyr\", \"PL\", \" altera a lei n o 9 532 de 1997 a fim<br> de aumentar o limite de deducoes do valor do imposto devido<br> durante o periodo de estado de calamidade publica por pessoas fisicas<br> apurado as doacoes para combate a pandemia do coronavirus\"], [\"Capit\\u00e3o Wagner\", \"PROS\", \" institui a loteria da saude como nova modalidade de loteria de<br> prognosticos numericos com destinacao dos recursos do produto de sua arrecadacao<br> para o sistema unico de saude sus e excepcionalmente para as<br> acoes de prevencao contencao combate e mitigacao dos efeitos da pandemia<br> do novo coronavirus covid19 enquanto durarem os efeitos do estado de<br> calamidade publica declarado pelo decretolegislativo no 6 de 2020\"], [\"Vilson da Fetaemg - PSB/MG ,  Danilo Cabral - PSB/PE ,  Ted Conti\", \"PSB\", \" dispoe sobre auxilio emergencial financeiro para os agricultores familiares para amenizar<br> os prejuizos da pandemia do covid19 e do estado de calamidade<br> publica reconhecido pelo decreto legislativo n 6 de 20 de marco<br> de 2020 e da outras providencias\"], [\"Capit\\u00e3o Alberto Neto\", \"REPUBLIC\", \" altera o decretolei no 2 848 de 7 de dezembro de<br> 1940 codigo penal para estabelecer o aumento de pena em dois<br> tercos para os crimes cometidos durante o periodo de estado de<br> calamidade publica decorrente de epidemia ou pandemia declarada\"], [\"Luiz\\u00e3o Goulart\", \"REPUBLIC\", \" altera os criterios de percepcao e o numero de parcelas recebidas<br> do segurodesemprego no periodo de decretacao de estado de calamidade em<br> virtude da covid19\"], [\"H\\u00e9lio Leite\", \"DEM\", \" preve a percepcao de adicional de insalubridade em grau maximo previsto<br> no art 192 da consolidacao das leis do trabalho clt para<br> categorias que especifica durante o estado de calamidade publica provocado pela<br> pandemia do coronavirus covid19\"], [\"Jorge Solla - PT/BA ,  Patricia Ferraz - PODE/AP ,  Dr. Zacharias Calil - DEM/GO ,  Dra. Soraya Manato - PSL/ES ,  Hiran Gon\\u00e7alves - PP/RR ,  Carmen Zanotto - CIDADANIA/SC ,  Mariana Carvalho - PSDB/RO ,  Alexandre Padilha - PT/SP ,  Alexandre Serfiotis\", \"PSD\", \" dispoe sobre a isencao total de impostos nos itens que especifica<br> durante o estado de emergencia sanitaria em decorrencia da pandemia causada<br> pelo novo coronavirus\"], [\"Wladimir Garotinho\", \"PSD\", \" altera a lei ndeg 7 713 de 22 de dezembro de<br> 1988 para conceder isencao de imposto de renda da pessoa fisica<br> no ano de 2020 aos medicos e demais profissionais da area<br> da saude que estao na linha de frente do combate a<br> pandemia do covid19\"], [\"Celina Le\\u00e3o\", \"PP\", \" dispoe sobre a destinacao dos valores referentes ao produto ou proveito<br> decorrentes de crimes diversos para o combate e prevencao da pandemia<br> covid19 e da outras providencias\"], [\"Eduardo Costa\", \"PTB\", \" dispoe sobre medidas de intervencao na propriedade e atuacao no dominio<br> economico para assegurar o fornecimento de bens e servicos essenciais durante<br> a emergencia de saude publica de importancia internacional decorrente do coronavirus<br> responsavel pelo surto de 2019\"], [\"Clarissa Garotinho\", \"PROS\", \" altera a lei no 9 504 de 30 de setembro de<br> 1997 lei das eleicoes para em casos de declaracao de pandemia<br> pela organizacao mundial da saude oms autorizar o poder executivo a<br> destinar todos os recursos do fundo especial de financiamento de campanhas<br> de acoes voltadas ao enfrentamento da crise na saude publica e<br> na saude\"], [\"C\\u00e9lio Silveira\", \"PSDB\", \" dispoe sobre a isencao de cobranca de pedagio rodoviario para os<br> veiculos de transporte de carga profissionais de saude e da seguranca<br> publica em todo territorio nacional durante 90 dias ou enquanto perdurar<br> a pandemia do covid19\"], [\"Filipe Barros\", \"PSL\", \" dispoe sobre o aumento em dobro das penas dos crimes relacionados<br> ao saque fraudulento de beneficios previdenciarios e do beneficio assistencial durante<br> o periodo de calamidade publica causada pela pandemia de coronavirus\"], [\"Andr\\u00e9 Figueiredo\", \"PDT\", \" dispoe sobre a suspensao das prestacoes decorrentes de contratos de financiamento<br> de veiculos ou de arrendamento mercantil de veiculos a quem comprovar<br> o exercicio da atividade profissional de taxistas ou de mototaxistas como<br> medida excepcional de enfrentamento da calamidade publica decretada em virtude do<br> covid19\"], [\"Alexandre Frota\", \"PSDB\", \" altera o codigo penal brasileiro para fazer inserir o artigo 268a<br> para incluir como crime a elevacao de precos de produtos e<br> servicos medicos hospitalares em momentos de crise na saude publica mais<br> especificamente em epocas de calamidade publica epidemia e pandemia declaradas altera<br> o codigo de defesa do consumidor para tornar crime contra o<br> consumidor a elevacao de precos\"], [\"Alice Portugal\", \"PCdoB\", \" altera a lei no 9 656 de 3 de junho de<br> 1998 que dispoe sobre a saude suplementar para proibir reajustes de<br> planos de saude durante a emergencia sanitaria do coronavirus e vedar<br> a negativa de atendimento no caso de inadimplencia\"], [\"Rejane Dias\", \"PT\", \" altera a lei ndeg 12 529 de 30 de novernvo de<br> 2011 para estabelece medicas abusivas a elevacao dos precos dos medicamentos<br> e suprimentos em casos de pandemias epidemias ou estado de calamidade<br> publica e da outras providencias\"], [\"Ted Conti\", \"PSB\", \" dispoe sobre a utilizacao extraordinaria do fundo especial de financiamento de<br> campanha previsto na lei n 9 504 de 30 de setembro<br> de 1997 no combate a pandemia de covid19\"], [\"Filipe Barros\", \"PSL\", \" obriga o funcionamento dos servicos publicos e privados do comercio da<br> industria e das instituicoes educacionais durante feriados nacionais no ano de<br> 2020 em todo o territorio nacional como forma de compensar as<br> perdas economicas geradas pelo virus covid19\"], [\"Fl\\u00e1vio Nogueira\", \"PDT\", \" altera a lei n 9 656 de 3 de junho de<br> 1988 que dispoe sobre a saude suplementar para proibir rescisao de<br> contratos de planos de saude durante endemias ou pandemias de grandes<br> proporcoes\"], [\"Luis Tib\\u00e9\", \"AVANTE\", \" cria o programa cartao brasileiro de alimentacao para oferecer recursos para<br> aquisicao de alimentos para pessoas em situacao de vulnerabilidade social enquanto<br> durar o estado de calamidade publica em razao do covid19\"], [\"Hugo Leal\", \"PSD\", \" institui medidas de carater emergencial mediante alteracoes de carater transitorio de<br> dispositivos da lei no 11 101 de 9 de fevereiro de<br> 2005 que somente terao vigencia ate 31 de dezembro de 2020<br> ou enquanto estiver vigente o decreto legislativo no 6 de 20<br> de marco de 2020 reconhecimento do estado de calamidade publica em<br> razao da pandemia causada pelo covid19 e da outras providencias\"], [\"Professor Israel Batista\", \"PV\", \" dispoe sobre financiamento imobiliario de imoveis urbanos minha casa minha vida<br> durante periodo de emergencia de saude publica de importancia internacional relacionada<br> ao coronavirus covid19\"], [\"Marcelo Calero\", \"CIDADANIA\", \" dispoe na lei no 10 260 de 12 de julho de<br> 2001 sobre a suspensao temporaria de pagamentos referentes a obrigacoes financeiras<br> e contagem de prazos por parte dos estudantes beneficiarios e de<br> instituicoes de ensino do fundo de financiamento estudantil fies enquanto perdurar<br> a paralisacao de atividades letivas em decorrencia da pandemia do novo<br> coronavirus covid19\"], [\"Luis Miranda\", \"DEM\", \" dispoe sobre o funcionamento dos servicos essenciais enquanto durar as medidas<br> de enfrentamento da emergencia de saude publica decorrente do coronavirus covid19<br>\"], [\"Senado Federal - Jos\\u00e9 Serra\", \"PSDB\", \" dispoe sobre a prestacao de auxilio financeiro pela uniao as santas<br> casas e hospitais sem fins lucrativos que participam de forma complementar<br> do sistema unico de saude sus no exercicio de 2020 com<br> o objetivo de permitirlhes atuarem de forma coordenada no combate a<br> pandemia do coronavirus\"], [\"Pompeo de Mattos\", \"PDT\", \" modifica a lei no 8 036 de 11 de maio de<br> 1990 fgts para possibilitar o saque do saldo do fgts em<br> casos de estado de calamidade publica pela ocorrencia de pandemia\"], [\"Felipe Carreras\", \"PSB\", \" altera a lei no 9 656 de 3 de junho de<br> 1998 que dispoe sobre os planos e seguros privados de assistencia<br> a saude para vedar a rescisao ou suspensao nos casos de<br> epidemias pandemias ou calamidade publica decretada\"], [\"Eduardo Bismarck\", \"PDT\", \" permite a destinacao dos recursos do fundo de universalizacao dos servicos<br> de telecomunicacoes fust ao ministerio da saude para o custeio das<br> acoes de prevencao contencao combate e mitigacao a pandemia do covid19<br>\"], [\"Tal\\u00edria Petrone - PSOL/RJ ,  Glauber Braga\", \"PSOL\", \" dispoe sobre medidas penais processuais penais e socioeducatlvas emergenciais a respeito<br> da populacao carceraria brasileira apos o decreto da organizacao mundial da<br> saude oms de pandemia decorrente do alastramento das infeccoes pelo coronavirus<br> covid19 levando em consideracao o elevado risco a sociedade em geral<br> e em especial as pessoas em privacao de liberdade aos agentes<br> penitenciarios e aos demais servidores vinculados as secretarias de administracao penitenciaria<br> demandando medidas urgentes com vistas a preservacao dos direitos fundamentais a<br> vida e a saude nos termos da constituicao federal de 1988<br>\"], [\"Marcel van Hattem\", \"NOVO\", \" dispoe sobre atividades complementares de cursos tecnicos tecnologicos e superiores em<br> casos de estado de calamidade publica e epidemia do coronavirus covid19<br>\"], [\"Denis Bezerra\", \"PSB\", \" insere na lei no 8 078 de 11 de setembro de<br> 1990 codigo de defesa do consumidor o titulo vii como disposicao<br> transitoria em virtude da situacao excepcional vivida no pais decorrente do<br> covid19\"], [\"C\\u00e9lio Studart\", \"PV\", \" determina que o poder publico federal devera implementar medidas de prevencao<br> aos profissionais da saude em relacao a pandemia do novo coronavirus<br> covid19\"], [\"Alexandre Frota\", \"PSDB\", \" cria o fundo extraordinario de apoio a pandemias e veda o<br> corte de salarios dos servidores publicos\"], [\"Gleisi Hoffmann - PT/PR ,  Professora Rosa Neide\", \"PT\", \" fica criado o abono destinado a pessoas sem vinculo empregaticio e<br> que estejam submetidas a medidas de isolamento ou quarentena de acordo<br> com a lei 13 979 6 de fevereiro de 2020\"], [\"Erika Kokay\", \"PT\", \" estabelece medidas excepcionais de protecao a mulher e para o enfrentamento<br> a violencia domestica e familiar com fundamento nos dispositivos da lei<br> 11 340 de 7 de agosto de 2006 lei maria da<br> penha durante o estado de calamidade publica previsto pelo decreto legislativo<br> no 6 de 20 de marco de 2020 em razao da<br> emergencia de saude publica de importancia internacional decorrente do coronavirus covid19<br> altera a lei 8 742 de 7 de dezembro de 1993<br> e da outras providencias\"], [\"Sanderson\", \"PSL\", \" estabelece medidas de enfrentamento aos reflexos socioeconomicos do agente viral ncov2019<br> da familia coronavirus\"], [\"Paula Belmonte\", \"CIDADANIA\", \" autoriza a prescricao da ozonioterapia em todo o territorio nacional para<br> os casos de coronavirus covid19\"], [\"Bira do Pindar\\u00e9\", \"PSB\", \" dispoe sobre a alteracao da lei no 8 036 de 11<br> de maio de 1990 que dispoe sobre o fundo de garantia<br> do tempo de servico e da outras providencias autorizando o saque<br> integral da conta do fundo de garantia por tempo de servico<br> fgts para pessoas comprovadamente acometidas do virus covid19 e da outras<br> providencias\"], [\"Luis Miranda\", \"DEM\", \" institui adicional extraordinario de trinta pontos percentuais nas aliquotas de contribuicao<br> social sobre o lucro das pessoas juridicas de seguros privados das<br> de capitalizacao e das referidas nos incisos i a vii ix<br> e x do SS 1o do art 1o da lei complementar<br> no 105 de 10 de janeiro de 2001 e destina as<br> receitas obtidas para acoes de saude e de assistencia social vinculadas<br> a emergencia de saude publica relacionada ao coronavirus covid19\"], [\"Padre Jo\\u00e3o - PT/MG ,  Jo\\u00e3o Daniel - PT/SE ,  C\\u00e9lio Moura - PT/TO ,  Carlos Veras - PT/PE ,  Joseildo Ramos - PT/BA ,  Professora Rosa Neide - PT/MT ,  Valmir Assun\\u00e7\\u00e3o - PT/BA ,  Z\\u00e9 Carlos - PT/MA ,  Frei Anastacio Ribeiro - PT/PB ,  Pedro Uczai - PT/SC ,  Paulo Teixeira - PT/SP ,  Marcon - PT/RS ,  Alexandre Padilha\", \"PT\", \" dispoe sobre medidas emergenciais de amparo aos agricultores familiares do brasil<br> para mitigar os impactos socioeconomicos da pandemia do covid 19 durante<br> o periodo de vigor do estado de calamidade publica no pais<br> e da outras providencias\"], [\"Luiz Nishimori\", \"PL\", \" dispoe sobre a movimentacao da conta vinculada do trabalhador no fundo<br> de garantia do tempo de servico fgts em caso de emergencia<br> de estado de calamidade publica ou de pandemia declarada pela organizacao<br> mundial da saude reconhecidos pelo poder executivo federal\"], [\"Andr\\u00e9 Fufuca\", \"PP\", \" estipula a reserva de leitos no limite de 50 nos hospitais<br> privados para pacientes de covid19 assim como a internacao compulsoria de<br> paciente de covid19 na ausencia de leito em hospitais publicos credenciados<br> ao sus sistema unico de saude mediante termo de encaminhamento de<br> medico do sus\"], [\"Jose Mario Schreiner\", \"DEM\", \" dispoe sobre incentivos fiscais para doacoes a entidades publicas ou privadas<br> sem fins lucrativos da area da saude que atuem no combate<br> a epidemia de coronavirus covid19\"], [\"Carlos Sampaio\", \"PSDB\", \" prorroga os prazos de pagamento dos tributos federais que especifica durante<br> o estado de calamidade publica reconhecido pelo congresso nacional em decorrencia<br> da pandemia internacional ocasionada pela infeccao humana pelo coronavirus sarscov2 covid19<br>\"], [\"Eduardo da Fonte\", \"PP\", \" acrescentase o artigo 16a a lei no 9 250 de 26<br> de dezembro de 1995 que altera a legislacao do imposto de<br> renda das pessoas fisicas e da outras providencias para antecipar o<br> pagamento da restituicao do imposto de renda a medida que o<br> valor a restituir for apurado durante o estado de calamidade publica<br> reconhecido pelo decreto legislativo ndeg 06 de 2020 em razao da<br> pandemia do coronavirus covid19 estendendose ate a restituicao do imposto sobre<br> a renda da pessoa fisica no ano de 2021 anobase 2020<br>\"], [\"Alice Portugal\", \"PCdoB\", \" dispoe sobre financiamento imobiliario de imoveis urbanos em situacao de emergencia<br> sanitaria decorrente do coronavirus\"], [\"Delegado Pablo\", \"PSL\", \" dispoe sobre regras a serem observadas pelas prestadoras do servico publico<br> de distribuicao de energia eletrica durante o periodo de emergencia de<br> saude publica devida a pandemia da covid19 e apos o termino<br> da crise de saude mediante alteracao da lei no 9 074<br> de 7 de julho de 1995 e da outras providencias\"], [\"Mara Rocha\", \"PSDB\", \" suspende o desconto de emprestimo consignado deduzido de qualquer vencimento do<br> utilizador enquanto durar o estado de calamidade publica devido a pandemia<br> do coronavirus covid19 reconhecido pelo decreto legislativo no 6 de 20<br> de marco de 2020\"], [\"Joice Hasselmann\", \"PSL\", \" trata da suspensao retroativa e impedimento de novas inscricoes nos cadastros<br> de empresas de analises e informacoes para decisoes de credito enquanto<br> vigente calamidade publica decorrente da pandemia do coronavirus covid19\"], [\"Jose Mario Schreiner\", \"DEM\", \" estabelece que enquanto perdurar o estado de calamidade causado pelo novo<br> coronavirus o percentual de 7 cinco por cento dos recursos arrecadados<br> com todos os concursos de prognosticos seja repassado ao programa nacional<br> de alimentacao escolar pnae e o fundo nacional de saude fns<br>\"], [\"Filipe Barros\", \"PSL\", \" isenta caminhoneiros do pagamento de pedagio em rodovias durante o periodo<br> de calamidade publica causada pelo combate ao virus covid19 em todo<br> o territorio nacional\"], [\"Dr. Luiz Antonio Teixeira Jr. - PP/RJ ,  Carmen Zanotto - CIDADANIA/SC ,  Rodrigo Coelho\", \"PSB\", \" dispoe sobre a proibicao de exportacoes de produtos medicos hospitalares e<br> de higiene essenciais ao combate a epidemia de coronavirus no brasil<br>\"], [\"Rosana Valle - PSB/SP ,  Danilo Cabral - PSB/PE ,  Mauro Nazif - PSB/RO ,  Camilo Capiberibe - PSB/AP ,  Luciano Ducci - PSB/PR ,  L\\u00eddice da Mata\", \"PSB\", \" permite o saque emergencial de valores do fundo de garantia por<br> tempo de servico causada pelo coronavirus covid19\"], [\"Sergio Vidigal\", \"PDT\", \" suspende os prazos de validade dos concursos publicos ja homologados durante<br> o periodo de vigencia do estado de calamidade publica estabelecido pela<br> uniao em decorrencia da pandemia do coronavirus covid19\"], [\"Andr\\u00e9 Janones\", \"AVANTE\", \" dispoe sobre o adiantamento da restituicao do imposto sobre a renda<br> da pessoa fisica no ano de 2020 anobase 2019 em razao<br> da pandemia do coronavirus covid19\"], [\"Juscelino Filho - DEM/MA ,  Gast\\u00e3o Vieira\", \"PROS\", \" altera a lei ndeg 13 885 de 17 de outubro de<br> 2019 para a autorizar a destinacao por estados distrito federal e<br> municipios de valores arrecadados com os leiloes dos volumes excedentes da<br> cessao onerosa a acoes de resposta ao coronavirus covid19\"], [\"C\\u00e1ssio Andrade - PSB/PA ,  Luciano Ducci - PSB/PR ,  Bira do Pindar\\u00e9 - PSB/MA ,  Camilo Capiberibe - PSB/AP ,  Mauro Nazif\", \"PSB\", \" dispoe sobre a proibicao de cobranca de tarifa de transferencia bancaria<br> nas circunstancias que especifica enquanto perdurarem as medidas emergenciais de enfrentamento<br> a pandemia do coronavirus covid19\"], [\"Alice Portugal\", \"PCdoB\", \" dispoe sobre o beneficio de prestacao continuada temporario durante a pandemia<br> do coronavirus\"], [\"Paulo Ramos\", \"PDT\", \" suspende as atividades do mercado de acoes titulos ou valores mobiliarios<br> em territorio brasileiro por 120 dias em carater excepcional como medida<br> restritiva para conter a disseminacao pandemica da enfermidade covid19\"], [\"Clarissa Garotinho - PROS/RJ ,  Weliton Prado - PROS/MG ,  Capit\\u00e3o Wagner - PROS/CE ,  Toninho Wandscheer - PROS/PR ,  Ac\\u00e1cio Favacho\", \"PROS\", \" autoriza os profissionais de saude a deduzirem da base de calculo<br> do imposto de renda de pessoa fisica de que trata a<br> lei n 9 250 de 26 de dezembro de 1995 a<br> aquisicao de equipamentos de protecao individual epi adquiridos entre o periodo<br> de 26 de fevereiro de 2020 e enquanto durar a emergencia<br> de saude publica de importancia internacional em decorrencia da infeccao humana<br> pelo coronavirus covid19 ate o limite individual de r 3 500<br> 00 tres mil e quinhentos reais\"], [\"Paulo Pimenta\", \"PT\", \" altera o disposto na lei 13 979 de 06 de fevereiro<br> de 2020 acrescentando o inciso iv SS2o do art 3o e<br> assim ficando impedida a majoracao sem justa causa do preco de<br> produtos ou servicos durante todo o periodo do reconhecimento de estado<br> de calamidade publica em razao dos efeitos da pandemia de coronavirus<br>\"], [\"Enio Verri - PT/PR ,  Jos\\u00e9 Guimar\\u00e3es - PT/CE ,  Joseildo Ramos - PT/BA ,  Mar\\u00edlia Arraes - PT/PE ,  Alexandre Padilha - PT/SP ,  Rui Falc\\u00e3o - PT/SP ,  Helder Salom\\u00e3o - PT/ES ,  Margarida Salom\\u00e3o - PT/MG ,  Nilto Tatto - PT/SP ,  Vicentinho - PT/SP ,  Leonardo Monteiro - PT/MG ,  Patrus Ananias - PT/MG ,  Jos\\u00e9 Ricardo - PT/AM ,  Airton Faleiro - PT/PA ,  Jorge Solla - PT/BA ,  Erika Kokay - PT/DF ,  Padre Jo\\u00e3o - PT/MG ,  Paulo Guedes - PT/MG ,  Luizianne Lins - PT/CE ,  Paulo Pimenta - PT/RS ,  Gleisi Hoffmann - PT/PR ,  Waldenor Pereira - PT/BA ,  Frei Anastacio Ribeiro - PT/PB ,  Valmir Assun\\u00e7\\u00e3o - PT/BA ,  Z\\u00e9 Carlos - PT/MA ,  Rejane Dias - PT/PI ,  Bohn Gass - PT/RS ,  Maria do Ros\\u00e1rio - PT/RS ,  Marcon - PT/RS ,  Arlindo Chinaglia - PT/SP ,  C\\u00e9lio Moura - PT/TO ,  Rubens Otoni - PT/GO ,  Nat\\u00e1lia Bonavides - PT/RN ,  Professora Rosa Neide - PT/MT ,  Pedro Uczai - PT/SC ,  Carlos Veras - PT/PE ,  Jo\\u00e3o Daniel - PT/SE ,  Paul\\u00e3o - PT/AL ,  Alencar Santana Braga\", \"PT\", \" institui o programa emergencial de apoio as empresas em decorrencia do<br> estado de emergencia internacional em razao do novo coronavirus com o<br> objetivo de garantir a protecao ao emprego das empresas alcancadas por<br> medidas de suspensao total ou de reducao significativa de suas atividades<br>\"], [\"Celso Maldaner\", \"MDB\", \" concede isencao de imposto de renda aos idosos com mais de<br> 65 anos e aposentados que recebam ate 10 salarios minimos durante<br> a pandemia do coronavirus covid19 e_ou enquanto durar o estado de<br> calamidade publica\"], [\"Capit\\u00e3o Wagner\", \"PROS\", \" dispoe sobre a vedacao de adocao dos procedimentos de consolidacao da<br> propriedade imobiliaria nos contratos de financiamento imobiliario de que tratam as<br> leis no 9 514 de 20 de novembro de 1997 e<br> no 11 977 de 07 de julho de 2009 programa minha<br> casa minha vida enquanto durarem os efeitos do estado de calamidade<br> publica declarado pelo decreto legislativo no 6 de 2020 decorrente da<br> pandemia do coronavirus covid19\"], [\"Jos\\u00e9 Guimar\\u00e3es\", \"PT\", \" altera a lei no 13 979 de 6 de fevereiro de<br> 2020 que dispoesobre as medidas para enfrentamento da emergencia de saude<br> publica decorrente do coronavirus para dispensar temporariamente o pagamento dos pedagios<br> rodoviarios para veiculos de carga\"], [\"Rodrigo Coelho\", \"PSB\", \" dispoe sobre a protecao tributaria previdenciaria e assistencial em razao da<br> pandemia relacionada ao covid19\"], [\"Geovania de S\\u00e1\", \"PSDB\", \" dispoe sobre a isencao da cobranca de pedagio durante o periodo<br> de enfrentamento da emergencia de saude publica decorrente do coronavirus e<br> da outras providencias\"], [\"Afonso Hamm\", \"PP\", \" acrescenta artigo a lei no 13 979 de 6 de fevereiro<br> de 2020 que dispoe sobre as medidas para enfrentamento da emergencia<br> de saude publica de importancia internacional decorrente do coronavirus responsavel pelo<br> surto de 2019 para garantir a concessao do segurodesemprego ate 30<br> de junho de 2020 aos trabalhadores que estavam em gozo do<br> beneficio na data da decretacao do estado de calamidade publica reconhecido<br> pelo decreto legislativo no 6 de 20 de marco de 2020<br>\"], [\"Mauro Nazif - PSB/RO ,  Luciano Ducci - PSB/PR ,  L\\u00eddice da Mata\", \"PSB\", \" institui gratificacao extraordinaria aos servidores da seguranca publica durante a vigencia<br> da calamidade de saude publica decorrente do coronavirus covid19 e da<br> outras disposicoes\"], [\"Rejane Dias\", \"PT\", \" altera as leis ndeg 9718_1998 10 833_2003 ndeg 10 865_2004 ndeg<br> 11 196_2005 e na 13 097_2015 para majorar as aliquotas da<br> cofins e da cofinsimportacao incidentes sobre operacoes de venda no mercado<br> interno e de importacao de bebidas alcoolicas e cigarros e destina<br> recursos para acoes de saude relacionadas a prevencao ou ao tratamento<br> de doencas decorrentes do consumo de bebidas alcoolicas e cigarros e<br> no combate a pandemias\"], [\"Assis Carvalho\", \"PT\", \" institui o imposto sobre grandes fortuna a ser destinado exclusivamente ao<br> combate da pandemia do covid19 coronavirus\"], [\"Capit\\u00e3o Alberto Neto\", \"REPUBLIC\", \" altera a lei no 4 886 de 09 de dezembro de<br> 1965 para reduzir os valores das anuidades devidas por representantes comerciais<br> aos respectivos conselhos regionais dos representantes comerciais por decorrencia de situacoes<br> de calamidade publica surto epidemia pandemia endemia ou guerra externa\"], [\"Andr\\u00e9 Figueiredo\", \"PDT\", \" institui medidas de protecao social em funcao da crise internacional causada<br> pela pandemia do coronavirus covid19\"], [\"JHC\", \"PSB\", \" altera a lei 13 979_2020 para dispor sobre as medidas protetivas<br> ao contribuinte para enfrentamento do estado de calamidade publica reconhecido pelo<br> decreto legislativo no 6 de 20 de marco de 2020 e<br> da emergencia de saude publica de importancia internacional decorrente do coronavirus<br> covid19 decretada pelo ministro de estado da saude em 3 de<br> fevereiro de 2020 nos termos do disposto na lei no 13<br> 979 de 6 de fevereiro de 2020\"], [\"J\\u00falio Delgado - PSB/MG ,  Danilo Cabral\", \"PSB\", \" institui a isencao de pagamento de tarifa de pedagio em rodovias<br> federais para os veiculos de carga no periodo de emergencia em<br> saude publica covid 19\"], [\"Eduardo Bismarck\", \"PDT\", \" proibe a incidencia de juros remuneratorios moratorios multa e quaisquer outros<br> encargos bancarios sobre o valor utilizado do cheque especial e do<br> saldo devedor da fatura de cartao de credito concedidos por instituicoes<br> financeiras ate 60 sessenta dias apos o encerramento da calamidade publica<br> decretada pelo congresso nacional em decorrencia da pandemia do covid19\"], [\"Kim Kataguiri\", \"DEM\", \" modifica a lei n o 9 433 de 1997 para determinar<br> a suspensao da cobranca e pagamento de agua em periodos de<br> pandemia\"], [\"Charlles Evangelista\", \"PSL\", \" institui a isencao de pagamento de tarifa de pedagio em rodovias<br> federais para os veiculos que determina quando o pais for afetado<br> por pandemia ou decretado estado de calamidade publica\"], [\"Ricardo Izar\", \"PP\", \" faculta aos locatarios de imoveis comerciais o direito de requerer abatimento<br> no valor da locacao proporcional ao numero de dias em que<br> houver reducao ou interrupcao das atividades comerciais por forca das medidas<br> de isolamento e quarentena previstas na lei no 13 979 de<br> 6 de fevereiro de 2020\"], [\"Arlindo Chinaglia\", \"PT\", \" dispoe sobre a requisicao administrativa pelo poder publico de bens moveis<br> imoveis servicos e insumos de saude de propriedade particular para utilizacao<br> em servicos de saude destinados ao combate a pandemia\"], [\"Pompeo de Mattos\", \"PDT\", \" cria a contribuicao extraordinaria para colaborar no enfrentamento dos efeitos da<br> pandemia por covid 19 a ser cobrada dos parlamentares federais\"], [\"Boca Aberta\", \"PROS\", \" dispoe sobre o corte de 50 dos salarios de todos os<br> politicos brasileiros enfim da elite do funcionalismo publico para combate ao<br> coronavirus covide 19\"], [\"Tiago Dimas\", \"SOLIDARI\", \" altera o decretolei no 2 848 de 7 de dezembro de<br> 1940 para tipificar a conduta de provocacao de alarma de doenca<br> contagiosa e a lei 13 979 de 6 de fevereiro de<br> 2020 que dispoe sobre as medidas para enfrentamento da emergencia de<br> saude publica de importancia internacional decorrente do coronavirus responsavel pelo surto<br> de 2019\"], [\"Carlos Chiodini\", \"MDB\", \" dispoe sobre o pagamento em pecunia do auxilio alimentacao limita as<br> empresas emissoras de cartao valealimentacao e valerefeicao a cobranca de taxa<br> unica de no maximo 3 sobre o valor da venda a<br> ser retida dos estabelecimentos comerciais credenciados e da outras providencias em<br> virtude dos efeitos economicos gerados pela pandemia do coronavirus covid19\"], [\"Efraim Filho\", \"DEM\", \" preve a interrupcao temporaria do contrato de trabalho com devida compensacao<br> financeira ao empregado durante o estado de calamidade publica provocado pela<br> pandemia do coronavirus covid19\"], [\"Fred Costa\", \"PATRIOTA\", \" isenta de tributos federais os insumos medicamentos e equipamentos necessarios a<br> prevencao e combate ao novo coronavirus covid19\"], [\"Rosana Valle\", \"PSB\", \" dispoe sobre a restituicao do imposto de renda pessoa fisica referente<br> ao ano de 2020 anocalendario 2019 priorizando aposentados pessoas acometidas de<br> doencas graves pessoas com deficiencias e todas as pessoas fisicas que<br> receberam ate 05 cinco salarios minimos mensais em razao do periodo<br> de calamidade publica decorrente da pandemia do coronavirus covid19 e da<br> outras providencias\"], [\"Enio Verri\", \"PT\", \" cria o seguro emergencial de renda as pessoas em situacao de<br> vulnerabilidade social e economica que especifica em decorrencia do estado de<br> emergencia internacional pelo novo coronavirus identificado como sarscov2\"], [\"Lucas Vergilio\", \"SOLIDARI\", \" altera a lei no 10 406 de 10 de janeiro de<br> 2002 que institui o codigo civil para incluir nas coberturas de<br> seguros de vida os eventos decorrentes de epidemias ou pandemias ainda<br> que declaradas por autoridades competentes\"], [\"Jo\\u00e3o H. Campos\", \"PSB\", \" dispoe sobre acoes medidas e diretrizes acerca do enfrentamento ao coronavirus<br> covid19 no intuito de adequar as cobrancas por servicos publicos e<br> privados destinados as pessoas de baixa renda\"], [\"Marcon\", \"PT\", \" dispoe sobre a suspensao da cobranca de emprestimos pessoais consignados financiamento<br> imobiliario de imoveis urbanos e rurais e financiamentos no ambito do<br> programa minha casa minha vida mcmv com objetivo de mitigar os<br> impactos socieconomicos da pandemia do covid19\"], [\"Roberto de Lucena\", \"PODE\", \" cria o fundo emergencial de combate aos efeitos socioeconomicos do coronavirus<br> covid19\"], [\"Fernanda Melchionna - PSOL/RS ,  Glauber Braga - PSOL/RJ ,  Marcelo Freixo - PSOL/RJ ,  S\\u00e2mia Bomfim\", \"PSOL\", \" cria o programa de renda basica emergencial altera a lei no<br> 7 998 de 11 de janeiro de 1990 para ampliar o<br> prazo de recebimento do segurodesemprego propoe o tabelamento de precos de<br> equipamentos de protecao individual e utilizados para o controle da transmissao<br> do covid19 e da outras providencias\"], [\"Reginaldo Lopes\", \"PT\", \" autoriza o poder executivo a conceder auxilio financeiro temporario ao contribuinte<br> mei segurado no regime geral da previdencia social em periodo de<br> restricao a movimentacao e contato pelo motivo da pandemia covid19 corona<br> virus\"], [\"Fernanda Melchionna - PSOL/RS ,  David Miranda - PSOL/RJ ,  Marcelo Freixo\", \"PSOL\", \" estabelece a proibicao de interrupcao dos servicos de conexao a internet<br> residencial movel e comercial durante o estado de calamidade publica decorrente<br> do covid19 e da outras providencias\"], [\"Geninho Zuliani\", \"DEM\", \" altera a lei no 8 989_95 e a lei no 13<br> 755_18 para dispor sobre a isencao do imposto sobre produtos industrializados<br> ipi na aquisicao de veiculos utilizados para transporte de viajantes enfermos<br> ou suspeitos conforme protocolo de referencia no7 de novembro de 2011<br> da anvisa enquanto durar o estado de calamidade publica em territorio<br> brasileiro em razao da pandemia do covid19\"], [\"Paulo Abi-Ackel\", \"PSDB\", \" reconhece a aquisicao de insumos basicos de protecao contra o coronavirus<br> sarscov2 covid19 ou a aquisicao de equipamentos medicohospitalares para o enfrentamento<br> a pandemia do coronavirus no contexto do estado de calamidade publica<br> reconhecido pelo congresso nacional a precos de mercado e nas hipoteses<br> de maxima urgencia devidamente comprovada como casos excepcionais para efeito de<br> possibilitar o pagamento por meio de adiantamento nos termos do disposto<br> nos arts 65 e 68 da lei n o 4 320<br> de 17 de marco de 1964\"], [\"Gildenemyr\", \"PL\", \" autoriza deducoes do valor do imposto devido durante o periodo de<br> estado de calamidade publica por pessoa juridica as doacoes para combate<br> a pandemia do coronavirus\"], [\"Jos\\u00e9 Guimar\\u00e3es\", \"PT\", \" assegura a manutencao de bolsas e auxilios aos estudantes das instituicoes<br> federais de educacao superior durante a pandemia de coronavirus\"], [\"Jo\\u00e3o Daniel\", \"PT\", \" preve a anistia das parcelas de financiamentos e emprestimos de pessoas<br> fisicas que recebam ate tres salarios minimos em caso de pandemia<br> reconhecida pela organizacao mundial de saude oms\"], [\"Enio Verri\", \"PT\", \" fica criado o abono destinado a feirantes e agricultores familiares que<br> se encontram em isolamento ou quarentena em razao da pandemia do<br> covid19 consoante a lei 13 979 de 6 de fevereiro de<br> 2020 e que apresentamse impossibilitados de comercializar sua producao tambem por<br> medidas determinadas pelos executivos municipais\"], [\"Valdevan Noventa\", \"PSC\", \" altera a lei no 9 656 de 3 de junho de<br> 1998 que dispoe sobre a saude suplementar para proibir rescisao ou<br> alteracao prejudicial de contratos de planos de saude por iniciativa da<br> opeadora durante pandemias de grandes proporcoes\"], [\"Alexandre Frota\", \"PSDB\", \" acrescenta o artigo 283 a no decreto 2848_40 codigo penal para<br> incluir o crime de divulgacao de falsa de cura ou diminuicao<br> de sintomas de doencas por produtos ou outro qualquer meio que<br> nao estejam autorizados pelo poder publico crime agravado em epoca de<br> endemia epidemia e pandemia\"], [\"Marc\\u00e3o Gomes\", \"PL\", \" acrescenta dispositivos ao art 6o da lei no 8 987 de<br> 13 de fevereiro de 1995 para proibir a suspensao do fornecimento<br> de energia eletrica fornecimento de agua e esgoto e fornecimento de<br> gas encanado por inadimplencia enquanto durar o estado de emergencia em<br> saude publica em razao da pandemia de covid19 coronavirus no brasil<br>\"], [\"Joice Hasselmann\", \"PSL\", \" trata da destinacao do orcamento para promocao internacional do turismo na<br> vigencia da calamidade publica decorrente da pandemia do coronavirus covid19\"], [\"Alexandre Frota\", \"PSDB\", \" determina a todas as escolas publicas municipais estaduais federais e tambem<br> as escolas particulares o envio de material pedagogico a seus alunos<br> e aos responsaveis via eletronica durante o periodo em que durar<br> o decreto de calamidade publica e isolamento social\"], [\"JHC\", \"PSB\", \" altera a leis 9 503_1997 para dispor sobre as medidas protetivas<br> ao contribuinte para enfrentamento do estado de calamidade publica reconhecido pelo<br> decreto legislativo no 6 de 20 de marco de 2020 e<br> da emergencia de saude publica de importancia internacional decorrente do coronavirus<br> covid19 decretada pelo ministro de estado da saude em 3 de<br> fevereiro de 2020 nos termos do disposto na lei no 13<br> 979 de 6 de fevereiro de 2020\"], [\"Nat\\u00e1lia Bonavides - PT/RN ,  Rejane Dias\", \"PT\", \" estabelece auxilio financeiro para microempresas durante a situacao de pandemia do<br> virus covid19\"], [\"Kim Kataguiri\", \"DEM\", \" institui a isencao tributaria para insumos medicos em casos de pandemia<br>\"], [\"Dulce Miranda\", \"MDB\", \" veda a interrupcao da prestacao de servicos publicos de natureza continuada<br> por inadimplemento do usuario pessoas fisica no periodo de duracao da<br> situacao de emergencia de saude publica devida a pandemia do coronavirus<br> e altera a lei no 13 979 de 6 de fevereiro<br> de 2020\"], [\"Delegado Marcelo Freitas\", \"PSL\", \" determina a reducao de valores de mensalidades cobradas por instituicoes privadas<br> de ensino autorizadas pelo mec durante a suspensao das atividades escolares<br> presenciais determinadas pelas autoridades publicas em face da pandemia da covid19<br> coronavirus\"], [\"Fred Costa\", \"PATRIOTA\", \" estabelece pena de detencao para o crime de aumento abusivo de<br> precos de produtos destinados a evitar a contaminacao pelo coronavirus\"], [\"Aroldo Martins\", \"REPUBLIC\", \" dispoe sobre medidas de protecao a populacao brasileira durante a pandemia<br> do covid19 coronavirus\"], [\"Nat\\u00e1lia Bonavides\", \"PT\", \" dispoe sobre medidas de protecao ao microempreendedor individual ao empresario individual<br> e a empresa individual de responsabilidade limitada durante a pandemia do<br> covid19\"], [\"T\\u00falio Gad\\u00ealha\", \"PDT\", \" estabelece prioridade de atendimento aos profissionais de saude na destinacao de<br> equipamentos de protecao na testagem e no tratamento da covid19 durante<br> o estado de calamidade publica declarado em virtude do surto do<br> coronavirus sarscov2 nas condicoes que especifica\"], [\"Pastor Sargento Isid\\u00f3rio\", \"AVANTE\", \" isenta a cobranca de pedagio enquanto durar a pandemia do novo<br> coronavirus nas rodovias estaduais e federais em todo territorio nacional para<br> os caminhoneiros e para os profissionais considerados essenciais envolvidos no combate<br> direto do covid19 quando legitimados pelas autoridades governamentais e ministerio da<br> saude\"], [\"Geninho Zuliani\", \"DEM\", \" altera a lei no 7 798_89 e a lei no 10<br> 865_2004 para dispor sobre a suspensao do imposto sobre produtos industrializados<br> ipi do pis_pasep importacao e da cofins importacao para o setor<br> de produtos para saude enquanto durar o estado de calamidade publica<br> em territorio brasileiro em razao da pandemia do covid19\"], [\"Andr\\u00e9 Figueiredo\", \"PDT\", \" dispoe sobre a suspensao do desconto de emprestimo consignado como medida<br> excepcional de enfrentamento da calamidade publica decretada em virtude do covid19<br>\"], [\"Christino Aureo\", \"PP\", \" institui o programa emergencial de manutencao dos postos de trabalho que<br> dispoe sobre a suspensao da exigibilidade de tributos federais por tempo<br> determinado bem como o parcelamento do debito tributario respectivo tendo em<br> vista os efeitos da pandemia do coronavirus covid19\"], [\"Andr\\u00e9 Janones\", \"AVANTE\", \" destina extraordinariamente os recursos do fundo especial de financiamento de campanha<br> para o enfrentamento da epidemia do coronavirus\"], [\"Adriana Ventura - NOVO/SP ,  Alexandre Serfiotis - PSD/RJ ,  Dra. Soraya Manato - PSL/ES ,  Jorge Solla - PT/BA ,  Marcel van Hattem - NOVO/RS ,  Carmen Zanotto - CIDADANIA/SC ,  Mariana Carvalho - PSDB/RO ,  Tiago Mitraud - NOVO/MG ,  Vinicius Poit - NOVO/SP ,  Patricia Ferraz - PODE/AP ,  Paulo Ganime\", \"NOVO\", \" altera a lei ndeg 10 858 de 13 de abril de<br> 2004 para desburocratizar a retirada de medicamentos populares durante situacao de<br> pandemia epidemia ou calamidade\"], [\"Delegado Waldir\", \"PSL\", \" dispoe sobre a obrigatoriedade de reducao das mensalidades das instituicoes privadas<br> de ensino fundamental ensino medio e ensino superior durante durante o<br> estado de calamidade publica relacionado ao covid19\"], [\"Jo\\u00e3o H. Campos\", \"PSB\", \" dispoe sobre acoes medidas e diretrizes acerca do enfrentamento ao coronavirus<br> covid19 estabelecendo medidas de apoio as microempresas aos microempreendedores individuais e<br> profissionais de aplicativos de entregas e transporte\"], [\"Dagoberto Nogueira\", \"PDT\", \" suspende a cobranca de pagamento de prestacoes relativas a qualquer tipo<br> de financiamento bancario concedido a pessoa natural ou juridica enquanto perdurar<br> a vigencia do decreto legislativo no 6 de 2020 que decretou<br> estado de calamidade publica no pais em decorrencia da pandemia covid19<br>\"], [\"Geovania de S\\u00e1\", \"PSDB\", \" dispoe sobre medidas de protecao as entidades do terceiro setor durante<br> a pandemia do coronavirus\"], [\"L\\u00e9o Moraes\", \"PODE\", \" dispoe sobre alteracoes na tarifa social de energia eletrica para os<br> consumidores enquadrados na subclasse residencial baixa renda prevista na lei no<br> 12 212 de 20 de janeiro de 2010 durante o estado<br> de calamidade publica decorrente da pandemia do coronavirus sarscov2 covid19\"], [\"Tal\\u00edria Petrone - PSOL/RJ ,  Glauber Braga\", \"PSOL\", \" dispoe direitos e deveres de pessoas em situacao de rua em<br> situacoes de pandemias e epidemias que exijam isolamento temporario\"], [\"Denis Bezerra - PSB/CE ,  Vilson da Fetaemg\", \"PSB\", \" insere disposicao transitoria na lei 12 414 de 09 de junho<br> de 2011 enquanto durar a pandemia do covid19 e da outras<br> providencias\"], [\"Dagoberto Nogueira\", \"PDT\", \" dispoe na lei no 10 260 de 12 de julho de<br> 2001 sobre a suspensao temporaria do pagamento de encargos educacionais mensalidades<br> do fundo de financiamento estudantil fies e do programa de financiamento<br> estudantil pfies durante a calamidade sanitaria provocada por pandemia\"], [\"Emanuel Pinheiro Neto\", \"PTB\", \" ficam as instituicoes de ensino infantil fundamental medio e superior da<br> rede privada que optaram pelo ensino a distancia ead obrigadas a<br> reduzirem as suas mensalidades em no minimo 20 vinte por cento<br> mediante formulario de requisicao do estudante ou seu representante legal durante<br> o periodo que durar o plano de contingencia nacional para infeccao<br> humana pelo novo coronavirus causador da covid19 e da outras providencias<br>\"], [\"Paulo Abi-Ackel\", \"PSDB\", \" permite que excepcionalmente e enquanto perdurar o estado de calamidade publica<br> reconhecido pelo congresso nacional o banco central do brasil determine que<br> os montantes que as instituicoes financeiras deixaram de recolher em decorrencia<br> da reducao de aliquotas do deposito compulsorio uma das medidas de<br> enfrentamento a pandemia do coronavirus tomadas por aquela entidade sejam integralmente<br> destinados ao credito\"], [\"Alencar Santana Braga - PT/SP ,  Professora Rosa Neide\", \"PT\", \" define medidas economicas e sociais visando a mitigacao dos efeitos da<br> pandemia do novo coronavirus covid 19\"], [\"Jo\\u00e3o H. Campos\", \"PSB\", \" dispoe sobre acoes medidas e diretrizes acerca do enfrentamento ao coronavirus<br> covid19 no intuito de conceder seguro desemprego nos termos que especifica<br> e da outras providencias\"], [\"Poder Executivo\", \"Poder Executivo\", \" altera a lei no 13 979 de 6 de fevereiro de<br> 2020 para instituir o comite nacional de orgaos de justica e<br> controle para prevenir ou terminar litigios inclusive os judiciais relacionados ao<br> enfrentamento da emergencia de saude publica decorrente da covid19\"], [\"Jos\\u00e9 Ricardo\", \"PT\", \" acrescenta o artigo 3ob a lei no 7 998 de 11<br> de janeiro de 1990 para garantir beneficio do segurodesemprego aos trabalhadores<br> no periodo da pandemia do coronavirus covid19\"], [\"Aliel Machado - PSB/PR ,  Patricia Ferraz\", \"PODE\", \" dispoe sobre a obrigatoriedade de inclusao de cada cesta basica produzida<br> e distribuida no pais pelo poder publico ou iniciativa privada conter<br> enquanto perdurar a declaracao de pandemia do coronavirus pela organizacao mundial<br> de saude itens de higiene e assepsia\"], [\"Paulo Pimenta\", \"PT\", \" inclui o SS 2o no art 65 da lei complementar no<br> 101 de 4 de maio de 2000 a fim de que<br> seja determinada a suspensao do prazo de entrega do siapc_pad sistema<br> de informacoes para auditoria e prestacao de contas e todas as<br> demais obrigacoes correlatas em razao do estado de emergencia internacional pelo<br> novo coronavirus identificado como sarscov2\"], [\"Coronel Armando\", \"PSL\", \" dispoe sobre a regulamentacao de consultas com medicos terapeutas psicologos e<br> nutricionistas por meio de tecnologia da informacao e da comunicacao em<br> casos de calamidade publica e quarentena nos moldes da lei 13<br> 979 de 06 de fevereiro de 2020\"], [\"Reginaldo Lopes\", \"PT\", \" autoriza o poder executivo a conceder auxilio financeiro temporario ao trabalhador<br> informal em periodo de restricao a movimentacao e contato pelo motivo<br> da pandemia covid19 corona virus\"], [\"Sh\\u00e9ridan\", \"PSDB\", \" determina que na ocorrencia de calamidade publica ou situacao emergencial que<br> exija medidas de isolamento social sejam elevados em cinquenta por cento<br> os patamares de consumo que definem as faixas de desconto referentes<br> as tarifas sociais de energia eletrica e de abastecimento de agua<br> aplicaveis as unidades consumidoras residenciais de baixa renda\"], [\"Franco Cartafina\", \"PP\", \" suspende a lavratura e o registro de protesto extrajudicial de titulos<br> e outros documentos de divida de que trata a lei no<br> 9 492 de 10 de setembro de 1997 enquanto perdurar o<br> estado de calamidade publica reconhecido pelo decreto legislativo no 6 de<br> 20 de marco de 2020 ou de emergencia de saude internacional<br> decorrente do coronavirus responsavel pelo surto de 2019 da doenca covid19<br> que foi decretada pelo ministro de estado da saude em 3<br> de fevereiro de 2020 nos termos do disposto na lei no<br> 13 979 de 6 de fevereiro de 2020\"]], \"hovertemplate\": \"pc_1=%{x}<br>pc_2=%{y}<br>pc_3=%{z}<br>autor=%{customdata[0]}<br>sg_partido=%{customdata[1]}<br>ementa_labels=%{customdata[2]}<br>color=%{marker.color}<extra></extra>\", \"legendgroup\": \"\", \"marker\": {\"color\": [-0.06815948780824174, 0.05149994296873321, 0.10426624463336295, -0.040984292107128964, 0.3966588513594159, -0.0337777174458605, -0.01630525164783594, 0.13955795499229362, -0.024388657084966472, -0.08176004900093178, -0.004834275530906185, 0.045856201639649034, 0.04830440739189115, 0.054739765157306726, 0.03506906648020876, 0.03437556184023987, -0.04489391114682633, 0.14875691688904183, 0.06754767259579808, -0.23816936446572473, 0.1997149540411676, 0.04636223657973963, 0.11592376299819054, -0.07847289716769179, 0.18507430547891715, 0.03440499642813097, 0.09361569425669497, 0.0012192614675528273, 0.0098837006907459, 0.4534769827528731, 0.002366992111494294, 0.0014185679605201625, 0.09365521985624509, 0.0005112716602422731, -0.057406744667843325, 0.03339380380181808, -0.012920585620617145, -0.03681742452192675, 0.15072508695574235, 0.1338341202131172, -0.07907694307777996, 0.029024568780024084, -0.10391078258735491, -0.07899627075362349, 0.03715395544386029, 0.36835726852988937, -0.036570894665353446, 0.11349018832167428, 0.018792034684388233, -0.14756371418888098, 0.0135155942494505, 0.03102743699131816, 0.09434384085988358, 0.007133324076373275, 0.14435273818500005, 0.11906992864533246, 0.07800087776436693, 0.003558809271857445, -0.0031162422205004625, -0.42153633714371597, 0.07712969903593235, 0.03711415662175156, 0.04382651534742949, -0.28465622595183315, 0.0023501703672658522, -0.006090674401793871, -0.06125069929061489, 0.03102743699131816, -0.051273099046749857, 0.0028969983603086328, -0.020136712672356023, -0.0029218537783622296, 0.07904069835925094, 0.015600004561395283, -0.012943406038779276, 0.03826010748542402, 0.042391107718300756, -0.2388410792095928, 0.05059064134750547, 0.19032372084790963, 0.08551248985422713, 0.16028445808539327, 0.16683056463360385, -0.06267475381617904, 0.07777204112393644, 0.14405265955776453, 0.02266935871757952, -0.015271710737258444, 0.17184540191838013, -0.14604310608602608, 0.013571257291797756, 0.040780326652970274, 0.11934548621975154, -0.057031918508512774, -0.010841353912328289, 0.011245738898507385, -0.11930766958534038, -0.0387323320209745, 0.04999133404536316, 0.07486497626384965, 0.03705738635796848, 0.016267434294496525, 0.02513572067277585, -0.16787816646097942, 0.02151872561506733, 0.1264328916999836, -0.2192162672781392, 0.11701527327060371, -0.05855417418085938, -0.08264906429838732, -0.08209303832348099, -0.05979261419329105, -0.04372255129875103, 0.04454730848362947, -0.008651010703360221, 0.03097623315387812, -0.04100134319640032, 0.05917746590315925, 0.1736931067029811, -0.06757490205055597, -0.05323052728852957, -0.01951774057439101, 0.0516301658493672, 0.01831995813147693, 0.0056741927926650705, -0.006278780451648208, 0.06370878738601522, 0.13692258776160426, 0.0024325894245571197, -0.07055430159315798, 0.10116376079378152, 0.0926298571752509, -0.1013565718814631, -0.004975096145574225, 0.1258749980037151, 0.02297556099976405, 0.1940019003760161, 0.1038942367124235, -0.11533689252224948, 0.0966518028601322, -0.05510141613836592, 0.09752453746658125, 0.06363799324285252, 0.05365484318875931, -0.21510969532320115, -0.2858399813612118, 0.009764258825206, 0.015217349397598823, -0.09427773275017601, 0.12323268125031689, 0.06028877776108658, 0.0016284058914076748, 0.03869675022937546, 0.04999596357330417, 0.08003727088874996, 0.04741738690799766, 0.0042002404543807, 0.004206943716303923, 0.01003487299100924, 0.0472111409942268, 0.04025477227035663, 0.14056873702962314, 0.07509038903408978, 0.021408395908275688, -0.007369037782299662, 0.0159799511129108, -0.08312421119050287, -0.1032240103475095, 0.070448008250373, 0.08805003879166091, 0.017796116528603287, 0.03731172213026176, 0.10952729648788122, 0.004688772588639388, -0.10327567022099393, -0.08176004900093178, -0.03352712789074404, -0.048023018895285194, -0.001726722129369557, 0.2572534999646164, -0.0013840871984764967, 0.13403612633252204, 0.012753849112662056, 0.05413105858219874, -0.013413026195690844, 0.033526444607908504, -0.12025616634845519, -0.05141318149623073, -0.08390673647197491, -0.048023018895285194, -0.14522503318926452, 0.048795844654546505, 0.045431221284068714, -0.18233845790487774, -0.0058739064815232726, 0.04353639655065282, 0.049543073794068075, -0.014515697825940818, 0.06949932989122454, -0.049532069369917005, 0.07488417649466782, -0.05932438535445577, -0.19746809430176165, 0.05430868570929666, -0.21994520101110585, 0.07800087776436693, -0.011987651370632678, -0.14591271626718097, -0.016609933579770947, -0.06268244673552292, -0.041415931943840766, -0.02497752711733836, -0.29432120873869466, -0.020750047401842362, -0.05054358002483113, -0.07266120099394545, -0.08457118108828857, 0.02994767765964423, 0.03706231099790972, -0.0020126418686681447, 0.4475057195847828, 0.010650145886858347, -0.00804055314416831, 0.0365586954109223, 0.039566851425652035, 0.10933585913981168, 0.057967003809551415, 0.3956150898050097, -0.0036171032731715552, 0.12078144323474012, -0.04440208531554907, -0.14040234739191454, -0.01423136652381444, 0.12613882028891293, -0.027372429937673515, 0.05607862234735256, 0.032685046465459576, 0.10625414995965543, 0.1126839453341669, 0.023141231280017778, -0.048890717894040966, 0.07436612255465305, 0.0008296735494173946, 0.04227240908928066, 0.1127961482435409, -0.16278482180385848, 0.010613802473991988, 0.021118028793153425, 0.13773905571762007, 0.05555097684142663, -0.12252449511870778, 0.0873336386922132, 0.04782372671189907, 0.08551248985422713, -0.19726603580516452, -0.14090994589296504, 0.009596753948192207, 0.03082928305958865, -0.28583576702786984, -0.05514638452849345, 0.01771856612533472, -0.05457493133088396, 0.06113954766137341, 0.14405265955776453, -0.17594877696904215, -0.07782361626527544, 0.1345946474934225, 0.0005492429465712797, -0.00709613217707462, 0.01039590468977747, -0.0363898492951842, 0.016005015239724227, -0.037192381715570925, -0.0942944920904555, -0.07828932617602155, 0.09236148051377313, -0.014426585475264417, -0.06574876925346891, -0.11642291711297838, -0.15303323764401197, 0.07469229075186551, -0.013233113559021225, 0.046457223119037404, -0.038396963143597265, -0.23816936446572473, 0.0027864240330328516, -0.07775987459972124, 0.10203569348467668, -0.03729752509319757, 0.1736931067029811, 0.06465367014402204, 0.014996273351855641, 0.048451658229522965, 0.08134967225996917, -0.007398690364668523, -0.11187911036413185, 0.014526985538327996, -0.09308548054306363, -0.08806163705748082, 0.08100922451155546, 0.025069601975155568, 0.03673217074107944, 0.016988406513679735, 0.04509068475085641, -0.001416412617515529, -0.13056657294887142, -0.0027487952773341965, -0.09233020794179854, -0.12033421755996683, 0.0373447236769101, 0.0909217883353195, 0.05362486767673685, 0.1286648363938061, 0.03595842546871122, 0.04071255578392082, -0.10696983239928445, -0.0373216989843982, -0.2557237693716031, 0.00029181873477381054, 0.06803925468354709, 0.055938967662184674, 0.03160452366271769, 0.016310989563792688, -0.021521791887860214, -0.0016525863858949236, -0.06948151638080335, 0.005733148787271352, -0.0203770882480551, -0.07180196400533997, 0.006285873976397022, 0.2432302593287247, 0.08162602769456012, -0.0044460885538242755, 0.02680470920649606, -0.11653509782778179, -0.02056263075373554, -0.0665108547598765, 0.047229490955912966, 0.015423177884006573, 0.16013747781638601, -0.017967267525682472, -0.08255214634024256, -0.028245549539973488, -0.004516958106508181, 0.10383540667448733, 0.021883289474664672, 0.0713529361629226, -0.02788013487758007, 0.0849504282611585, 0.0069141766817719915, 0.023483530560570252, -0.12056954309231566], \"coloraxis\": \"coloraxis\", \"symbol\": \"circle\"}, \"mode\": \"markers\", \"name\": \"\", \"scene\": \"scene\", \"showlegend\": false, \"type\": \"scatter3d\", \"x\": [0.34485803302822426, 0.09065814568087938, 0.3178579191022381, 0.23219041662678097, 0.24432656564808192, 0.30323210574313286, 0.14101584791653746, 0.21970879451495973, 0.19934705809668532, 0.34190850816272594, 0.11955055075017076, 0.20170342471011168, 0.16801290011425685, 0.16857666394641047, 0.18917198625449305, 0.17107829057471957, 0.24250678206252316, 0.2013058684382261, 0.38950739914951954, 0.6390610065183443, 0.17239396996281475, 0.15755265706653337, 0.2380064735270254, 0.28578717599618597, 0.2620899033631108, 0.1342370245394557, 0.17877171832260638, 0.1146918838114313, 0.11975327137527557, 0.28657198469953005, 0.2913669246280642, 0.36947275377410316, 0.16906338752436256, 0.14132720438252405, 0.29423980266462213, 0.16788787789475115, 0.17059663638008854, 0.15333585261122498, 0.2625320956209351, 0.18029886801611703, 0.199976664352318, 0.1038343705875594, 0.17890657597744583, 0.24589905478273505, 0.1262002478302569, 0.23297554531871167, 0.40757732155974824, 0.18285214808576278, 0.12256129357968636, 0.48615476786216333, 0.12728726212989103, 0.18255354546460306, 0.19039603318587267, 0.25114979574502055, 0.19483520556130388, 0.3451759603232726, 0.134499847636127, 0.09811406755595004, 0.09380408462033915, 0.37694714726641776, 0.5229082154129389, 0.24701590401464021, 0.3840947532578826, 0.3146846272073936, 0.11118349776073277, 0.12564284527759165, 0.23504951510369881, 0.18255354546460306, 0.37832579846334946, 0.18411479399445088, 0.0799638386454968, 0.23588611264050022, 0.46238405394609194, 0.16392409289605095, 0.06369240841571641, 0.12084948042380456, 0.26927356317925183, 0.2299961771301108, 0.10588668721372141, 0.24829547756606107, 0.1301112907780208, 0.17681240549961258, 0.44731375458126893, 0.2026540859134307, 0.2628044095027796, 0.17669290405334115, 0.08767008700769799, 0.21716551502658454, 0.4576837924648588, 0.3614982970288309, 0.17220746466638553, 0.23902789231805785, 0.4190811554013448, 0.16434563046037662, 0.2807666224836612, 0.19830001866977776, 0.49375711544442064, 0.2108435578596203, 0.1481656917021856, 0.06799152458071767, 0.169584153664417, 0.3472420736727264, 0.2097746017250491, 0.25983335253855044, 0.2096237204658946, 0.2679534777319672, 0.26601748339250236, 0.47126142892380224, 0.23853680068812358, 0.3073067964136792, 0.1595836628383135, 0.09347817399145136, 0.30725963696450054, 0.1697872563909587, 0.32966944813185967, 0.31417272380850686, 0.13625550896467928, 0.18376302013971318, 0.2567943950634028, 0.18075810290819155, 0.1366319284998653, 0.22593359158775847, 0.1458901856775029, 0.13227916857255728, 0.08551973853522007, 0.15848301616909358, 0.11784626615074677, 0.2634074841920724, 0.10130842008945562, 0.23284195648605213, 0.1725242483065248, 0.34246655071658716, 0.20833892633138143, 0.18682502520055197, 0.28481731639855346, 0.11709052916863971, 0.20380655541033357, 0.21584546824113365, 0.25592386002268014, 0.2153961718277284, 0.1756732988247364, 0.12631011457787492, 0.22009578486456377, 0.0954442383135423, 0.5270448942497852, 0.31771448926470147, 0.07628060020288095, 0.1085444474942913, 0.22958922984252317, 0.37902057411804596, 0.1178282856952855, 0.23015293460411756, 0.41052856758773437, 0.14626195968502886, 0.4844461449989376, 0.3763706157124226, 0.1475165857218301, 0.19712785055097176, 0.22502401451041992, 0.3694388802441017, 0.3032964835192019, 0.17730715938055747, 0.1802733808477207, 0.16241413102184135, 0.14205501987025212, 0.20545673186328584, 0.20677964957423625, 0.22936532098236292, 0.23528398937087033, 0.25272114737228973, 0.12605431175452936, 0.15893135314565868, 0.32900271624621036, 0.1594041644961743, 0.21580921820920237, 0.34190850816272594, 0.22867660343751864, 0.23954611187963132, 0.341756824136123, 0.20821492787183926, 0.11033372385759796, 0.24436664102143746, 0.12254239576338999, 0.18816805901800665, 0.1501872106922129, 0.11226017025726936, 0.14686725511088974, 0.2195007977221226, 0.17618240064387947, 0.23954611187963132, 0.242235953440513, 0.13724541883166608, 0.06412838550402968, 0.3333645194105266, 0.3121991791786673, 0.41049685883307013, 0.3527995351045473, 0.13138446759816425, 0.18247267008726042, 0.10778357344336954, 0.38133206155815746, 0.3273566920613523, 0.44795112454921165, 0.11129271318035168, 0.4911338540764081, 0.134499847636127, 0.13478772252585303, 0.20567143072533917, 0.21813421533925534, 0.14746991166955392, 0.2406484446127018, 0.25178149716299286, 0.31684305481012204, 0.23809815366618364, 0.20359201041220926, 0.17130936894177742, 0.1935195305261035, 0.23516837190655296, 0.12904530327156247, 0.2947258829916733, 0.2966596544524227, 0.23840144447026596, 0.16521134791117087, 0.21820852712073996, 0.1482812821758741, 0.25673112262728415, 0.1961316709108995, 0.2460368523941827, 0.12360961384144735, 0.22891780014245267, 0.20175270693756459, 0.35716193637135935, 0.2785656802400531, 0.26294065032743374, 0.32858381267413, 0.19407635440359905, 0.23206750833036544, 0.2261452720993244, 0.1626268924955628, 0.1561363242484008, 0.19958927581120317, 0.17522945900645345, 0.13684869695672391, 0.07501685803436864, 0.18898769697447115, 0.43822829012781256, 0.0947811687501501, 0.12278098458727467, 0.24805985457812096, 0.21996752983006362, 0.2376540084369746, 0.26328847540935707, 0.16434103574507472, 0.1301112907780208, 0.21565590560636286, 0.2886521180450004, 0.1961989844993965, 0.28617885535424364, 0.2933712219442645, 0.17680636251608225, 0.16879585793920432, 0.18378884697742168, 0.15795146783576366, 0.17669290405334115, 0.22621220790684177, 0.20494860762777517, 0.17670232113457546, 0.20537754285843368, 0.1235507057327855, 0.08261469400119184, 0.3380100604996783, 0.2701577480556748, 0.23195576900343648, 0.18197449473229407, 0.31454585989227796, 0.3776194561057436, 0.10766620965047521, 0.3795839985028021, 0.5396674069693879, 0.22596303260849546, 0.13504989591877248, 0.09854009001589428, 0.14589849721075068, 0.16694685495273298, 0.6390610065183443, 0.23833231055778792, 0.14655909201065873, 0.15075020027420064, 0.18150623543353225, 0.2567943950634028, 0.16390717575545782, 0.07309035225926984, 0.11110456032727477, 0.4777960227048057, 0.15366382716346827, 0.16696262346254911, 0.08234760729321473, 0.2224967410859984, 0.19035534125516096, 0.15174801672611954, 0.1606399357335851, 0.1591737807451942, 0.11491287725297752, 0.23105492344065134, 0.09704247201532983, 0.20808203852647736, 0.24706463934450115, 0.2545906280883238, 0.20767374852748816, 0.10701995849460412, 0.13465782385132422, 0.19237790676148178, 0.23052191805159855, 0.1247380758454997, 0.2846326733397048, 0.1714277560906428, 0.09168365107462881, 0.6183051808239266, 0.11677465529614528, 0.09860716407305338, 0.3470512606462899, 0.12511932550614452, 0.11651426789470935, 0.17404485484773516, 0.13026567744446022, 0.2271083713168458, 0.1385442248791161, 0.23264859089196527, 0.19560614962766434, 0.1654222637712743, 0.1826434015762943, 0.16504322727316412, 0.15896692038733412, 0.15624520487475307, 0.23507520669438534, 0.16367848959310954, 0.2515627887206172, 0.10943821428254921, 0.16209504105108075, 0.2115629751851202, 0.1564392819455885, 0.1926140744734199, 0.08616605152036586, 0.17319896961018807, 0.31548158638072643, 0.20199098665697962, 0.16613326220751312, 0.22067366936896055, 0.2631135524493314, 0.09277544765992303, 0.18377443842045868, 0.5298533521533592], \"y\": [0.21280233785942562, -0.02986151031100679, 0.08343416410340877, -0.17135992224535576, -0.13774993038855698, 0.08055261851557835, -0.15229066679359457, 0.0357439658567894, -0.17413519541895858, 0.03754394650086511, -0.1064072512431153, -0.25274077691375796, -0.03934897128748608, -0.11704049027044634, -0.11848863930402026, -0.09230128972102068, -0.16658003608563796, -0.17219378285734835, 0.20610486862119465, 0.3853569049469707, -0.05455635805996563, -0.03672566356691527, 0.10906394167094759, -0.13149249022289808, 0.03934355877626263, -0.09410532793828953, -0.03544738927197771, -0.13470520493792665, -0.0655399343853645, -0.09409756435473689, 0.022254227736920196, 0.08158459165189236, -0.05613200068027661, -0.07252045622382768, 0.0486592342554014, -0.11224012982683543, -0.055494668162518655, -0.040317774574233356, 0.12894890782810703, -0.015908087154834594, -0.14597003113506282, -0.07361450858007686, -0.1286366308008718, -0.014880613341030868, -0.04104299631419083, -0.0929538618455877, 0.2849804454254666, -0.04947344254338613, -0.037694952931499846, 0.11221754106189813, -0.01666377475979258, -0.23769892440831702, -0.06063022218859792, -0.1164683856881, -0.0024551803840873404, 0.05146035702672494, -0.1938733918136813, -0.08641900439580115, -0.040956868058281866, 0.05662109503078098, 0.4526804458489314, -0.07225647361640777, 0.026561007233447897, -0.08016215971577723, -0.07043945317409106, -0.14811580776228603, -0.13295845081033958, -0.23769892440831702, 0.10467279075765584, -0.0473250075810293, -0.09627896148378416, 0.10271093530482021, 0.31993515362727576, -0.10396944328857857, -0.02138260166029509, -0.06197134733295899, 0.054142223980599605, -0.022336984166913466, -0.08527392085779796, -0.05566060999082058, -0.07517548859248165, -0.018437554633845332, 0.22696940894192819, -0.11659005360325259, 0.02743542809605609, -0.1381089554841551, -0.060883202840936186, -0.10763004258386237, 0.23109811881263764, -0.005645842137762326, -0.08305098541803156, -0.17287603617822184, 0.24070052946363993, -0.09121056739452563, -0.06790186707352161, -0.15232812547465854, 0.19768336355831737, -0.056435292120525254, 0.049946322001789, -0.030172457226048523, -0.15714815969220886, 0.11421648567042332, 0.014984696470876172, -0.18557013761732993, -0.031865591106796244, 0.09574316087035711, -0.20681437149064685, 0.3969836104137909, -0.07699573225363622, -0.029334466600336853, -0.10887483791032602, -0.06413350205170174, 0.0032881319467980064, -0.029242826501964327, 0.25156985447678104, 0.07656771429226165, 0.013766956985136258, -0.02894929413921486, 0.07825901812766842, -0.1477968071254385, -0.08136560089227829, 0.003657452950311832, -0.0751915352460031, -0.05715832822623697, -0.0675828568609711, -0.10174383300889922, -0.04470124242136468, 0.1370857575767734, -0.062707742657142, -0.11084554099280937, 0.06039767806246941, 0.15446842013445486, -0.18597425378520913, -0.19174724305186974, -0.2162587763118523, -0.028162198729038627, -0.043267717163860214, 0.018228593203144277, -0.1491684407767132, -0.09894079872820513, -0.16485400247898296, -0.07434133782285188, -0.13555018938815913, -0.04552310909876838, 0.2960319567214411, -0.0407427156566144, -0.08758129527785315, -0.027379413984101143, -0.07136520976442802, 0.05070440930074416, -0.08884269598963995, -0.12480807761486877, 0.2217018713452894, -0.07961069121407724, 0.40533603032769583, 0.2718885960301469, 0.011974551547006182, 0.06651710968591824, -0.15478410612649268, 0.2336939865913827, 0.11355781540446658, -0.03338008363396536, 0.0465721243225981, -0.06473991922251543, -0.08702691583791577, -0.121578521089142, -0.18513737826852203, -0.04774139724550696, -0.2643554697521309, -0.08255666510219568, -0.08518861252121857, -0.09986368610353823, 0.12116283172954598, -0.06482217037491166, -0.08488189132308631, 0.03754394650086511, -0.12003819806400921, -0.14078970319268233, 0.1005810657736571, -0.03044382017682629, -0.08658457207752235, 0.12624499041418089, -0.06089873273909341, -0.1168878325442957, -0.1313446472160298, -0.13812504521091892, -0.14213454649854676, -0.11343402004652857, -0.14573232919674386, -0.14078970319268233, -0.05944340913718866, -0.10357981102304803, -0.0449865998383698, -0.02068546493621224, -0.1412538023083999, 0.23145457065893374, 0.07141494515865916, -0.10487011571942181, -0.0655924941644073, -0.07863592798834226, 0.24258356403162668, 0.13169492926952348, 0.09800836644072941, -0.03387566801411463, 0.1166699360731062, -0.1938733918136813, -0.11760646806973189, -0.14120347459694688, -0.18053126326301847, -0.1506311807919231, -0.12192574202073868, -0.0847654158517112, -0.08923170278369971, -0.051918958514617586, -0.08278410341546924, -0.10088851153164397, -0.12898508367757563, -0.06834481845533973, -0.12224141069802238, 0.1642664827551534, -0.08723485543010129, -0.16566115407655793, -0.12838407954592315, -0.10132614734381765, -0.040004735992384036, -0.0017635366504481188, -0.08273558640059084, -0.14109361443117127, -0.0635297843788883, -0.0022789992016898552, -0.09687584184291832, -0.011803146952455735, 0.006912436693678718, -0.21165699806109897, 0.07325469861886483, -0.03709283504612304, -0.09237725628087813, -0.03877256546071347, -0.09217716719532641, -0.04820056865923309, -0.11977894212605486, -0.05991569913829628, -0.09089721286078994, -0.03344787941996674, 0.13382128574305632, 0.0948900661407188, -0.017333445922935096, -0.10677244054216317, -0.15328749737558134, -0.013244036102889836, -0.20311633594813316, -0.10635430356690065, -0.027254260023603705, -0.07517548859248165, -0.12216217559758204, -0.11149080212763336, -0.06287556910920405, -0.0549201957770158, -0.025199154826858406, -0.07641570391515878, -0.06377090960371339, -0.18348058323213234, -0.07817396294859204, -0.1381089554841551, -0.18607375648305172, -0.13404350100801987, -0.008405976429220056, -0.08477847254054016, -0.10805583632460138, -0.05932158538459288, 0.02626399816470083, 0.021476071349149757, -0.09673990748575885, -0.11383349226058115, -0.07971137656404123, 0.24656412981568596, -0.12632172360356536, -0.04664278050607272, 0.2932180643864909, -0.06686254535320027, -0.018369966694953728, -0.13924545069935915, -0.03511482188704583, -0.1033701931525222, 0.3853569049469707, -0.08646423146038007, -0.13205632394483144, -0.08673021992847194, -0.12034499164943141, 0.07825901812766842, -0.03368357586551112, -0.05864715096478633, -0.06936020038844208, 0.33012176266716714, -0.13264587220263557, -0.11649333589439013, -0.07838410133708054, -0.12856142578308255, -0.07513993316666939, -0.01656380153000957, -0.09253266905045877, -0.12355342034935818, -0.09683366973596104, -0.08598876337318416, -0.08424237008194052, -0.10641197090991586, -0.08567399874788113, -0.03788652377696762, -0.16137452013311843, -0.07600236544461474, -0.06025780960464251, 0.04313682945460234, -0.006536191362715756, -0.024235467630379637, -0.029391665654107196, -0.0995264872003804, -0.043830245215629574, 0.3629340101051655, -0.12122455102691242, -0.08666640467708986, 0.08323310518701942, -0.1054624831975441, -0.012890024234413811, -0.16087482216993265, -0.10188751817692059, -0.08538728889273736, -0.12892514051658088, -0.11490335894871655, -0.1257173966241849, -0.14064731900961425, -0.06544067187434463, -0.026247920753348766, -0.12650769992487787, -0.08437962664769788, -0.09530822583608822, -0.12135951345281433, -0.09733781028331583, -0.045823191707428886, -0.0987169973666666, -0.17885632231569568, -0.10045157623114442, -0.09394041615254241, -0.10856037833212662, -0.10412855064188564, 0.17738688785332732, -0.05711308337435823, -0.08413080012660644, -0.05849698643140538, 0.07208820994545362, -0.09850483486872616, -0.056322413410124304, 0.236818807406669], \"z\": [0.34729529860723046, -0.014468459145969793, -0.21959299698959703, -0.14493866699759073, -0.1035762925384932, 0.28139203195901924, -0.017044371768424393, -0.05292961148234811, 0.010357278272789604, 0.441413321964355, -0.018273980042218477, 0.03831980454981793, -0.041536290534332845, 0.019865223825308434, -0.028316723943054553, -0.0044108985215252925, 0.20089918356719905, -0.011333906025989892, 0.0636612335397877, -0.24348095352909993, -0.07483246890642076, -0.04798531085276492, -0.09609957454649973, -0.02635978691909889, -0.08620040944191977, 0.14994773059265581, -0.08078557565881442, 0.034965826879176286, 0.053857793310810885, -0.11914147521155953, 0.12007390834539153, -0.00934510787614298, -0.07812362559236838, 0.0002942747210137378, 0.12471199725448563, -0.02593752201492812, 0.031722060177538036, -0.07471817703295805, -0.07454153161313787, -0.029421494807276505, 0.011029663741713299, -0.005568822558912839, 0.07857709048117842, 0.20184425947825074, 0.06528273874073807, -0.1033139234279801, 0.4133468086648035, -0.05020721728811007, 0.07391698304085505, -0.11541121846075149, 0.011273360341672452, 0.040084627099723304, -0.04308357791380502, -0.06782822734976965, -0.019511395501074478, -0.2452779152641649, 0.0487144384051431, 0.03189373114368228, 0.011740997954003924, -0.20304531485948252, 0.16598532710672012, -0.03667708615512056, 0.005463545782558517, -0.1896448708709897, -0.005446609369056308, -0.04435038211957736, -0.06773566123759542, 0.040084627099723304, -0.16365960510934618, -0.07883606917921482, 0.026502559907077523, 0.20817893220002986, 0.14422452853817905, -0.07030203067725617, 0.03945318961081515, 0.02789399533460068, -0.04272833945458011, -0.20538135830110713, -0.008416941606849027, 0.046353728893620084, 0.04806819154043955, -0.1256035596874644, 0.11638669286249151, 0.014571584253350247, -0.10688228517301437, 0.009158584270913608, 0.021731059768676172, 0.027055812861168826, 0.11194179401405298, 0.05951719404501671, -0.0721119060507453, 0.03951415884166846, 0.1801112945127913, -0.05126921013272523, -0.09299635971235344, -0.11469527322352335, -0.2176837152349971, -0.04566579516614651, -0.037823398552897805, -0.02014561976258074, 0.012412725906899354, -0.01867266929251187, 0.14594133639207657, -0.13009557533728006, -0.11989136505881945, -0.13383119267838423, -0.13715737435391376, 0.05455948524166881, 0.18000450951404312, 0.09532172195341411, -0.04003721841322155, 0.0016045244384861942, 0.03130884455669381, -0.08766190797798222, 0.3128049495216247, 0.1608048735372028, -0.027303529403785245, 0.032463228627049895, -0.1287885869308775, -0.033329548158912585, -0.06809349089246972, 0.06856973922068273, 0.05494504893949304, 0.0159790078844335, 0.055889236619420704, 0.038184572261893084, -0.030253753195646636, -0.0645815105545624, 0.015263432417332785, 0.01944367003606926, -0.10430331053199235, -0.046280531429049795, 0.008987410561027582, 0.05457653646007878, -0.04091818649223158, 0.09544776912973897, -0.09427404970920861, -0.054069067211548784, 0.11138643132872121, -0.03145308672858373, 0.011635173545143807, 0.0017776917638211863, -0.010663790092199695, -0.002743302589598112, -0.23426225707608356, -0.2353328846504811, -0.013829341319623933, 0.006205284786866802, 0.14392314246567126, -0.24477740275340382, -0.06333598186883208, 0.015129395302131797, -0.011537205888047044, -0.07874381045975419, 0.19422263120919409, 0.07694159637524767, 0.1296755663624232, 0.188554031270491, 0.0848903289605677, 0.04803111315021304, 0.20268462811879034, -0.10399177080678931, -0.061076926369785185, 0.009131608986644736, 0.011737406373765186, 0.2334502616434194, 0.07581200263996833, 0.20982456716042142, 0.07205794722011316, -0.007966791393358357, 0.024506335655917758, -0.03544323574382401, -0.07903313752588824, -0.036248422284585406, -0.08942574037503746, 0.441413321964355, -0.02280682250003844, 0.19639929066355302, -0.20335226414391008, -0.058317376937304766, 0.031671412058309305, -0.08962165923576855, -0.0063510365912139, 0.1536926856906389, 0.05093483198216664, 0.04654028780926197, -0.026828766493219466, -0.06123034851736808, 0.016586109941104835, 0.19639929066355302, 0.25269356468490123, 0.04694913649291111, -0.059410516842419124, -0.04160101406678759, -0.047280112764859064, -0.020145794910165077, 0.12168942706062279, -0.0028398102008627964, -0.03828135836320487, 0.08645556088873996, 0.10469796089707704, 0.2982552769856768, -0.09393204422745773, -0.008215888988472466, -0.1277470069638214, 0.0487144384051431, 0.0850799639850142, 0.012710191166274785, 0.2522543785120739, 0.0652001540132969, -0.03971339738494574, -0.018934909139608644, -0.18786566763454207, -0.0750908182867113, -0.09540568840206431, -0.022577516463370747, 0.02589118641170637, -0.06872203334483276, 0.05125700301304908, 0.2355826568753535, -0.09968111098523476, 0.006169759119876086, 0.038934872413292694, -0.021165012970034685, -0.06271674663342883, 0.0014928619552365416, -0.11765538864253298, -0.09904800443637539, -0.011546448709591112, -0.019123223942065733, -0.08633257879703528, -0.17097106352817526, 0.28154998795304403, -0.0504573584537732, 0.3054567565445349, 0.022269077079627973, -0.12628254518291057, -0.10749149616378595, 0.020213263903221052, 0.03626454918804281, -0.06405254491029043, -0.06406225488482524, 0.05653442644899909, -0.008820378729597636, -0.10563812305042881, -0.01005944647789018, 0.0840726313835849, -0.03233728961236908, 0.030441150311718516, 0.04756644250099599, 0.053568450138022035, -0.020087278828871014, -0.016701773860274292, 0.04806819154043955, -0.07297028331280253, -0.10594199379431435, 0.14261944564575235, 0.07246337665993303, -0.20352285702458242, 0.014161445396456496, -0.02879954118504204, 0.004160678649732167, 0.01960664385923884, 0.009158584270913608, 0.001898379294118886, 0.025202236624557076, -0.017886434096406615, 0.08350119908421628, 0.08805201502024167, -0.010330347556002692, -0.001362861714735777, -0.1475330021091774, 0.053840781030021836, -0.0335753767128478, -0.10192648109602923, 0.053118803267156435, 0.10590402777263055, 0.3054164192879401, -0.0482415847906097, 0.2435088539765595, -0.02001154753758007, 0.056478545662794005, -0.06904084722193474, 0.15541038633335807, -0.24348095352909993, 0.007425468353170285, -0.03180791872268857, -0.07620681162557952, -0.07889113464113172, -0.1287885869308775, 0.04812359622539962, 0.015864243216306667, 0.03602646821385818, 0.10920449857669305, 0.026595278274700658, 0.026298765956387825, 0.03507062317879105, 0.04542686233766751, 0.005132166548793258, -0.06832898380614369, 0.15481190576142734, 0.04839879178273715, 0.046859350597812106, -0.027689666947838514, 0.011508901366833149, 0.013996617014813468, -0.11766773447090341, -0.11048833991848332, -0.01264265573160418, 0.016950463967296915, -0.01889789297218639, -0.09485161232995168, -0.03115668285990171, -0.06616248000149176, -0.0714446138983435, 0.09876035271188492, -0.011368891309262302, -0.22688297574183577, 0.0388716115693662, -0.06563230981072951, -0.027929921366307134, -0.0043186299614517525, -0.03254879838172799, 0.18994208297703583, 0.14287718089175624, -0.003842686727445685, 0.0016810126539501056, -0.09901115922624351, 0.01414994158920603, 0.03589698271409987, 0.030351234846718853, -0.06671038843774088, 0.004213775892766434, 0.16427612932307498, -0.1397716512552783, 0.18465229016392234, -0.07615099801969556, -0.02988756169405014, -0.029675039376307114, -0.04893969138122529, 0.024039274673966757, -0.02408550486973221, 0.05077295414409593, 0.1810761653978729, -0.0043504940620190296, -0.0018026631318183383, 0.002697965337328248, -0.04104561040726275, -0.17925305617802806, 0.01952134178321501, -0.05621645080922209, -0.25184007063973773]}],\n",
       "                        {\"coloraxis\": {\"colorbar\": {\"title\": {\"text\": \"color\"}}, \"colorscale\": [[0.0, \"#0d0887\"], [0.1111111111111111, \"#46039f\"], [0.2222222222222222, \"#7201a8\"], [0.3333333333333333, \"#9c179e\"], [0.4444444444444444, \"#bd3786\"], [0.5555555555555556, \"#d8576b\"], [0.6666666666666666, \"#ed7953\"], [0.7777777777777778, \"#fb9f3a\"], [0.8888888888888888, \"#fdca26\"], [1.0, \"#f0f921\"]]}, \"legend\": {\"tracegroupgap\": 0}, \"margin\": {\"t\": 60}, \"scene\": {\"domain\": {\"x\": [0.0, 1.0], \"y\": [0.0, 1.0]}, \"xaxis\": {\"title\": {\"text\": \"pc_1\"}}, \"yaxis\": {\"title\": {\"text\": \"pc_2\"}}, \"zaxis\": {\"title\": {\"text\": \"pc_3\"}}}, \"template\": {\"data\": {\"bar\": [{\"error_x\": {\"color\": \"#2a3f5f\"}, \"error_y\": {\"color\": \"#2a3f5f\"}, \"marker\": {\"line\": {\"color\": \"#E5ECF6\", \"width\": 0.5}}, \"type\": \"bar\"}], \"barpolar\": [{\"marker\": {\"line\": {\"color\": \"#E5ECF6\", \"width\": 0.5}}, \"type\": \"barpolar\"}], \"carpet\": [{\"aaxis\": {\"endlinecolor\": \"#2a3f5f\", \"gridcolor\": \"white\", \"linecolor\": \"white\", \"minorgridcolor\": \"white\", \"startlinecolor\": \"#2a3f5f\"}, \"baxis\": {\"endlinecolor\": \"#2a3f5f\", \"gridcolor\": \"white\", \"linecolor\": \"white\", \"minorgridcolor\": \"white\", \"startlinecolor\": \"#2a3f5f\"}, \"type\": \"carpet\"}], \"choropleth\": [{\"colorbar\": {\"outlinewidth\": 0, \"ticks\": \"\"}, \"type\": \"choropleth\"}], \"contour\": [{\"colorbar\": {\"outlinewidth\": 0, \"ticks\": \"\"}, \"colorscale\": [[0.0, \"#0d0887\"], [0.1111111111111111, \"#46039f\"], [0.2222222222222222, \"#7201a8\"], [0.3333333333333333, \"#9c179e\"], [0.4444444444444444, \"#bd3786\"], [0.5555555555555556, \"#d8576b\"], [0.6666666666666666, \"#ed7953\"], [0.7777777777777778, \"#fb9f3a\"], [0.8888888888888888, \"#fdca26\"], [1.0, \"#f0f921\"]], \"type\": \"contour\"}], \"contourcarpet\": [{\"colorbar\": {\"outlinewidth\": 0, \"ticks\": \"\"}, \"type\": \"contourcarpet\"}], \"heatmap\": [{\"colorbar\": {\"outlinewidth\": 0, \"ticks\": \"\"}, \"colorscale\": [[0.0, \"#0d0887\"], [0.1111111111111111, \"#46039f\"], [0.2222222222222222, \"#7201a8\"], [0.3333333333333333, \"#9c179e\"], [0.4444444444444444, \"#bd3786\"], [0.5555555555555556, \"#d8576b\"], [0.6666666666666666, \"#ed7953\"], [0.7777777777777778, \"#fb9f3a\"], [0.8888888888888888, \"#fdca26\"], [1.0, \"#f0f921\"]], \"type\": \"heatmap\"}], \"heatmapgl\": [{\"colorbar\": {\"outlinewidth\": 0, \"ticks\": \"\"}, \"colorscale\": [[0.0, \"#0d0887\"], [0.1111111111111111, \"#46039f\"], [0.2222222222222222, \"#7201a8\"], [0.3333333333333333, \"#9c179e\"], [0.4444444444444444, \"#bd3786\"], [0.5555555555555556, \"#d8576b\"], [0.6666666666666666, \"#ed7953\"], [0.7777777777777778, \"#fb9f3a\"], [0.8888888888888888, \"#fdca26\"], [1.0, \"#f0f921\"]], \"type\": \"heatmapgl\"}], \"histogram\": [{\"marker\": {\"colorbar\": {\"outlinewidth\": 0, \"ticks\": \"\"}}, \"type\": \"histogram\"}], \"histogram2d\": [{\"colorbar\": {\"outlinewidth\": 0, \"ticks\": \"\"}, \"colorscale\": [[0.0, \"#0d0887\"], [0.1111111111111111, \"#46039f\"], [0.2222222222222222, \"#7201a8\"], [0.3333333333333333, \"#9c179e\"], [0.4444444444444444, \"#bd3786\"], [0.5555555555555556, \"#d8576b\"], [0.6666666666666666, \"#ed7953\"], [0.7777777777777778, \"#fb9f3a\"], [0.8888888888888888, \"#fdca26\"], [1.0, \"#f0f921\"]], \"type\": \"histogram2d\"}], \"histogram2dcontour\": [{\"colorbar\": {\"outlinewidth\": 0, \"ticks\": \"\"}, \"colorscale\": [[0.0, \"#0d0887\"], [0.1111111111111111, \"#46039f\"], [0.2222222222222222, \"#7201a8\"], [0.3333333333333333, \"#9c179e\"], [0.4444444444444444, \"#bd3786\"], [0.5555555555555556, \"#d8576b\"], [0.6666666666666666, \"#ed7953\"], [0.7777777777777778, \"#fb9f3a\"], [0.8888888888888888, \"#fdca26\"], [1.0, \"#f0f921\"]], \"type\": \"histogram2dcontour\"}], \"mesh3d\": [{\"colorbar\": {\"outlinewidth\": 0, \"ticks\": \"\"}, \"type\": \"mesh3d\"}], \"parcoords\": [{\"line\": {\"colorbar\": {\"outlinewidth\": 0, \"ticks\": \"\"}}, \"type\": \"parcoords\"}], \"pie\": [{\"automargin\": true, \"type\": \"pie\"}], \"scatter\": [{\"marker\": {\"colorbar\": {\"outlinewidth\": 0, \"ticks\": \"\"}}, \"type\": \"scatter\"}], \"scatter3d\": [{\"line\": {\"colorbar\": {\"outlinewidth\": 0, \"ticks\": \"\"}}, \"marker\": {\"colorbar\": {\"outlinewidth\": 0, \"ticks\": \"\"}}, \"type\": \"scatter3d\"}], \"scattercarpet\": [{\"marker\": {\"colorbar\": {\"outlinewidth\": 0, \"ticks\": \"\"}}, \"type\": \"scattercarpet\"}], \"scattergeo\": [{\"marker\": {\"colorbar\": {\"outlinewidth\": 0, \"ticks\": \"\"}}, \"type\": \"scattergeo\"}], \"scattergl\": [{\"marker\": {\"colorbar\": {\"outlinewidth\": 0, \"ticks\": \"\"}}, \"type\": \"scattergl\"}], \"scattermapbox\": [{\"marker\": {\"colorbar\": {\"outlinewidth\": 0, \"ticks\": \"\"}}, \"type\": \"scattermapbox\"}], \"scatterpolar\": [{\"marker\": {\"colorbar\": {\"outlinewidth\": 0, \"ticks\": \"\"}}, \"type\": \"scatterpolar\"}], \"scatterpolargl\": [{\"marker\": {\"colorbar\": {\"outlinewidth\": 0, \"ticks\": \"\"}}, \"type\": \"scatterpolargl\"}], \"scatterternary\": [{\"marker\": {\"colorbar\": {\"outlinewidth\": 0, \"ticks\": \"\"}}, \"type\": \"scatterternary\"}], \"surface\": [{\"colorbar\": {\"outlinewidth\": 0, \"ticks\": \"\"}, \"colorscale\": [[0.0, \"#0d0887\"], [0.1111111111111111, \"#46039f\"], [0.2222222222222222, \"#7201a8\"], [0.3333333333333333, \"#9c179e\"], [0.4444444444444444, \"#bd3786\"], [0.5555555555555556, \"#d8576b\"], [0.6666666666666666, \"#ed7953\"], [0.7777777777777778, \"#fb9f3a\"], [0.8888888888888888, \"#fdca26\"], [1.0, \"#f0f921\"]], \"type\": \"surface\"}], \"table\": [{\"cells\": {\"fill\": {\"color\": \"#EBF0F8\"}, \"line\": {\"color\": \"white\"}}, \"header\": {\"fill\": {\"color\": \"#C8D4E3\"}, \"line\": {\"color\": \"white\"}}, \"type\": \"table\"}]}, \"layout\": {\"annotationdefaults\": {\"arrowcolor\": \"#2a3f5f\", \"arrowhead\": 0, \"arrowwidth\": 1}, \"coloraxis\": {\"colorbar\": {\"outlinewidth\": 0, \"ticks\": \"\"}}, \"colorscale\": {\"diverging\": [[0, \"#8e0152\"], [0.1, \"#c51b7d\"], [0.2, \"#de77ae\"], [0.3, \"#f1b6da\"], [0.4, \"#fde0ef\"], [0.5, \"#f7f7f7\"], [0.6, \"#e6f5d0\"], [0.7, \"#b8e186\"], [0.8, \"#7fbc41\"], [0.9, \"#4d9221\"], [1, \"#276419\"]], \"sequential\": [[0.0, \"#0d0887\"], [0.1111111111111111, \"#46039f\"], [0.2222222222222222, \"#7201a8\"], [0.3333333333333333, \"#9c179e\"], [0.4444444444444444, \"#bd3786\"], [0.5555555555555556, \"#d8576b\"], [0.6666666666666666, \"#ed7953\"], [0.7777777777777778, \"#fb9f3a\"], [0.8888888888888888, \"#fdca26\"], [1.0, \"#f0f921\"]], \"sequentialminus\": [[0.0, \"#0d0887\"], [0.1111111111111111, \"#46039f\"], [0.2222222222222222, \"#7201a8\"], [0.3333333333333333, \"#9c179e\"], [0.4444444444444444, \"#bd3786\"], [0.5555555555555556, \"#d8576b\"], [0.6666666666666666, \"#ed7953\"], [0.7777777777777778, \"#fb9f3a\"], [0.8888888888888888, \"#fdca26\"], [1.0, \"#f0f921\"]]}, \"colorway\": [\"#636efa\", \"#EF553B\", \"#00cc96\", \"#ab63fa\", \"#FFA15A\", \"#19d3f3\", \"#FF6692\", \"#B6E880\", \"#FF97FF\", \"#FECB52\"], \"font\": {\"color\": \"#2a3f5f\"}, \"geo\": {\"bgcolor\": \"white\", \"lakecolor\": \"white\", \"landcolor\": \"#E5ECF6\", \"showlakes\": true, \"showland\": true, \"subunitcolor\": \"white\"}, \"hoverlabel\": {\"align\": \"left\"}, \"hovermode\": \"closest\", \"mapbox\": {\"style\": \"light\"}, \"paper_bgcolor\": \"white\", \"plot_bgcolor\": \"#E5ECF6\", \"polar\": {\"angularaxis\": {\"gridcolor\": \"white\", \"linecolor\": \"white\", \"ticks\": \"\"}, \"bgcolor\": \"#E5ECF6\", \"radialaxis\": {\"gridcolor\": \"white\", \"linecolor\": \"white\", \"ticks\": \"\"}}, \"scene\": {\"xaxis\": {\"backgroundcolor\": \"#E5ECF6\", \"gridcolor\": \"white\", \"gridwidth\": 2, \"linecolor\": \"white\", \"showbackground\": true, \"ticks\": \"\", \"zerolinecolor\": \"white\"}, \"yaxis\": {\"backgroundcolor\": \"#E5ECF6\", \"gridcolor\": \"white\", \"gridwidth\": 2, \"linecolor\": \"white\", \"showbackground\": true, \"ticks\": \"\", \"zerolinecolor\": \"white\"}, \"zaxis\": {\"backgroundcolor\": \"#E5ECF6\", \"gridcolor\": \"white\", \"gridwidth\": 2, \"linecolor\": \"white\", \"showbackground\": true, \"ticks\": \"\", \"zerolinecolor\": \"white\"}}, \"shapedefaults\": {\"line\": {\"color\": \"#2a3f5f\"}}, \"ternary\": {\"aaxis\": {\"gridcolor\": \"white\", \"linecolor\": \"white\", \"ticks\": \"\"}, \"baxis\": {\"gridcolor\": \"white\", \"linecolor\": \"white\", \"ticks\": \"\"}, \"bgcolor\": \"#E5ECF6\", \"caxis\": {\"gridcolor\": \"white\", \"linecolor\": \"white\", \"ticks\": \"\"}}, \"title\": {\"x\": 0.05}, \"xaxis\": {\"automargin\": true, \"gridcolor\": \"white\", \"linecolor\": \"white\", \"ticks\": \"\", \"title\": {\"standoff\": 15}, \"zerolinecolor\": \"white\", \"zerolinewidth\": 2}, \"yaxis\": {\"automargin\": true, \"gridcolor\": \"white\", \"linecolor\": \"white\", \"ticks\": \"\", \"title\": {\"standoff\": 15}, \"zerolinecolor\": \"white\", \"zerolinewidth\": 2}}}},\n",
       "                        {\"responsive\": true}\n",
       "                    ).then(function(){\n",
       "                            \n",
       "var gd = document.getElementById('1cd41c5e-9a02-4639-bf2c-9cb85290a58b');\n",
       "var x = new MutationObserver(function (mutations, observer) {{\n",
       "        var display = window.getComputedStyle(gd).display;\n",
       "        if (!display || display === 'none') {{\n",
       "            console.log([gd, 'removed!']);\n",
       "            Plotly.purge(gd);\n",
       "            observer.disconnect();\n",
       "        }}\n",
       "}});\n",
       "\n",
       "// Listen for the removal of the full notebook cells\n",
       "var notebookContainer = gd.closest('#notebook-container');\n",
       "if (notebookContainer) {{\n",
       "    x.observe(notebookContainer, {childList: true});\n",
       "}}\n",
       "\n",
       "// Listen for the clearing of the current output cell\n",
       "var outputEl = gd.closest('.output');\n",
       "if (outputEl) {{\n",
       "    x.observe(outputEl, {childList: true});\n",
       "}}\n",
       "\n",
       "                        })\n",
       "                };\n",
       "                });\n",
       "            </script>\n",
       "        </div>"
      ]
     },
     "metadata": {},
     "output_type": "display_data"
    }
   ],
   "source": [
    "fig = px.scatter_3d(principal_df,\n",
    "                 x='pc_1',\n",
    "                 y='pc_2',\n",
    "                 z='pc_3',\n",
    "                 color='color',\n",
    "                 hover_data=['autor', 'sg_partido', 'ementa_labels'])\n",
    "fig.show()"
   ]
  },
  {
   "cell_type": "code",
   "execution_count": null,
   "metadata": {},
   "outputs": [],
   "source": []
  }
 ],
 "metadata": {
  "kernelspec": {
   "display_name": "Python 3",
   "language": "python",
   "name": "python3"
  },
  "language_info": {
   "codemirror_mode": {
    "name": "ipython",
    "version": 3
   },
   "file_extension": ".py",
   "mimetype": "text/x-python",
   "name": "python",
   "nbconvert_exporter": "python",
   "pygments_lexer": "ipython3",
   "version": "3.6.9"
  }
 },
 "nbformat": 4,
 "nbformat_minor": 2
}
